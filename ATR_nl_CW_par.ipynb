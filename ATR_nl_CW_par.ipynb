{
 "cells": [
  {
   "cell_type": "code",
   "execution_count": 28,
   "metadata": {},
   "outputs": [],
   "source": [
    "#---- User input-----#\n",
    "#--------------------#\n",
    "import meep as mp\n",
    "import numpy as np\n",
    "import matplotlib.pyplot as plt\n",
    "# Experimental values for input\n",
    "# n=2.46\n",
    "# n2=1.25*10^-18 m^2/V^2\n",
    "# wavelength=1.53um\n",
    "# slab thickness = wavelength\n",
    "# input amplitude a=1.927*10^8 V/m, time averaged\n",
    "amp = np.arange(0.007*10**3,1.14*10**3,0.0707*10**3) # amplitude of source\n",
    "resolution = 90\n",
    "k = 4.1*10**-6 #4.1*10**-7        # Kerr susceptibility\n",
    "n=2.46         # index"
   ]
  },
  {
   "cell_type": "code",
   "execution_count": 29,
   "metadata": {},
   "outputs": [],
   "source": [
    "def nl_cw(amp,resolution,k,n):\n",
    "    sz = 10          # size of cell in z direction\n",
    "    dpml = 1        # PML thickness\n",
    "    time_set_start=3000         # simulation run time start\n",
    "    time_set=9000-time_set_start         # simulation run time\n",
    "\n",
    "    #----Continuous Source\n",
    "    frq_cs=1/1.53          # meep frequency\n",
    "    cs_width=100          #the inverse of the exponential rate at which the current turns off and on\n",
    "\n",
    "    # frequency range for monitors\n",
    "    nfreq = 1\n",
    "    fmin = 1/1.53\n",
    "    fmax = 1/1.53\n",
    "\n",
    "    # Geometry\n",
    "    d_s=1.53# slab thickness\n",
    "    pos_s=0# slab position\n",
    "    \n",
    "    #################################################################\n",
    "    # Reference simulation (source only)\n",
    "    #################################################################\n",
    "    geometry = [mp.Block(center=mp.Vector3(0,0,pos_s),size=mp.Vector3(0,0,d_s), material=mp.Medium(index=n, chi3=[] ))]\n",
    "    geometry2 = [mp.Block(center=mp.Vector3(0,0,pos_s),size=mp.Vector3(0,0,d_s), material=mp.Medium(index=n, chi3=k ))]\n",
    "\n",
    "    dimensions = 1\n",
    "    cell = mp.Vector3(0, 0, sz)\n",
    "    pml_layers = mp.PML(dpml)\n",
    "    default_material = mp.Medium(index=1, chi3=[])\n",
    "\n",
    "    sources = mp.Source(mp.ContinuousSource(frq_cs, width=cs_width), component=mp.Ex,\n",
    "                        center=mp.Vector3(0, 0, -0.5*sz + dpml), amplitude=amp)\n",
    "\n",
    "    sim = mp.Simulation(cell_size=cell,\n",
    "                        geometry=[],\n",
    "                        sources=[sources],\n",
    "                        boundary_layers=[pml_layers],\n",
    "                        default_material=default_material,\n",
    "                        resolution=resolution,\n",
    "                        dimensions=dimensions)\n",
    "\n",
    "    sim.run(until=time_set_start)\n",
    "    trans_ref = sim.add_flux(0.5 * (fmin + fmax), fmax - fmin, nfreq,\n",
    "                            mp.FluxRegion(mp.Vector3(0, 0, 0.5*sz - dpml - 4)))\n",
    "    #refl_ref = sim.add_flux(0.5 * (fmin + fmax), fmax - fmin, nfreq,\n",
    "    #                        mp.FluxRegion(mp.Vector3(0, 0, 0.5*sz - dpml - 4)))\n",
    "\n",
    "    #         Define E field monitor\n",
    "    dx=1/resolution\n",
    "    dt=0.5*dx\n",
    "    tm_val_x=[]\n",
    "    def get_dot(sim):\t\n",
    "        tm_val_x.append(sim.get_array(size=mp.Vector3(), center=mp.Vector3(0,0,sz/2-dpml), component=mp.Ex))\n",
    "    #        #        #        #    \n",
    "    sim.run(mp.at_every(dt,get_dot),until=time_set)\n",
    "    #         plot results\n",
    "\n",
    "    #         Save reference data\n",
    "    freqs_ref = mp.get_flux_freqs(trans_ref)\n",
    "    #plt_range_ref=1/np.asarray(freqs_ref)\n",
    "    box_x1_trans_ref = mp.get_fluxes(trans_ref)\n",
    "    flux_ref=np.asarray(box_x1_trans_ref)\n",
    "\n",
    "    tm_val_x1=np.array(tm_val_x)\n",
    "    max_ind=np.size(tm_val_x1)\n",
    "    c=3*10**8 # m/s speed of light\n",
    "    mon_t=[]\n",
    "    for n in np.arange(0,max_ind,1):\n",
    "        mon_tmp=(dt+dt*n)*(10**-6/c)*10**15 # s\n",
    "        mon_t.append(mon_tmp)\n",
    "\n",
    "    #################################################################\n",
    "    # 1d simulation of a plane wave propagating through a linear slab\n",
    "    #################################################################\n",
    "    sim.reset_meep()\n",
    "    sim = mp.Simulation(cell_size=cell,\n",
    "                        geometry=geometry,\n",
    "                        sources=[sources],\n",
    "                        boundary_layers=[pml_layers],\n",
    "                        default_material=default_material,\n",
    "                        resolution=resolution,\n",
    "                        dimensions=dimensions)\n",
    "\n",
    "    sim.run(until=time_set_start)\n",
    "    trans = sim.add_flux(0.5 * (fmin + fmax), fmax - fmin, nfreq,\n",
    "                            mp.FluxRegion(mp.Vector3(0, 0, 0.5*sz - dpml - 4)))\n",
    "    refl = sim.add_flux(0.5 * (fmin + fmax), fmax - fmin, nfreq,\n",
    "                            mp.FluxRegion(mp.Vector3(0, 0, -0.5*sz + dpml + 4)))\n",
    "    tm_val_x=[]\n",
    "    sim.run(mp.at_every(dt,get_dot),until=time_set)\n",
    "    #         plot results\n",
    "    freqs_lin = mp.get_flux_freqs(trans)\n",
    "    plt_range_lin=1/np.asarray(freqs_lin)\n",
    "    box_x1_trans_lin = mp.get_fluxes(trans)\n",
    "    flux_lin=np.asarray(box_x1_trans_lin)\n",
    "    box_x1_refl_lin = mp.get_fluxes(refl)\n",
    "    flux_refl_lin=np.asarray(box_x1_refl_lin)\n",
    "\n",
    "    tm_val_x2=np.array(tm_val_x)\n",
    "\n",
    "    #################################################################\n",
    "    # 1d simulation of a plane wave propagating through a Kerr medium\n",
    "    #################################################################\n",
    "    sim.reset_meep()\n",
    "    #geometry = [mp.Block(center=mp.Vector3(0,0,(sz-dpml)/4),size=mp.Vector3(0,0,(sz-dpml)/2), material=mp.Medium(index=n, chi3=k ))]\n",
    "    sim = mp.Simulation(cell_size=cell,\n",
    "                        geometry=geometry2,\n",
    "                        sources=[sources],\n",
    "                        boundary_layers=[pml_layers],\n",
    "                        default_material=default_material,\n",
    "                        resolution=resolution,\n",
    "                        dimensions=dimensions)\n",
    "\n",
    "    sim.run(until=time_set_start)\n",
    "    trans = sim.add_flux(0.5 * (fmin + fmax), fmax - fmin, nfreq,\n",
    "                            mp.FluxRegion(mp.Vector3(0, 0, 0.5*sz - dpml - 4)))\n",
    "    refl = sim.add_flux(0.5 * (fmin + fmax), fmax - fmin, nfreq,\n",
    "                            mp.FluxRegion(mp.Vector3(0, 0, -0.5*sz + dpml + 4)))\n",
    "    tm_val_x=[]\n",
    "    sim.run(mp.at_every(dt,get_dot),until=time_set)\n",
    "    #         plot fluxes\n",
    "    freqs = mp.get_flux_freqs(trans)\n",
    "    plt_range=1/np.asarray(freqs)\n",
    "    box_x1_trans = mp.get_fluxes(trans)\n",
    "    flux=np.asarray(box_x1_trans)\n",
    "    box_x1_refl = mp.get_fluxes(refl)\n",
    "    flux_refl=np.asarray(box_x1_refl)\n",
    "\n",
    "    tm_val_x3=np.array(tm_val_x)\n",
    "\n",
    "    figure1=plt.figure(dpi=100)\n",
    "    ax1=plt.subplot(1, 3, 1)\n",
    "    plt.plot(mon_t,tm_val_x1/(10**-6))\n",
    "    plt.ylim(np.amax(tm_val_x1))\n",
    "    plt.xlabel('time (fs)')\n",
    "    plt.ylabel('Ex source (V/m)') \n",
    "    ax2=plt.subplot(1, 3, 2)\n",
    "    plt.plot(mon_t,tm_val_x2/(10**-6))\n",
    "    plt.ylim(np.amax(tm_val_x1))\n",
    "    plt.xlabel('time (fs)')\n",
    "    plt.ylabel('Ex linear (V/m)') \n",
    "    ax3=plt.subplot(1, 3, 3)\n",
    "    plt.plot(mon_t,tm_val_x3/(10**-6))\n",
    "    plt.ylim(np.amax(tm_val_x1))\n",
    "    plt.xlabel('time (fs)')\n",
    "    plt.ylabel('Ex nonlinear (V/m)') \n",
    "\n",
    "    E_out=np.amax(tm_val_x1)/(10**-6)\n",
    "    E_out2=np.amax(tm_val_x2)/(10**-6)\n",
    "    E_out3=np.amax(tm_val_x3)/(10**-6)\n",
    "    T_nl = flux/flux_ref\n",
    "    R_nl = (-flux_refl+flux_ref)/flux_ref\n",
    "    A_nl = 1-(-flux_refl+flux_ref)/flux_ref-flux/flux_ref\n",
    "    T_l = flux_lin/flux_ref\n",
    "    R_l = (-flux_refl_lin+flux_ref)/flux_ref\n",
    "    A_l = 1-(-flux_refl_lin+flux_ref)/flux_ref-flux_lin/flux_ref\n",
    "    print(E_out)\n",
    "    print(T_nl)\n",
    "    print(R_nl)\n",
    "    print(A_nl)\n",
    "    print(T_l)\n",
    "    print(R_l)\n",
    "    print(A_l)\n",
    "    print(plt_range)\n",
    "    return E_out, E_out2, E_out3, plt_range, T_nl, R_nl, A_nl, T_l, R_l, A_l"
   ]
  },
  {
   "cell_type": "code",
   "execution_count": 30,
   "metadata": {},
   "outputs": [
    {
     "name": "stdout",
     "output_type": "stream",
     "text": [
      "0\n",
      "-----------\n",
      "Initializing structure...\n",
      "time for choose_chunkdivision = 5.98431e-05 s\n",
      "Working in 1D dimensions.\n",
      "Computational cell is 0 x 0 x 10 with resolution 90\n",
      "time for set_epsilon = 0.000224113 s\n",
      "-----------\n"
     ]
    },
    {
     "data": {
      "application/vnd.jupyter.widget-view+json": {
       "model_id": "d7b11cc044584531829d02a0b4e4696d",
       "version_major": 2,
       "version_minor": 0
      },
      "text/plain": [
       "FloatProgress(value=0.0, description='0% done ', max=3000.0)"
      ]
     },
     "metadata": {},
     "output_type": "display_data"
    },
    {
     "name": "stdout",
     "output_type": "stream",
     "text": [
      "Meep progress: 1821.4666666666667/3000.0 = 60.7% done in 4.0s, 2.6s to go\n",
      "on time step 328525 (time=1825.14), 1.21757e-05 s/step\n",
      "run 0 finished at t = 3000.0 (540000 timesteps)\n"
     ]
    },
    {
     "data": {
      "application/vnd.jupyter.widget-view+json": {
       "model_id": "95bda6e6b6ff4531b8d53376b7b92463",
       "version_major": 2,
       "version_minor": 0
      },
      "text/plain": [
       "FloatProgress(value=3000.0, description='0% done ', max=9000.0, min=3000.0)"
      ]
     },
     "metadata": {},
     "output_type": "display_data"
    },
    {
     "name": "stdout",
     "output_type": "stream",
     "text": [
      "on time step 563703 (time=3131.68), 1.70085e-05 s/step\n",
      "Meep progress: 365.75/9000.0 = 4.1% done in 4.0s, 94.4s to go\n",
      "on time step 627949 (time=3488.61), 6.22608e-05 s/step\n",
      "Meep progress: 715.738888888889/9000.0 = 8.0% done in 8.0s, 92.6s to go\n",
      "on time step 691126 (time=3839.59), 6.33151e-05 s/step\n",
      "Meep progress: 1070.2833333333333/9000.0 = 11.9% done in 12.0s, 88.9s to go\n",
      "on time step 754231 (time=4190.17), 6.33874e-05 s/step\n",
      "Meep progress: 1414.333333333334/9000.0 = 15.7% done in 16.0s, 85.8s to go\n",
      "on time step 817583 (time=4542.13), 6.314e-05 s/step\n",
      "Meep progress: 1773.6333333333332/9000.0 = 19.7% done in 20.0s, 81.5s to go\n",
      "on time step 881843 (time=4899.13), 6.22474e-05 s/step\n",
      "Meep progress: 2133.9333333333334/9000.0 = 23.7% done in 24.0s, 77.2s to go\n",
      "on time step 947780 (time=5265.44), 6.0664e-05 s/step\n",
      "Meep progress: 2493.8/9000.0 = 27.7% done in 28.0s, 73.1s to go\n",
      "on time step 1007840 (time=5599.11), 6.6601e-05 s/step\n",
      "Meep progress: 2832.6611111111115/9000.0 = 31.5% done in 32.0s, 69.7s to go\n",
      "on time step 1073718 (time=5965.1), 6.07192e-05 s/step\n",
      "Meep progress: 3202.272222222223/9000.0 = 35.6% done in 36.0s, 65.2s to go\n",
      "on time step 1139684 (time=6331.58), 6.06383e-05 s/step\n",
      "Meep progress: 3544.2944444444447/9000.0 = 39.4% done in 40.0s, 61.6s to go\n",
      "on time step 1198792 (time=6659.96), 6.76735e-05 s/step\n",
      "Meep progress: 3884.511111111111/9000.0 = 43.2% done in 44.0s, 57.9s to go\n",
      "on time step 1261725 (time=7009.58), 6.35604e-05 s/step\n",
      "Meep progress: 4233.561111111111/9000.0 = 47.0% done in 48.0s, 54.0s to go\n",
      "on time step 1325382 (time=7363.23), 6.28373e-05 s/step\n",
      "Meep progress: 4596.700000000001/9000.0 = 51.1% done in 52.0s, 49.8s to go\n",
      "on time step 1390079 (time=7722.66), 6.18269e-05 s/step\n",
      "Meep progress: 4957.883333333333/9000.0 = 55.1% done in 56.0s, 45.7s to go\n",
      "on time step 1452172 (time=8067.62), 6.442e-05 s/step\n",
      "Meep progress: 5302.5777777777785/9000.0 = 58.9% done in 60.0s, 41.8s to go\n",
      "on time step 1517375 (time=8429.86), 6.1347e-05 s/step\n",
      "Meep progress: 5663.283333333333/9000.0 = 62.9% done in 64.0s, 37.7s to go\n",
      "on time step 1581993 (time=8788.85), 6.19029e-05 s/step\n",
      "run 1 finished at t = 9000.0 (1620000 timesteps)\n",
      "-----------\n",
      "Initializing structure...\n",
      "time for choose_chunkdivision = 6.10352e-05 s\n",
      "Working in 1D dimensions.\n",
      "Computational cell is 0 x 0 x 10 with resolution 90\n",
      "     block, center = (0,0,0)\n",
      "          size (0,0,1.53)\n",
      "          axes (1,0,0), (0,1,0), (0,0,1)\n",
      "          dielectric constant epsilon diagonal = (6.0516,6.0516,6.0516)\n",
      "time for set_epsilon = 0.000264883 s\n",
      "-----------\n"
     ]
    },
    {
     "data": {
      "application/vnd.jupyter.widget-view+json": {
       "model_id": "b858543acf3c4a719536cd8fbf6427bb",
       "version_major": 2,
       "version_minor": 0
      },
      "text/plain": [
       "FloatProgress(value=0.0, description='0% done ', max=3000.0)"
      ]
     },
     "metadata": {},
     "output_type": "display_data"
    },
    {
     "name": "stdout",
     "output_type": "stream",
     "text": [
      "Meep progress: 1736.3055555555557/3000.0 = 57.9% done in 4.0s, 2.9s to go\n",
      "on time step 313008 (time=1738.93), 1.27792e-05 s/step\n",
      "run 0 finished at t = 3000.0 (540000 timesteps)\n"
     ]
    },
    {
     "data": {
      "application/vnd.jupyter.widget-view+json": {
       "model_id": "ae0e7270f7c44497b297967f9d6807f9",
       "version_major": 2,
       "version_minor": 0
      },
      "text/plain": [
       "FloatProgress(value=3000.0, description='0% done ', max=9000.0, min=3000.0)"
      ]
     },
     "metadata": {},
     "output_type": "display_data"
    },
    {
     "name": "stdout",
     "output_type": "stream",
     "text": [
      "on time step 558378 (time=3102.1), 1.63021e-05 s/step\n",
      "Meep progress: 351.3944444444446/9000.0 = 3.9% done in 4.0s, 98.4s to go\n",
      "on time step 620782 (time=3448.79), 6.40987e-05 s/step\n",
      "Meep progress: 703.1055555555558/9000.0 = 7.8% done in 8.0s, 94.4s to go\n",
      "on time step 685658 (time=3809.21), 6.16566e-05 s/step\n",
      "Meep progress: 1073.1111111111113/9000.0 = 11.9% done in 12.0s, 88.6s to go\n",
      "on time step 752186 (time=4178.81), 6.01254e-05 s/step\n",
      "Meep progress: 1443.1444444444442/9000.0 = 16.0% done in 16.0s, 83.8s to go\n",
      "on time step 818353 (time=4546.41), 6.04531e-05 s/step\n",
      "Meep progress: 1806.3500000000004/9000.0 = 20.1% done in 20.0s, 79.6s to go\n",
      "on time step 883159 (time=4906.44), 6.17233e-05 s/step\n",
      "Meep progress: 2160.0444444444447/9000.0 = 24.0% done in 24.0s, 76.0s to go\n",
      "on time step 946646 (time=5259.14), 6.30053e-05 s/step\n",
      "Meep progress: 2515.927777777778/9000.0 = 28.0% done in 28.0s, 72.2s to go\n",
      "on time step 1011885 (time=5621.58), 6.13132e-05 s/step\n",
      "Meep progress: 2884.9722222222226/9000.0 = 32.1% done in 32.0s, 67.8s to go\n",
      "on time step 1077992 (time=5988.84), 6.05086e-05 s/step\n",
      "Meep progress: 3247.394444444445/9000.0 = 36.1% done in 36.0s, 63.8s to go\n",
      "on time step 1143380 (time=6352.11), 6.11734e-05 s/step\n",
      "Meep progress: 3610.9611111111117/9000.0 = 40.1% done in 40.0s, 59.7s to go\n",
      "on time step 1208543 (time=6714.13), 6.13855e-05 s/step\n",
      "Meep progress: 3960.45/9000.0 = 44.0% done in 44.0s, 56.0s to go\n",
      "on time step 1271910 (time=7066.17), 6.31248e-05 s/step\n",
      "Meep progress: 4333.63888888889/9000.0 = 48.2% done in 48.0s, 51.7s to go\n",
      "on time step 1339351 (time=7440.84), 5.93112e-05 s/step\n",
      "Meep progress: 4708.955555555556/9000.0 = 52.3% done in 52.0s, 47.4s to go\n",
      "on time step 1407015 (time=7816.75), 5.91162e-05 s/step\n",
      "Meep progress: 5079.705555555556/9000.0 = 56.4% done in 56.0s, 43.2s to go\n",
      "on time step 1471903 (time=8177.24), 6.16451e-05 s/step\n",
      "Meep progress: 5434.022222222222/9000.0 = 60.4% done in 60.0s, 39.4s to go\n",
      "on time step 1536269 (time=8534.83), 6.21452e-05 s/step\n",
      "Meep progress: 5796.955555555556/9000.0 = 64.4% done in 64.0s, 35.4s to go\n",
      "on time step 1602884 (time=8904.91), 6.00472e-05 s/step\n",
      "run 1 finished at t = 9000.0 (1620000 timesteps)\n",
      "-----------\n",
      "Initializing structure...\n",
      "time for choose_chunkdivision = 5.79357e-05 s\n",
      "Working in 1D dimensions.\n",
      "Computational cell is 0 x 0 x 10 with resolution 90\n",
      "     block, center = (0,0,0)\n",
      "          size (0,0,1.53)\n",
      "          axes (1,0,0), (0,1,0), (0,0,1)\n",
      "          dielectric constant epsilon diagonal = (6.0516,6.0516,6.0516)\n",
      "time for set_epsilon = 0.000282049 s\n",
      "-----------\n"
     ]
    },
    {
     "data": {
      "application/vnd.jupyter.widget-view+json": {
       "model_id": "bab1e0a22c6944fb8e0fbc0e49333e7d",
       "version_major": 2,
       "version_minor": 0
      },
      "text/plain": [
       "FloatProgress(value=0.0, description='0% done ', max=3000.0)"
      ]
     },
     "metadata": {},
     "output_type": "display_data"
    },
    {
     "name": "stdout",
     "output_type": "stream",
     "text": [
      "Meep progress: 1684.4666666666667/3000.0 = 56.1% done in 4.0s, 3.1s to go\n",
      "on time step 303609 (time=1686.72), 1.31749e-05 s/step\n",
      "run 0 finished at t = 3000.0 (540000 timesteps)\n"
     ]
    },
    {
     "data": {
      "application/vnd.jupyter.widget-view+json": {
       "model_id": "73d6483959d840789a16cd53178c4dd5",
       "version_major": 2,
       "version_minor": 0
      },
      "text/plain": [
       "FloatProgress(value=3000.0, description='0% done ', max=9000.0, min=3000.0)"
      ]
     },
     "metadata": {},
     "output_type": "display_data"
    },
    {
     "name": "stdout",
     "output_type": "stream",
     "text": [
      "on time step 551332 (time=3062.96), 1.61472e-05 s/step\n",
      "Meep progress: 344.7666666666669/9000.0 = 3.8% done in 4.0s, 100.4s to go\n",
      "on time step 613962 (time=3410.9), 6.38672e-05 s/step\n",
      "Meep progress: 694.2666666666669/9000.0 = 7.7% done in 8.0s, 95.7s to go\n",
      "on time step 677106 (time=3761.7), 6.33473e-05 s/step\n",
      "Meep progress: 1057.25/9000.0 = 11.7% done in 12.0s, 90.2s to go\n",
      "on time step 742513 (time=4125.07), 6.11563e-05 s/step\n",
      "Meep progress: 1408.8833333333332/9000.0 = 15.7% done in 16.0s, 86.2s to go\n",
      "on time step 805059 (time=4472.55), 6.39541e-05 s/step\n",
      "Meep progress: 1758.227777777778/9000.0 = 19.5% done in 20.0s, 82.4s to go\n",
      "on time step 868536 (time=4825.2), 6.30158e-05 s/step\n",
      "Meep progress: 2107.4222222222224/9000.0 = 23.4% done in 24.0s, 78.5s to go\n",
      "on time step 931324 (time=5174.02), 6.37071e-05 s/step\n",
      "Meep progress: 2469.133333333333/9000.0 = 27.4% done in 28.0s, 74.1s to go\n",
      "on time step 996741 (time=5537.45), 6.1147e-05 s/step\n",
      "Meep progress: 2830.083333333334/9000.0 = 31.4% done in 32.0s, 69.8s to go\n",
      "on time step 1061826 (time=5899.03), 6.14586e-05 s/step\n",
      "Meep progress: 3186.4444444444443/9000.0 = 35.4% done in 36.0s, 65.7s to go\n",
      "on time step 1125607 (time=6253.37), 6.27153e-05 s/step\n",
      "Meep progress: 3529.3166666666666/9000.0 = 39.2% done in 40.0s, 62.0s to go\n",
      "on time step 1187233 (time=6595.74), 6.49081e-05 s/step\n",
      "Meep progress: 3889.5/9000.0 = 43.2% done in 44.0s, 57.8s to go\n",
      "on time step 1252051 (time=6955.84), 6.17117e-05 s/step\n",
      "Meep progress: 4251.700000000001/9000.0 = 47.2% done in 48.0s, 53.6s to go\n",
      "on time step 1317740 (time=7320.78), 6.08936e-05 s/step\n",
      "Meep progress: 4616.4111111111115/9000.0 = 51.3% done in 52.0s, 49.4s to go\n",
      "on time step 1383101 (time=7683.89), 6.11986e-05 s/step\n",
      "Meep progress: 4965.455555555556/9000.0 = 55.2% done in 56.0s, 45.5s to go\n",
      "on time step 1445856 (time=8032.53), 6.37405e-05 s/step\n",
      "Meep progress: 5319.311111111112/9000.0 = 59.1% done in 60.0s, 41.5s to go\n",
      "on time step 1509137 (time=8384.09), 6.32108e-05 s/step\n",
      "Meep progress: 5662.338888888889/9000.0 = 62.9% done in 64.0s, 37.7s to go\n",
      "on time step 1571491 (time=8730.51), 6.41501e-05 s/step\n",
      "run 1 finished at t = 9000.0 (1620000 timesteps)\n",
      "1749958.143579788\n",
      "[0.9424602]\n",
      "[0.0575398]\n",
      "[0.]\n",
      "[0.94244355]\n",
      "[0.05755645]\n",
      "[0.]\n",
      "[1.53]\n",
      "1\n",
      "-----------\n",
      "Initializing structure...\n",
      "time for choose_chunkdivision = 5.79357e-05 s\n",
      "Working in 1D dimensions.\n",
      "Computational cell is 0 x 0 x 10 with resolution 90\n",
      "time for set_epsilon = 0.000221968 s\n",
      "-----------\n"
     ]
    },
    {
     "data": {
      "application/vnd.jupyter.widget-view+json": {
       "model_id": "bf3caf09a6a94973abb0ce9a75dac0af",
       "version_major": 2,
       "version_minor": 0
      },
      "text/plain": [
       "FloatProgress(value=0.0, description='0% done ', max=3000.0)"
      ]
     },
     "metadata": {},
     "output_type": "display_data"
    },
    {
     "name": "stdout",
     "output_type": "stream",
     "text": [
      "Meep progress: 1789.8055555555557/3000.0 = 59.7% done in 4.0s, 2.7s to go\n",
      "on time step 322594 (time=1792.19), 1.23995e-05 s/step\n",
      "run 0 finished at t = 3000.0 (540000 timesteps)\n"
     ]
    },
    {
     "data": {
      "application/vnd.jupyter.widget-view+json": {
       "model_id": "1528a502da624fb0ad9a3b41a1c3365c",
       "version_major": 2,
       "version_minor": 0
      },
      "text/plain": [
       "FloatProgress(value=3000.0, description='0% done ', max=9000.0, min=3000.0)"
      ]
     },
     "metadata": {},
     "output_type": "display_data"
    },
    {
     "name": "stdout",
     "output_type": "stream",
     "text": [
      "on time step 559030 (time=3105.72), 1.6918e-05 s/step\n",
      "Meep progress: 347.9500000000003/9000.0 = 3.9% done in 4.0s, 99.5s to go\n",
      "on time step 620573 (time=3447.63), 6.49964e-05 s/step\n",
      "Meep progress: 676.3333333333335/9000.0 = 7.5% done in 8.0s, 98.5s to go\n",
      "on time step 680282 (time=3779.34), 6.69919e-05 s/step\n",
      "Meep progress: 1035.0444444444447/9000.0 = 11.5% done in 12.0s, 92.3s to go\n",
      "on time step 746802 (time=4148.9), 6.01325e-05 s/step\n",
      "Meep progress: 1394.0444444444447/9000.0 = 15.5% done in 16.0s, 87.3s to go\n",
      "on time step 810703 (time=4503.91), 6.25969e-05 s/step\n",
      "Meep progress: 1757.3111111111111/9000.0 = 19.5% done in 20.0s, 82.4s to go\n",
      "on time step 875841 (time=4865.78), 6.14086e-05 s/step\n",
      "Meep progress: 2111.7777777777783/9000.0 = 23.5% done in 24.0s, 78.3s to go\n",
      "on time step 940700 (time=5226.11), 6.16725e-05 s/step\n",
      "Meep progress: 2484.3722222222223/9000.0 = 27.6% done in 28.0s, 73.4s to go\n",
      "on time step 1007614 (time=5597.86), 5.97783e-05 s/step\n",
      "Meep progress: 2855.7444444444445/9000.0 = 31.7% done in 32.0s, 68.8s to go\n",
      "on time step 1073416 (time=5963.42), 6.07886e-05 s/step\n",
      "Meep progress: 3208.6388888888887/9000.0 = 35.7% done in 36.0s, 65.0s to go\n",
      "on time step 1136553 (time=6314.18), 6.33549e-05 s/step\n",
      "Meep progress: 3558.894444444445/9000.0 = 39.5% done in 40.0s, 61.2s to go\n",
      "on time step 1199674 (time=6664.86), 6.33709e-05 s/step\n",
      "Meep progress: 3921.3777777777777/9000.0 = 43.6% done in 44.0s, 57.0s to go\n",
      "on time step 1266616 (time=7036.76), 5.97541e-05 s/step\n",
      "Meep progress: 4294.427777777778/9000.0 = 47.7% done in 48.0s, 52.6s to go\n",
      "on time step 1333792 (time=7409.96), 5.95461e-05 s/step\n",
      "Meep progress: 4656.733333333334/9000.0 = 51.7% done in 52.0s, 48.5s to go\n",
      "on time step 1398283 (time=7768.24), 6.20243e-05 s/step\n",
      "Meep progress: 5000.238888888889/9000.0 = 55.6% done in 56.0s, 44.8s to go\n",
      "on time step 1459257 (time=8106.98), 6.56031e-05 s/step\n",
      "Meep progress: 5359.044444444446/9000.0 = 59.5% done in 60.0s, 40.8s to go\n",
      "on time step 1524998 (time=8472.21), 6.08455e-05 s/step\n",
      "Meep progress: 5733.405555555555/9000.0 = 63.7% done in 64.0s, 36.5s to go\n",
      "on time step 1592660 (time=8848.11), 5.9118e-05 s/step\n",
      "run 1 finished at t = 9000.0 (1620000 timesteps)\n",
      "-----------\n",
      "Initializing structure...\n",
      "time for choose_chunkdivision = 5.4121e-05 s\n",
      "Working in 1D dimensions.\n",
      "Computational cell is 0 x 0 x 10 with resolution 90\n",
      "     block, center = (0,0,0)\n",
      "          size (0,0,1.53)\n",
      "          axes (1,0,0), (0,1,0), (0,0,1)\n",
      "          dielectric constant epsilon diagonal = (6.0516,6.0516,6.0516)\n",
      "time for set_epsilon = 0.000264883 s\n",
      "-----------\n"
     ]
    },
    {
     "data": {
      "application/vnd.jupyter.widget-view+json": {
       "model_id": "036113fbc3204b9ca279fb78dbfd90d0",
       "version_major": 2,
       "version_minor": 0
      },
      "text/plain": [
       "FloatProgress(value=0.0, description='0% done ', max=3000.0)"
      ]
     },
     "metadata": {},
     "output_type": "display_data"
    },
    {
     "name": "stdout",
     "output_type": "stream",
     "text": [
      "Meep progress: 1718.1833333333334/3000.0 = 57.3% done in 4.0s, 3.0s to go\n",
      "on time step 309613 (time=1720.07), 1.29194e-05 s/step\n",
      "run 0 finished at t = 3000.0 (540000 timesteps)\n"
     ]
    },
    {
     "data": {
      "application/vnd.jupyter.widget-view+json": {
       "model_id": "9fe521d5d6b54368b60ce5eca17131c4",
       "version_major": 2,
       "version_minor": 0
      },
      "text/plain": [
       "FloatProgress(value=3000.0, description='0% done ', max=9000.0, min=3000.0)"
      ]
     },
     "metadata": {},
     "output_type": "display_data"
    },
    {
     "name": "stdout",
     "output_type": "stream",
     "text": [
      "on time step 557202 (time=3095.57), 1.6156e-05 s/step\n",
      "Meep progress: 360.5055555555555/9000.0 = 4.0% done in 4.0s, 95.9s to go\n",
      "on time step 620970 (time=3449.83), 6.2728e-05 s/step\n",
      "Meep progress: 718.1222222222223/9000.0 = 8.0% done in 8.0s, 92.3s to go\n",
      "on time step 686635 (time=3814.64), 6.09158e-05 s/step\n",
      "Meep progress: 1060.6833333333334/9000.0 = 11.8% done in 12.0s, 89.8s to go\n",
      "on time step 745975 (time=4144.31), 6.74085e-05 s/step\n",
      "Meep progress: 1398.7555555555555/9000.0 = 15.5% done in 16.0s, 87.0s to go\n",
      "on time step 806771 (time=4482.06), 6.57944e-05 s/step\n",
      "Meep progress: 1744.5333333333338/9000.0 = 19.4% done in 20.0s, 83.2s to go\n",
      "on time step 871869 (time=4843.72), 6.14461e-05 s/step\n",
      "Meep progress: 2105.855555555556/9000.0 = 23.4% done in 24.0s, 78.6s to go\n",
      "on time step 937111 (time=5206.17), 6.13116e-05 s/step\n",
      "Meep progress: 2474.7777777777783/9000.0 = 27.5% done in 28.0s, 73.8s to go\n",
      "on time step 1003090 (time=5572.72), 6.06257e-05 s/step\n",
      "Meep progress: 2813.666666666667/9000.0 = 31.3% done in 32.0s, 70.4s to go\n",
      "on time step 1063348 (time=5907.49), 6.63817e-05 s/step\n",
      "Meep progress: 3160.8166666666666/9000.0 = 35.1% done in 36.0s, 66.5s to go\n",
      "on time step 1125697 (time=6253.87), 6.41557e-05 s/step\n",
      "Meep progress: 3514.3611111111113/9000.0 = 39.0% done in 40.0s, 62.4s to go\n",
      "on time step 1189842 (time=6610.23), 6.23593e-05 s/step\n",
      "Meep progress: 3873.322222222222/9000.0 = 43.0% done in 44.0s, 58.2s to go\n",
      "on time step 1254122 (time=6967.34), 6.2228e-05 s/step\n",
      "Meep progress: 4235.266666666667/9000.0 = 47.1% done in 48.0s, 54.0s to go\n",
      "on time step 1318944 (time=7327.47), 6.17109e-05 s/step\n",
      "Meep progress: 4571.866666666667/9000.0 = 50.8% done in 52.0s, 50.4s to go\n",
      "on time step 1380219 (time=7667.88), 6.52807e-05 s/step\n",
      "Meep progress: 4922.711111111112/9000.0 = 54.7% done in 56.0s, 46.4s to go\n",
      "on time step 1443358 (time=8018.66), 6.3353e-05 s/step\n",
      "Meep progress: 5277.227777777778/9000.0 = 58.6% done in 60.0s, 42.3s to go\n",
      "on time step 1507706 (time=8376.14), 6.21622e-05 s/step\n",
      "Meep progress: 5646.372222222222/9000.0 = 62.7% done in 64.0s, 38.0s to go\n",
      "on time step 1573874 (time=8743.74), 6.04524e-05 s/step\n",
      "run 1 finished at t = 9000.0 (1620000 timesteps)\n",
      "-----------\n",
      "Initializing structure...\n",
      "time for choose_chunkdivision = 6.10352e-05 s\n",
      "Working in 1D dimensions.\n",
      "Computational cell is 0 x 0 x 10 with resolution 90\n",
      "     block, center = (0,0,0)\n",
      "          size (0,0,1.53)\n",
      "          axes (1,0,0), (0,1,0), (0,0,1)\n",
      "          dielectric constant epsilon diagonal = (6.0516,6.0516,6.0516)\n",
      "time for set_epsilon = 0.000268936 s\n",
      "-----------\n"
     ]
    },
    {
     "data": {
      "application/vnd.jupyter.widget-view+json": {
       "model_id": "87af42bb45e24f24b58adb92c9b6e1a5",
       "version_major": 2,
       "version_minor": 0
      },
      "text/plain": [
       "FloatProgress(value=0.0, description='0% done ', max=3000.0)"
      ]
     },
     "metadata": {},
     "output_type": "display_data"
    },
    {
     "name": "stdout",
     "output_type": "stream",
     "text": [
      "Meep progress: 1720.9388888888889/3000.0 = 57.4% done in 4.0s, 3.0s to go\n",
      "on time step 310178 (time=1723.21), 1.28959e-05 s/step\n",
      "run 0 finished at t = 3000.0 (540000 timesteps)\n"
     ]
    },
    {
     "data": {
      "application/vnd.jupyter.widget-view+json": {
       "model_id": "a4102fbc84634ec199c71c2a4c89820e",
       "version_major": 2,
       "version_minor": 0
      },
      "text/plain": [
       "FloatProgress(value=3000.0, description='0% done ', max=9000.0, min=3000.0)"
      ]
     },
     "metadata": {},
     "output_type": "display_data"
    },
    {
     "name": "stdout",
     "output_type": "stream",
     "text": [
      "on time step 555398 (time=3085.54), 1.63121e-05 s/step\n",
      "Meep progress: 352.0/9000.0 = 3.9% done in 4.0s, 98.3s to go\n",
      "on time step 618680 (time=3437.11), 6.32092e-05 s/step\n",
      "Meep progress: 710.7944444444447/9000.0 = 7.9% done in 8.0s, 93.3s to go\n",
      "on time step 683562 (time=3797.57), 6.16506e-05 s/step\n",
      "Meep progress: 1075.1111111111113/9000.0 = 11.9% done in 12.0s, 88.5s to go\n",
      "on time step 748860 (time=4160.33), 6.12578e-05 s/step\n",
      "Meep progress: 1434.8666666666668/9000.0 = 15.9% done in 16.0s, 84.4s to go\n",
      "on time step 813200 (time=4517.78), 6.217e-05 s/step\n",
      "Meep progress: 1785.7333333333336/9000.0 = 19.8% done in 20.0s, 80.8s to go\n",
      "on time step 876746 (time=4870.81), 6.29466e-05 s/step\n",
      "Meep progress: 2146.3166666666666/9000.0 = 23.8% done in 24.0s, 76.6s to go\n",
      "on time step 941831 (time=5232.39), 6.14585e-05 s/step\n",
      "Meep progress: 2496.966666666667/9000.0 = 27.7% done in 28.0s, 72.9s to go\n",
      "on time step 1003676 (time=5575.98), 6.46785e-05 s/step\n",
      "Meep progress: 2847.083333333334/9000.0 = 31.6% done in 32.0s, 69.2s to go\n",
      "on time step 1067212 (time=5928.96), 6.29571e-05 s/step\n",
      "Meep progress: 3197.1833333333334/9000.0 = 35.5% done in 36.0s, 65.3s to go\n",
      "on time step 1130800 (time=6282.22), 6.29058e-05 s/step\n",
      "Meep progress: 3553.9000000000005/9000.0 = 39.5% done in 40.0s, 61.3s to go\n",
      "on time step 1195192 (time=6639.96), 6.21197e-05 s/step\n",
      "Meep progress: 3918.2666666666673/9000.0 = 43.5% done in 44.0s, 57.1s to go\n",
      "on time step 1261295 (time=7007.19), 6.05124e-05 s/step\n",
      "Meep progress: 4283.1/9000.0 = 47.6% done in 48.0s, 52.9s to go\n",
      "on time step 1326181 (time=7367.67), 6.16472e-05 s/step\n",
      "Meep progress: 4651.9944444444445/9000.0 = 51.7% done in 52.0s, 48.6s to go\n",
      "on time step 1393243 (time=7740.24), 5.96467e-05 s/step\n",
      "Meep progress: 5018.677777777778/9000.0 = 55.8% done in 56.0s, 44.4s to go\n",
      "on time step 1458976 (time=8105.42), 6.0853e-05 s/step\n",
      "Meep progress: 5393.116666666667/9000.0 = 59.9% done in 60.0s, 40.1s to go\n",
      "on time step 1526884 (time=8482.69), 5.89037e-05 s/step\n",
      "Meep progress: 5769.611111111111/9000.0 = 64.1% done in 64.0s, 35.8s to go\n",
      "on time step 1594541 (time=8858.56), 5.91226e-05 s/step\n",
      "run 1 finished at t = 9000.0 (1620000 timesteps)\n",
      "19424535.39373564\n",
      "[0.94448398]\n",
      "[0.05551602]\n",
      "[0.]\n",
      "[0.94244355]\n",
      "[0.05755645]\n",
      "[0.]\n",
      "[1.53]\n",
      "2\n",
      "-----------\n",
      "Initializing structure...\n",
      "time for choose_chunkdivision = 5.60284e-05 s\n",
      "Working in 1D dimensions.\n",
      "Computational cell is 0 x 0 x 10 with resolution 90\n",
      "time for set_epsilon = 0.000228882 s\n",
      "-----------\n"
     ]
    },
    {
     "data": {
      "application/vnd.jupyter.widget-view+json": {
       "model_id": "040a8c249d0948979c3405d87606f03d",
       "version_major": 2,
       "version_minor": 0
      },
      "text/plain": [
       "FloatProgress(value=0.0, description='0% done ', max=3000.0)"
      ]
     },
     "metadata": {},
     "output_type": "display_data"
    },
    {
     "name": "stdout",
     "output_type": "stream",
     "text": [
      "Meep progress: 1848.2611111111112/3000.0 = 61.6% done in 4.0s, 2.5s to go\n",
      "on time step 333095 (time=1850.53), 1.20086e-05 s/step\n",
      "run 0 finished at t = 3000.0 (540000 timesteps)\n"
     ]
    },
    {
     "data": {
      "application/vnd.jupyter.widget-view+json": {
       "model_id": "0cfb3bd98b13481b8c433b890b33fa24",
       "version_major": 2,
       "version_minor": 0
      },
      "text/plain": [
       "FloatProgress(value=3000.0, description='0% done ', max=9000.0, min=3000.0)"
      ]
     },
     "metadata": {},
     "output_type": "display_data"
    },
    {
     "name": "stdout",
     "output_type": "stream",
     "text": [
      "on time step 566101 (time=3145.01), 1.7167e-05 s/step\n",
      "Meep progress: 381.52222222222235/9000.0 = 4.2% done in 4.0s, 90.4s to go\n",
      "on time step 634693 (time=3526.07), 5.83164e-05 s/step\n",
      "Meep progress: 761.7166666666667/9000.0 = 8.5% done in 8.0s, 86.5s to go\n",
      "on time step 702489 (time=3902.72), 5.90009e-05 s/step\n",
      "Meep progress: 1132.0666666666666/9000.0 = 12.6% done in 12.0s, 83.4s to go\n",
      "on time step 769185 (time=4273.25), 5.99739e-05 s/step\n",
      "Meep progress: 1499.094444444445/9000.0 = 16.7% done in 16.0s, 80.1s to go\n",
      "on time step 834618 (time=4636.77), 6.11316e-05 s/step\n",
      "Meep progress: 1869.344444444445/9000.0 = 20.8% done in 20.0s, 76.3s to go\n",
      "on time step 902102 (time=5011.68), 5.9274e-05 s/step\n",
      "Meep progress: 2245.572222222222/9000.0 = 25.0% done in 24.0s, 72.2s to go\n",
      "on time step 969706 (time=5387.26), 5.91687e-05 s/step\n",
      "Meep progress: 2620.5555555555557/9000.0 = 29.1% done in 28.0s, 68.2s to go\n",
      "on time step 1036581 (time=5758.78), 5.98137e-05 s/step\n",
      "Meep progress: 2989.5333333333338/9000.0 = 33.2% done in 32.0s, 64.3s to go\n",
      "on time step 1103125 (time=6128.47), 6.01114e-05 s/step\n",
      "Meep progress: 3355.3722222222223/9000.0 = 37.3% done in 36.0s, 60.6s to go\n",
      "on time step 1169624 (time=6497.91), 6.0152e-05 s/step\n",
      "Meep progress: 3732.905555555556/9000.0 = 41.5% done in 40.0s, 56.4s to go\n",
      "on time step 1237699 (time=6876.11), 5.87592e-05 s/step\n",
      "Meep progress: 4105.455555555556/9000.0 = 45.6% done in 44.0s, 52.5s to go\n",
      "on time step 1302780 (time=7237.67), 6.14627e-05 s/step\n",
      "Meep progress: 4471.7444444444445/9000.0 = 49.7% done in 48.0s, 48.6s to go\n",
      "on time step 1370414 (time=7613.41), 5.91427e-05 s/step\n",
      "Meep progress: 4842.844444444445/9000.0 = 53.8% done in 52.0s, 44.6s to go\n",
      "on time step 1437741 (time=7987.45), 5.94125e-05 s/step\n",
      "Meep progress: 5223.283333333333/9000.0 = 58.0% done in 56.0s, 40.5s to go\n",
      "on time step 1506685 (time=8370.47), 5.8019e-05 s/step\n",
      "Meep progress: 5604.8277777777785/9000.0 = 62.3% done in 60.0s, 36.3s to go\n",
      "on time step 1575169 (time=8750.94), 5.84081e-05 s/step\n",
      "Meep progress: 5978.0055555555555/9000.0 = 66.4% done in 64.0s, 32.4s to go\n",
      "run 1 finished at t = 9000.0 (1620000 timesteps)\n",
      "-----------\n",
      "Initializing structure...\n",
      "time for choose_chunkdivision = 5.50747e-05 s\n",
      "Working in 1D dimensions.\n",
      "Computational cell is 0 x 0 x 10 with resolution 90\n",
      "     block, center = (0,0,0)\n",
      "          size (0,0,1.53)\n",
      "          axes (1,0,0), (0,1,0), (0,0,1)\n",
      "          dielectric constant epsilon diagonal = (6.0516,6.0516,6.0516)\n",
      "time for set_epsilon = 0.000267982 s\n",
      "-----------\n"
     ]
    },
    {
     "data": {
      "application/vnd.jupyter.widget-view+json": {
       "model_id": "1b80a7878adb4815b56dc9cc49123f18",
       "version_major": 2,
       "version_minor": 0
      },
      "text/plain": [
       "FloatProgress(value=0.0, description='0% done ', max=3000.0)"
      ]
     },
     "metadata": {},
     "output_type": "display_data"
    },
    {
     "name": "stdout",
     "output_type": "stream",
     "text": [
      "Meep progress: 1806.5500000000002/3000.0 = 60.2% done in 4.0s, 2.6s to go\n",
      "on time step 325588 (time=1808.82), 1.22855e-05 s/step\n",
      "run 0 finished at t = 3000.0 (540000 timesteps)\n"
     ]
    },
    {
     "data": {
      "application/vnd.jupyter.widget-view+json": {
       "model_id": "c73ba7bec4174b59b7f9fd7e16045c1b",
       "version_major": 2,
       "version_minor": 0
      },
      "text/plain": [
       "FloatProgress(value=3000.0, description='0% done ', max=9000.0, min=3000.0)"
      ]
     },
     "metadata": {},
     "output_type": "display_data"
    },
    {
     "name": "stdout",
     "output_type": "stream",
     "text": [
      "on time step 561310 (time=3118.39), 1.69693e-05 s/step\n",
      "Meep progress: 370.1166666666668/9000.0 = 4.1% done in 4.0s, 93.3s to go\n",
      "on time step 628296 (time=3490.53), 5.97146e-05 s/step\n",
      "Meep progress: 741.8444444444444/9000.0 = 8.2% done in 8.0s, 89.1s to go\n",
      "on time step 691956 (time=3844.2), 6.28348e-05 s/step\n",
      "Meep progress: 1068.0500000000002/9000.0 = 11.9% done in 12.0s, 89.1s to go\n",
      "on time step 753086 (time=4183.81), 6.54354e-05 s/step\n",
      "Meep progress: 1425.3722222222223/9000.0 = 15.8% done in 16.0s, 85.0s to go\n",
      "on time step 817302 (time=4540.57), 6.22906e-05 s/step\n",
      "Meep progress: 1777.4555555555553/9000.0 = 19.7% done in 20.0s, 81.3s to go\n",
      "on time step 880580 (time=4892.11), 6.32134e-05 s/step\n",
      "Meep progress: 2140.5/9000.0 = 23.8% done in 24.0s, 76.9s to go\n",
      "on time step 946209 (time=5256.72), 6.09488e-05 s/step\n",
      "Meep progress: 2507.5/9000.0 = 27.9% done in 28.0s, 72.5s to go\n",
      "on time step 1013137 (time=5628.54), 5.97668e-05 s/step\n",
      "Meep progress: 2867.7222222222226/9000.0 = 31.9% done in 32.0s, 68.4s to go\n",
      "on time step 1077409 (time=5985.61), 6.22358e-05 s/step\n",
      "Meep progress: 3228.0777777777785/9000.0 = 35.9% done in 36.0s, 64.4s to go\n",
      "on time step 1142868 (time=6349.27), 6.11077e-05 s/step\n",
      "Meep progress: 3605.366666666667/9000.0 = 40.1% done in 40.0s, 59.9s to go\n",
      "on time step 1211272 (time=6729.29), 5.84763e-05 s/step\n",
      "Meep progress: 3981.8166666666666/9000.0 = 44.2% done in 44.0s, 55.5s to go\n",
      "on time step 1277575 (time=7097.64), 6.03296e-05 s/step\n",
      "Meep progress: 4338.783333333334/9000.0 = 48.2% done in 48.0s, 51.6s to go\n",
      "on time step 1342082 (time=7456.01), 6.20089e-05 s/step\n",
      "Meep progress: 4706.150000000001/9000.0 = 52.3% done in 52.0s, 47.4s to go\n",
      "on time step 1409094 (time=7828.3), 5.9691e-05 s/step\n",
      "Meep progress: 5068.883333333333/9000.0 = 56.3% done in 56.0s, 43.4s to go\n",
      "on time step 1474361 (time=8190.89), 6.12868e-05 s/step\n",
      "Meep progress: 5447.4944444444445/9000.0 = 60.5% done in 60.0s, 39.1s to go\n",
      "on time step 1542369 (time=8568.72), 5.8817e-05 s/step\n",
      "Meep progress: 5820.183333333334/9000.0 = 64.7% done in 64.0s, 35.0s to go\n",
      "on time step 1609623 (time=8942.35), 5.94762e-05 s/step\n",
      "run 1 finished at t = 9000.0 (1620000 timesteps)\n",
      "-----------\n",
      "Initializing structure...\n",
      "time for choose_chunkdivision = 6.10352e-05 s\n",
      "Working in 1D dimensions.\n",
      "Computational cell is 0 x 0 x 10 with resolution 90\n",
      "     block, center = (0,0,0)\n",
      "          size (0,0,1.53)\n",
      "          axes (1,0,0), (0,1,0), (0,0,1)\n",
      "          dielectric constant epsilon diagonal = (6.0516,6.0516,6.0516)\n",
      "time for set_epsilon = 0.000255108 s\n",
      "-----------\n"
     ]
    },
    {
     "data": {
      "application/vnd.jupyter.widget-view+json": {
       "model_id": "550476648da14037926cebb9672b1740",
       "version_major": 2,
       "version_minor": 0
      },
      "text/plain": [
       "FloatProgress(value=0.0, description='0% done ', max=3000.0)"
      ]
     },
     "metadata": {},
     "output_type": "display_data"
    },
    {
     "name": "stdout",
     "output_type": "stream",
     "text": [
      "Meep progress: 1693.8722222222223/3000.0 = 56.5% done in 4.0s, 3.1s to go\n",
      "on time step 305394 (time=1696.63), 1.30979e-05 s/step\n",
      "run 0 finished at t = 3000.0 (540000 timesteps)\n"
     ]
    },
    {
     "data": {
      "application/vnd.jupyter.widget-view+json": {
       "model_id": "8ec2f26be2014239b6eb08850b1d72c8",
       "version_major": 2,
       "version_minor": 0
      },
      "text/plain": [
       "FloatProgress(value=3000.0, description='0% done ', max=9000.0, min=3000.0)"
      ]
     },
     "metadata": {},
     "output_type": "display_data"
    },
    {
     "name": "stdout",
     "output_type": "stream",
     "text": [
      "on time step 553727 (time=3076.26), 1.61074e-05 s/step\n",
      "Meep progress: 357.9500000000003/9000.0 = 4.0% done in 4.0s, 96.6s to go\n",
      "on time step 618368 (time=3435.38), 6.18804e-05 s/step\n",
      "Meep progress: 718.2333333333336/9000.0 = 8.0% done in 8.0s, 92.2s to go\n",
      "on time step 683521 (time=3797.34), 6.13944e-05 s/step\n",
      "Meep progress: 1079.4/9000.0 = 12.0% done in 12.0s, 88.1s to go\n",
      "on time step 747801 (time=4154.45), 6.22281e-05 s/step\n",
      "Meep progress: 1424.9722222222226/9000.0 = 15.8% done in 16.0s, 85.1s to go\n",
      "on time step 810412 (time=4502.29), 6.38868e-05 s/step\n",
      "Meep progress: 1785.2166666666672/9000.0 = 19.8% done in 20.0s, 80.8s to go\n",
      "on time step 874611 (time=4858.95), 6.23071e-05 s/step\n",
      "Meep progress: 2134.822222222222/9000.0 = 23.7% done in 24.0s, 77.2s to go\n",
      "on time step 938800 (time=5215.56), 6.23166e-05 s/step\n",
      "Meep progress: 2508.1722222222224/9000.0 = 27.9% done in 28.0s, 72.5s to go\n",
      "on time step 1005925 (time=5588.47), 5.95903e-05 s/step\n",
      "Meep progress: 2877.383333333333/9000.0 = 32.0% done in 32.0s, 68.1s to go\n",
      "on time step 1072440 (time=5958), 6.01375e-05 s/step\n",
      "Meep progress: 3247.477777777778/9000.0 = 36.1% done in 36.0s, 63.8s to go\n",
      "on time step 1139221 (time=6329.01), 5.98973e-05 s/step\n",
      "Meep progress: 3622.3500000000004/9000.0 = 40.2% done in 40.0s, 59.4s to go\n",
      "on time step 1206624 (time=6703.47), 5.93451e-05 s/step\n",
      "Meep progress: 3996.261111111111/9000.0 = 44.4% done in 44.0s, 55.1s to go\n",
      "on time step 1274111 (time=7078.39), 5.92714e-05 s/step\n",
      "Meep progress: 4372.3/9000.0 = 48.6% done in 48.0s, 50.8s to go\n",
      "on time step 1340979 (time=7449.88), 5.98199e-05 s/step\n",
      "Meep progress: 4736.127777777778/9000.0 = 52.6% done in 52.0s, 46.8s to go\n",
      "on time step 1407075 (time=7817.08), 6.05181e-05 s/step\n",
      "Meep progress: 5105.944444444444/9000.0 = 56.7% done in 56.0s, 42.7s to go\n",
      "on time step 1473751 (time=8187.51), 5.99921e-05 s/step\n",
      "Meep progress: 5474.011111111111/9000.0 = 60.8% done in 60.0s, 38.6s to go\n",
      "on time step 1539841 (time=8554.67), 6.05243e-05 s/step\n",
      "Meep progress: 5843.877777777778/9000.0 = 64.9% done in 64.0s, 34.6s to go\n",
      "on time step 1606607 (time=8925.59), 5.99112e-05 s/step\n",
      "run 1 finished at t = 9000.0 (1620000 timesteps)\n",
      "37099112.64389149\n",
      "[0.94977119]\n",
      "[0.05022881]\n",
      "[0.]\n",
      "[0.94244355]\n",
      "[0.05755645]\n",
      "[0.]\n",
      "[1.53]\n",
      "3\n",
      "-----------\n",
      "Initializing structure...\n",
      "time for choose_chunkdivision = 5.60284e-05 s\n",
      "Working in 1D dimensions.\n",
      "Computational cell is 0 x 0 x 10 with resolution 90\n",
      "time for set_epsilon = 0.000218868 s\n",
      "-----------\n"
     ]
    },
    {
     "data": {
      "application/vnd.jupyter.widget-view+json": {
       "model_id": "c2a7797b2a7b45b2ab42c826e1a452f9",
       "version_major": 2,
       "version_minor": 0
      },
      "text/plain": [
       "FloatProgress(value=0.0, description='0% done ', max=3000.0)"
      ]
     },
     "metadata": {},
     "output_type": "display_data"
    },
    {
     "name": "stdout",
     "output_type": "stream",
     "text": [
      "Meep progress: 1811.2833333333333/3000.0 = 60.4% done in 4.0s, 2.6s to go\n",
      "on time step 326435 (time=1813.53), 1.22542e-05 s/step\n",
      "run 0 finished at t = 3000.0 (540000 timesteps)\n"
     ]
    },
    {
     "data": {
      "application/vnd.jupyter.widget-view+json": {
       "model_id": "2efa94b3bc74480a9185522755cb5a02",
       "version_major": 2,
       "version_minor": 0
      },
      "text/plain": [
       "FloatProgress(value=3000.0, description='0% done ', max=9000.0, min=3000.0)"
      ]
     },
     "metadata": {},
     "output_type": "display_data"
    },
    {
     "name": "stdout",
     "output_type": "stream",
     "text": [
      "on time step 564033 (time=3133.52), 1.68353e-05 s/step\n",
      "Meep progress: 377.5666666666666/9000.0 = 4.2% done in 4.0s, 91.3s to go\n",
      "on time step 631288 (time=3507.16), 5.94756e-05 s/step\n",
      "Meep progress: 751.8111111111111/9000.0 = 8.4% done in 8.0s, 87.8s to go\n",
      "on time step 699353 (time=3885.29), 5.87678e-05 s/step\n",
      "Meep progress: 1133.2722222222228/9000.0 = 12.6% done in 12.0s, 83.3s to go\n",
      "on time step 767922 (time=4266.23), 5.83355e-05 s/step\n",
      "Meep progress: 1504.5666666666666/9000.0 = 16.7% done in 16.0s, 79.7s to go\n",
      "on time step 834624 (time=4636.8), 5.99689e-05 s/step\n",
      "Meep progress: 1883.0666666666666/9000.0 = 20.9% done in 20.0s, 75.6s to go\n",
      "on time step 902619 (time=5014.55), 5.88284e-05 s/step\n",
      "Meep progress: 2261.416666666667/9000.0 = 25.1% done in 24.0s, 71.5s to go\n",
      "on time step 970870 (time=5393.72), 5.86081e-05 s/step\n",
      "Meep progress: 2642.572222222222/9000.0 = 29.4% done in 28.0s, 67.4s to go\n",
      "on time step 1039638 (time=5775.77), 5.81669e-05 s/step\n",
      "Meep progress: 3022.844444444445/9000.0 = 33.6% done in 32.0s, 63.3s to go\n",
      "on time step 1107931 (time=6155.17), 5.85718e-05 s/step\n",
      "Meep progress: 3400.5277777777783/9000.0 = 37.8% done in 36.0s, 59.3s to go\n",
      "on time step 1176336 (time=6535.2), 5.84761e-05 s/step\n",
      "Meep progress: 3784.238888888889/9000.0 = 42.0% done in 40.0s, 55.1s to go\n",
      "on time step 1245348 (time=6918.6), 5.79614e-05 s/step\n",
      "Meep progress: 4166.55/9000.0 = 46.3% done in 44.0s, 51.0s to go\n",
      "on time step 1314153 (time=7300.85), 5.81355e-05 s/step\n",
      "Meep progress: 4549.650000000001/9000.0 = 50.6% done in 48.0s, 47.0s to go\n",
      "on time step 1382972 (time=7683.18), 5.81248e-05 s/step\n",
      "Meep progress: 4928.955555555556/9000.0 = 54.8% done in 52.0s, 42.9s to go\n",
      "on time step 1451248 (time=8062.49), 5.85864e-05 s/step\n",
      "Meep progress: 5312.722222222223/9000.0 = 59.0% done in 56.0s, 38.9s to go\n",
      "on time step 1520698 (time=8448.32), 5.75955e-05 s/step\n",
      "Meep progress: 5694.227777777778/9000.0 = 63.3% done in 60.0s, 34.8s to go\n",
      "on time step 1588917 (time=8827.32), 5.8635e-05 s/step\n",
      "run 1 finished at t = 9000.0 (1620000 timesteps)\n",
      "-----------\n",
      "Initializing structure...\n",
      "time for choose_chunkdivision = 5.60284e-05 s\n",
      "Working in 1D dimensions.\n",
      "Computational cell is 0 x 0 x 10 with resolution 90\n",
      "     block, center = (0,0,0)\n",
      "          size (0,0,1.53)\n",
      "          axes (1,0,0), (0,1,0), (0,0,1)\n",
      "          dielectric constant epsilon diagonal = (6.0516,6.0516,6.0516)\n",
      "time for set_epsilon = 0.000282049 s\n",
      "-----------\n"
     ]
    },
    {
     "data": {
      "application/vnd.jupyter.widget-view+json": {
       "model_id": "dbdcad1bb6b84424875273eab6602c82",
       "version_major": 2,
       "version_minor": 0
      },
      "text/plain": [
       "FloatProgress(value=0.0, description='0% done ', max=3000.0)"
      ]
     },
     "metadata": {},
     "output_type": "display_data"
    },
    {
     "name": "stdout",
     "output_type": "stream",
     "text": [
      "Meep progress: 1808.1611111111113/3000.0 = 60.3% done in 4.0s, 2.6s to go\n",
      "on time step 325941 (time=1810.78), 1.22722e-05 s/step\n",
      "run 0 finished at t = 3000.0 (540000 timesteps)\n"
     ]
    },
    {
     "data": {
      "application/vnd.jupyter.widget-view+json": {
       "model_id": "02126c147344446d9af08686e3834e1f",
       "version_major": 2,
       "version_minor": 0
      },
      "text/plain": [
       "FloatProgress(value=3000.0, description='0% done ', max=9000.0, min=3000.0)"
      ]
     },
     "metadata": {},
     "output_type": "display_data"
    },
    {
     "name": "stdout",
     "output_type": "stream",
     "text": [
      "on time step 562580 (time=3125.44), 1.69034e-05 s/step\n",
      "Meep progress: 373.8333333333335/9000.0 = 4.2% done in 4.0s, 92.3s to go\n",
      "on time step 629615 (time=3497.86), 5.96711e-05 s/step\n",
      "Meep progress: 745.238888888889/9000.0 = 8.3% done in 8.0s, 88.6s to go\n",
      "on time step 696788 (time=3871.04), 5.95486e-05 s/step\n",
      "Meep progress: 1119.1999999999998/9000.0 = 12.4% done in 12.0s, 84.5s to go\n",
      "on time step 762879 (time=4238.22), 6.05229e-05 s/step\n",
      "Meep progress: 1479.8777777777777/9000.0 = 16.4% done in 16.0s, 81.3s to go\n",
      "on time step 828944 (time=4605.24), 6.0547e-05 s/step\n",
      "Meep progress: 1855.1222222222223/9000.0 = 20.6% done in 20.0s, 77.0s to go\n",
      "on time step 896788 (time=4982.16), 5.89598e-05 s/step\n",
      "Meep progress: 2233.344444444445/9000.0 = 24.8% done in 24.0s, 72.7s to go\n",
      "on time step 964916 (time=5360.64), 5.87134e-05 s/step\n",
      "Meep progress: 2611.522222222223/9000.0 = 29.0% done in 28.0s, 68.5s to go\n",
      "on time step 1032883 (time=5738.24), 5.88524e-05 s/step\n",
      "Meep progress: 2984.2444444444445/9000.0 = 33.2% done in 32.0s, 64.5s to go\n",
      "on time step 1099402 (time=6107.79), 6.01335e-05 s/step\n",
      "Meep progress: 3347.9611111111117/9000.0 = 37.2% done in 36.0s, 60.8s to go\n",
      "on time step 1165336 (time=6474.09), 6.0667e-05 s/step\n",
      "Meep progress: 3722.594444444445/9000.0 = 41.4% done in 40.0s, 56.7s to go\n",
      "on time step 1232796 (time=6848.87), 5.92947e-05 s/step\n",
      "Meep progress: 4096.266666666667/9000.0 = 45.5% done in 44.0s, 52.7s to go\n",
      "on time step 1299927 (time=7221.82), 5.95857e-05 s/step\n",
      "Meep progress: 4470.5055555555555/9000.0 = 49.7% done in 48.0s, 48.6s to go\n",
      "on time step 1367641 (time=7598.01), 5.90722e-05 s/step\n",
      "Meep progress: 4843.288888888889/9000.0 = 53.8% done in 52.0s, 44.6s to go\n",
      "on time step 1433794 (time=7965.52), 6.04663e-05 s/step\n",
      "Meep progress: 5212.322222222223/9000.0 = 57.9% done in 56.0s, 40.7s to go\n",
      "on time step 1500982 (time=8338.79), 5.95347e-05 s/step\n",
      "Meep progress: 5587.833333333334/9000.0 = 62.1% done in 60.0s, 36.6s to go\n",
      "on time step 1568800 (time=8715.56), 5.89818e-05 s/step\n",
      "Meep progress: 5963.844444444445/9000.0 = 66.3% done in 64.0s, 32.6s to go\n",
      "run 1 finished at t = 9000.0 (1620000 timesteps)\n",
      "-----------\n",
      "Initializing structure...\n",
      "time for choose_chunkdivision = 5.72205e-05 s\n",
      "Working in 1D dimensions.\n",
      "Computational cell is 0 x 0 x 10 with resolution 90\n",
      "     block, center = (0,0,0)\n",
      "          size (0,0,1.53)\n",
      "          axes (1,0,0), (0,1,0), (0,0,1)\n",
      "          dielectric constant epsilon diagonal = (6.0516,6.0516,6.0516)\n",
      "time for set_epsilon = 0.00027895 s\n",
      "-----------\n"
     ]
    },
    {
     "data": {
      "application/vnd.jupyter.widget-view+json": {
       "model_id": "b9d0ca70f47f4216a4002bfb52a4972c",
       "version_major": 2,
       "version_minor": 0
      },
      "text/plain": [
       "FloatProgress(value=0.0, description='0% done ', max=3000.0)"
      ]
     },
     "metadata": {},
     "output_type": "display_data"
    },
    {
     "name": "stdout",
     "output_type": "stream",
     "text": [
      "Meep progress: 1748.1833333333334/3000.0 = 58.3% done in 4.0s, 2.9s to go\n",
      "on time step 315085 (time=1750.47), 1.2695e-05 s/step\n",
      "run 0 finished at t = 3000.0 (540000 timesteps)\n"
     ]
    },
    {
     "data": {
      "application/vnd.jupyter.widget-view+json": {
       "model_id": "82dc202b7a2c457a90a988dd91b75b31",
       "version_major": 2,
       "version_minor": 0
      },
      "text/plain": [
       "FloatProgress(value=3000.0, description='0% done ', max=9000.0, min=3000.0)"
      ]
     },
     "metadata": {},
     "output_type": "display_data"
    },
    {
     "name": "stdout",
     "output_type": "stream",
     "text": [
      "on time step 557032 (time=3094.62), 1.65328e-05 s/step\n",
      "Meep progress: 366.327777777778/9000.0 = 4.1% done in 4.0s, 94.3s to go\n",
      "on time step 623451 (time=3463.62), 6.02245e-05 s/step\n",
      "Meep progress: 728.4555555555557/9000.0 = 8.1% done in 8.0s, 90.8s to go\n",
      "on time step 688240 (time=3823.56), 6.17396e-05 s/step\n",
      "Meep progress: 1102.0222222222228/9000.0 = 12.2% done in 12.0s, 86.0s to go\n",
      "on time step 755689 (time=4198.27), 5.93042e-05 s/step\n",
      "Meep progress: 1470.4444444444443/9000.0 = 16.3% done in 16.0s, 81.9s to go\n",
      "on time step 821845 (time=4565.81), 6.04639e-05 s/step\n",
      "Meep progress: 1827.4444444444443/9000.0 = 20.3% done in 20.0s, 78.5s to go\n",
      "on time step 886484 (time=4924.91), 6.18826e-05 s/step\n",
      "Meep progress: 2196.8166666666666/9000.0 = 24.4% done in 24.0s, 74.3s to go\n",
      "on time step 952838 (time=5293.54), 6.0283e-05 s/step\n",
      "Meep progress: 2564.311111111111/9000.0 = 28.5% done in 28.0s, 70.3s to go\n",
      "on time step 1019612 (time=5664.51), 5.99039e-05 s/step\n",
      "Meep progress: 2948.75/9000.0 = 32.8% done in 32.0s, 65.7s to go\n",
      "on time step 1089009 (time=6050.05), 5.76399e-05 s/step\n",
      "Meep progress: 3338.705555555556/9000.0 = 37.1% done in 36.0s, 61.0s to go\n",
      "on time step 1159609 (time=6442.27), 5.66575e-05 s/step\n",
      "Meep progress: 3730.688888888889/9000.0 = 41.5% done in 40.0s, 56.5s to go\n",
      "on time step 1229361 (time=6829.78), 5.7346e-05 s/step\n",
      "Meep progress: 4120.311111111111/9000.0 = 45.8% done in 44.0s, 52.1s to go\n",
      "on time step 1299884 (time=7221.58), 5.67198e-05 s/step\n",
      "Meep progress: 4511.227777777778/9000.0 = 50.1% done in 48.0s, 47.8s to go\n",
      "on time step 1370371 (time=7613.17), 5.67486e-05 s/step\n",
      "Meep progress: 4902.877777777778/9000.0 = 54.5% done in 52.0s, 43.5s to go\n",
      "on time step 1440788 (time=8004.38), 5.68052e-05 s/step\n",
      "Meep progress: 5292.950000000001/9000.0 = 58.8% done in 56.0s, 39.2s to go\n",
      "on time step 1511167 (time=8395.37), 5.68355e-05 s/step\n",
      "Meep progress: 5687.694444444445/9000.0 = 63.2% done in 60.0s, 34.9s to go\n",
      "on time step 1582155 (time=8789.75), 5.6348e-05 s/step\n",
      "run 1 finished at t = 9000.0 (1620000 timesteps)\n",
      "54773689.89404725\n",
      "[0.95793326]\n",
      "[0.04206674]\n",
      "[1.11022302e-16]\n",
      "[0.94244355]\n",
      "[0.05755645]\n",
      "[0.]\n",
      "[1.53]\n",
      "4\n",
      "-----------\n",
      "Initializing structure...\n",
      "time for choose_chunkdivision = 5.60284e-05 s\n",
      "Working in 1D dimensions.\n",
      "Computational cell is 0 x 0 x 10 with resolution 90\n",
      "time for set_epsilon = 0.000226021 s\n",
      "-----------\n"
     ]
    },
    {
     "data": {
      "application/vnd.jupyter.widget-view+json": {
       "model_id": "6577622c3c8647619ab992e45b4103c5",
       "version_major": 2,
       "version_minor": 0
      },
      "text/plain": [
       "FloatProgress(value=0.0, description='0% done ', max=3000.0)"
      ]
     },
     "metadata": {},
     "output_type": "display_data"
    },
    {
     "name": "stdout",
     "output_type": "stream",
     "text": [
      "Meep progress: 1922.361111111111/3000.0 = 64.1% done in 4.0s, 2.2s to go\n",
      "on time step 346406 (time=1924.48), 1.15472e-05 s/step\n",
      "run 0 finished at t = 3000.0 (540000 timesteps)\n"
     ]
    },
    {
     "data": {
      "application/vnd.jupyter.widget-view+json": {
       "model_id": "28e497ccdfb048cbb940a017771f7900",
       "version_major": 2,
       "version_minor": 0
      },
      "text/plain": [
       "FloatProgress(value=3000.0, description='0% done ', max=9000.0, min=3000.0)"
      ]
     },
     "metadata": {},
     "output_type": "display_data"
    },
    {
     "name": "stdout",
     "output_type": "stream",
     "text": [
      "on time step 571348 (time=3174.16), 1.77825e-05 s/step\n",
      "Meep progress: 395.65555555555557/9000.0 = 4.4% done in 4.0s, 87.0s to go\n",
      "on time step 643267 (time=3573.71), 5.56184e-05 s/step\n",
      "Meep progress: 795.3444444444444/9000.0 = 8.8% done in 8.0s, 82.5s to go\n",
      "on time step 714906 (time=3971.7), 5.58358e-05 s/step\n",
      "Meep progress: 1193.8277777777776/9000.0 = 13.3% done in 12.0s, 78.5s to go\n",
      "on time step 785832 (time=4365.73), 5.63973e-05 s/step\n",
      "Meep progress: 1582.9722222222226/9000.0 = 17.6% done in 16.0s, 75.0s to go\n",
      "on time step 856335 (time=4757.42), 5.67359e-05 s/step\n",
      "Meep progress: 1976.2666666666664/9000.0 = 22.0% done in 20.0s, 71.1s to go\n",
      "on time step 927679 (time=5153.77), 5.60667e-05 s/step\n",
      "Meep progress: 2369.7222222222226/9000.0 = 26.3% done in 24.0s, 67.2s to go\n",
      "on time step 998488 (time=5547.16), 5.64907e-05 s/step\n",
      "Meep progress: 2769.95/9000.0 = 30.8% done in 28.0s, 63.0s to go\n",
      "on time step 1070411 (time=5946.73), 5.56152e-05 s/step\n",
      "Meep progress: 3165.8055555555557/9000.0 = 35.2% done in 32.0s, 59.0s to go\n",
      "on time step 1141971 (time=6344.28), 5.58976e-05 s/step\n",
      "Meep progress: 3565.394444444445/9000.0 = 39.6% done in 36.0s, 54.9s to go\n",
      "on time step 1208137 (time=6711.87), 6.04551e-05 s/step\n",
      "Meep progress: 3927.738888888889/9000.0 = 43.6% done in 40.0s, 51.7s to go\n",
      "on time step 1279001 (time=7105.56), 5.64468e-05 s/step\n",
      "Meep progress: 4320.072222222222/9000.0 = 48.0% done in 44.0s, 47.7s to go\n",
      "on time step 1348225 (time=7490.14), 5.77835e-05 s/step\n",
      "Meep progress: 4702.916666666667/9000.0 = 52.3% done in 48.0s, 43.9s to go\n",
      "on time step 1417042 (time=7872.46), 5.81258e-05 s/step\n",
      "Meep progress: 5085.383333333333/9000.0 = 56.5% done in 52.0s, 40.0s to go\n",
      "on time step 1486040 (time=8255.78), 5.79731e-05 s/step\n",
      "Meep progress: 5464.927777777779/9000.0 = 60.7% done in 56.0s, 36.2s to go\n",
      "on time step 1553977 (time=8633.21), 5.88785e-05 s/step\n",
      "Meep progress: 5840.811111111112/9000.0 = 64.9% done in 60.0s, 32.5s to go\n",
      "on time step 1619887 (time=8999.37), 6.06892e-05 s/step\n",
      "run 1 finished at t = 9000.0 (1620000 timesteps)\n",
      "-----------\n",
      "Initializing structure...\n",
      "time for choose_chunkdivision = 5.38826e-05 s\n",
      "Working in 1D dimensions.\n",
      "Computational cell is 0 x 0 x 10 with resolution 90\n",
      "     block, center = (0,0,0)\n",
      "          size (0,0,1.53)\n",
      "          axes (1,0,0), (0,1,0), (0,0,1)\n",
      "          dielectric constant epsilon diagonal = (6.0516,6.0516,6.0516)\n",
      "time for set_epsilon = 0.000320911 s\n",
      "-----------\n"
     ]
    },
    {
     "data": {
      "application/vnd.jupyter.widget-view+json": {
       "model_id": "73b0d02df44c49e08246f9ed613a248f",
       "version_major": 2,
       "version_minor": 0
      },
      "text/plain": [
       "FloatProgress(value=0.0, description='0% done ', max=3000.0)"
      ]
     },
     "metadata": {},
     "output_type": "display_data"
    },
    {
     "name": "stdout",
     "output_type": "stream",
     "text": [
      "Meep progress: 1847.7777777777778/3000.0 = 61.6% done in 4.0s, 2.5s to go\n",
      "on time step 334473 (time=1858.18), 1.19591e-05 s/step\n",
      "run 0 finished at t = 3000.0 (540000 timesteps)\n"
     ]
    },
    {
     "data": {
      "application/vnd.jupyter.widget-view+json": {
       "model_id": "3392b5f3e4ac4a6e9f6e9aed6d540016",
       "version_major": 2,
       "version_minor": 0
      },
      "text/plain": [
       "FloatProgress(value=3000.0, description='0% done ', max=9000.0, min=3000.0)"
      ]
     },
     "metadata": {},
     "output_type": "display_data"
    },
    {
     "name": "stdout",
     "output_type": "stream",
     "text": [
      "on time step 565693 (time=3142.74), 1.72996e-05 s/step\n",
      "Meep progress: 373.9500000000003/9000.0 = 4.2% done in 4.0s, 92.3s to go\n",
      "on time step 632951 (time=3516.39), 5.94726e-05 s/step\n",
      "Meep progress: 750.6111111111113/9000.0 = 8.3% done in 8.0s, 87.9s to go\n",
      "on time step 701138 (time=3895.21), 5.86627e-05 s/step\n",
      "Meep progress: 1129.3111111111111/9000.0 = 12.5% done in 12.0s, 83.6s to go\n",
      "on time step 767873 (time=4265.96), 5.99394e-05 s/step\n",
      "Meep progress: 1488.405555555556/9000.0 = 16.5% done in 16.0s, 80.7s to go\n",
      "on time step 833764 (time=4632.02), 6.07071e-05 s/step\n",
      "Meep progress: 1863.2944444444447/9000.0 = 20.7% done in 20.0s, 76.6s to go\n",
      "on time step 901220 (time=5006.78), 5.92987e-05 s/step\n",
      "Meep progress: 2238.177777777778/9000.0 = 24.9% done in 24.0s, 72.5s to go\n",
      "on time step 968896 (time=5382.76), 5.91061e-05 s/step\n",
      "Meep progress: 2616.738888888889/9000.0 = 29.1% done in 28.0s, 68.3s to go\n",
      "on time step 1037042 (time=5761.34), 5.86977e-05 s/step\n",
      "Meep progress: 2994.905555555556/9000.0 = 33.3% done in 32.0s, 64.2s to go\n",
      "on time step 1105109 (time=6139.49), 5.87664e-05 s/step\n",
      "Meep progress: 3368.3166666666666/9000.0 = 37.4% done in 36.0s, 60.2s to go\n",
      "on time step 1170836 (time=6504.64), 6.08579e-05 s/step\n",
      "Meep progress: 3735.8277777777785/9000.0 = 41.5% done in 40.0s, 56.4s to go\n",
      "on time step 1238187 (time=6878.82), 5.93904e-05 s/step\n",
      "Meep progress: 4112.794444444445/9000.0 = 45.7% done in 44.0s, 52.3s to go\n",
      "on time step 1306483 (time=7258.24), 5.85692e-05 s/step\n",
      "Meep progress: 4492.227777777778/9000.0 = 49.9% done in 48.0s, 48.2s to go\n",
      "on time step 1374716 (time=7637.31), 5.86235e-05 s/step\n",
      "Meep progress: 4871.977777777778/9000.0 = 54.1% done in 52.0s, 44.1s to go\n",
      "on time step 1443138 (time=8017.43), 5.84612e-05 s/step\n",
      "Meep progress: 5251.383333333333/9000.0 = 58.3% done in 56.0s, 40.0s to go\n",
      "on time step 1511145 (time=8395.25), 5.88177e-05 s/step\n",
      "Meep progress: 5626.805555555557/9000.0 = 62.5% done in 60.0s, 36.0s to go\n",
      "on time step 1579172 (time=8773.18), 5.88007e-05 s/step\n",
      "Meep progress: 5992.833333333334/9000.0 = 66.6% done in 64.0s, 32.1s to go\n",
      "run 1 finished at t = 9000.0 (1620000 timesteps)\n",
      "-----------\n",
      "Initializing structure...\n",
      "time for choose_chunkdivision = 6.00815e-05 s\n",
      "Working in 1D dimensions.\n",
      "Computational cell is 0 x 0 x 10 with resolution 90\n",
      "     block, center = (0,0,0)\n",
      "          size (0,0,1.53)\n",
      "          axes (1,0,0), (0,1,0), (0,0,1)\n",
      "          dielectric constant epsilon diagonal = (6.0516,6.0516,6.0516)\n",
      "time for set_epsilon = 0.000274897 s\n",
      "-----------\n"
     ]
    },
    {
     "data": {
      "application/vnd.jupyter.widget-view+json": {
       "model_id": "4c166e32b6f2494c9ed5207790383af6",
       "version_major": 2,
       "version_minor": 0
      },
      "text/plain": [
       "FloatProgress(value=0.0, description='0% done ', max=3000.0)"
      ]
     },
     "metadata": {},
     "output_type": "display_data"
    },
    {
     "name": "stdout",
     "output_type": "stream",
     "text": [
      "Meep progress: 1762.15/3000.0 = 58.7% done in 4.0s, 2.8s to go\n",
      "on time step 317622 (time=1764.57), 1.25936e-05 s/step\n",
      "run 0 finished at t = 3000.0 (540000 timesteps)\n"
     ]
    },
    {
     "data": {
      "application/vnd.jupyter.widget-view+json": {
       "model_id": "325ccbd5761e40fd82a429f32d2c6c11",
       "version_major": 2,
       "version_minor": 0
      },
      "text/plain": [
       "FloatProgress(value=3000.0, description='0% done ', max=9000.0, min=3000.0)"
      ]
     },
     "metadata": {},
     "output_type": "display_data"
    },
    {
     "name": "stdout",
     "output_type": "stream",
     "text": [
      "on time step 560066 (time=3111.48), 1.64987e-05 s/step\n",
      "Meep progress: 370.7611111111114/9000.0 = 4.1% done in 4.0s, 93.1s to go\n",
      "on time step 626572 (time=3480.96), 6.01456e-05 s/step\n",
      "Meep progress: 739.9722222222222/9000.0 = 8.2% done in 8.0s, 89.3s to go\n",
      "on time step 693188 (time=3851.04), 6.00462e-05 s/step\n",
      "Meep progress: 1112.5333333333338/9000.0 = 12.4% done in 12.0s, 85.1s to go\n",
      "on time step 760197 (time=4223.32), 5.96937e-05 s/step\n",
      "Meep progress: 1484.9611111111117/9000.0 = 16.5% done in 16.0s, 81.0s to go\n",
      "on time step 826562 (time=4592.01), 6.02728e-05 s/step\n",
      "Meep progress: 1840.6222222222223/9000.0 = 20.5% done in 20.0s, 77.8s to go\n",
      "on time step 891234 (time=4951.3), 6.18509e-05 s/step\n",
      "Meep progress: 2209.2555555555555/9000.0 = 24.5% done in 24.0s, 73.8s to go\n",
      "on time step 957833 (time=5321.29), 6.00614e-05 s/step\n",
      "Meep progress: 2582.916666666667/9000.0 = 28.7% done in 28.0s, 69.6s to go\n",
      "on time step 1025089 (time=5694.94), 5.94745e-05 s/step\n",
      "Meep progress: 2955.438888888889/9000.0 = 32.8% done in 32.0s, 65.4s to go\n",
      "on time step 1092061 (time=6067.01), 5.97269e-05 s/step\n",
      "Meep progress: 3327.677777777778/9000.0 = 37.0% done in 36.0s, 61.4s to go\n",
      "on time step 1159150 (time=6439.72), 5.96225e-05 s/step\n",
      "Meep progress: 3701.0166666666673/9000.0 = 41.1% done in 40.0s, 57.3s to go\n",
      "on time step 1226211 (time=6812.28), 5.96474e-05 s/step\n",
      "Meep progress: 4060.216666666667/9000.0 = 45.1% done in 44.0s, 53.5s to go\n",
      "on time step 1290252 (time=7168.07), 6.24601e-05 s/step\n",
      "Meep progress: 4429.9944444444445/9000.0 = 49.2% done in 48.0s, 49.5s to go\n",
      "on time step 1357636 (time=7542.42), 5.93613e-05 s/step\n",
      "Meep progress: 4803.794444444445/9000.0 = 53.4% done in 52.0s, 45.4s to go\n",
      "on time step 1425058 (time=7916.99), 5.93282e-05 s/step\n",
      "Meep progress: 5178.272222222223/9000.0 = 57.5% done in 56.0s, 41.3s to go\n",
      "on time step 1492156 (time=8289.76), 5.96148e-05 s/step\n",
      "Meep progress: 5548.116666666667/9000.0 = 61.6% done in 60.0s, 37.3s to go\n",
      "on time step 1558997 (time=8661.09), 5.98443e-05 s/step\n",
      "Meep progress: 5923.488888888889/9000.0 = 65.8% done in 64.0s, 33.2s to go\n",
      "run 1 finished at t = 9000.0 (1620000 timesteps)\n",
      "72448267.14420302\n",
      "[0.96809418]\n",
      "[0.03190582]\n",
      "[1.11022302e-16]\n",
      "[0.94244355]\n",
      "[0.05755645]\n",
      "[0.]\n",
      "[1.53]\n",
      "5\n",
      "-----------\n",
      "Initializing structure...\n",
      "time for choose_chunkdivision = 5.6982e-05 s\n",
      "Working in 1D dimensions.\n",
      "Computational cell is 0 x 0 x 10 with resolution 90\n",
      "time for set_epsilon = 0.000272036 s\n",
      "-----------\n"
     ]
    },
    {
     "data": {
      "application/vnd.jupyter.widget-view+json": {
       "model_id": "5731ecd44a804ced90e20894b77732d5",
       "version_major": 2,
       "version_minor": 0
      },
      "text/plain": [
       "FloatProgress(value=0.0, description='0% done ', max=3000.0)"
      ]
     },
     "metadata": {},
     "output_type": "display_data"
    },
    {
     "name": "stdout",
     "output_type": "stream",
     "text": [
      "Meep progress: 1866.3333333333335/3000.0 = 62.2% done in 4.0s, 2.4s to go\n",
      "on time step 336365 (time=1868.69), 1.18927e-05 s/step\n",
      "run 0 finished at t = 3000.0 (540000 timesteps)\n"
     ]
    },
    {
     "data": {
      "application/vnd.jupyter.widget-view+json": {
       "model_id": "20dce1861eb1452bab8323988b1dfc75",
       "version_major": 2,
       "version_minor": 0
      },
      "text/plain": [
       "FloatProgress(value=3000.0, description='0% done ', max=9000.0, min=3000.0)"
      ]
     },
     "metadata": {},
     "output_type": "display_data"
    },
    {
     "name": "stdout",
     "output_type": "stream",
     "text": [
      "on time step 563940 (time=3133), 1.75767e-05 s/step\n",
      "Meep progress: 378.2611111111114/9000.0 = 4.2% done in 4.0s, 91.2s to go\n",
      "on time step 631788 (time=3509.93), 5.89557e-05 s/step\n",
      "Meep progress: 751.3944444444446/9000.0 = 8.3% done in 8.0s, 87.8s to go\n",
      "on time step 699416 (time=3885.64), 5.91472e-05 s/step\n",
      "Meep progress: 1131.1500000000005/9000.0 = 12.6% done in 12.0s, 83.5s to go\n",
      "on time step 767770 (time=4265.39), 5.85192e-05 s/step\n",
      "Meep progress: 1509.9722222222226/9000.0 = 16.8% done in 16.0s, 79.4s to go\n",
      "on time step 835956 (time=4644.2), 5.86639e-05 s/step\n",
      "Meep progress: 1889.5388888888892/9000.0 = 21.0% done in 20.0s, 75.3s to go\n",
      "on time step 903970 (time=5022.06), 5.88122e-05 s/step\n",
      "Meep progress: 2263.3388888888894/9000.0 = 25.1% done in 24.0s, 71.4s to go\n",
      "on time step 971312 (time=5396.18), 5.93986e-05 s/step\n",
      "Meep progress: 2630.1611111111115/9000.0 = 29.2% done in 28.0s, 67.8s to go\n",
      "on time step 1036177 (time=5756.54), 6.16669e-05 s/step\n",
      "Meep progress: 3001.188888888889/9000.0 = 33.3% done in 32.0s, 64.0s to go\n",
      "on time step 1104403 (time=6135.57), 5.86291e-05 s/step\n",
      "Meep progress: 3380.4611111111117/9000.0 = 37.6% done in 36.0s, 59.8s to go\n",
      "on time step 1172396 (time=6513.31), 5.88298e-05 s/step\n",
      "Meep progress: 3756.177777777778/9000.0 = 41.7% done in 40.0s, 55.8s to go\n",
      "on time step 1240023 (time=6889.02), 5.91482e-05 s/step\n",
      "Meep progress: 4132.25/9000.0 = 45.9% done in 44.0s, 51.8s to go\n",
      "on time step 1308138 (time=7267.43), 5.87249e-05 s/step\n",
      "Meep progress: 4512.672222222222/9000.0 = 50.1% done in 48.0s, 47.7s to go\n",
      "on time step 1376322 (time=7646.23), 5.86651e-05 s/step\n",
      "Meep progress: 4875.038888888889/9000.0 = 54.2% done in 52.0s, 44.0s to go\n",
      "on time step 1441740 (time=8009.67), 6.11463e-05 s/step\n",
      "Meep progress: 5253.461111111112/9000.0 = 58.4% done in 56.0s, 39.9s to go\n",
      "on time step 1509703 (time=8387.24), 5.88568e-05 s/step\n",
      "Meep progress: 5627.477777777778/9000.0 = 62.5% done in 60.0s, 36.0s to go\n",
      "on time step 1576878 (time=8760.43), 5.95468e-05 s/step\n",
      "run 1 finished at t = 9000.0 (1620000 timesteps)\n",
      "-----------\n",
      "Initializing structure...\n",
      "time for choose_chunkdivision = 7.10487e-05 s\n",
      "Working in 1D dimensions.\n",
      "Computational cell is 0 x 0 x 10 with resolution 90\n",
      "     block, center = (0,0,0)\n",
      "          size (0,0,1.53)\n",
      "          axes (1,0,0), (0,1,0), (0,0,1)\n",
      "          dielectric constant epsilon diagonal = (6.0516,6.0516,6.0516)\n",
      "time for set_epsilon = 0.00026989 s\n",
      "-----------\n"
     ]
    },
    {
     "data": {
      "application/vnd.jupyter.widget-view+json": {
       "model_id": "ab0a8857e0c84a3ca9487254135f2afd",
       "version_major": 2,
       "version_minor": 0
      },
      "text/plain": [
       "FloatProgress(value=0.0, description='0% done ', max=3000.0)"
      ]
     },
     "metadata": {},
     "output_type": "display_data"
    },
    {
     "name": "stdout",
     "output_type": "stream",
     "text": [
      "Meep progress: 1871.25/3000.0 = 62.4% done in 4.0s, 2.4s to go\n",
      "on time step 337183 (time=1873.24), 1.1863e-05 s/step\n",
      "run 0 finished at t = 3000.0 (540000 timesteps)\n"
     ]
    },
    {
     "data": {
      "application/vnd.jupyter.widget-view+json": {
       "model_id": "6b0c134d65e643d78c44eabcd57e49dc",
       "version_major": 2,
       "version_minor": 0
      },
      "text/plain": [
       "FloatProgress(value=3000.0, description='0% done ', max=9000.0, min=3000.0)"
      ]
     },
     "metadata": {},
     "output_type": "display_data"
    },
    {
     "name": "stdout",
     "output_type": "stream",
     "text": [
      "on time step 563322 (time=3129.57), 1.76884e-05 s/step\n",
      "Meep progress: 356.5444444444447/9000.0 = 4.0% done in 4.0s, 97.0s to go\n",
      "on time step 630283 (time=3501.57), 5.97374e-05 s/step\n",
      "Meep progress: 727.4611111111112/9000.0 = 8.1% done in 8.0s, 91.0s to go\n",
      "on time step 696448 (time=3869.16), 6.04551e-05 s/step\n",
      "Meep progress: 1090.8222222222225/9000.0 = 12.1% done in 12.0s, 87.0s to go\n",
      "on time step 762945 (time=4238.58), 6.01532e-05 s/step\n",
      "Meep progress: 1468.0388888888892/9000.0 = 16.3% done in 16.0s, 82.1s to go\n",
      "on time step 830414 (time=4613.41), 5.92872e-05 s/step\n",
      "Meep progress: 1842.1000000000004/9000.0 = 20.5% done in 20.0s, 77.7s to go\n",
      "on time step 898056 (time=4989.2), 5.91354e-05 s/step\n",
      "Meep progress: 2215.011111111111/9000.0 = 24.6% done in 24.0s, 73.5s to go\n",
      "on time step 963796 (time=5354.42), 6.08458e-05 s/step\n",
      "Meep progress: 2574.8055555555557/9000.0 = 28.6% done in 28.0s, 69.9s to go\n",
      "on time step 1030201 (time=5723.34), 6.02371e-05 s/step\n",
      "Meep progress: 2951.7944444444447/9000.0 = 32.8% done in 32.0s, 65.6s to go\n",
      "on time step 1097964 (time=6099.8), 5.90299e-05 s/step\n",
      "Meep progress: 3329.572222222222/9000.0 = 37.0% done in 36.0s, 61.3s to go\n",
      "on time step 1164766 (time=6470.92), 5.98791e-05 s/step\n",
      "Meep progress: 3692.9111111111115/9000.0 = 41.0% done in 40.0s, 57.5s to go\n",
      "on time step 1230979 (time=6838.77), 6.04116e-05 s/step\n",
      "Meep progress: 4063.6222222222223/9000.0 = 45.2% done in 44.0s, 53.5s to go\n",
      "on time step 1297958 (time=7210.88), 5.97207e-05 s/step\n",
      "Meep progress: 4436.272222222223/9000.0 = 49.3% done in 48.0s, 49.4s to go\n",
      "on time step 1363076 (time=7572.64), 6.14273e-05 s/step\n",
      "Meep progress: 4799.377777777778/9000.0 = 53.3% done in 52.0s, 45.5s to go\n",
      "on time step 1430620 (time=7947.89), 5.92212e-05 s/step\n",
      "Meep progress: 5176.516666666667/9000.0 = 57.5% done in 56.0s, 41.4s to go\n",
      "on time step 1498242 (time=8323.57), 5.91529e-05 s/step\n",
      "Meep progress: 5548.844444444445/9000.0 = 61.7% done in 60.0s, 37.3s to go\n",
      "on time step 1565387 (time=8696.59), 5.9573e-05 s/step\n",
      "Meep progress: 5925.738888888889/9000.0 = 65.8% done in 64.0s, 33.2s to go\n",
      "run 1 finished at t = 9000.0 (1620000 timesteps)\n",
      "-----------\n",
      "Initializing structure...\n",
      "time for choose_chunkdivision = 5.79357e-05 s\n",
      "Working in 1D dimensions.\n",
      "Computational cell is 0 x 0 x 10 with resolution 90\n",
      "     block, center = (0,0,0)\n",
      "          size (0,0,1.53)\n",
      "          axes (1,0,0), (0,1,0), (0,0,1)\n",
      "          dielectric constant epsilon diagonal = (6.0516,6.0516,6.0516)\n",
      "time for set_epsilon = 0.00026083 s\n",
      "-----------\n"
     ]
    },
    {
     "data": {
      "application/vnd.jupyter.widget-view+json": {
       "model_id": "7133b4713e8747909bafcc28f2578487",
       "version_major": 2,
       "version_minor": 0
      },
      "text/plain": [
       "FloatProgress(value=0.0, description='0% done ', max=3000.0)"
      ]
     },
     "metadata": {},
     "output_type": "display_data"
    },
    {
     "name": "stdout",
     "output_type": "stream",
     "text": [
      "Meep progress: 1799.0166666666667/3000.0 = 60.0% done in 4.0s, 2.7s to go\n",
      "on time step 324316 (time=1801.76), 1.23337e-05 s/step\n",
      "run 0 finished at t = 3000.0 (540000 timesteps)\n"
     ]
    },
    {
     "data": {
      "application/vnd.jupyter.widget-view+json": {
       "model_id": "aa75799a884245bc8e873667b84eb3fa",
       "version_major": 2,
       "version_minor": 0
      },
      "text/plain": [
       "FloatProgress(value=3000.0, description='0% done ', max=9000.0, min=3000.0)"
      ]
     },
     "metadata": {},
     "output_type": "display_data"
    },
    {
     "name": "stdout",
     "output_type": "stream",
     "text": [
      "on time step 560858 (time=3115.88), 1.69104e-05 s/step\n",
      "Meep progress: 355.45555555555575/9000.0 = 3.9% done in 4.0s, 97.3s to go\n",
      "on time step 625622 (time=3475.68), 6.17638e-05 s/step\n",
      "Meep progress: 722.7666666666669/9000.0 = 8.0% done in 8.0s, 91.6s to go\n",
      "on time step 692074 (time=3844.86), 6.01945e-05 s/step\n",
      "Meep progress: 1092.327777777778/9000.0 = 12.1% done in 12.0s, 86.9s to go\n",
      "on time step 758514 (time=4213.97), 6.02056e-05 s/step\n",
      "Meep progress: 1464.822222222222/9000.0 = 16.3% done in 16.0s, 82.3s to go\n",
      "on time step 825629 (time=4586.83), 5.95993e-05 s/step\n",
      "Meep progress: 1837.3888888888887/9000.0 = 20.4% done in 20.0s, 78.0s to go\n",
      "on time step 892631 (time=4959.06), 5.96998e-05 s/step\n",
      "Meep progress: 2206.1722222222224/9000.0 = 24.5% done in 24.0s, 73.9s to go\n",
      "on time step 957815 (time=5321.19), 6.13651e-05 s/step\n",
      "Meep progress: 2561.2222222222226/9000.0 = 28.5% done in 28.0s, 70.4s to go\n",
      "on time step 1022928 (time=5682.93), 6.14323e-05 s/step\n",
      "Meep progress: 2933.488888888889/9000.0 = 32.6% done in 32.0s, 66.2s to go\n",
      "on time step 1089723 (time=6054.02), 5.98847e-05 s/step\n",
      "Meep progress: 3305.2/9000.0 = 36.7% done in 36.0s, 62.0s to go\n",
      "on time step 1156929 (time=6427.38), 5.95188e-05 s/step\n",
      "Meep progress: 3678.0388888888892/9000.0 = 40.9% done in 40.0s, 57.9s to go\n",
      "on time step 1223188 (time=6795.49), 6.03692e-05 s/step\n",
      "Meep progress: 4042.3500000000004/9000.0 = 44.9% done in 44.0s, 54.0s to go\n",
      "on time step 1289393 (time=7163.29), 6.04187e-05 s/step\n",
      "Meep progress: 4413.766666666667/9000.0 = 49.0% done in 48.0s, 49.9s to go\n",
      "on time step 1356189 (time=7534.38), 5.98841e-05 s/step\n",
      "Meep progress: 4784.544444444445/9000.0 = 53.2% done in 52.0s, 45.8s to go\n",
      "on time step 1422521 (time=7902.89), 6.03034e-05 s/step\n",
      "Meep progress: 5140.022222222223/9000.0 = 57.1% done in 56.0s, 42.1s to go\n",
      "on time step 1487274 (time=8262.63), 6.17736e-05 s/step\n",
      "Meep progress: 5512.805555555557/9000.0 = 61.3% done in 60.0s, 38.0s to go\n",
      "on time step 1554285 (time=8634.92), 5.96922e-05 s/step\n",
      "Meep progress: 5884.0/9000.0 = 65.4% done in 64.0s, 33.9s to go\n",
      "run 1 finished at t = 9000.0 (1620000 timesteps)\n",
      "90122844.39435911\n",
      "[0.97858694]\n",
      "[0.02141306]\n",
      "[0.]\n",
      "[0.94244355]\n",
      "[0.05755645]\n",
      "[0.]\n",
      "[1.53]\n",
      "6\n",
      "-----------\n",
      "Initializing structure...\n",
      "time for choose_chunkdivision = 5.4121e-05 s\n",
      "Working in 1D dimensions.\n",
      "Computational cell is 0 x 0 x 10 with resolution 90\n",
      "time for set_epsilon = 0.000227213 s\n",
      "-----------\n"
     ]
    },
    {
     "data": {
      "application/vnd.jupyter.widget-view+json": {
       "model_id": "a8937317d79e491ab16a03cdb04ab807",
       "version_major": 2,
       "version_minor": 0
      },
      "text/plain": [
       "FloatProgress(value=0.0, description='0% done ', max=3000.0)"
      ]
     },
     "metadata": {},
     "output_type": "display_data"
    },
    {
     "name": "stdout",
     "output_type": "stream",
     "text": [
      "Meep progress: 1861.0666666666668/3000.0 = 62.0% done in 4.0s, 2.4s to go\n",
      "on time step 335400 (time=1863.33), 1.19261e-05 s/step\n",
      "run 0 finished at t = 3000.0 (540000 timesteps)\n"
     ]
    },
    {
     "data": {
      "application/vnd.jupyter.widget-view+json": {
       "model_id": "126722c8002e4b1b916f895026c09a41",
       "version_major": 2,
       "version_minor": 0
      },
      "text/plain": [
       "FloatProgress(value=3000.0, description='0% done ', max=9000.0, min=3000.0)"
      ]
     },
     "metadata": {},
     "output_type": "display_data"
    },
    {
     "name": "stdout",
     "output_type": "stream",
     "text": [
      "on time step 566788 (time=3148.82), 1.72872e-05 s/step\n",
      "Meep progress: 377.82222222222254/9000.0 = 4.2% done in 4.0s, 91.3s to go\n",
      "on time step 634555 (time=3525.31), 5.9026e-05 s/step\n",
      "Meep progress: 752.3166666666666/9000.0 = 8.4% done in 8.0s, 87.7s to go\n",
      "on time step 702369 (time=3902.05), 5.89851e-05 s/step\n",
      "Meep progress: 1132.1611111111115/9000.0 = 12.6% done in 12.0s, 83.4s to go\n",
      "on time step 768986 (time=4272.14), 6.00461e-05 s/step\n",
      "Meep progress: 1493.9000000000005/9000.0 = 16.6% done in 16.0s, 80.4s to go\n",
      "on time step 835877 (time=4643.76), 5.97994e-05 s/step\n",
      "Meep progress: 1872.2833333333338/9000.0 = 20.8% done in 20.0s, 76.1s to go\n",
      "on time step 903688 (time=5020.49), 5.89877e-05 s/step\n",
      "Meep progress: 2246.6000000000004/9000.0 = 25.0% done in 24.0s, 72.1s to go\n",
      "on time step 970570 (time=5392.06), 5.98069e-05 s/step\n",
      "Meep progress: 2620.772222222223/9000.0 = 29.1% done in 28.0s, 68.2s to go\n",
      "on time step 1038631 (time=5770.17), 5.87714e-05 s/step\n",
      "Meep progress: 2998.261111111111/9000.0 = 33.3% done in 32.0s, 64.1s to go\n",
      "on time step 1106532 (time=6147.4), 5.89095e-05 s/step\n",
      "Meep progress: 3375.7111111111117/9000.0 = 37.5% done in 36.0s, 60.0s to go\n",
      "on time step 1174545 (time=6525.25), 5.88129e-05 s/step\n",
      "Meep progress: 3747.205555555556/9000.0 = 41.6% done in 40.0s, 56.1s to go\n",
      "on time step 1239370 (time=6885.39), 6.17054e-05 s/step\n",
      "Meep progress: 4110.166666666667/9000.0 = 45.7% done in 44.0s, 52.3s to go\n",
      "on time step 1306794 (time=7259.97), 5.93261e-05 s/step\n",
      "Meep progress: 4487.933333333333/9000.0 = 49.9% done in 48.0s, 48.3s to go\n",
      "on time step 1374577 (time=7636.54), 5.90122e-05 s/step\n",
      "Meep progress: 4865.1611111111115/9000.0 = 54.1% done in 52.0s, 44.2s to go\n",
      "on time step 1442724 (time=8015.13), 5.86971e-05 s/step\n",
      "Meep progress: 5243.444444444445/9000.0 = 58.3% done in 56.0s, 40.1s to go\n",
      "on time step 1510834 (time=8393.52), 5.8729e-05 s/step\n",
      "Meep progress: 5618.716666666667/9000.0 = 62.4% done in 60.0s, 36.1s to go\n",
      "on time step 1578375 (time=8768.75), 5.92236e-05 s/step\n",
      "Meep progress: 5991.677777777779/9000.0 = 66.6% done in 64.0s, 32.1s to go\n",
      "run 1 finished at t = 9000.0 (1620000 timesteps)\n",
      "-----------\n",
      "Initializing structure...\n",
      "time for choose_chunkdivision = 5.4121e-05 s\n",
      "Working in 1D dimensions.\n",
      "Computational cell is 0 x 0 x 10 with resolution 90\n",
      "     block, center = (0,0,0)\n",
      "          size (0,0,1.53)\n",
      "          axes (1,0,0), (0,1,0), (0,0,1)\n",
      "          dielectric constant epsilon diagonal = (6.0516,6.0516,6.0516)\n",
      "time for set_epsilon = 0.000273943 s\n",
      "-----------\n"
     ]
    },
    {
     "data": {
      "application/vnd.jupyter.widget-view+json": {
       "model_id": "7f56ffe589104cc2b37f388cd856e6ad",
       "version_major": 2,
       "version_minor": 0
      },
      "text/plain": [
       "FloatProgress(value=0.0, description='0% done ', max=3000.0)"
      ]
     },
     "metadata": {},
     "output_type": "display_data"
    },
    {
     "name": "stdout",
     "output_type": "stream",
     "text": [
      "Meep progress: 1864.1444444444446/3000.0 = 62.1% done in 4.0s, 2.4s to go\n",
      "on time step 335920 (time=1866.22), 1.19076e-05 s/step\n",
      "run 0 finished at t = 3000.0 (540000 timesteps)\n"
     ]
    },
    {
     "data": {
      "application/vnd.jupyter.widget-view+json": {
       "model_id": "c4acbcfb880642a592d352cd96c0c156",
       "version_major": 2,
       "version_minor": 0
      },
      "text/plain": [
       "FloatProgress(value=3000.0, description='0% done ', max=9000.0, min=3000.0)"
      ]
     },
     "metadata": {},
     "output_type": "display_data"
    },
    {
     "name": "stdout",
     "output_type": "stream",
     "text": [
      "on time step 565872 (time=3143.73), 1.7395e-05 s/step\n",
      "Meep progress: 374.13333333333367/9000.0 = 4.2% done in 4.0s, 92.2s to go\n",
      "on time step 633171 (time=3517.62), 5.94365e-05 s/step\n",
      "Meep progress: 744.5833333333335/9000.0 = 8.3% done in 8.0s, 88.7s to go\n",
      "on time step 700371 (time=3890.95), 5.95239e-05 s/step\n",
      "Meep progress: 1122.4833333333336/9000.0 = 12.5% done in 12.0s, 84.2s to go\n",
      "on time step 768412 (time=4268.96), 5.87888e-05 s/step\n",
      "Meep progress: 1484.7111111111117/9000.0 = 16.5% done in 16.0s, 81.0s to go\n",
      "on time step 833441 (time=4630.23), 6.1512e-05 s/step\n",
      "Meep progress: 1858.7055555555553/9000.0 = 20.7% done in 20.0s, 76.8s to go\n",
      "on time step 900631 (time=5003.51), 5.95335e-05 s/step\n",
      "Meep progress: 2227.927777777778/9000.0 = 24.8% done in 24.0s, 73.0s to go\n",
      "on time step 966932 (time=5371.84), 6.03309e-05 s/step\n",
      "Meep progress: 2601.727777777778/9000.0 = 28.9% done in 28.0s, 68.9s to go\n",
      "on time step 1034612 (time=5747.84), 5.91017e-05 s/step\n",
      "Meep progress: 2978.0888888888894/9000.0 = 33.1% done in 32.0s, 64.7s to go\n",
      "on time step 1102257 (time=6123.65), 5.91323e-05 s/step\n",
      "Meep progress: 3353.5666666666666/9000.0 = 37.3% done in 36.0s, 60.6s to go\n",
      "on time step 1169586 (time=6497.7), 5.94099e-05 s/step\n",
      "Meep progress: 3727.5166666666673/9000.0 = 41.4% done in 40.0s, 56.6s to go\n",
      "on time step 1236953 (time=6871.96), 5.9377e-05 s/step\n",
      "Meep progress: 4085.072222222222/9000.0 = 45.4% done in 44.0s, 52.9s to go\n",
      "on time step 1301494 (time=7230.52), 6.19769e-05 s/step\n",
      "Meep progress: 4458.955555555556/9000.0 = 49.5% done in 48.0s, 48.9s to go\n",
      "on time step 1368810 (time=7604.5), 5.94215e-05 s/step\n",
      "Meep progress: 4833.111111111111/9000.0 = 53.7% done in 52.0s, 44.8s to go\n",
      "on time step 1436407 (time=7980.04), 5.91742e-05 s/step\n",
      "Meep progress: 5210.25/9000.0 = 57.9% done in 56.0s, 40.7s to go\n",
      "on time step 1504307 (time=8357.26), 5.89105e-05 s/step\n",
      "Meep progress: 5584.627777777778/9000.0 = 62.1% done in 60.0s, 36.7s to go\n",
      "on time step 1571282 (time=8729.34), 5.97243e-05 s/step\n",
      "Meep progress: 5958.7555555555555/9000.0 = 66.2% done in 64.0s, 32.7s to go\n",
      "run 1 finished at t = 9000.0 (1620000 timesteps)\n",
      "-----------\n",
      "Initializing structure...\n",
      "time for choose_chunkdivision = 7.60555e-05 s\n",
      "Working in 1D dimensions.\n",
      "Computational cell is 0 x 0 x 10 with resolution 90\n",
      "     block, center = (0,0,0)\n",
      "          size (0,0,1.53)\n",
      "          axes (1,0,0), (0,1,0), (0,0,1)\n",
      "          dielectric constant epsilon diagonal = (6.0516,6.0516,6.0516)\n",
      "time for set_epsilon = 0.000255108 s\n",
      "-----------\n"
     ]
    },
    {
     "data": {
      "application/vnd.jupyter.widget-view+json": {
       "model_id": "416029aee57047389759702d7555d8d7",
       "version_major": 2,
       "version_minor": 0
      },
      "text/plain": [
       "FloatProgress(value=0.0, description='0% done ', max=3000.0)"
      ]
     },
     "metadata": {},
     "output_type": "display_data"
    },
    {
     "name": "stdout",
     "output_type": "stream",
     "text": [
      "Meep progress: 1716.8500000000001/3000.0 = 57.2% done in 4.0s, 3.0s to go\n",
      "on time step 309547 (time=1719.71), 1.29221e-05 s/step\n",
      "run 0 finished at t = 3000.0 (540000 timesteps)\n"
     ]
    },
    {
     "data": {
      "application/vnd.jupyter.widget-view+json": {
       "model_id": "1cc9cdcb1663439d9d5eb9b8ca037f35",
       "version_major": 2,
       "version_minor": 0
      },
      "text/plain": [
       "FloatProgress(value=3000.0, description='0% done ', max=9000.0, min=3000.0)"
      ]
     },
     "metadata": {},
     "output_type": "display_data"
    },
    {
     "name": "stdout",
     "output_type": "stream",
     "text": [
      "on time step 558468 (time=3102.6), 1.60694e-05 s/step\n",
      "Meep progress: 371.15555555555557/9000.0 = 4.1% done in 4.0s, 93.0s to go\n",
      "on time step 625312 (time=3473.96), 5.98412e-05 s/step\n",
      "Meep progress: 739.0500000000002/9000.0 = 8.2% done in 8.0s, 89.4s to go\n",
      "on time step 691460 (time=3841.44), 6.04717e-05 s/step\n",
      "Meep progress: 1110.738888888889/9000.0 = 12.3% done in 12.0s, 85.2s to go\n",
      "on time step 758659 (time=4214.77), 5.95251e-05 s/step\n",
      "Meep progress: 1483.3111111111111/9000.0 = 16.5% done in 16.0s, 81.1s to go\n",
      "on time step 825718 (time=4587.32), 5.96495e-05 s/step\n",
      "Meep progress: 1855.3500000000004/9000.0 = 20.6% done in 20.0s, 77.0s to go\n",
      "on time step 891666 (time=4953.7), 6.06541e-05 s/step\n",
      "Meep progress: 2205.616666666667/9000.0 = 24.5% done in 24.0s, 73.9s to go\n",
      "on time step 955557 (time=5308.65), 6.26069e-05 s/step\n",
      "Meep progress: 2573.9444444444443/9000.0 = 28.6% done in 28.0s, 69.9s to go\n",
      "on time step 1022061 (time=5678.12), 6.01469e-05 s/step\n",
      "Meep progress: 2947.0444444444447/9000.0 = 32.7% done in 32.0s, 65.7s to go\n",
      "on time step 1089047 (time=6050.26), 5.97146e-05 s/step\n",
      "Meep progress: 3318.2777777777783/9000.0 = 36.9% done in 36.0s, 61.6s to go\n",
      "on time step 1156101 (time=6422.78), 5.96539e-05 s/step\n",
      "Meep progress: 3690.616666666667/9000.0 = 41.0% done in 40.0s, 57.5s to go\n",
      "on time step 1222856 (time=6793.64), 5.9921e-05 s/step\n",
      "Meep progress: 4057.927777777778/9000.0 = 45.1% done in 44.0s, 53.6s to go\n",
      "on time step 1288990 (time=7161.06), 6.04836e-05 s/step\n",
      "Meep progress: 4410.0055555555555/9000.0 = 49.0% done in 48.0s, 50.0s to go\n",
      "on time step 1351899 (time=7510.55), 6.35845e-05 s/step\n",
      "Meep progress: 4777.377777777778/9000.0 = 53.1% done in 52.0s, 46.0s to go\n",
      "on time step 1418732 (time=7881.84), 5.98511e-05 s/step\n",
      "Meep progress: 5149.1611111111115/9000.0 = 57.2% done in 56.0s, 41.9s to go\n",
      "on time step 1485593 (time=8253.29), 5.98263e-05 s/step\n",
      "Meep progress: 5521.5777777777785/9000.0 = 61.4% done in 60.0s, 37.8s to go\n",
      "on time step 1552493 (time=8624.96), 5.97911e-05 s/step\n",
      "Meep progress: 5888.933333333334/9000.0 = 65.4% done in 64.0s, 33.8s to go\n",
      "on time step 1618867 (time=8993.71), 6.02649e-05 s/step\n",
      "run 1 finished at t = 9000.0 (1620000 timesteps)\n",
      "107797421.64451455\n",
      "[0.98691792]\n",
      "[0.01308208]\n",
      "[0.]\n",
      "[0.94244355]\n",
      "[0.05755645]\n",
      "[0.]\n",
      "[1.53]\n",
      "7\n",
      "-----------\n",
      "Initializing structure...\n",
      "time for choose_chunkdivision = 5.50747e-05 s\n",
      "Working in 1D dimensions.\n",
      "Computational cell is 0 x 0 x 10 with resolution 90\n",
      "time for set_epsilon = 0.000218868 s\n",
      "-----------\n"
     ]
    },
    {
     "data": {
      "application/vnd.jupyter.widget-view+json": {
       "model_id": "8aed79a80d5b4255950781746842a1f8",
       "version_major": 2,
       "version_minor": 0
      },
      "text/plain": [
       "FloatProgress(value=0.0, description='0% done ', max=3000.0)"
      ]
     },
     "metadata": {},
     "output_type": "display_data"
    },
    {
     "name": "stdout",
     "output_type": "stream",
     "text": [
      "Meep progress: 1873.8777777777777/3000.0 = 62.5% done in 4.0s, 2.4s to go\n",
      "on time step 337722 (time=1876.23), 1.18441e-05 s/step\n",
      "run 0 finished at t = 3000.0 (540000 timesteps)\n"
     ]
    },
    {
     "data": {
      "application/vnd.jupyter.widget-view+json": {
       "model_id": "5b6a88488d554e3f9c13a0db0c9917cf",
       "version_major": 2,
       "version_minor": 0
      },
      "text/plain": [
       "FloatProgress(value=3000.0, description='0% done ', max=9000.0, min=3000.0)"
      ]
     },
     "metadata": {},
     "output_type": "display_data"
    },
    {
     "name": "stdout",
     "output_type": "stream",
     "text": [
      "on time step 566483 (time=3147.13), 1.74857e-05 s/step\n",
      "Meep progress: 358.7666666666669/9000.0 = 4.0% done in 4.0s, 96.3s to go\n",
      "on time step 631929 (time=3510.72), 6.11193e-05 s/step\n",
      "Meep progress: 734.5277777777778/9000.0 = 8.2% done in 8.0s, 90.0s to go\n",
      "on time step 699426 (time=3885.7), 5.92627e-05 s/step\n",
      "Meep progress: 1111.8388888888894/9000.0 = 12.4% done in 12.0s, 85.1s to go\n",
      "on time step 767786 (time=4265.48), 5.85142e-05 s/step\n",
      "Meep progress: 1492.261111111111/9000.0 = 16.6% done in 16.0s, 80.5s to go\n",
      "on time step 836206 (time=4645.59), 5.84631e-05 s/step\n",
      "Meep progress: 1872.0055555555555/9000.0 = 20.8% done in 20.0s, 76.2s to go\n",
      "on time step 904592 (time=5025.51), 5.84916e-05 s/step\n",
      "Meep progress: 2247.0333333333338/9000.0 = 25.0% done in 24.0s, 72.1s to go\n",
      "on time step 969935 (time=5388.53), 6.12156e-05 s/step\n",
      "Meep progress: 2611.4833333333336/9000.0 = 29.0% done in 28.0s, 68.5s to go\n",
      "on time step 1037564 (time=5764.24), 5.9147e-05 s/step\n",
      "Meep progress: 2990.844444444445/9000.0 = 33.2% done in 32.0s, 64.3s to go\n",
      "on time step 1105919 (time=6143.99), 5.85185e-05 s/step\n",
      "Meep progress: 3369.688888888889/9000.0 = 37.4% done in 36.0s, 60.2s to go\n",
      "on time step 1174132 (time=6522.96), 5.86399e-05 s/step\n",
      "Meep progress: 3749.333333333334/9000.0 = 41.7% done in 40.0s, 56.0s to go\n",
      "on time step 1242563 (time=6903.13), 5.84538e-05 s/step\n",
      "Meep progress: 4125.705555555556/9000.0 = 45.8% done in 44.0s, 52.0s to go\n",
      "on time step 1309926 (time=7277.37), 5.93799e-05 s/step\n",
      "Meep progress: 4503.855555555556/9000.0 = 50.0% done in 48.0s, 47.9s to go\n",
      "on time step 1376283 (time=7646.02), 6.02803e-05 s/step\n",
      "Meep progress: 4868.216666666667/9000.0 = 54.1% done in 52.0s, 44.1s to go\n",
      "on time step 1443758 (time=8020.88), 5.92813e-05 s/step\n",
      "Meep progress: 5246.644444444444/9000.0 = 58.3% done in 56.0s, 40.1s to go\n",
      "on time step 1512159 (time=8400.88), 5.84793e-05 s/step\n",
      "Meep progress: 5626.5666666666675/9000.0 = 62.5% done in 60.0s, 36.0s to go\n",
      "on time step 1580198 (time=8778.88), 5.87904e-05 s/step\n",
      "Meep progress: 5999.211111111112/9000.0 = 66.7% done in 64.0s, 32.0s to go\n",
      "run 1 finished at t = 9000.0 (1620000 timesteps)\n",
      "-----------\n",
      "Initializing structure...\n",
      "time for choose_chunkdivision = 5.38826e-05 s\n",
      "Working in 1D dimensions.\n",
      "Computational cell is 0 x 0 x 10 with resolution 90\n",
      "     block, center = (0,0,0)\n",
      "          size (0,0,1.53)\n",
      "          axes (1,0,0), (0,1,0), (0,0,1)\n",
      "          dielectric constant epsilon diagonal = (6.0516,6.0516,6.0516)\n",
      "time for set_epsilon = 0.000341177 s\n",
      "-----------\n"
     ]
    },
    {
     "data": {
      "application/vnd.jupyter.widget-view+json": {
       "model_id": "485bae3e52cb4ef7887b62e5ccb4eb51",
       "version_major": 2,
       "version_minor": 0
      },
      "text/plain": [
       "FloatProgress(value=0.0, description='0% done ', max=3000.0)"
      ]
     },
     "metadata": {},
     "output_type": "display_data"
    },
    {
     "name": "stdout",
     "output_type": "stream",
     "text": [
      "Meep progress: 1862.3722222222223/3000.0 = 62.1% done in 4.0s, 2.4s to go\n",
      "on time step 335627 (time=1864.59), 1.1918e-05 s/step\n",
      "run 0 finished at t = 3000.0 (540000 timesteps)\n"
     ]
    },
    {
     "data": {
      "application/vnd.jupyter.widget-view+json": {
       "model_id": "30d59556998342a99aee95908f64046f",
       "version_major": 2,
       "version_minor": 0
      },
      "text/plain": [
       "FloatProgress(value=3000.0, description='0% done ', max=9000.0, min=3000.0)"
      ]
     },
     "metadata": {},
     "output_type": "display_data"
    },
    {
     "name": "stdout",
     "output_type": "stream",
     "text": [
      "on time step 563877 (time=3132.65), 1.75253e-05 s/step\n",
      "Meep progress: 359.18888888888887/9000.0 = 4.0% done in 4.0s, 96.2s to go\n",
      "on time step 630193 (time=3501.07), 6.03174e-05 s/step\n",
      "Meep progress: 733.5166666666669/9000.0 = 8.2% done in 8.0s, 90.2s to go\n",
      "on time step 697529 (time=3875.16), 5.94041e-05 s/step\n",
      "Meep progress: 1111.572222222222/9000.0 = 12.4% done in 12.0s, 85.2s to go\n",
      "on time step 765992 (time=4255.51), 5.84262e-05 s/step\n",
      "Meep progress: 1490.583333333334/9000.0 = 16.6% done in 16.0s, 80.6s to go\n",
      "on time step 834081 (time=4633.78), 5.87469e-05 s/step\n",
      "Meep progress: 1867.7833333333338/9000.0 = 20.8% done in 20.0s, 76.4s to go\n",
      "on time step 902054 (time=5011.41), 5.88476e-05 s/step\n",
      "Meep progress: 2245.6000000000004/9000.0 = 25.0% done in 24.0s, 72.2s to go\n",
      "on time step 969668 (time=5387.04), 5.91605e-05 s/step\n",
      "Meep progress: 2617.5166666666673/9000.0 = 29.1% done in 28.0s, 68.3s to go\n",
      "on time step 1036981 (time=5761.01), 5.94251e-05 s/step\n",
      "Meep progress: 2993.9444444444443/9000.0 = 33.3% done in 32.0s, 64.2s to go\n",
      "on time step 1104751 (time=6137.51), 5.90237e-05 s/step\n",
      "Meep progress: 3367.0333333333338/9000.0 = 37.4% done in 36.0s, 60.2s to go\n",
      "on time step 1169464 (time=6497.02), 6.18117e-05 s/step\n",
      "Meep progress: 3728.8277777777785/9000.0 = 41.4% done in 40.0s, 56.5s to go\n",
      "on time step 1236726 (time=6870.7), 5.94691e-05 s/step\n",
      "Meep progress: 4102.1/9000.0 = 45.6% done in 44.0s, 52.5s to go\n",
      "on time step 1303873 (time=7243.74), 5.95713e-05 s/step\n",
      "Meep progress: 4477.055555555556/9000.0 = 49.7% done in 48.0s, 48.5s to go\n",
      "on time step 1371799 (time=7621.11), 5.88879e-05 s/step\n",
      "Meep progress: 4854.4944444444445/9000.0 = 53.9% done in 52.0s, 44.4s to go\n",
      "on time step 1439660 (time=7998.11), 5.89443e-05 s/step\n",
      "Meep progress: 5230.983333333334/9000.0 = 58.1% done in 56.0s, 40.3s to go\n",
      "on time step 1507575 (time=8375.42), 5.88979e-05 s/step\n",
      "Meep progress: 5609.716666666667/9000.0 = 62.3% done in 60.0s, 36.3s to go\n",
      "on time step 1575343 (time=8751.91), 5.90253e-05 s/step\n",
      "Meep progress: 5977.65/9000.0 = 66.4% done in 64.0s, 32.4s to go\n",
      "run 1 finished at t = 9000.0 (1620000 timesteps)\n",
      "-----------\n",
      "Initializing structure...\n",
      "time for choose_chunkdivision = 6.29425e-05 s\n",
      "Working in 1D dimensions.\n",
      "Computational cell is 0 x 0 x 10 with resolution 90\n",
      "     block, center = (0,0,0)\n",
      "          size (0,0,1.53)\n",
      "          axes (1,0,0), (0,1,0), (0,0,1)\n",
      "          dielectric constant epsilon diagonal = (6.0516,6.0516,6.0516)\n",
      "time for set_epsilon = 0.00026989 s\n",
      "-----------\n"
     ]
    },
    {
     "data": {
      "application/vnd.jupyter.widget-view+json": {
       "model_id": "52c0dc11bc0443808099bdfec4f8a1b9",
       "version_major": 2,
       "version_minor": 0
      },
      "text/plain": [
       "FloatProgress(value=0.0, description='0% done ', max=3000.0)"
      ]
     },
     "metadata": {},
     "output_type": "display_data"
    },
    {
     "name": "stdout",
     "output_type": "stream",
     "text": [
      "Meep progress: 1742.5777777777778/3000.0 = 58.1% done in 4.0s, 2.9s to go\n",
      "on time step 313949 (time=1744.16), 1.2741e-05 s/step\n",
      "run 0 finished at t = 3000.0 (540000 timesteps)\n"
     ]
    },
    {
     "data": {
      "application/vnd.jupyter.widget-view+json": {
       "model_id": "35b1e8352c5e4e5792a6c5ad480c5bcd",
       "version_major": 2,
       "version_minor": 0
      },
      "text/plain": [
       "FloatProgress(value=3000.0, description='0% done ', max=9000.0, min=3000.0)"
      ]
     },
     "metadata": {},
     "output_type": "display_data"
    },
    {
     "name": "stdout",
     "output_type": "stream",
     "text": [
      "on time step 559513 (time=3108.41), 1.62892e-05 s/step\n",
      "Meep progress: 373.4333333333334/9000.0 = 4.1% done in 4.0s, 92.4s to go\n",
      "on time step 626965 (time=3483.14), 5.93015e-05 s/step\n",
      "Meep progress: 743.9222222222224/9000.0 = 8.3% done in 8.0s, 88.8s to go\n",
      "on time step 693117 (time=3850.65), 6.04674e-05 s/step\n",
      "Meep progress: 1112.9722222222226/9000.0 = 12.4% done in 12.0s, 85.0s to go\n",
      "on time step 760086 (time=4222.7), 5.97294e-05 s/step\n",
      "Meep progress: 1488.072222222222/9000.0 = 16.5% done in 16.0s, 80.8s to go\n",
      "on time step 827530 (time=4597.39), 5.93085e-05 s/step\n",
      "Meep progress: 1859.0166666666664/9000.0 = 20.7% done in 20.0s, 76.8s to go\n",
      "on time step 894307 (time=4968.37), 5.9901e-05 s/step\n",
      "Meep progress: 2234.1388888888887/9000.0 = 24.8% done in 24.0s, 72.7s to go\n",
      "on time step 961766 (time=5343.14), 5.92956e-05 s/step\n",
      "Meep progress: 2603.0277777777783/9000.0 = 28.9% done in 28.0s, 68.8s to go\n",
      "on time step 1028253 (time=5712.52), 6.01625e-05 s/step\n",
      "Meep progress: 2976.822222222222/9000.0 = 33.1% done in 32.0s, 64.7s to go\n",
      "on time step 1095599 (time=6086.66), 5.93954e-05 s/step\n",
      "Meep progress: 3349.9111111111115/9000.0 = 37.2% done in 36.0s, 60.7s to go\n",
      "on time step 1161249 (time=6451.38), 6.09322e-05 s/step\n",
      "Meep progress: 3705.6277777777777/9000.0 = 41.2% done in 40.0s, 57.1s to go\n",
      "on time step 1226834 (time=6815.74), 6.09903e-05 s/step\n",
      "Meep progress: 4077.6944444444443/9000.0 = 45.3% done in 44.0s, 53.1s to go\n",
      "on time step 1293724 (time=7187.36), 5.97997e-05 s/step\n",
      "Meep progress: 4448.605555555556/9000.0 = 49.4% done in 48.0s, 49.1s to go\n",
      "on time step 1360513 (time=7558.41), 5.98906e-05 s/step\n",
      "Meep progress: 4821.150000000001/9000.0 = 53.6% done in 52.0s, 45.1s to go\n",
      "on time step 1427565 (time=7930.92), 5.96558e-05 s/step\n",
      "Meep progress: 5195.177777777779/9000.0 = 57.7% done in 56.0s, 41.0s to go\n",
      "on time step 1494850 (time=8304.72), 5.9449e-05 s/step\n",
      "Meep progress: 5568.700000000001/9000.0 = 61.9% done in 60.0s, 37.0s to go\n",
      "on time step 1561943 (time=8677.46), 5.96191e-05 s/step\n",
      "Meep progress: 5938.022222222222/9000.0 = 66.0% done in 64.0s, 33.0s to go\n",
      "run 1 finished at t = 9000.0 (1620000 timesteps)\n",
      "125471998.89467077\n",
      "[0.99055268]\n",
      "[0.00944732]\n",
      "[0.]\n",
      "[0.94244355]\n",
      "[0.05755645]\n",
      "[0.]\n",
      "[1.53]\n",
      "8\n",
      "-----------\n",
      "Initializing structure...\n",
      "time for choose_chunkdivision = 5.50747e-05 s\n",
      "Working in 1D dimensions.\n",
      "Computational cell is 0 x 0 x 10 with resolution 90\n",
      "time for set_epsilon = 0.000234127 s\n",
      "-----------\n"
     ]
    },
    {
     "data": {
      "application/vnd.jupyter.widget-view+json": {
       "model_id": "3d1d4063d4484f68987d41a4100a484f",
       "version_major": 2,
       "version_minor": 0
      },
      "text/plain": [
       "FloatProgress(value=0.0, description='0% done ', max=3000.0)"
      ]
     },
     "metadata": {},
     "output_type": "display_data"
    },
    {
     "name": "stdout",
     "output_type": "stream",
     "text": [
      "Meep progress: 1802.7722222222224/3000.0 = 60.1% done in 4.0s, 2.7s to go\n",
      "on time step 324965 (time=1805.36), 1.2309e-05 s/step\n",
      "run 0 finished at t = 3000.0 (540000 timesteps)\n"
     ]
    },
    {
     "data": {
      "application/vnd.jupyter.widget-view+json": {
       "model_id": "472fd38e68754c6ebcbe5f75683d61c0",
       "version_major": 2,
       "version_minor": 0
      },
      "text/plain": [
       "FloatProgress(value=3000.0, description='0% done ', max=9000.0, min=3000.0)"
      ]
     },
     "metadata": {},
     "output_type": "display_data"
    },
    {
     "name": "stdout",
     "output_type": "stream",
     "text": [
      "on time step 564770 (time=3137.61), 1.66804e-05 s/step\n",
      "Meep progress: 382.0111111111114/9000.0 = 4.2% done in 4.0s, 90.2s to go\n",
      "on time step 633558 (time=3519.77), 5.81502e-05 s/step\n",
      "Meep progress: 760.911111111111/9000.0 = 8.5% done in 8.0s, 86.6s to go\n",
      "on time step 701669 (time=3898.16), 5.87282e-05 s/step\n",
      "Meep progress: 1139.227777777778/9000.0 = 12.7% done in 12.0s, 82.8s to go\n",
      "on time step 769889 (time=4277.16), 5.86339e-05 s/step\n",
      "Meep progress: 1521.227777777778/9000.0 = 16.9% done in 16.0s, 78.7s to go\n",
      "on time step 837331 (time=4651.84), 5.93109e-05 s/step\n",
      "Meep progress: 1887.8500000000004/9000.0 = 21.0% done in 20.0s, 75.3s to go\n",
      "on time step 904670 (time=5025.94), 5.9401e-05 s/step\n",
      "Meep progress: 2269.761111111111/9000.0 = 25.2% done in 24.0s, 71.2s to go\n",
      "on time step 973347 (time=5407.48), 5.82439e-05 s/step\n",
      "Meep progress: 2647.955555555556/9000.0 = 29.4% done in 28.0s, 67.2s to go\n",
      "on time step 1041432 (time=5785.73), 5.87508e-05 s/step\n",
      "Meep progress: 3027.2555555555555/9000.0 = 33.6% done in 32.0s, 63.1s to go\n",
      "on time step 1108740 (time=6159.67), 5.94283e-05 s/step\n",
      "Meep progress: 3399.1111111111113/9000.0 = 37.8% done in 36.0s, 59.3s to go\n",
      "on time step 1176691 (time=6537.17), 5.88668e-05 s/step\n",
      "Meep progress: 3780.583333333334/9000.0 = 42.0% done in 40.0s, 55.2s to go\n",
      "on time step 1244478 (time=6913.77), 5.90091e-05 s/step\n",
      "Meep progress: 4142.516666666667/9000.0 = 46.0% done in 44.0s, 51.6s to go\n",
      "on time step 1310203 (time=7278.91), 6.08602e-05 s/step\n",
      "Meep progress: 4518.433333333333/9000.0 = 50.2% done in 48.0s, 47.6s to go\n",
      "on time step 1378153 (time=7656.41), 5.88676e-05 s/step\n",
      "Meep progress: 4899.533333333334/9000.0 = 54.4% done in 52.0s, 43.5s to go\n",
      "on time step 1446785 (time=8037.69), 5.82821e-05 s/step\n",
      "Meep progress: 5280.022222222222/9000.0 = 58.7% done in 56.0s, 39.5s to go\n",
      "on time step 1515230 (time=8417.94), 5.84419e-05 s/step\n",
      "Meep progress: 5660.622222222222/9000.0 = 62.9% done in 60.0s, 35.4s to go\n",
      "on time step 1583532 (time=8797.4), 5.85637e-05 s/step\n",
      "run 1 finished at t = 9000.0 (1620000 timesteps)\n",
      "-----------\n",
      "Initializing structure...\n",
      "time for choose_chunkdivision = 5.50747e-05 s\n",
      "Working in 1D dimensions.\n",
      "Computational cell is 0 x 0 x 10 with resolution 90\n",
      "     block, center = (0,0,0)\n",
      "          size (0,0,1.53)\n",
      "          axes (1,0,0), (0,1,0), (0,0,1)\n",
      "          dielectric constant epsilon diagonal = (6.0516,6.0516,6.0516)\n",
      "time for set_epsilon = 0.00026989 s\n",
      "-----------\n"
     ]
    },
    {
     "data": {
      "application/vnd.jupyter.widget-view+json": {
       "model_id": "161be246f1cd4353af2b140b887ea8d0",
       "version_major": 2,
       "version_minor": 0
      },
      "text/plain": [
       "FloatProgress(value=0.0, description='0% done ', max=3000.0)"
      ]
     },
     "metadata": {},
     "output_type": "display_data"
    },
    {
     "name": "stdout",
     "output_type": "stream",
     "text": [
      "Meep progress: 1780.1666666666667/3000.0 = 59.3% done in 4.0s, 2.7s to go\n",
      "on time step 320942 (time=1783.01), 1.24633e-05 s/step\n",
      "run 0 finished at t = 3000.0 (540000 timesteps)\n"
     ]
    },
    {
     "data": {
      "application/vnd.jupyter.widget-view+json": {
       "model_id": "b6331f7c7cab41cd807f95917368b1a8",
       "version_major": 2,
       "version_minor": 0
      },
      "text/plain": [
       "FloatProgress(value=3000.0, description='0% done ', max=9000.0, min=3000.0)"
      ]
     },
     "metadata": {},
     "output_type": "display_data"
    },
    {
     "name": "stdout",
     "output_type": "stream",
     "text": [
      "on time step 562790 (time=3126.61), 1.65394e-05 s/step\n",
      "Meep progress: 376.5444444444447/9000.0 = 4.2% done in 4.0s, 91.6s to go\n",
      "on time step 631003 (time=3505.57), 5.86411e-05 s/step\n",
      "Meep progress: 753.488888888889/9000.0 = 8.4% done in 8.0s, 87.6s to go\n",
      "on time step 698492 (time=3880.51), 5.92693e-05 s/step\n",
      "Meep progress: 1127.2666666666664/9000.0 = 12.5% done in 12.0s, 83.8s to go\n",
      "on time step 766140 (time=4256.33), 5.91296e-05 s/step\n",
      "Meep progress: 1506.9444444444443/9000.0 = 16.7% done in 16.0s, 79.6s to go\n",
      "on time step 834274 (time=4634.86), 5.87081e-05 s/step\n",
      "Meep progress: 1868.2777777777783/9000.0 = 20.8% done in 20.0s, 76.3s to go\n",
      "on time step 899518 (time=4997.32), 6.13084e-05 s/step\n",
      "Meep progress: 2246.1222222222223/9000.0 = 25.0% done in 24.0s, 72.2s to go\n",
      "on time step 967143 (time=5373.02), 5.91505e-05 s/step\n",
      "Meep progress: 2618.3388888888894/9000.0 = 29.1% done in 28.0s, 68.2s to go\n",
      "on time step 1034207 (time=5745.59), 5.96454e-05 s/step\n",
      "Meep progress: 2995.1500000000005/9000.0 = 33.3% done in 32.0s, 64.2s to go\n",
      "on time step 1102312 (time=6123.96), 5.87331e-05 s/step\n",
      "Meep progress: 3372.9833333333336/9000.0 = 37.5% done in 36.0s, 60.1s to go\n",
      "on time step 1170235 (time=6501.31), 5.88904e-05 s/step\n",
      "Meep progress: 3749.8388888888894/9000.0 = 41.7% done in 40.0s, 56.0s to go\n",
      "on time step 1238197 (time=6878.87), 5.8857e-05 s/step\n",
      "Meep progress: 4127.816666666667/9000.0 = 45.9% done in 44.0s, 51.9s to go\n",
      "on time step 1305531 (time=7252.95), 5.94057e-05 s/step\n",
      "Meep progress: 4488.677777777778/9000.0 = 49.9% done in 48.0s, 48.2s to go\n",
      "on time step 1371262 (time=7618.12), 6.08542e-05 s/step\n",
      "Meep progress: 4867.416666666667/9000.0 = 54.1% done in 52.0s, 44.1s to go\n",
      "on time step 1439239 (time=7995.77), 5.88441e-05 s/step\n",
      "Meep progress: 5243.7555555555555/9000.0 = 58.3% done in 56.0s, 40.1s to go\n",
      "on time step 1507152 (time=8373.07), 5.8899e-05 s/step\n",
      "Meep progress: 5622.388888888889/9000.0 = 62.5% done in 60.0s, 36.0s to go\n",
      "on time step 1574844 (time=8749.13), 5.9093e-05 s/step\n",
      "Meep progress: 5994.416666666668/9000.0 = 66.6% done in 64.0s, 32.1s to go\n",
      "run 1 finished at t = 9000.0 (1620000 timesteps)\n",
      "-----------\n",
      "Initializing structure...\n",
      "time for choose_chunkdivision = 5.50747e-05 s\n",
      "Working in 1D dimensions.\n",
      "Computational cell is 0 x 0 x 10 with resolution 90\n",
      "     block, center = (0,0,0)\n",
      "          size (0,0,1.53)\n",
      "          axes (1,0,0), (0,1,0), (0,0,1)\n",
      "          dielectric constant epsilon diagonal = (6.0516,6.0516,6.0516)\n",
      "time for set_epsilon = 0.000291109 s\n",
      "-----------\n"
     ]
    },
    {
     "data": {
      "application/vnd.jupyter.widget-view+json": {
       "model_id": "8a4400731da24ac78fbd1145b6b53052",
       "version_major": 2,
       "version_minor": 0
      },
      "text/plain": [
       "FloatProgress(value=0.0, description='0% done ', max=3000.0)"
      ]
     },
     "metadata": {},
     "output_type": "display_data"
    },
    {
     "name": "stdout",
     "output_type": "stream",
     "text": [
      "Meep progress: 1769.5277777777778/3000.0 = 59.0% done in 4.0s, 2.8s to go\n",
      "on time step 318976 (time=1772.09), 1.25401e-05 s/step\n",
      "run 0 finished at t = 3000.0 (540000 timesteps)\n"
     ]
    },
    {
     "data": {
      "application/vnd.jupyter.widget-view+json": {
       "model_id": "8b2ab35cf30c4038874107ab114622f9",
       "version_major": 2,
       "version_minor": 0
      },
      "text/plain": [
       "FloatProgress(value=3000.0, description='0% done ', max=9000.0, min=3000.0)"
      ]
     },
     "metadata": {},
     "output_type": "display_data"
    },
    {
     "name": "stdout",
     "output_type": "stream",
     "text": [
      "on time step 560906 (time=3116.14), 1.65338e-05 s/step\n",
      "Meep progress: 356.3611111111113/9000.0 = 4.0% done in 4.0s, 97.0s to go\n",
      "on time step 625194 (time=3473.3), 6.22207e-05 s/step\n",
      "Meep progress: 731.9722222222222/9000.0 = 8.1% done in 8.0s, 90.4s to go\n",
      "on time step 692487 (time=3847.15), 5.94424e-05 s/step\n",
      "Meep progress: 1102.7777777777783/9000.0 = 12.3% done in 12.0s, 85.9s to go\n",
      "on time step 759513 (time=4219.52), 5.96795e-05 s/step\n",
      "Meep progress: 1479.3722222222223/9000.0 = 16.4% done in 16.0s, 81.3s to go\n",
      "on time step 827380 (time=4596.56), 5.89395e-05 s/step\n",
      "Meep progress: 1854.6500000000005/9000.0 = 20.6% done in 20.0s, 77.1s to go\n",
      "on time step 894828 (time=4971.27), 5.93053e-05 s/step\n",
      "Meep progress: 2229.355555555556/9000.0 = 24.8% done in 24.0s, 72.9s to go\n",
      "on time step 962327 (time=5346.26), 5.92605e-05 s/step\n",
      "Meep progress: 2594.333333333334/9000.0 = 28.8% done in 28.0s, 69.1s to go\n",
      "on time step 1027054 (time=5705.86), 6.17981e-05 s/step\n",
      "Meep progress: 2960.772222222223/9000.0 = 32.9% done in 32.0s, 65.3s to go\n",
      "on time step 1093828 (time=6076.82), 5.99037e-05 s/step\n",
      "Meep progress: 3335.2777777777783/9000.0 = 37.1% done in 36.0s, 61.1s to go\n",
      "on time step 1161411 (time=6452.28), 5.91873e-05 s/step\n",
      "Meep progress: 3709.955555555556/9000.0 = 41.2% done in 40.0s, 57.0s to go\n",
      "on time step 1228935 (time=6827.42), 5.92386e-05 s/step\n",
      "Meep progress: 4084.8777777777777/9000.0 = 45.4% done in 44.0s, 52.9s to go\n",
      "on time step 1296224 (time=7201.24), 5.94451e-05 s/step\n",
      "Meep progress: 4456.583333333334/9000.0 = 49.5% done in 48.0s, 48.9s to go\n",
      "on time step 1363204 (time=7573.36), 5.97201e-05 s/step\n",
      "Meep progress: 4830.88888888889/9000.0 = 53.7% done in 52.0s, 44.9s to go\n",
      "on time step 1430686 (time=7948.26), 5.92754e-05 s/step\n",
      "Meep progress: 5192.050000000001/9000.0 = 57.7% done in 56.0s, 41.1s to go\n",
      "on time step 1494953 (time=8305.29), 6.22411e-05 s/step\n",
      "Meep progress: 5563.594444444445/9000.0 = 61.8% done in 60.0s, 37.1s to go\n",
      "on time step 1562606 (time=8681.14), 5.91255e-05 s/step\n",
      "Meep progress: 5937.583333333334/9000.0 = 66.0% done in 64.0s, 33.0s to go\n",
      "run 1 finished at t = 9000.0 (1620000 timesteps)\n",
      "143146576.14482674\n",
      "[0.98798557]\n",
      "[0.01201443]\n",
      "[0.]\n",
      "[0.94244355]\n",
      "[0.05755645]\n",
      "[0.]\n",
      "[1.53]\n",
      "9\n",
      "-----------\n",
      "Initializing structure...\n",
      "time for choose_chunkdivision = 6.69956e-05 s\n",
      "Working in 1D dimensions.\n",
      "Computational cell is 0 x 0 x 10 with resolution 90\n",
      "time for set_epsilon = 0.000218868 s\n",
      "-----------\n"
     ]
    },
    {
     "data": {
      "application/vnd.jupyter.widget-view+json": {
       "model_id": "78377fa5928e4b0eae0cd93fb11fde30",
       "version_major": 2,
       "version_minor": 0
      },
      "text/plain": [
       "FloatProgress(value=0.0, description='0% done ', max=3000.0)"
      ]
     },
     "metadata": {},
     "output_type": "display_data"
    },
    {
     "name": "stdout",
     "output_type": "stream",
     "text": [
      "Meep progress: 1856.361111111111/3000.0 = 61.9% done in 4.0s, 2.5s to go\n",
      "on time step 334632 (time=1859.07), 1.19534e-05 s/step\n",
      "run 0 finished at t = 3000.0 (540000 timesteps)\n"
     ]
    },
    {
     "data": {
      "application/vnd.jupyter.widget-view+json": {
       "model_id": "f4b9cb20954748cc803af1aee3c4316a",
       "version_major": 2,
       "version_minor": 0
      },
      "text/plain": [
       "FloatProgress(value=3000.0, description='0% done ', max=9000.0, min=3000.0)"
      ]
     },
     "metadata": {},
     "output_type": "display_data"
    },
    {
     "name": "stdout",
     "output_type": "stream",
     "text": [
      "on time step 567404 (time=3152.24), 1.71844e-05 s/step\n",
      "Meep progress: 381.1944444444448/9000.0 = 4.2% done in 4.0s, 90.4s to go\n",
      "on time step 635535 (time=3530.75), 5.87105e-05 s/step\n",
      "Meep progress: 743.2000000000003/9000.0 = 8.3% done in 8.0s, 88.9s to go\n",
      "on time step 700918 (time=3893.99), 6.11786e-05 s/step\n",
      "Meep progress: 1120.6999999999998/9000.0 = 12.5% done in 12.0s, 84.4s to go\n",
      "on time step 768746 (time=4270.81), 5.89735e-05 s/step\n",
      "Meep progress: 1499.4388888888889/9000.0 = 16.7% done in 16.0s, 80.0s to go\n",
      "on time step 837448 (time=4652.49), 5.82229e-05 s/step\n",
      "Meep progress: 1881.3055555555557/9000.0 = 20.9% done in 20.0s, 75.7s to go\n",
      "on time step 906134 (time=5034.08), 5.82361e-05 s/step\n",
      "Meep progress: 2262.511111111111/9000.0 = 25.1% done in 24.0s, 71.5s to go\n",
      "on time step 974638 (time=5414.66), 5.8391e-05 s/step\n",
      "Meep progress: 2643.3777777777777/9000.0 = 29.4% done in 28.0s, 67.3s to go\n",
      "on time step 1042838 (time=5793.54), 5.86513e-05 s/step\n",
      "Meep progress: 3015.3611111111113/9000.0 = 33.5% done in 32.0s, 63.5s to go\n",
      "on time step 1108151 (time=6156.39), 6.12441e-05 s/step\n",
      "Meep progress: 3384.7444444444445/9000.0 = 37.6% done in 36.0s, 59.7s to go\n",
      "on time step 1176755 (time=6537.53), 5.83059e-05 s/step\n",
      "Meep progress: 3765.883333333333/9000.0 = 41.8% done in 40.0s, 55.6s to go\n",
      "on time step 1245367 (time=6918.71), 5.82991e-05 s/step\n",
      "Meep progress: 4147.105555555556/9000.0 = 46.1% done in 44.0s, 51.5s to go\n",
      "on time step 1313962 (time=7299.79), 5.83138e-05 s/step\n",
      "Meep progress: 4525.238888888889/9000.0 = 50.3% done in 48.0s, 47.5s to go\n",
      "on time step 1381743 (time=7676.35), 5.9014e-05 s/step\n",
      "Meep progress: 4904.7555555555555/9000.0 = 54.5% done in 52.0s, 43.4s to go\n",
      "on time step 1450437 (time=8057.98), 5.82294e-05 s/step\n",
      "Meep progress: 5270.616666666667/9000.0 = 58.6% done in 56.0s, 39.6s to go\n",
      "on time step 1515619 (time=8420.11), 6.13672e-05 s/step\n",
      "Meep progress: 5648.822222222223/9000.0 = 62.8% done in 60.0s, 35.6s to go\n",
      "on time step 1584212 (time=8801.18), 5.83154e-05 s/step\n",
      "run 1 finished at t = 9000.0 (1620000 timesteps)\n",
      "-----------\n",
      "Initializing structure...\n",
      "time for choose_chunkdivision = 5.50747e-05 s\n",
      "Working in 1D dimensions.\n",
      "Computational cell is 0 x 0 x 10 with resolution 90\n",
      "     block, center = (0,0,0)\n",
      "          size (0,0,1.53)\n",
      "          axes (1,0,0), (0,1,0), (0,0,1)\n",
      "          dielectric constant epsilon diagonal = (6.0516,6.0516,6.0516)\n",
      "time for set_epsilon = 0.000257969 s\n",
      "-----------\n"
     ]
    },
    {
     "data": {
      "application/vnd.jupyter.widget-view+json": {
       "model_id": "1bec267151904294852baed6af37944c",
       "version_major": 2,
       "version_minor": 0
      },
      "text/plain": [
       "FloatProgress(value=0.0, description='0% done ', max=3000.0)"
      ]
     },
     "metadata": {},
     "output_type": "display_data"
    },
    {
     "name": "stdout",
     "output_type": "stream",
     "text": [
      "Meep progress: 1847.8666666666668/3000.0 = 61.6% done in 4.0s, 2.5s to go\n",
      "on time step 333050 (time=1850.28), 1.20102e-05 s/step\n",
      "run 0 finished at t = 3000.0 (540000 timesteps)\n"
     ]
    },
    {
     "data": {
      "application/vnd.jupyter.widget-view+json": {
       "model_id": "c7d579e07bcf4411afccd596aa4145c5",
       "version_major": 2,
       "version_minor": 0
      },
      "text/plain": [
       "FloatProgress(value=3000.0, description='0% done ', max=9000.0, min=3000.0)"
      ]
     },
     "metadata": {},
     "output_type": "display_data"
    },
    {
     "name": "stdout",
     "output_type": "stream",
     "text": [
      "on time step 565692 (time=3142.73), 1.7194e-05 s/step\n",
      "Meep progress: 375.9611111111112/9000.0 = 4.2% done in 4.0s, 91.8s to go\n",
      "on time step 632858 (time=3515.88), 5.95545e-05 s/step\n",
      "Meep progress: 738.1833333333334/9000.0 = 8.2% done in 8.0s, 89.5s to go\n",
      "on time step 698435 (time=3880.19), 6.09985e-05 s/step\n",
      "Meep progress: 1112.5611111111111/9000.0 = 12.4% done in 12.0s, 85.1s to go\n",
      "on time step 765781 (time=4254.34), 5.93954e-05 s/step\n",
      "Meep progress: 1489.6944444444443/9000.0 = 16.6% done in 16.0s, 80.7s to go\n",
      "on time step 834005 (time=4633.36), 5.86307e-05 s/step\n",
      "Meep progress: 1865.0777777777776/9000.0 = 20.7% done in 20.0s, 76.5s to go\n",
      "on time step 901255 (time=5006.97), 5.94797e-05 s/step\n",
      "Meep progress: 2241.3166666666666/9000.0 = 24.9% done in 24.0s, 72.4s to go\n",
      "on time step 969258 (time=5384.77), 5.88213e-05 s/step\n",
      "Meep progress: 2618.6500000000005/9000.0 = 29.1% done in 28.0s, 68.2s to go\n",
      "on time step 1035734 (time=5754.08), 6.01723e-05 s/step\n",
      "Meep progress: 2973.7777777777783/9000.0 = 33.0% done in 32.0s, 64.8s to go\n",
      "on time step 1101141 (time=6117.45), 6.11556e-05 s/step\n",
      "Meep progress: 3351.6944444444443/9000.0 = 37.2% done in 36.0s, 60.7s to go\n",
      "on time step 1169107 (time=6495.04), 5.88536e-05 s/step\n",
      "Meep progress: 3729.466666666667/9000.0 = 41.4% done in 40.0s, 56.5s to go\n",
      "on time step 1237187 (time=6873.26), 5.8755e-05 s/step\n",
      "Meep progress: 4106.983333333334/9000.0 = 45.6% done in 44.0s, 52.4s to go\n",
      "on time step 1305129 (time=7250.72), 5.88743e-05 s/step\n",
      "Meep progress: 4481.922222222222/9000.0 = 49.8% done in 48.0s, 48.4s to go\n",
      "on time step 1372282 (time=7623.79), 5.9566e-05 s/step\n",
      "Meep progress: 4853.166666666667/9000.0 = 53.9% done in 52.0s, 44.4s to go\n",
      "on time step 1437115 (time=7983.97), 6.16977e-05 s/step\n",
      "Meep progress: 5216.9/9000.0 = 58.0% done in 56.0s, 40.6s to go\n",
      "on time step 1505034 (time=8361.3), 5.88944e-05 s/step\n",
      "Meep progress: 5594.933333333334/9000.0 = 62.2% done in 60.0s, 36.5s to go\n",
      "on time step 1573021 (time=8739.01), 5.8835e-05 s/step\n",
      "Meep progress: 5972.700000000001/9000.0 = 66.4% done in 64.0s, 32.4s to go\n",
      "run 1 finished at t = 9000.0 (1620000 timesteps)\n",
      "-----------\n",
      "Initializing structure...\n",
      "time for choose_chunkdivision = 5.60284e-05 s\n",
      "Working in 1D dimensions.\n",
      "Computational cell is 0 x 0 x 10 with resolution 90\n",
      "     block, center = (0,0,0)\n",
      "          size (0,0,1.53)\n",
      "          axes (1,0,0), (0,1,0), (0,0,1)\n",
      "          dielectric constant epsilon diagonal = (6.0516,6.0516,6.0516)\n",
      "time for set_epsilon = 0.000357866 s\n",
      "-----------\n"
     ]
    },
    {
     "data": {
      "application/vnd.jupyter.widget-view+json": {
       "model_id": "e64e7a386bc14a868941ba266a56d143",
       "version_major": 2,
       "version_minor": 0
      },
      "text/plain": [
       "FloatProgress(value=0.0, description='0% done ', max=3000.0)"
      ]
     },
     "metadata": {},
     "output_type": "display_data"
    },
    {
     "name": "stdout",
     "output_type": "stream",
     "text": [
      "Meep progress: 1633.15/3000.0 = 54.4% done in 4.0s, 3.3s to go\n",
      "on time step 294303 (time=1635.02), 1.35915e-05 s/step\n",
      "run 0 finished at t = 3000.0 (540000 timesteps)\n"
     ]
    },
    {
     "data": {
      "application/vnd.jupyter.widget-view+json": {
       "model_id": "37bc5cb4d0aa4622a99dc7c6a574a2f0",
       "version_major": 2,
       "version_minor": 0
      },
      "text/plain": [
       "FloatProgress(value=3000.0, description='0% done ', max=9000.0, min=3000.0)"
      ]
     },
     "metadata": {},
     "output_type": "display_data"
    },
    {
     "name": "stdout",
     "output_type": "stream",
     "text": [
      "on time step 549016 (time=3050.09), 1.5704e-05 s/step\n",
      "Meep progress: 354.4000000000001/9000.0 = 3.9% done in 4.0s, 97.6s to go\n",
      "on time step 613370 (time=3407.61), 6.21569e-05 s/step\n",
      "Meep progress: 713.1777777777779/9000.0 = 7.9% done in 8.0s, 93.0s to go\n",
      "on time step 677476 (time=3763.76), 6.23969e-05 s/step\n",
      "Meep progress: 1060.8777777777777/9000.0 = 11.8% done in 12.0s, 89.8s to go\n",
      "on time step 740503 (time=4113.91), 6.3465e-05 s/step\n",
      "Meep progress: 1415.9333333333334/9000.0 = 15.7% done in 16.0s, 85.7s to go\n",
      "on time step 804841 (time=4471.34), 6.21718e-05 s/step\n",
      "Meep progress: 1783.1000000000004/9000.0 = 19.8% done in 20.0s, 80.9s to go\n",
      "on time step 870400 (time=4835.56), 6.10138e-05 s/step\n",
      "Meep progress: 2144.2666666666664/9000.0 = 23.8% done in 24.0s, 76.7s to go\n",
      "on time step 935681 (time=5198.23), 6.12738e-05 s/step\n",
      "Meep progress: 2501.833333333334/9000.0 = 27.8% done in 28.0s, 72.7s to go\n",
      "on time step 1000002 (time=5555.57), 6.21888e-05 s/step\n",
      "Meep progress: 2854.6111111111113/9000.0 = 31.7% done in 32.0s, 68.9s to go\n",
      "on time step 1063774 (time=5909.86), 6.27244e-05 s/step\n",
      "Meep progress: 3217.3888888888887/9000.0 = 35.7% done in 36.0s, 64.7s to go\n",
      "on time step 1128574 (time=6269.86), 6.173e-05 s/step\n",
      "Meep progress: 3570.7/9000.0 = 39.7% done in 40.0s, 60.8s to go\n",
      "on time step 1191986 (time=6622.14), 6.30807e-05 s/step\n",
      "Meep progress: 3923.2444444444445/9000.0 = 43.6% done in 44.0s, 56.9s to go\n",
      "on time step 1255459 (time=6974.77), 6.30192e-05 s/step\n",
      "Meep progress: 4269.8/9000.0 = 47.4% done in 48.0s, 53.2s to go\n",
      "on time step 1318210 (time=7323.39), 6.37447e-05 s/step\n",
      "Meep progress: 4623.616666666667/9000.0 = 51.4% done in 52.0s, 49.2s to go\n",
      "on time step 1381869 (time=7677.05), 6.28348e-05 s/step\n",
      "Meep progress: 4987.6611111111115/9000.0 = 55.4% done in 56.0s, 45.0s to go\n",
      "on time step 1447631 (time=8042.39), 6.08261e-05 s/step\n",
      "Meep progress: 5356.694444444445/9000.0 = 59.5% done in 60.0s, 40.8s to go\n",
      "on time step 1514176 (time=8412.09), 6.01103e-05 s/step\n",
      "Meep progress: 5724.888888888889/9000.0 = 63.6% done in 64.0s, 36.6s to go\n",
      "on time step 1580352 (time=8779.73), 6.04452e-05 s/step\n",
      "run 1 finished at t = 9000.0 (1620000 timesteps)\n",
      "160821153.394982\n",
      "[0.97845823]\n",
      "[0.02154177]\n",
      "[0.]\n",
      "[0.94244355]\n",
      "[0.05755645]\n",
      "[0.]\n",
      "[1.53]\n",
      "10\n",
      "-----------\n",
      "Initializing structure...\n",
      "time for choose_chunkdivision = 5.48363e-05 s\n",
      "Working in 1D dimensions.\n",
      "Computational cell is 0 x 0 x 10 with resolution 90\n",
      "time for set_epsilon = 0.000216961 s\n",
      "-----------\n"
     ]
    },
    {
     "data": {
      "application/vnd.jupyter.widget-view+json": {
       "model_id": "bf2b5d9976744254a118f026a05a7489",
       "version_major": 2,
       "version_minor": 0
      },
      "text/plain": [
       "FloatProgress(value=0.0, description='0% done ', max=3000.0)"
      ]
     },
     "metadata": {},
     "output_type": "display_data"
    },
    {
     "name": "stdout",
     "output_type": "stream",
     "text": [
      "Meep progress: 1860.7055555555555/3000.0 = 62.0% done in 4.0s, 2.4s to go\n",
      "on time step 335359 (time=1863.11), 1.19277e-05 s/step\n",
      "run 0 finished at t = 3000.0 (540000 timesteps)\n"
     ]
    },
    {
     "data": {
      "application/vnd.jupyter.widget-view+json": {
       "model_id": "438e0b6e16ca4d4eaace5f9c7eea2477",
       "version_major": 2,
       "version_minor": 0
      },
      "text/plain": [
       "FloatProgress(value=3000.0, description='0% done ', max=9000.0, min=3000.0)"
      ]
     },
     "metadata": {},
     "output_type": "display_data"
    },
    {
     "name": "stdout",
     "output_type": "stream",
     "text": [
      "on time step 566370 (time=3146.5), 1.73154e-05 s/step\n",
      "Meep progress: 373.5055555555555/9000.0 = 4.2% done in 4.0s, 92.4s to go\n",
      "on time step 633628 (time=3520.16), 5.94731e-05 s/step\n",
      "Meep progress: 746.9611111111112/9000.0 = 8.3% done in 8.0s, 88.4s to go\n",
      "on time step 700244 (time=3890.24), 6.00459e-05 s/step\n",
      "Meep progress: 1111.9722222222226/9000.0 = 12.4% done in 12.0s, 85.1s to go\n",
      "on time step 766384 (time=4257.69), 6.04785e-05 s/step\n",
      "Meep progress: 1482.6000000000004/9000.0 = 16.5% done in 16.0s, 81.1s to go\n",
      "on time step 832490 (time=4624.94), 6.05094e-05 s/step\n",
      "Meep progress: 1846.3000000000002/9000.0 = 20.5% done in 20.0s, 77.5s to go\n",
      "on time step 898842 (time=4993.57), 6.02849e-05 s/step\n",
      "Meep progress: 2222.977777777778/9000.0 = 24.7% done in 24.0s, 73.2s to go\n",
      "on time step 965287 (time=5362.71), 6.02008e-05 s/step\n",
      "Meep progress: 2587.3166666666666/9000.0 = 28.7% done in 28.0s, 69.4s to go\n",
      "on time step 1032034 (time=5733.52), 5.99285e-05 s/step\n",
      "Meep progress: 2962.4444444444443/9000.0 = 32.9% done in 32.0s, 65.2s to go\n",
      "on time step 1100023 (time=6111.24), 5.88334e-05 s/step\n",
      "Meep progress: 3340.7333333333336/9000.0 = 37.1% done in 36.0s, 61.0s to go\n",
      "on time step 1168104 (time=6489.47), 5.87541e-05 s/step\n",
      "Meep progress: 3718.833333333334/9000.0 = 41.3% done in 40.0s, 56.8s to go\n",
      "on time step 1236266 (time=6868.14), 5.86845e-05 s/step\n",
      "Meep progress: 4097.605555555556/9000.0 = 45.5% done in 44.0s, 52.6s to go\n",
      "on time step 1304025 (time=7244.58), 5.90332e-05 s/step\n",
      "Meep progress: 4470.444444444444/9000.0 = 49.7% done in 48.0s, 48.6s to go\n",
      "on time step 1371532 (time=7619.62), 5.92533e-05 s/step\n",
      "Meep progress: 4849.405555555556/9000.0 = 53.9% done in 52.0s, 44.5s to go\n",
      "on time step 1439639 (time=7997.99), 5.87317e-05 s/step\n",
      "Meep progress: 5227.594444444445/9000.0 = 58.1% done in 56.0s, 40.4s to go\n",
      "on time step 1507843 (time=8376.91), 5.86479e-05 s/step\n",
      "Meep progress: 5606.2555555555555/9000.0 = 62.3% done in 60.0s, 36.3s to go\n",
      "on time step 1576096 (time=8756.09), 5.86057e-05 s/step\n",
      "Meep progress: 5982.5055555555555/9000.0 = 66.5% done in 64.0s, 32.3s to go\n",
      "run 1 finished at t = 9000.0 (1620000 timesteps)\n",
      "-----------\n",
      "Initializing structure...\n",
      "time for choose_chunkdivision = 5.81741e-05 s\n",
      "Working in 1D dimensions.\n",
      "Computational cell is 0 x 0 x 10 with resolution 90\n",
      "     block, center = (0,0,0)\n",
      "          size (0,0,1.53)\n",
      "          axes (1,0,0), (0,1,0), (0,0,1)\n",
      "          dielectric constant epsilon diagonal = (6.0516,6.0516,6.0516)\n",
      "time for set_epsilon = 0.000287056 s\n",
      "-----------\n"
     ]
    },
    {
     "data": {
      "application/vnd.jupyter.widget-view+json": {
       "model_id": "ffa42fac94774971a91e9924f558f598",
       "version_major": 2,
       "version_minor": 0
      },
      "text/plain": [
       "FloatProgress(value=0.0, description='0% done ', max=3000.0)"
      ]
     },
     "metadata": {},
     "output_type": "display_data"
    },
    {
     "name": "stdout",
     "output_type": "stream",
     "text": [
      "Meep progress: 1890.2722222222224/3000.0 = 63.0% done in 4.0s, 2.3s to go\n",
      "on time step 340573 (time=1892.07), 1.17449e-05 s/step\n",
      "run 0 finished at t = 3000.0 (540000 timesteps)\n"
     ]
    },
    {
     "data": {
      "application/vnd.jupyter.widget-view+json": {
       "model_id": "c895f382e10f464e9e6c49c1077b1579",
       "version_major": 2,
       "version_minor": 0
      },
      "text/plain": [
       "FloatProgress(value=3000.0, description='0% done ', max=9000.0, min=3000.0)"
      ]
     },
     "metadata": {},
     "output_type": "display_data"
    },
    {
     "name": "stdout",
     "output_type": "stream",
     "text": [
      "on time step 567822 (time=3154.57), 1.76019e-05 s/step\n",
      "Meep progress: 379.43888888888887/9000.0 = 4.2% done in 4.0s, 90.9s to go\n",
      "on time step 636067 (time=3533.71), 5.86127e-05 s/step\n",
      "Meep progress: 759.3833333333337/9000.0 = 8.4% done in 8.0s, 86.8s to go\n",
      "on time step 703969 (time=3910.94), 5.89088e-05 s/step\n",
      "Meep progress: 1132.3777777777777/9000.0 = 12.6% done in 12.0s, 83.4s to go\n",
      "on time step 771692 (time=4287.18), 5.90642e-05 s/step\n",
      "Meep progress: 1511.8500000000004/9000.0 = 16.8% done in 16.0s, 79.2s to go\n",
      "on time step 839903 (time=4666.13), 5.86423e-05 s/step\n",
      "Meep progress: 1890.416666666667/9000.0 = 21.0% done in 20.0s, 75.2s to go\n",
      "on time step 907633 (time=5042.41), 5.90581e-05 s/step\n",
      "Meep progress: 2267.0055555555555/9000.0 = 25.2% done in 24.0s, 71.3s to go\n",
      "on time step 975827 (time=5421.26), 5.86566e-05 s/step\n",
      "Meep progress: 2641.6222222222223/9000.0 = 29.4% done in 28.0s, 67.4s to go\n",
      "on time step 1042897 (time=5793.87), 5.96395e-05 s/step\n",
      "Meep progress: 3018.522222222223/9000.0 = 33.5% done in 32.0s, 63.4s to go\n",
      "on time step 1111199 (time=6173.33), 5.85635e-05 s/step\n",
      "Meep progress: 3398.366666666667/9000.0 = 37.8% done in 36.0s, 59.3s to go\n",
      "on time step 1179587 (time=6553.26), 5.84901e-05 s/step\n",
      "Meep progress: 3777.772222222223/9000.0 = 42.0% done in 40.0s, 55.3s to go\n",
      "on time step 1247689 (time=6931.61), 5.87356e-05 s/step\n",
      "Meep progress: 4155.605555555556/9000.0 = 46.2% done in 44.0s, 51.3s to go\n",
      "on time step 1315485 (time=7308.25), 5.9001e-05 s/step\n",
      "Meep progress: 4529.166666666667/9000.0 = 50.3% done in 48.0s, 47.4s to go\n",
      "on time step 1382747 (time=7681.93), 5.94696e-05 s/step\n",
      "Meep progress: 4905.127777777778/9000.0 = 54.5% done in 52.0s, 43.4s to go\n",
      "on time step 1450848 (time=8060.27), 5.87371e-05 s/step\n",
      "Meep progress: 5283.333333333334/9000.0 = 58.7% done in 56.0s, 39.4s to go\n",
      "on time step 1519010 (time=8438.94), 5.86843e-05 s/step\n",
      "Meep progress: 5662.866666666667/9000.0 = 62.9% done in 60.0s, 35.4s to go\n",
      "on time step 1587366 (time=8818.7), 5.85177e-05 s/step\n",
      "run 1 finished at t = 9000.0 (1620000 timesteps)\n",
      "-----------\n",
      "Initializing structure...\n",
      "time for choose_chunkdivision = 6.79493e-05 s\n",
      "Working in 1D dimensions.\n",
      "Computational cell is 0 x 0 x 10 with resolution 90\n",
      "     block, center = (0,0,0)\n",
      "          size (0,0,1.53)\n",
      "          axes (1,0,0), (0,1,0), (0,0,1)\n",
      "          dielectric constant epsilon diagonal = (6.0516,6.0516,6.0516)\n",
      "time for set_epsilon = 0.000258923 s\n",
      "-----------\n"
     ]
    },
    {
     "data": {
      "application/vnd.jupyter.widget-view+json": {
       "model_id": "faf89a25e60e47fbbd566d40b9201726",
       "version_major": 2,
       "version_minor": 0
      },
      "text/plain": [
       "FloatProgress(value=0.0, description='0% done ', max=3000.0)"
      ]
     },
     "metadata": {},
     "output_type": "display_data"
    },
    {
     "name": "stdout",
     "output_type": "stream",
     "text": [
      "Meep progress: 1779.1888888888889/3000.0 = 59.3% done in 4.0s, 2.7s to go\n",
      "on time step 320664 (time=1781.47), 1.24741e-05 s/step\n",
      "run 0 finished at t = 3000.0 (540000 timesteps)\n"
     ]
    },
    {
     "data": {
      "application/vnd.jupyter.widget-view+json": {
       "model_id": "15b26b36bb604b22959f289e2d02d10d",
       "version_major": 2,
       "version_minor": 0
      },
      "text/plain": [
       "FloatProgress(value=3000.0, description='0% done ', max=9000.0, min=3000.0)"
      ]
     },
     "metadata": {},
     "output_type": "display_data"
    },
    {
     "name": "stdout",
     "output_type": "stream",
     "text": [
      "on time step 561538 (time=3119.66), 1.66063e-05 s/step\n",
      "Meep progress: 374.78888888888923/9000.0 = 4.2% done in 4.0s, 92.1s to go\n",
      "on time step 629009 (time=3494.49), 5.9285e-05 s/step\n",
      "Meep progress: 750.0333333333333/9000.0 = 8.3% done in 8.0s, 88.0s to go\n",
      "on time step 696579 (time=3869.88), 5.91985e-05 s/step\n",
      "Meep progress: 1116.8555555555558/9000.0 = 12.4% done in 12.0s, 84.7s to go\n",
      "on time step 762589 (time=4236.61), 6.05974e-05 s/step\n",
      "Meep progress: 1482.2166666666672/9000.0 = 16.5% done in 16.0s, 81.2s to go\n",
      "on time step 827424 (time=4596.8), 6.16957e-05 s/step\n",
      "Meep progress: 1845.083333333334/9000.0 = 20.5% done in 20.0s, 77.6s to go\n",
      "on time step 893392 (time=4963.29), 6.06358e-05 s/step\n",
      "Meep progress: 2217.7222222222226/9000.0 = 24.6% done in 24.0s, 73.4s to go\n",
      "on time step 960733 (time=5337.41), 5.93999e-05 s/step\n",
      "Meep progress: 2591.2833333333338/9000.0 = 28.8% done in 28.0s, 69.2s to go\n",
      "on time step 1027658 (time=5709.21), 5.97686e-05 s/step\n",
      "Meep progress: 2956.4944444444445/9000.0 = 32.8% done in 32.0s, 65.4s to go\n",
      "on time step 1093753 (time=6076.41), 6.05198e-05 s/step\n",
      "Meep progress: 3330.45/9000.0 = 37.0% done in 36.0s, 61.3s to go\n",
      "on time step 1161088 (time=6450.49), 5.9405e-05 s/step\n",
      "Meep progress: 3703.4611111111117/9000.0 = 41.1% done in 40.0s, 57.2s to go\n",
      "on time step 1228096 (time=6822.76), 5.96948e-05 s/step\n",
      "Meep progress: 4075.8777777777777/9000.0 = 45.3% done in 44.0s, 53.2s to go\n",
      "on time step 1295231 (time=7195.73), 5.95816e-05 s/step\n",
      "Meep progress: 4445.2444444444445/9000.0 = 49.4% done in 48.0s, 49.2s to go\n",
      "on time step 1361562 (time=7564.23), 6.03045e-05 s/step\n",
      "Meep progress: 4815.011111111112/9000.0 = 53.5% done in 52.0s, 45.2s to go\n",
      "on time step 1428336 (time=7935.2), 5.99039e-05 s/step\n",
      "Meep progress: 5176.572222222222/9000.0 = 57.5% done in 56.0s, 41.4s to go\n",
      "on time step 1492780 (time=8293.22), 6.20698e-05 s/step\n",
      "Meep progress: 5538.061111111112/9000.0 = 61.5% done in 60.0s, 37.5s to go\n",
      "on time step 1557869 (time=8654.83), 6.14548e-05 s/step\n",
      "Meep progress: 5899.450000000001/9000.0 = 65.5% done in 64.0s, 33.6s to go\n",
      "run 1 finished at t = 9000.0 (1620000 timesteps)\n",
      "178495730.64513856\n",
      "[0.96130926]\n",
      "[0.03869074]\n",
      "[0.]\n",
      "[0.94244355]\n",
      "[0.05755645]\n",
      "[0.]\n",
      "[1.53]\n",
      "11\n",
      "-----------\n",
      "Initializing structure...\n",
      "time for choose_chunkdivision = 5.6982e-05 s\n",
      "Working in 1D dimensions.\n",
      "Computational cell is 0 x 0 x 10 with resolution 90\n",
      "time for set_epsilon = 0.000217915 s\n",
      "-----------\n"
     ]
    },
    {
     "data": {
      "application/vnd.jupyter.widget-view+json": {
       "model_id": "5aa7776462234bf08e5c6c535f1b591d",
       "version_major": 2,
       "version_minor": 0
      },
      "text/plain": [
       "FloatProgress(value=0.0, description='0% done ', max=3000.0)"
      ]
     },
     "metadata": {},
     "output_type": "display_data"
    },
    {
     "name": "stdout",
     "output_type": "stream",
     "text": [
      "Meep progress: 1821.1555555555556/3000.0 = 60.7% done in 4.0s, 2.6s to go\n",
      "on time step 328188 (time=1823.27), 1.21882e-05 s/step\n",
      "run 0 finished at t = 3000.0 (540000 timesteps)\n"
     ]
    },
    {
     "data": {
      "application/vnd.jupyter.widget-view+json": {
       "model_id": "1df5b2ec1eb54c928aef787345cc0db6",
       "version_major": 2,
       "version_minor": 0
      },
      "text/plain": [
       "FloatProgress(value=3000.0, description='0% done ', max=9000.0, min=3000.0)"
      ]
     },
     "metadata": {},
     "output_type": "display_data"
    },
    {
     "name": "stdout",
     "output_type": "stream",
     "text": [
      "on time step 565374 (time=3140.97), 1.68645e-05 s/step\n",
      "Meep progress: 377.41111111111104/9000.0 = 4.2% done in 4.0s, 91.4s to go\n",
      "on time step 633382 (time=3518.79), 5.8817e-05 s/step\n",
      "Meep progress: 755.7555555555555/9000.0 = 8.4% done in 8.0s, 87.3s to go\n",
      "on time step 701288 (time=3896.04), 5.8905e-05 s/step\n",
      "Meep progress: 1129.1388888888887/9000.0 = 12.5% done in 12.0s, 83.6s to go\n",
      "on time step 768085 (time=4267.14), 5.98834e-05 s/step\n",
      "Meep progress: 1504.2888888888892/9000.0 = 16.7% done in 16.0s, 79.7s to go\n",
      "on time step 836043 (time=4644.68), 5.88603e-05 s/step\n",
      "Meep progress: 1878.8555555555558/9000.0 = 20.9% done in 20.0s, 75.8s to go\n",
      "on time step 903400 (time=5018.89), 5.93859e-05 s/step\n",
      "Meep progress: 2254.8/9000.0 = 25.1% done in 24.0s, 71.8s to go\n",
      "on time step 971259 (time=5395.88), 5.89461e-05 s/step\n",
      "Meep progress: 2630.166666666667/9000.0 = 29.2% done in 28.0s, 67.8s to go\n",
      "on time step 1037956 (time=5766.42), 5.99732e-05 s/step\n",
      "Meep progress: 2991.238888888889/9000.0 = 33.2% done in 32.0s, 64.3s to go\n",
      "on time step 1102898 (time=6127.21), 6.15942e-05 s/step\n",
      "Meep progress: 3359.0277777777783/9000.0 = 37.3% done in 36.0s, 60.5s to go\n",
      "on time step 1170085 (time=6500.47), 5.95363e-05 s/step\n",
      "Meep progress: 3736.977777777778/9000.0 = 41.5% done in 40.0s, 56.3s to go\n",
      "on time step 1237372 (time=6874.29), 5.94473e-05 s/step\n",
      "Meep progress: 4108.938888888889/9000.0 = 45.7% done in 44.0s, 52.4s to go\n",
      "on time step 1304948 (time=7249.71), 5.91928e-05 s/step\n",
      "Meep progress: 4481.8/9000.0 = 49.8% done in 48.0s, 48.4s to go\n",
      "on time step 1371212 (time=7617.84), 6.03655e-05 s/step\n",
      "Meep progress: 4849.188888888889/9000.0 = 53.9% done in 52.0s, 44.5s to go\n",
      "on time step 1438180 (time=7989.89), 5.97317e-05 s/step\n",
      "Meep progress: 5224.927777777779/9000.0 = 58.1% done in 56.0s, 40.5s to go\n",
      "on time step 1505808 (time=8365.6), 5.91479e-05 s/step\n",
      "Meep progress: 5601.194444444445/9000.0 = 62.2% done in 60.0s, 36.4s to go\n",
      "on time step 1573219 (time=8740.11), 5.9338e-05 s/step\n",
      "Meep progress: 5975.5/9000.0 = 66.4% done in 64.0s, 32.4s to go\n",
      "run 1 finished at t = 9000.0 (1620000 timesteps)\n",
      "-----------\n",
      "Initializing structure...\n",
      "time for choose_chunkdivision = 5.48363e-05 s\n",
      "Working in 1D dimensions.\n",
      "Computational cell is 0 x 0 x 10 with resolution 90\n",
      "     block, center = (0,0,0)\n",
      "          size (0,0,1.53)\n",
      "          axes (1,0,0), (0,1,0), (0,0,1)\n",
      "          dielectric constant epsilon diagonal = (6.0516,6.0516,6.0516)\n",
      "time for set_epsilon = 0.000261068 s\n",
      "-----------\n"
     ]
    },
    {
     "data": {
      "application/vnd.jupyter.widget-view+json": {
       "model_id": "6aec59909507473eb8d9cae7f3aebc36",
       "version_major": 2,
       "version_minor": 0
      },
      "text/plain": [
       "FloatProgress(value=0.0, description='0% done ', max=3000.0)"
      ]
     },
     "metadata": {},
     "output_type": "display_data"
    },
    {
     "name": "stdout",
     "output_type": "stream",
     "text": [
      "Meep progress: 1844.7055555555555/3000.0 = 61.5% done in 4.0s, 2.5s to go\n",
      "on time step 332556 (time=1847.53), 1.20281e-05 s/step\n",
      "run 0 finished at t = 3000.0 (540000 timesteps)\n"
     ]
    },
    {
     "data": {
      "application/vnd.jupyter.widget-view+json": {
       "model_id": "1d7735b4742642f6a7dd23a80036d057",
       "version_major": 2,
       "version_minor": 0
      },
      "text/plain": [
       "FloatProgress(value=3000.0, description='0% done ', max=9000.0, min=3000.0)"
      ]
     },
     "metadata": {},
     "output_type": "display_data"
    },
    {
     "name": "stdout",
     "output_type": "stream",
     "text": [
      "on time step 565219 (time=3140.11), 1.71925e-05 s/step\n",
      "Meep progress: 375.5500000000002/9000.0 = 4.2% done in 4.0s, 91.9s to go\n",
      "on time step 632631 (time=3514.62), 5.93373e-05 s/step\n",
      "Meep progress: 750.6944444444448/9000.0 = 8.3% done in 8.0s, 87.9s to go\n",
      "on time step 700404 (time=3891.13), 5.9021e-05 s/step\n",
      "Meep progress: 1122.0666666666666/9000.0 = 12.5% done in 12.0s, 84.3s to go\n",
      "on time step 767033 (time=4261.29), 6.00344e-05 s/step\n",
      "Meep progress: 1495.3166666666666/9000.0 = 16.6% done in 16.0s, 80.3s to go\n",
      "on time step 834461 (time=4635.89), 5.93227e-05 s/step\n",
      "Meep progress: 1870.3500000000004/9000.0 = 20.8% done in 20.0s, 76.2s to go\n",
      "on time step 901759 (time=5009.77), 5.94376e-05 s/step\n",
      "Meep progress: 2244.9000000000005/9000.0 = 24.9% done in 24.0s, 72.2s to go\n",
      "on time step 969370 (time=5385.39), 5.91628e-05 s/step\n",
      "Meep progress: 2619.6944444444443/9000.0 = 29.1% done in 28.0s, 68.2s to go\n",
      "on time step 1036372 (time=5757.62), 5.97002e-05 s/step\n",
      "Meep progress: 2988.883333333333/9000.0 = 33.2% done in 32.0s, 64.4s to go\n",
      "on time step 1103387 (time=6129.93), 5.96882e-05 s/step\n",
      "Meep progress: 3364.7777777777783/9000.0 = 37.4% done in 36.0s, 60.3s to go\n",
      "on time step 1170925 (time=6505.14), 5.92265e-05 s/step\n",
      "Meep progress: 3738.366666666667/9000.0 = 41.5% done in 40.0s, 56.3s to go\n",
      "on time step 1238110 (time=6878.39), 5.95375e-05 s/step\n",
      "Meep progress: 4112.561111111111/9000.0 = 45.7% done in 44.0s, 52.3s to go\n",
      "on time step 1305701 (time=7253.89), 5.91803e-05 s/step\n",
      "Meep progress: 4486.238888888889/9000.0 = 49.8% done in 48.0s, 48.3s to go\n",
      "on time step 1372646 (time=7625.81), 5.97511e-05 s/step\n",
      "Meep progress: 4860.950000000001/9000.0 = 54.0% done in 52.0s, 44.3s to go\n",
      "on time step 1440478 (time=8002.66), 5.89694e-05 s/step\n",
      "Meep progress: 5238.116666666667/9000.0 = 58.2% done in 56.0s, 40.2s to go\n",
      "on time step 1508160 (time=8378.67), 5.91004e-05 s/step\n",
      "Meep progress: 5613.177777777779/9000.0 = 62.4% done in 60.0s, 36.2s to go\n",
      "on time step 1575737 (time=8754.09), 5.91922e-05 s/step\n",
      "Meep progress: 5986.116666666667/9000.0 = 66.5% done in 64.0s, 32.2s to go\n",
      "run 1 finished at t = 9000.0 (1620000 timesteps)\n",
      "-----------\n",
      "Initializing structure...\n",
      "time for choose_chunkdivision = 5.60284e-05 s\n",
      "Working in 1D dimensions.\n",
      "Computational cell is 0 x 0 x 10 with resolution 90\n",
      "     block, center = (0,0,0)\n",
      "          size (0,0,1.53)\n",
      "          axes (1,0,0), (0,1,0), (0,0,1)\n",
      "          dielectric constant epsilon diagonal = (6.0516,6.0516,6.0516)\n",
      "time for set_epsilon = 0.000272989 s\n",
      "-----------\n"
     ]
    },
    {
     "data": {
      "application/vnd.jupyter.widget-view+json": {
       "model_id": "907385efab8a4e84bc8257256f03bab5",
       "version_major": 2,
       "version_minor": 0
      },
      "text/plain": [
       "FloatProgress(value=0.0, description='0% done ', max=3000.0)"
      ]
     },
     "metadata": {},
     "output_type": "display_data"
    },
    {
     "name": "stdout",
     "output_type": "stream",
     "text": [
      "Meep progress: 1733.9555555555555/3000.0 = 57.8% done in 4.0s, 2.9s to go\n",
      "on time step 312582 (time=1736.57), 1.27967e-05 s/step\n",
      "run 0 finished at t = 3000.0 (540000 timesteps)\n"
     ]
    },
    {
     "data": {
      "application/vnd.jupyter.widget-view+json": {
       "model_id": "4e4dbb175fe3448584138311efd3f03b",
       "version_major": 2,
       "version_minor": 0
      },
      "text/plain": [
       "FloatProgress(value=3000.0, description='0% done ', max=9000.0, min=3000.0)"
      ]
     },
     "metadata": {},
     "output_type": "display_data"
    },
    {
     "name": "stdout",
     "output_type": "stream",
     "text": [
      "on time step 558692 (time=3103.84), 1.62533e-05 s/step\n",
      "Meep progress: 369.98888888888905/9000.0 = 4.1% done in 4.0s, 93.3s to go\n",
      "on time step 624926 (time=3471.81), 6.03926e-05 s/step\n",
      "Meep progress: 736.4611111111112/9000.0 = 8.2% done in 8.0s, 89.8s to go\n",
      "on time step 691288 (time=3840.49), 6.02755e-05 s/step\n",
      "Meep progress: 1106.7555555555555/9000.0 = 12.3% done in 12.0s, 85.6s to go\n",
      "on time step 757875 (time=4210.42), 6.00723e-05 s/step\n",
      "Meep progress: 1471.0/9000.0 = 16.3% done in 16.0s, 81.9s to go\n",
      "on time step 823591 (time=4575.51), 6.08683e-05 s/step\n",
      "Meep progress: 1841.5/9000.0 = 20.5% done in 20.0s, 77.7s to go\n",
      "on time step 890362 (time=4946.46), 5.99069e-05 s/step\n",
      "Meep progress: 2212.6944444444443/9000.0 = 24.6% done in 24.0s, 73.6s to go\n",
      "on time step 957191 (time=5317.73), 5.98551e-05 s/step\n",
      "Meep progress: 2583.7888888888892/9000.0 = 28.7% done in 28.0s, 69.5s to go\n",
      "on time step 1023795 (time=5687.75), 6.00571e-05 s/step\n",
      "Meep progress: 2943.3166666666666/9000.0 = 32.7% done in 32.0s, 65.8s to go\n",
      "on time step 1088474 (time=6047.08), 6.18442e-05 s/step\n",
      "Meep progress: 3312.8166666666666/9000.0 = 36.8% done in 36.0s, 61.8s to go\n",
      "on time step 1155254 (time=6418.08), 5.98989e-05 s/step\n",
      "Meep progress: 3683.1833333333334/9000.0 = 40.9% done in 40.0s, 57.7s to go\n",
      "on time step 1221928 (time=6788.49), 5.99937e-05 s/step\n",
      "Meep progress: 4053.666666666667/9000.0 = 45.0% done in 44.0s, 53.7s to go\n",
      "on time step 1288618 (time=7158.99), 5.99793e-05 s/step\n",
      "Meep progress: 4425.694444444444/9000.0 = 49.2% done in 48.0s, 49.6s to go\n",
      "on time step 1355171 (time=7528.73), 6.01033e-05 s/step\n",
      "Meep progress: 4790.261111111112/9000.0 = 53.2% done in 52.0s, 45.7s to go\n",
      "on time step 1421243 (time=7895.79), 6.05411e-05 s/step\n",
      "Meep progress: 5160.211111111112/9000.0 = 57.3% done in 56.0s, 41.7s to go\n",
      "on time step 1487790 (time=8265.5), 6.01082e-05 s/step\n",
      "Meep progress: 5530.605555555556/9000.0 = 61.5% done in 60.0s, 37.6s to go\n",
      "on time step 1554454 (time=8635.86), 6.00032e-05 s/step\n",
      "Meep progress: 5901.033333333333/9000.0 = 65.6% done in 64.0s, 33.6s to go\n",
      "run 1 finished at t = 9000.0 (1620000 timesteps)\n",
      "196170307.8952941\n",
      "[0.936544]\n",
      "[0.063456]\n",
      "[0.]\n",
      "[0.94244355]\n",
      "[0.05755645]\n",
      "[0.]\n",
      "[1.53]\n",
      "12\n",
      "-----------\n",
      "Initializing structure...\n",
      "time for choose_chunkdivision = 5.57899e-05 s\n",
      "Working in 1D dimensions.\n",
      "Computational cell is 0 x 0 x 10 with resolution 90\n",
      "time for set_epsilon = 0.00022006 s\n",
      "-----------\n"
     ]
    },
    {
     "data": {
      "application/vnd.jupyter.widget-view+json": {
       "model_id": "9274a777cc4b4ec3b354c9a93fe8514b",
       "version_major": 2,
       "version_minor": 0
      },
      "text/plain": [
       "FloatProgress(value=0.0, description='0% done ', max=3000.0)"
      ]
     },
     "metadata": {},
     "output_type": "display_data"
    },
    {
     "name": "stdout",
     "output_type": "stream",
     "text": [
      "Meep progress: 1838.5666666666668/3000.0 = 61.3% done in 4.0s, 2.5s to go\n",
      "on time step 331433 (time=1841.29), 1.20688e-05 s/step\n",
      "run 0 finished at t = 3000.0 (540000 timesteps)\n"
     ]
    },
    {
     "data": {
      "application/vnd.jupyter.widget-view+json": {
       "model_id": "8e7dab10fe784b5f8d05119920a12fc6",
       "version_major": 2,
       "version_minor": 0
      },
      "text/plain": [
       "FloatProgress(value=3000.0, description='0% done ', max=9000.0, min=3000.0)"
      ]
     },
     "metadata": {},
     "output_type": "display_data"
    },
    {
     "name": "stdout",
     "output_type": "stream",
     "text": [
      "on time step 566243 (time=3145.79), 1.70351e-05 s/step\n",
      "Meep progress: 375.73888888888905/9000.0 = 4.2% done in 4.0s, 91.8s to go\n",
      "on time step 633452 (time=3519.18), 5.95163e-05 s/step\n",
      "Meep progress: 750.0277777777778/9000.0 = 8.3% done in 8.0s, 88.0s to go\n",
      "on time step 700985 (time=3894.36), 5.9231e-05 s/step\n",
      "Meep progress: 1124.4000000000005/9000.0 = 12.5% done in 12.0s, 84.1s to go\n",
      "on time step 768055 (time=4266.97), 5.96404e-05 s/step\n",
      "Meep progress: 1489.011111111111/9000.0 = 16.5% done in 16.0s, 80.7s to go\n",
      "on time step 833449 (time=4630.27), 6.11683e-05 s/step\n",
      "Meep progress: 1852.0666666666666/9000.0 = 20.6% done in 20.0s, 77.2s to go\n",
      "on time step 898841 (time=4993.56), 6.11704e-05 s/step\n",
      "Meep progress: 2220.477777777778/9000.0 = 24.7% done in 24.0s, 73.3s to go\n",
      "on time step 965554 (time=5364.19), 5.99587e-05 s/step\n",
      "Meep progress: 2592.177777777778/9000.0 = 28.8% done in 28.0s, 69.2s to go\n",
      "on time step 1032293 (time=5734.96), 5.99354e-05 s/step\n",
      "Meep progress: 2961.8055555555557/9000.0 = 32.9% done in 32.0s, 65.2s to go\n",
      "on time step 1098233 (time=6101.29), 6.06616e-05 s/step\n",
      "Meep progress: 3326.177777777778/9000.0 = 37.0% done in 36.0s, 61.4s to go\n",
      "on time step 1164307 (time=6468.37), 6.05389e-05 s/step\n",
      "Meep progress: 3690.1222222222223/9000.0 = 41.0% done in 40.0s, 57.6s to go\n",
      "on time step 1229840 (time=6832.44), 6.1038e-05 s/step\n",
      "Meep progress: 4059.3500000000004/9000.0 = 45.1% done in 44.0s, 53.6s to go\n",
      "on time step 1296180 (time=7201), 6.02958e-05 s/step\n",
      "Meep progress: 4426.111111111111/9000.0 = 49.2% done in 48.0s, 49.6s to go\n",
      "on time step 1361312 (time=7562.84), 6.14144e-05 s/step\n",
      "Meep progress: 4786.422222222222/9000.0 = 53.2% done in 52.0s, 45.8s to go\n",
      "on time step 1427700 (time=7931.67), 6.0252e-05 s/step\n",
      "Meep progress: 5161.694444444444/9000.0 = 57.4% done in 56.0s, 41.6s to go\n",
      "on time step 1495283 (time=8307.13), 5.91868e-05 s/step\n",
      "Meep progress: 5536.65/9000.0 = 61.5% done in 60.0s, 37.5s to go\n",
      "on time step 1562881 (time=8682.67), 5.91737e-05 s/step\n",
      "Meep progress: 5910.872222222222/9000.0 = 65.7% done in 64.0s, 33.4s to go\n",
      "run 1 finished at t = 9000.0 (1620000 timesteps)\n",
      "-----------\n",
      "Initializing structure...\n",
      "time for choose_chunkdivision = 5.91278e-05 s\n",
      "Working in 1D dimensions.\n",
      "Computational cell is 0 x 0 x 10 with resolution 90\n",
      "     block, center = (0,0,0)\n",
      "          size (0,0,1.53)\n",
      "          axes (1,0,0), (0,1,0), (0,0,1)\n",
      "          dielectric constant epsilon diagonal = (6.0516,6.0516,6.0516)\n",
      "time for set_epsilon = 0.000257015 s\n",
      "-----------\n"
     ]
    },
    {
     "data": {
      "application/vnd.jupyter.widget-view+json": {
       "model_id": "c622d3055027409c8bb1eda71633674d",
       "version_major": 2,
       "version_minor": 0
      },
      "text/plain": [
       "FloatProgress(value=0.0, description='0% done ', max=3000.0)"
      ]
     },
     "metadata": {},
     "output_type": "display_data"
    },
    {
     "name": "stdout",
     "output_type": "stream",
     "text": [
      "Meep progress: 1832.6833333333334/3000.0 = 61.1% done in 4.0s, 2.5s to go\n",
      "on time step 330341 (time=1835.23), 1.21087e-05 s/step\n",
      "run 0 finished at t = 3000.0 (540000 timesteps)\n"
     ]
    },
    {
     "data": {
      "application/vnd.jupyter.widget-view+json": {
       "model_id": "550fc3b807c14c65b49fa8394d024736",
       "version_major": 2,
       "version_minor": 0
      },
      "text/plain": [
       "FloatProgress(value=3000.0, description='0% done ', max=9000.0, min=3000.0)"
      ]
     },
     "metadata": {},
     "output_type": "display_data"
    },
    {
     "name": "stdout",
     "output_type": "stream",
     "text": [
      "on time step 564462 (time=3135.9), 1.70853e-05 s/step\n",
      "Meep progress: 366.13333333333367/9000.0 = 4.1% done in 4.0s, 94.3s to go\n",
      "on time step 629338 (time=3496.32), 6.16567e-05 s/step\n",
      "Meep progress: 725.5722222222225/9000.0 = 8.1% done in 8.0s, 91.2s to go\n",
      "on time step 695362 (time=3863.12), 6.05841e-05 s/step\n",
      "Meep progress: 1093.2777777777778/9000.0 = 12.1% done in 12.0s, 86.8s to go\n",
      "on time step 760004 (time=4222.24), 6.18801e-05 s/step\n",
      "Meep progress: 1459.3777777777777/9000.0 = 16.2% done in 16.0s, 82.7s to go\n",
      "on time step 827385 (time=4596.58), 5.93645e-05 s/step\n",
      "Meep progress: 1828.5222222222228/9000.0 = 20.3% done in 20.0s, 78.4s to go\n",
      "on time step 893522 (time=4964.01), 6.04812e-05 s/step\n",
      "Meep progress: 2194.655555555556/9000.0 = 24.4% done in 24.0s, 74.4s to go\n",
      "on time step 959818 (time=5332.32), 6.0336e-05 s/step\n",
      "Meep progress: 2565.2944444444447/9000.0 = 28.5% done in 28.0s, 70.2s to go\n",
      "on time step 1025617 (time=5697.87), 6.0792e-05 s/step\n",
      "Meep progress: 2920.2777777777783/9000.0 = 32.4% done in 32.0s, 66.6s to go\n",
      "on time step 1089640 (time=6053.56), 6.24785e-05 s/step\n",
      "Meep progress: 3285.3777777777777/9000.0 = 36.5% done in 36.0s, 62.6s to go\n",
      "on time step 1156105 (time=6422.81), 6.01822e-05 s/step\n",
      "Meep progress: 3651.927777777778/9000.0 = 40.6% done in 40.0s, 58.6s to go\n",
      "on time step 1221946 (time=6788.59), 6.07532e-05 s/step\n",
      "Meep progress: 4020.5/9000.0 = 44.7% done in 44.0s, 54.5s to go\n",
      "on time step 1287705 (time=7153.92), 6.08288e-05 s/step\n",
      "Meep progress: 4382.166666666667/9000.0 = 48.7% done in 48.0s, 50.6s to go\n",
      "on time step 1352939 (time=7516.33), 6.1318e-05 s/step\n",
      "Meep progress: 4746.872222222222/9000.0 = 52.7% done in 52.0s, 46.6s to go\n",
      "on time step 1419233 (time=7884.63), 6.0338e-05 s/step\n",
      "Meep progress: 5116.988888888889/9000.0 = 56.9% done in 56.0s, 42.5s to go\n",
      "on time step 1485507 (time=8252.82), 6.03561e-05 s/step\n",
      "Meep progress: 5484.4944444444445/9000.0 = 60.9% done in 60.0s, 38.5s to go\n",
      "on time step 1551923 (time=8621.79), 6.02265e-05 s/step\n",
      "Meep progress: 5856.622222222222/9000.0 = 65.1% done in 64.0s, 34.4s to go\n",
      "on time step 1619193 (time=8995.52), 5.94626e-05 s/step\n",
      "run 1 finished at t = 9000.0 (1620000 timesteps)\n",
      "-----------\n",
      "Initializing structure...\n",
      "time for choose_chunkdivision = 7.29561e-05 s\n",
      "Working in 1D dimensions.\n",
      "Computational cell is 0 x 0 x 10 with resolution 90\n",
      "     block, center = (0,0,0)\n",
      "          size (0,0,1.53)\n",
      "          axes (1,0,0), (0,1,0), (0,0,1)\n",
      "          dielectric constant epsilon diagonal = (6.0516,6.0516,6.0516)\n",
      "time for set_epsilon = 0.000257969 s\n",
      "-----------\n"
     ]
    },
    {
     "data": {
      "application/vnd.jupyter.widget-view+json": {
       "model_id": "e484507abf5745e8b4bf0631dbcaa0a8",
       "version_major": 2,
       "version_minor": 0
      },
      "text/plain": [
       "FloatProgress(value=0.0, description='0% done ', max=3000.0)"
      ]
     },
     "metadata": {},
     "output_type": "display_data"
    },
    {
     "name": "stdout",
     "output_type": "stream",
     "text": [
      "Meep progress: 1730.7111111111112/3000.0 = 57.7% done in 4.0s, 2.9s to go\n",
      "on time step 311787 (time=1732.15), 1.28293e-05 s/step\n",
      "run 0 finished at t = 3000.0 (540000 timesteps)\n"
     ]
    },
    {
     "data": {
      "application/vnd.jupyter.widget-view+json": {
       "model_id": "c30d9e6f4c8e4368add1da68f5cd947b",
       "version_major": 2,
       "version_minor": 0
      },
      "text/plain": [
       "FloatProgress(value=3000.0, description='0% done ', max=9000.0, min=3000.0)"
      ]
     },
     "metadata": {},
     "output_type": "display_data"
    },
    {
     "name": "stdout",
     "output_type": "stream",
     "text": [
      "on time step 557047 (time=3094.71), 1.63094e-05 s/step\n",
      "Meep progress: 365.2666666666669/9000.0 = 4.1% done in 4.0s, 94.6s to go\n",
      "on time step 622894 (time=3460.52), 6.07477e-05 s/step\n",
      "Meep progress: 730.4444444444448/9000.0 = 8.1% done in 8.0s, 90.6s to go\n",
      "on time step 688807 (time=3826.71), 6.06866e-05 s/step\n",
      "Meep progress: 1092.7777777777778/9000.0 = 12.1% done in 12.0s, 86.8s to go\n",
      "on time step 753602 (time=4186.68), 6.17336e-05 s/step\n",
      "Meep progress: 1460.2333333333336/9000.0 = 16.2% done in 16.0s, 82.6s to go\n",
      "on time step 820250 (time=4556.94), 6.00175e-05 s/step\n",
      "Meep progress: 1831.7444444444445/9000.0 = 20.4% done in 20.0s, 78.3s to go\n",
      "on time step 886812 (time=4926.73), 6.00948e-05 s/step\n",
      "Meep progress: 2202.6833333333334/9000.0 = 24.5% done in 24.0s, 74.1s to go\n",
      "on time step 953861 (time=5299.23), 5.96586e-05 s/step\n",
      "Meep progress: 2572.022222222223/9000.0 = 28.6% done in 28.0s, 70.0s to go\n",
      "on time step 1019167 (time=5662.04), 6.12504e-05 s/step\n",
      "Meep progress: 2920.083333333334/9000.0 = 32.4% done in 32.0s, 66.6s to go\n",
      "on time step 1082636 (time=6014.64), 6.30231e-05 s/step\n",
      "Meep progress: 3290.1833333333334/9000.0 = 36.6% done in 36.0s, 62.5s to go\n",
      "on time step 1149755 (time=6387.53), 5.95962e-05 s/step\n",
      "Meep progress: 3664.477777777778/9000.0 = 40.7% done in 40.0s, 58.2s to go\n",
      "on time step 1216878 (time=6760.43), 5.95927e-05 s/step\n",
      "Meep progress: 4036.3500000000004/9000.0 = 44.8% done in 44.0s, 54.1s to go\n",
      "on time step 1283812 (time=7132.29), 5.97606e-05 s/step\n",
      "Meep progress: 4397.111111111111/9000.0 = 48.9% done in 48.0s, 50.2s to go\n",
      "on time step 1348400 (time=7491.11), 6.19311e-05 s/step\n",
      "Meep progress: 4762.177777777778/9000.0 = 52.9% done in 52.0s, 46.3s to go\n",
      "on time step 1414395 (time=7857.75), 6.0611e-05 s/step\n",
      "Meep progress: 5125.444444444444/9000.0 = 56.9% done in 56.0s, 42.3s to go\n",
      "on time step 1479937 (time=8221.87), 6.10302e-05 s/step\n",
      "Meep progress: 5495.583333333334/9000.0 = 61.1% done in 60.0s, 38.3s to go\n",
      "on time step 1546293 (time=8590.52), 6.02817e-05 s/step\n",
      "Meep progress: 5863.627777777778/9000.0 = 65.2% done in 64.0s, 34.2s to go\n",
      "on time step 1612022 (time=8955.68), 6.08569e-05 s/step\n",
      "run 1 finished at t = 9000.0 (1620000 timesteps)\n",
      "213844885.14545023\n",
      "[0.90581297]\n",
      "[0.09418703]\n",
      "[0.]\n",
      "[0.94244355]\n",
      "[0.05755645]\n",
      "[0.]\n",
      "[1.53]\n",
      "13\n",
      "-----------\n",
      "Initializing structure...\n",
      "time for choose_chunkdivision = 7.98702e-05 s\n",
      "Working in 1D dimensions.\n",
      "Computational cell is 0 x 0 x 10 with resolution 90\n",
      "time for set_epsilon = 0.000224113 s\n",
      "-----------\n"
     ]
    },
    {
     "data": {
      "application/vnd.jupyter.widget-view+json": {
       "model_id": "cf59b9ff673f48a190f16dcf1f928539",
       "version_major": 2,
       "version_minor": 0
      },
      "text/plain": [
       "FloatProgress(value=0.0, description='0% done ', max=3000.0)"
      ]
     },
     "metadata": {},
     "output_type": "display_data"
    },
    {
     "name": "stdout",
     "output_type": "stream",
     "text": [
      "Meep progress: 1811.3166666666668/3000.0 = 60.4% done in 4.0s, 2.6s to go\n",
      "on time step 326460 (time=1813.67), 1.22527e-05 s/step\n",
      "run 0 finished at t = 3000.0 (540000 timesteps)\n"
     ]
    },
    {
     "data": {
      "application/vnd.jupyter.widget-view+json": {
       "model_id": "708e7d497afa4cc998f4b3acc17557a1",
       "version_major": 2,
       "version_minor": 0
      },
      "text/plain": [
       "FloatProgress(value=3000.0, description='0% done ', max=9000.0, min=3000.0)"
      ]
     },
     "metadata": {},
     "output_type": "display_data"
    },
    {
     "name": "stdout",
     "output_type": "stream",
     "text": [
      "on time step 564251 (time=3134.73), 1.68217e-05 s/step\n",
      "Meep progress: 372.4444444444448/9000.0 = 4.1% done in 4.0s, 92.7s to go\n",
      "on time step 631549 (time=3508.61), 5.94376e-05 s/step\n",
      "Meep progress: 744.3722222222223/9000.0 = 8.3% done in 8.0s, 88.7s to go\n",
      "on time step 698023 (time=3877.91), 6.01746e-05 s/step\n",
      "Meep progress: 1106.9444444444443/9000.0 = 12.3% done in 12.0s, 85.6s to go\n",
      "on time step 763192 (time=4239.96), 6.13792e-05 s/step\n",
      "Meep progress: 1475.9499999999998/9000.0 = 16.4% done in 16.0s, 81.6s to go\n",
      "on time step 830275 (time=4612.64), 5.9628e-05 s/step\n",
      "Meep progress: 1850.3166666666666/9000.0 = 20.6% done in 20.0s, 77.3s to go\n",
      "on time step 897593 (time=4986.63), 5.94198e-05 s/step\n",
      "Meep progress: 2224.2777777777783/9000.0 = 24.7% done in 24.0s, 73.1s to go\n",
      "on time step 965021 (time=5361.23), 5.93233e-05 s/step\n",
      "Meep progress: 2592.6833333333334/9000.0 = 28.8% done in 28.0s, 69.2s to go\n",
      "on time step 1030725 (time=5726.25), 6.08796e-05 s/step\n",
      "Meep progress: 2957.9333333333334/9000.0 = 32.9% done in 32.0s, 65.4s to go\n",
      "on time step 1097184 (time=6095.47), 6.01879e-05 s/step\n",
      "Meep progress: 3334.155555555556/9000.0 = 37.0% done in 36.0s, 61.2s to go\n",
      "on time step 1164905 (time=6471.69), 5.90665e-05 s/step\n",
      "Meep progress: 3708.5166666666673/9000.0 = 41.2% done in 40.0s, 57.1s to go\n",
      "on time step 1231363 (time=6840.91), 6.01886e-05 s/step\n",
      "Meep progress: 4079.616666666667/9000.0 = 45.3% done in 44.0s, 53.1s to go\n",
      "on time step 1299069 (time=7217.05), 5.90793e-05 s/step\n",
      "Meep progress: 4446.822222222222/9000.0 = 49.4% done in 48.0s, 49.1s to go\n",
      "on time step 1363906 (time=7577.26), 6.16936e-05 s/step\n",
      "Meep progress: 4817.983333333334/9000.0 = 53.5% done in 52.0s, 45.1s to go\n",
      "on time step 1432282 (time=7957.12), 5.85001e-05 s/step\n",
      "Meep progress: 5198.888888888889/9000.0 = 57.8% done in 56.0s, 40.9s to go\n",
      "on time step 1500846 (time=8338.03), 5.83397e-05 s/step\n",
      "Meep progress: 5573.822222222223/9000.0 = 61.9% done in 60.0s, 36.9s to go\n",
      "on time step 1567875 (time=8710.42), 5.96762e-05 s/step\n",
      "Meep progress: 5946.322222222223/9000.0 = 66.1% done in 64.0s, 32.9s to go\n",
      "run 1 finished at t = 9000.0 (1620000 timesteps)\n",
      "-----------\n",
      "Initializing structure...\n",
      "time for choose_chunkdivision = 7.20024e-05 s\n",
      "Working in 1D dimensions.\n",
      "Computational cell is 0 x 0 x 10 with resolution 90\n",
      "     block, center = (0,0,0)\n",
      "          size (0,0,1.53)\n",
      "          axes (1,0,0), (0,1,0), (0,0,1)\n",
      "          dielectric constant epsilon diagonal = (6.0516,6.0516,6.0516)\n",
      "time for set_epsilon = 0.000264883 s\n",
      "-----------\n"
     ]
    },
    {
     "data": {
      "application/vnd.jupyter.widget-view+json": {
       "model_id": "58c8ba5f20e348f080b5eb91be3143b2",
       "version_major": 2,
       "version_minor": 0
      },
      "text/plain": [
       "FloatProgress(value=0.0, description='0% done ', max=3000.0)"
      ]
     },
     "metadata": {},
     "output_type": "display_data"
    },
    {
     "name": "stdout",
     "output_type": "stream",
     "text": [
      "Meep progress: 1836.6611111111113/3000.0 = 61.2% done in 4.0s, 2.5s to go\n",
      "on time step 330981 (time=1838.78), 1.20853e-05 s/step\n",
      "run 0 finished at t = 3000.0 (540000 timesteps)\n"
     ]
    },
    {
     "data": {
      "application/vnd.jupyter.widget-view+json": {
       "model_id": "33099fa026eb4c369889d83e8a82cf0d",
       "version_major": 2,
       "version_minor": 0
      },
      "text/plain": [
       "FloatProgress(value=3000.0, description='0% done ', max=9000.0, min=3000.0)"
      ]
     },
     "metadata": {},
     "output_type": "display_data"
    },
    {
     "name": "stdout",
     "output_type": "stream",
     "text": [
      "on time step 564653 (time=3136.96), 1.71181e-05 s/step\n",
      "Meep progress: 374.32222222222254/9000.0 = 4.2% done in 4.0s, 92.2s to go\n",
      "on time step 631773 (time=3509.85), 5.95959e-05 s/step\n",
      "Meep progress: 746.7444444444445/9000.0 = 8.3% done in 8.0s, 88.4s to go\n",
      "on time step 697664 (time=3875.91), 6.0707e-05 s/step\n",
      "Meep progress: 1107.6722222222224/9000.0 = 12.3% done in 12.0s, 85.5s to go\n",
      "on time step 764135 (time=4245.19), 6.01773e-05 s/step\n",
      "Meep progress: 1485.3833333333332/9000.0 = 16.5% done in 16.0s, 80.9s to go\n",
      "on time step 832121 (time=4622.89), 5.88359e-05 s/step\n",
      "Meep progress: 1857.4000000000005/9000.0 = 20.6% done in 20.0s, 76.9s to go\n",
      "on time step 898814 (time=4993.41), 5.99771e-05 s/step\n",
      "Meep progress: 2229.4222222222224/9000.0 = 24.8% done in 24.0s, 72.9s to go\n",
      "on time step 965657 (time=5364.76), 5.98424e-05 s/step\n",
      "Meep progress: 2594.9722222222226/9000.0 = 28.8% done in 28.0s, 69.1s to go\n",
      "on time step 1030892 (time=5727.18), 6.13174e-05 s/step\n",
      "Meep progress: 2955.3277777777776/9000.0 = 32.8% done in 32.0s, 65.5s to go\n",
      "on time step 1096463 (time=6091.46), 6.10027e-05 s/step\n",
      "Meep progress: 3324.5666666666666/9000.0 = 36.9% done in 36.0s, 61.5s to go\n",
      "on time step 1162694 (time=6459.41), 6.03952e-05 s/step\n",
      "Meep progress: 3692.227777777778/9000.0 = 41.0% done in 40.0s, 57.5s to go\n",
      "on time step 1228863 (time=6827.02), 6.0452e-05 s/step\n",
      "Meep progress: 4060.45/9000.0 = 45.1% done in 44.0s, 53.5s to go\n",
      "on time step 1294528 (time=7191.82), 6.09153e-05 s/step\n",
      "Meep progress: 4424.200000000001/9000.0 = 49.2% done in 48.0s, 49.6s to go\n",
      "on time step 1360265 (time=7557.03), 6.08497e-05 s/step\n",
      "Meep progress: 4794.738888888889/9000.0 = 53.3% done in 52.0s, 45.6s to go\n",
      "on time step 1427764 (time=7932.02), 5.92604e-05 s/step\n",
      "Meep progress: 5168.961111111112/9000.0 = 57.4% done in 56.0s, 41.5s to go\n",
      "on time step 1495082 (time=8306.01), 5.94199e-05 s/step\n",
      "Meep progress: 5542.394444444444/9000.0 = 61.6% done in 60.0s, 37.4s to go\n",
      "on time step 1561976 (time=8677.64), 5.97965e-05 s/step\n",
      "Meep progress: 5914.183333333334/9000.0 = 65.7% done in 64.0s, 33.4s to go\n",
      "run 1 finished at t = 9000.0 (1620000 timesteps)\n",
      "-----------\n",
      "Initializing structure...\n",
      "time for choose_chunkdivision = 5.38826e-05 s\n",
      "Working in 1D dimensions.\n",
      "Computational cell is 0 x 0 x 10 with resolution 90\n",
      "     block, center = (0,0,0)\n",
      "          size (0,0,1.53)\n",
      "          axes (1,0,0), (0,1,0), (0,0,1)\n",
      "          dielectric constant epsilon diagonal = (6.0516,6.0516,6.0516)\n",
      "time for set_epsilon = 0.000259161 s\n",
      "-----------\n"
     ]
    },
    {
     "data": {
      "application/vnd.jupyter.widget-view+json": {
       "model_id": "5d722e1522b44156b2340fdaec674531",
       "version_major": 2,
       "version_minor": 0
      },
      "text/plain": [
       "FloatProgress(value=0.0, description='0% done ', max=3000.0)"
      ]
     },
     "metadata": {},
     "output_type": "display_data"
    },
    {
     "name": "stdout",
     "output_type": "stream",
     "text": [
      "Meep progress: 1743.888888888889/3000.0 = 58.1% done in 4.0s, 2.9s to go\n",
      "on time step 314201 (time=1745.56), 1.27307e-05 s/step\n",
      "run 0 finished at t = 3000.0 (540000 timesteps)\n"
     ]
    },
    {
     "data": {
      "application/vnd.jupyter.widget-view+json": {
       "model_id": "4bdf519c6c3a4667a553a0731f1534c8",
       "version_major": 2,
       "version_minor": 0
      },
      "text/plain": [
       "FloatProgress(value=3000.0, description='0% done ', max=9000.0, min=3000.0)"
      ]
     },
     "metadata": {},
     "output_type": "display_data"
    },
    {
     "name": "stdout",
     "output_type": "stream",
     "text": [
      "on time step 557750 (time=3098.61), 1.6424e-05 s/step\n",
      "Meep progress: 356.48888888888905/9000.0 = 4.0% done in 4.0s, 97.0s to go\n",
      "on time step 622684 (time=3459.36), 6.16018e-05 s/step\n",
      "Meep progress: 720.5833333333335/9000.0 = 8.0% done in 8.0s, 91.9s to go\n",
      "on time step 687870 (time=3821.5), 6.13632e-05 s/step\n",
      "Meep progress: 1071.9333333333334/9000.0 = 11.9% done in 12.0s, 88.8s to go\n",
      "on time step 750656 (time=4170.31), 6.37091e-05 s/step\n",
      "Meep progress: 1418.3777777777777/9000.0 = 15.8% done in 16.0s, 85.5s to go\n",
      "on time step 813714 (time=4520.63), 6.34339e-05 s/step\n",
      "Meep progress: 1783.6333333333332/9000.0 = 19.8% done in 20.0s, 80.9s to go\n",
      "on time step 879401 (time=4885.56), 6.08952e-05 s/step\n",
      "Meep progress: 2150.8777777777777/9000.0 = 23.9% done in 24.0s, 76.4s to go\n",
      "on time step 945831 (time=5254.62), 6.0214e-05 s/step\n",
      "Meep progress: 2515.6388888888887/9000.0 = 28.0% done in 28.0s, 72.2s to go\n",
      "on time step 1011205 (time=5617.81), 6.11865e-05 s/step\n",
      "Meep progress: 2878.705555555556/9000.0 = 32.0% done in 32.0s, 68.0s to go\n",
      "on time step 1076947 (time=5983.04), 6.08443e-05 s/step\n",
      "Meep progress: 3248.177777777778/9000.0 = 36.1% done in 36.0s, 63.7s to go\n",
      "on time step 1142509 (time=6347.27), 6.10115e-05 s/step\n",
      "Meep progress: 3612.4833333333336/9000.0 = 40.1% done in 40.0s, 59.7s to go\n",
      "on time step 1208766 (time=6715.37), 6.03716e-05 s/step\n",
      "Meep progress: 3981.677777777778/9000.0 = 44.2% done in 44.0s, 55.5s to go\n",
      "on time step 1275322 (time=7085.12), 6.01005e-05 s/step\n",
      "Meep progress: 4346.022222222223/9000.0 = 48.3% done in 48.0s, 51.4s to go\n",
      "on time step 1340765 (time=7448.69), 6.11227e-05 s/step\n",
      "Meep progress: 4714.13888888889/9000.0 = 52.4% done in 52.0s, 47.3s to go\n",
      "on time step 1407372 (time=7818.73), 6.00541e-05 s/step\n",
      "Meep progress: 5081.5/9000.0 = 56.5% done in 56.0s, 43.2s to go\n",
      "on time step 1472758 (time=8181.99), 6.11756e-05 s/step\n",
      "Meep progress: 5442.372222222222/9000.0 = 60.5% done in 60.0s, 39.2s to go\n",
      "on time step 1538125 (time=8545.14), 6.11938e-05 s/step\n",
      "Meep progress: 5808.588888888889/9000.0 = 64.5% done in 64.0s, 35.2s to go\n",
      "on time step 1603428 (time=8907.93), 6.12532e-05 s/step\n",
      "run 1 finished at t = 9000.0 (1620000 timesteps)\n",
      "231519462.3956062\n",
      "[0.87131833]\n",
      "[0.12868167]\n",
      "[0.]\n",
      "[0.94244355]\n",
      "[0.05755645]\n",
      "[0.]\n",
      "[1.53]\n",
      "14\n",
      "-----------\n",
      "Initializing structure...\n",
      "time for choose_chunkdivision = 5.60284e-05 s\n",
      "Working in 1D dimensions.\n",
      "Computational cell is 0 x 0 x 10 with resolution 90\n",
      "time for set_epsilon = 0.000247955 s\n",
      "-----------\n"
     ]
    },
    {
     "data": {
      "application/vnd.jupyter.widget-view+json": {
       "model_id": "59895baa674a4361800e1078babd364c",
       "version_major": 2,
       "version_minor": 0
      },
      "text/plain": [
       "FloatProgress(value=0.0, description='0% done ', max=3000.0)"
      ]
     },
     "metadata": {},
     "output_type": "display_data"
    },
    {
     "name": "stdout",
     "output_type": "stream",
     "text": [
      "Meep progress: 1859.7055555555555/3000.0 = 62.0% done in 4.0s, 2.5s to go\n",
      "on time step 335171 (time=1862.06), 1.19349e-05 s/step\n",
      "run 0 finished at t = 3000.0 (540000 timesteps)\n"
     ]
    },
    {
     "data": {
      "application/vnd.jupyter.widget-view+json": {
       "model_id": "6a344b287ebe40179cc603148c379a3e",
       "version_major": 2,
       "version_minor": 0
      },
      "text/plain": [
       "FloatProgress(value=3000.0, description='0% done ', max=9000.0, min=3000.0)"
      ]
     },
     "metadata": {},
     "output_type": "display_data"
    },
    {
     "name": "stdout",
     "output_type": "stream",
     "text": [
      "on time step 566459 (time=3146.99), 1.72945e-05 s/step\n",
      "Meep progress: 369.2444444444445/9000.0 = 4.1% done in 4.0s, 93.5s to go\n",
      "on time step 633135 (time=3517.42), 5.99927e-05 s/step\n",
      "Meep progress: 718.7055555555557/9000.0 = 8.0% done in 8.0s, 92.2s to go\n",
      "on time step 695150 (time=3861.94), 6.45007e-05 s/step\n",
      "Meep progress: 1079.588888888889/9000.0 = 12.0% done in 12.0s, 88.0s to go\n",
      "on time step 760601 (time=4225.56), 6.11146e-05 s/step\n",
      "Meep progress: 1449.4444444444443/9000.0 = 16.1% done in 16.0s, 83.3s to go\n",
      "on time step 827318 (time=4596.21), 5.99552e-05 s/step\n",
      "Meep progress: 1819.5/9000.0 = 20.2% done in 20.0s, 78.9s to go\n",
      "on time step 894194 (time=4967.74), 5.98131e-05 s/step\n",
      "Meep progress: 2190.594444444445/9000.0 = 24.3% done in 24.0s, 74.6s to go\n",
      "on time step 959421 (time=5330.12), 6.13248e-05 s/step\n",
      "Meep progress: 2542.9722222222226/9000.0 = 28.3% done in 28.0s, 71.1s to go\n",
      "on time step 1022446 (time=5680.26), 6.34672e-05 s/step\n",
      "Meep progress: 2890.866666666667/9000.0 = 32.1% done in 32.0s, 67.6s to go\n",
      "on time step 1086111 (time=6033.95), 6.28292e-05 s/step\n",
      "Meep progress: 3258.438888888889/9000.0 = 36.2% done in 36.0s, 63.4s to go\n",
      "on time step 1152805 (time=6404.47), 5.99762e-05 s/step\n",
      "Meep progress: 3626.916666666667/9000.0 = 40.3% done in 40.0s, 59.3s to go\n",
      "on time step 1219063 (time=6772.57), 6.03706e-05 s/step\n",
      "Meep progress: 3996.3500000000004/9000.0 = 44.4% done in 44.0s, 55.1s to go\n",
      "on time step 1284636 (time=7136.87), 6.10009e-05 s/step\n",
      "Meep progress: 4352.605555555556/9000.0 = 48.4% done in 48.0s, 51.3s to go\n",
      "on time step 1349758 (time=7498.66), 6.14238e-05 s/step\n",
      "Meep progress: 4722.594444444445/9000.0 = 52.5% done in 52.0s, 47.1s to go\n",
      "on time step 1416736 (time=7870.76), 5.97219e-05 s/step\n",
      "Meep progress: 5097.094444444445/9000.0 = 56.6% done in 56.0s, 42.9s to go\n",
      "on time step 1484032 (time=8244.62), 5.94395e-05 s/step\n",
      "Meep progress: 5468.166666666668/9000.0 = 60.8% done in 60.0s, 38.8s to go\n",
      "on time step 1550957 (time=8616.43), 5.97692e-05 s/step\n",
      "Meep progress: 5836.488888888889/9000.0 = 64.8% done in 64.0s, 34.7s to go\n",
      "on time step 1616937 (time=8982.98), 6.06245e-05 s/step\n",
      "run 1 finished at t = 9000.0 (1620000 timesteps)\n",
      "-----------\n",
      "Initializing structure...\n",
      "time for choose_chunkdivision = 5.6982e-05 s\n",
      "Working in 1D dimensions.\n",
      "Computational cell is 0 x 0 x 10 with resolution 90\n",
      "     block, center = (0,0,0)\n",
      "          size (0,0,1.53)\n",
      "          axes (1,0,0), (0,1,0), (0,0,1)\n",
      "          dielectric constant epsilon diagonal = (6.0516,6.0516,6.0516)\n",
      "time for set_epsilon = 0.000281096 s\n",
      "-----------\n"
     ]
    },
    {
     "data": {
      "application/vnd.jupyter.widget-view+json": {
       "model_id": "8392f655509b469e8c9472e8fd8b7a3c",
       "version_major": 2,
       "version_minor": 0
      },
      "text/plain": [
       "FloatProgress(value=0.0, description='0% done ', max=3000.0)"
      ]
     },
     "metadata": {},
     "output_type": "display_data"
    },
    {
     "name": "stdout",
     "output_type": "stream",
     "text": [
      "Meep progress: 1856.0444444444445/3000.0 = 61.9% done in 4.0s, 2.5s to go\n",
      "on time step 334555 (time=1858.64), 1.19562e-05 s/step\n",
      "run 0 finished at t = 3000.0 (540000 timesteps)\n"
     ]
    },
    {
     "data": {
      "application/vnd.jupyter.widget-view+json": {
       "model_id": "1379d731ab5b4d46b2bf30ffa1975830",
       "version_major": 2,
       "version_minor": 0
      },
      "text/plain": [
       "FloatProgress(value=3000.0, description='0% done ', max=9000.0, min=3000.0)"
      ]
     },
     "metadata": {},
     "output_type": "display_data"
    },
    {
     "name": "stdout",
     "output_type": "stream",
     "text": [
      "on time step 564204 (time=3134.47), 1.7418e-05 s/step\n",
      "Meep progress: 364.5277777777778/9000.0 = 4.1% done in 4.0s, 94.8s to go\n",
      "on time step 630209 (time=3501.16), 6.06023e-05 s/step\n",
      "Meep progress: 727.8444444444444/9000.0 = 8.1% done in 8.0s, 90.9s to go\n",
      "on time step 694029 (time=3855.72), 6.26771e-05 s/step\n",
      "Meep progress: 1084.3222222222225/9000.0 = 12.0% done in 12.0s, 87.6s to go\n",
      "on time step 760318 (time=4223.99), 6.03422e-05 s/step\n",
      "Meep progress: 1458.5333333333338/9000.0 = 16.2% done in 16.0s, 82.7s to go\n",
      "on time step 827792 (time=4598.84), 5.92824e-05 s/step\n",
      "Meep progress: 1829.6888888888889/9000.0 = 20.3% done in 20.0s, 78.4s to go\n",
      "on time step 888079 (time=4933.77), 6.635e-05 s/step\n",
      "Meep progress: 2154.438888888889/9000.0 = 23.9% done in 24.0s, 76.3s to go\n",
      "on time step 951220 (time=5284.56), 6.33508e-05 s/step\n",
      "Meep progress: 2514.772222222223/9000.0 = 27.9% done in 28.0s, 72.2s to go\n",
      "on time step 1017162 (time=5650.9), 6.06597e-05 s/step\n",
      "Meep progress: 2880.2444444444445/9000.0 = 32.0% done in 32.0s, 68.0s to go\n",
      "on time step 1083254 (time=6018.08), 6.05227e-05 s/step\n",
      "Meep progress: 3199.2666666666673/9000.0 = 35.5% done in 36.0s, 65.3s to go\n",
      "on time step 1135193 (time=6306.63), 7.70417e-05 s/step\n",
      "Meep progress: 3486.166666666667/9000.0 = 38.7% done in 40.0s, 63.3s to go\n",
      "on time step 1191223 (time=6617.91), 7.1391e-05 s/step\n",
      "Meep progress: 3847.572222222222/9000.0 = 42.8% done in 44.0s, 58.9s to go\n",
      "on time step 1256592 (time=6981.07), 6.11918e-05 s/step\n",
      "Meep progress: 4202.361111111111/9000.0 = 46.7% done in 48.0s, 54.8s to go\n",
      "on time step 1321354 (time=7340.86), 6.17652e-05 s/step\n",
      "Meep progress: 4570.416666666667/9000.0 = 50.8% done in 52.0s, 50.4s to go\n",
      "on time step 1387237 (time=7706.87), 6.07142e-05 s/step\n",
      "Meep progress: 4936.166666666667/9000.0 = 54.8% done in 56.0s, 46.1s to go\n",
      "on time step 1453045 (time=8072.47), 6.07839e-05 s/step\n",
      "Meep progress: 5300.666666666668/9000.0 = 58.9% done in 60.0s, 41.9s to go\n",
      "on time step 1518171 (time=8434.28), 6.14199e-05 s/step\n",
      "Meep progress: 5656.555555555557/9000.0 = 62.9% done in 64.0s, 37.8s to go\n",
      "on time step 1582875 (time=8793.75), 6.18206e-05 s/step\n",
      "run 1 finished at t = 9000.0 (1620000 timesteps)\n",
      "-----------\n",
      "Initializing structure...\n",
      "time for choose_chunkdivision = 7.39098e-05 s\n",
      "Working in 1D dimensions.\n",
      "Computational cell is 0 x 0 x 10 with resolution 90\n",
      "     block, center = (0,0,0)\n",
      "          size (0,0,1.53)\n",
      "          axes (1,0,0), (0,1,0), (0,0,1)\n",
      "          dielectric constant epsilon diagonal = (6.0516,6.0516,6.0516)\n",
      "time for set_epsilon = 0.00028801 s\n",
      "-----------\n"
     ]
    },
    {
     "data": {
      "application/vnd.jupyter.widget-view+json": {
       "model_id": "a88083b712e94edaa18f356c7174451a",
       "version_major": 2,
       "version_minor": 0
      },
      "text/plain": [
       "FloatProgress(value=0.0, description='0% done ', max=3000.0)"
      ]
     },
     "metadata": {},
     "output_type": "display_data"
    },
    {
     "name": "stdout",
     "output_type": "stream",
     "text": [
      "Meep progress: 1762.4611111111112/3000.0 = 58.7% done in 4.0s, 2.8s to go\n",
      "on time step 317624 (time=1764.58), 1.25935e-05 s/step\n",
      "run 0 finished at t = 3000.0 (540000 timesteps)\n"
     ]
    },
    {
     "data": {
      "application/vnd.jupyter.widget-view+json": {
       "model_id": "e9ba2d18696b446ea36f7d922dd2a7e8",
       "version_major": 2,
       "version_minor": 0
      },
      "text/plain": [
       "FloatProgress(value=3000.0, description='0% done ', max=9000.0, min=3000.0)"
      ]
     },
     "metadata": {},
     "output_type": "display_data"
    },
    {
     "name": "stdout",
     "output_type": "stream",
     "text": [
      "on time step 559397 (time=3107.76), 1.65447e-05 s/step\n",
      "Meep progress: 366.2222222222222/9000.0 = 4.1% done in 4.0s, 94.3s to go\n",
      "on time step 624532 (time=3469.62), 6.14115e-05 s/step\n",
      "Meep progress: 719.3833333333337/9000.0 = 8.0% done in 8.0s, 92.1s to go\n",
      "on time step 688472 (time=3824.84), 6.25592e-05 s/step\n",
      "Meep progress: 1082.2888888888892/9000.0 = 12.0% done in 12.0s, 87.8s to go\n",
      "on time step 754045 (time=4189.14), 6.10021e-05 s/step\n",
      "Meep progress: 1447.2944444444447/9000.0 = 16.1% done in 16.0s, 83.5s to go\n",
      "on time step 819741 (time=4554.12), 6.08869e-05 s/step\n",
      "Meep progress: 1813.0888888888894/9000.0 = 20.1% done in 20.0s, 79.3s to go\n",
      "on time step 885699 (time=4920.55), 6.06447e-05 s/step\n",
      "Meep progress: 2169.1277777777777/9000.0 = 24.1% done in 24.0s, 75.6s to go\n",
      "on time step 948828 (time=5271.27), 6.33631e-05 s/step\n",
      "Meep progress: 2518.572222222222/9000.0 = 28.0% done in 28.0s, 72.1s to go\n",
      "on time step 1012521 (time=5625.12), 6.28014e-05 s/step\n",
      "Meep progress: 2883.405555555556/9000.0 = 32.0% done in 32.0s, 67.9s to go\n",
      "on time step 1078213 (time=5990.07), 6.08904e-05 s/step\n",
      "Meep progress: 3238.677777777778/9000.0 = 36.0% done in 36.0s, 64.0s to go\n",
      "on time step 1141942 (time=6344.12), 6.27666e-05 s/step\n",
      "Meep progress: 3599.05/9000.0 = 40.0% done in 40.0s, 60.0s to go\n",
      "on time step 1206310 (time=6701.72), 6.21431e-05 s/step\n",
      "Meep progress: 3956.4611111111117/9000.0 = 44.0% done in 44.0s, 56.1s to go\n",
      "on time step 1271637 (time=7064.65), 6.12307e-05 s/step\n",
      "Meep progress: 4322.483333333334/9000.0 = 48.0% done in 48.0s, 51.9s to go\n",
      "on time step 1337262 (time=7429.23), 6.09531e-05 s/step\n",
      "Meep progress: 4686.422222222222/9000.0 = 52.1% done in 52.0s, 47.9s to go\n",
      "on time step 1401443 (time=7785.79), 6.23242e-05 s/step\n",
      "Meep progress: 5043.438888888889/9000.0 = 56.0% done in 56.0s, 43.9s to go\n",
      "on time step 1466742 (time=8148.57), 6.12569e-05 s/step\n",
      "Meep progress: 5405.061111111112/9000.0 = 60.1% done in 60.0s, 39.9s to go\n",
      "on time step 1531872 (time=8510.4), 6.14159e-05 s/step\n",
      "Meep progress: 5764.733333333334/9000.0 = 64.1% done in 64.0s, 35.9s to go\n",
      "on time step 1596998 (time=8872.21), 6.14197e-05 s/step\n",
      "run 1 finished at t = 9000.0 (1620000 timesteps)\n",
      "249194039.645761\n",
      "[0.83448607]\n",
      "[0.16551393]\n",
      "[0.]\n",
      "[0.94244355]\n",
      "[0.05755645]\n",
      "[0.]\n",
      "[1.53]\n",
      "15\n",
      "-----------\n",
      "Initializing structure...\n",
      "time for choose_chunkdivision = 5.6982e-05 s\n",
      "Working in 1D dimensions.\n",
      "Computational cell is 0 x 0 x 10 with resolution 90\n",
      "time for set_epsilon = 0.000220776 s\n",
      "-----------\n"
     ]
    },
    {
     "data": {
      "application/vnd.jupyter.widget-view+json": {
       "model_id": "96f8480ccad942fc8087752bd8efda07",
       "version_major": 2,
       "version_minor": 0
      },
      "text/plain": [
       "FloatProgress(value=0.0, description='0% done ', max=3000.0)"
      ]
     },
     "metadata": {},
     "output_type": "display_data"
    },
    {
     "name": "stdout",
     "output_type": "stream",
     "text": [
      "Meep progress: 1815.2444444444445/3000.0 = 60.5% done in 4.0s, 2.6s to go\n",
      "on time step 327143 (time=1817.46), 1.22271e-05 s/step\n",
      "run 0 finished at t = 3000.0 (540000 timesteps)\n"
     ]
    },
    {
     "data": {
      "application/vnd.jupyter.widget-view+json": {
       "model_id": "f2928a43db704e26bc65f362ac6cf5b6",
       "version_major": 2,
       "version_minor": 0
      },
      "text/plain": [
       "FloatProgress(value=3000.0, description='0% done ', max=9000.0, min=3000.0)"
      ]
     },
     "metadata": {},
     "output_type": "display_data"
    },
    {
     "name": "stdout",
     "output_type": "stream",
     "text": [
      "on time step 563669 (time=3131.49), 1.69115e-05 s/step\n",
      "Meep progress: 367.53888888888923/9000.0 = 4.1% done in 4.0s, 93.9s to go\n",
      "on time step 628748 (time=3493.04), 6.14639e-05 s/step\n",
      "Meep progress: 729.6833333333334/9000.0 = 8.1% done in 8.0s, 90.7s to go\n",
      "on time step 694767 (time=3859.82), 6.05887e-05 s/step\n",
      "Meep progress: 1095.8222222222225/9000.0 = 12.2% done in 12.0s, 86.6s to go\n",
      "on time step 760524 (time=4225.13), 6.08301e-05 s/step\n",
      "Meep progress: 1463.4388888888889/9000.0 = 16.3% done in 16.0s, 82.4s to go\n",
      "on time step 826968 (time=4594.27), 6.02015e-05 s/step\n",
      "Meep progress: 1827.3111111111111/9000.0 = 20.3% done in 20.0s, 78.5s to go\n",
      "on time step 892570 (time=4958.72), 6.09744e-05 s/step\n",
      "Meep progress: 2186.7777777777783/9000.0 = 24.3% done in 24.0s, 74.8s to go\n",
      "on time step 956643 (time=5314.68), 6.24292e-05 s/step\n",
      "Meep progress: 2546.0444444444447/9000.0 = 28.3% done in 28.0s, 71.0s to go\n",
      "on time step 1022135 (time=5678.53), 6.10767e-05 s/step\n",
      "Meep progress: 2916.3277777777776/9000.0 = 32.4% done in 32.0s, 66.8s to go\n",
      "on time step 1088501 (time=6047.23), 6.02724e-05 s/step\n",
      "Meep progress: 3285.9611111111117/9000.0 = 36.5% done in 36.0s, 62.6s to go\n",
      "on time step 1153606 (time=6408.92), 6.14394e-05 s/step\n",
      "Meep progress: 3635.061111111111/9000.0 = 40.4% done in 40.0s, 59.0s to go\n",
      "on time step 1216685 (time=6759.36), 6.34134e-05 s/step\n",
      "Meep progress: 3975.666666666667/9000.0 = 44.2% done in 44.0s, 55.6s to go\n",
      "on time step 1277821 (time=7099.01), 6.54279e-05 s/step\n",
      "Meep progress: 4331.861111111111/9000.0 = 48.1% done in 48.0s, 51.7s to go\n",
      "on time step 1343414 (time=7463.41), 6.09821e-05 s/step\n",
      "Meep progress: 4692.955555555556/9000.0 = 52.1% done in 52.0s, 47.7s to go\n",
      "on time step 1405529 (time=7808.49), 6.43972e-05 s/step\n",
      "Meep progress: 5026.322222222222/9000.0 = 55.8% done in 56.0s, 44.3s to go\n",
      "on time step 1468058 (time=8155.88), 6.39708e-05 s/step\n",
      "Meep progress: 5377.838888888889/9000.0 = 59.8% done in 60.0s, 40.4s to go\n",
      "on time step 1531259 (time=8506.99), 6.32914e-05 s/step\n",
      "Meep progress: 5747.844444444445/9000.0 = 63.9% done in 64.0s, 36.2s to go\n",
      "on time step 1598538 (time=8880.77), 5.94546e-05 s/step\n",
      "run 1 finished at t = 9000.0 (1620000 timesteps)\n",
      "-----------\n",
      "Initializing structure...\n",
      "time for choose_chunkdivision = 5.79357e-05 s\n",
      "Working in 1D dimensions.\n",
      "Computational cell is 0 x 0 x 10 with resolution 90\n",
      "     block, center = (0,0,0)\n",
      "          size (0,0,1.53)\n",
      "          axes (1,0,0), (0,1,0), (0,0,1)\n",
      "          dielectric constant epsilon diagonal = (6.0516,6.0516,6.0516)\n",
      "time for set_epsilon = 0.00027895 s\n",
      "-----------\n"
     ]
    },
    {
     "data": {
      "application/vnd.jupyter.widget-view+json": {
       "model_id": "ee890b63045e4ab3b059a5687481402a",
       "version_major": 2,
       "version_minor": 0
      },
      "text/plain": [
       "FloatProgress(value=0.0, description='0% done ', max=3000.0)"
      ]
     },
     "metadata": {},
     "output_type": "display_data"
    },
    {
     "name": "stdout",
     "output_type": "stream",
     "text": [
      "Meep progress: 1771.5666666666668/3000.0 = 59.1% done in 4.0s, 2.8s to go\n",
      "on time step 321209 (time=1784.49), 1.2453e-05 s/step\n",
      "run 0 finished at t = 3000.0 (540000 timesteps)\n"
     ]
    },
    {
     "data": {
      "application/vnd.jupyter.widget-view+json": {
       "model_id": "a49637739c684d3e8fee462983291822",
       "version_major": 2,
       "version_minor": 0
      },
      "text/plain": [
       "FloatProgress(value=3000.0, description='0% done ', max=9000.0, min=3000.0)"
      ]
     },
     "metadata": {},
     "output_type": "display_data"
    },
    {
     "name": "stdout",
     "output_type": "stream",
     "text": [
      "on time step 558001 (time=3100.01), 1.68925e-05 s/step\n",
      "Meep progress: 347.62777777777774/9000.0 = 3.9% done in 4.0s, 99.6s to go\n",
      "on time step 620347 (time=3446.37), 6.41584e-05 s/step\n",
      "Meep progress: 710.666666666667/9000.0 = 7.9% done in 8.0s, 93.3s to go\n",
      "on time step 686312 (time=3812.84), 6.0639e-05 s/step\n",
      "Meep progress: 1063.0833333333335/9000.0 = 11.8% done in 12.0s, 89.6s to go\n",
      "on time step 749347 (time=4163.04), 6.34573e-05 s/step\n",
      "Meep progress: 1406.1944444444443/9000.0 = 15.6% done in 16.0s, 86.4s to go\n",
      "on time step 811457 (time=4508.09), 6.44026e-05 s/step\n",
      "Meep progress: 1758.4555555555553/9000.0 = 19.5% done in 20.0s, 82.4s to go\n",
      "on time step 875024 (time=4861.24), 6.29259e-05 s/step\n",
      "Meep progress: 2106.133333333333/9000.0 = 23.4% done in 24.0s, 78.6s to go\n",
      "on time step 937449 (time=5208.05), 6.40777e-05 s/step\n",
      "Meep progress: 2454.3888888888887/9000.0 = 27.3% done in 28.0s, 74.7s to go\n",
      "on time step 999132 (time=5550.73), 6.48481e-05 s/step\n",
      "Meep progress: 2811.844444444445/9000.0 = 31.2% done in 32.0s, 70.4s to go\n",
      "on time step 1062523 (time=5902.91), 6.31011e-05 s/step\n",
      "Meep progress: 3139.311111111111/9000.0 = 34.9% done in 36.0s, 67.2s to go\n",
      "on time step 1122114 (time=6233.97), 6.71248e-05 s/step\n",
      "Meep progress: 3480.0/9000.0 = 38.7% done in 40.0s, 63.4s to go\n",
      "on time step 1184423 (time=6580.13), 6.41963e-05 s/step\n",
      "Meep progress: 3824.05/9000.0 = 42.5% done in 44.0s, 59.6s to go\n",
      "on time step 1245912 (time=6921.73), 6.50525e-05 s/step\n",
      "Meep progress: 4171.055555555556/9000.0 = 46.3% done in 48.0s, 55.6s to go\n",
      "on time step 1307634 (time=7264.63), 6.48069e-05 s/step\n",
      "Meep progress: 4515.316666666667/9000.0 = 50.2% done in 52.0s, 51.6s to go\n",
      "on time step 1370854 (time=7615.86), 6.32715e-05 s/step\n",
      "Meep progress: 4864.677777777778/9000.0 = 54.1% done in 56.0s, 47.6s to go\n",
      "on time step 1432532 (time=7958.51), 6.48537e-05 s/step\n",
      "Meep progress: 5178.9111111111115/9000.0 = 57.5% done in 60.0s, 44.3s to go\n",
      "on time step 1489025 (time=8272.36), 7.08055e-05 s/step\n",
      "Meep progress: 5516.444444444445/9000.0 = 61.3% done in 64.0s, 40.4s to go\n",
      "on time step 1550941 (time=8616.34), 6.46043e-05 s/step\n",
      "Meep progress: 5863.283333333333/9000.0 = 65.1% done in 68.0s, 36.4s to go\n",
      "on time step 1612535 (time=8958.53), 6.49417e-05 s/step\n",
      "run 1 finished at t = 9000.0 (1620000 timesteps)\n",
      "-----------\n",
      "Initializing structure...\n",
      "time for choose_chunkdivision = 5.6982e-05 s\n",
      "Working in 1D dimensions.\n",
      "Computational cell is 0 x 0 x 10 with resolution 90\n",
      "     block, center = (0,0,0)\n",
      "          size (0,0,1.53)\n",
      "          axes (1,0,0), (0,1,0), (0,0,1)\n",
      "          dielectric constant epsilon diagonal = (6.0516,6.0516,6.0516)\n",
      "time for set_epsilon = 0.00027895 s\n",
      "-----------\n"
     ]
    },
    {
     "data": {
      "application/vnd.jupyter.widget-view+json": {
       "model_id": "9c0b83bd9f1a47d781b09ff5ec8af627",
       "version_major": 2,
       "version_minor": 0
      },
      "text/plain": [
       "FloatProgress(value=0.0, description='0% done ', max=3000.0)"
      ]
     },
     "metadata": {},
     "output_type": "display_data"
    },
    {
     "name": "stdout",
     "output_type": "stream",
     "text": [
      "Meep progress: 1650.2055555555555/3000.0 = 55.0% done in 4.0s, 3.3s to go\n",
      "on time step 297546 (time=1653.03), 1.34433e-05 s/step\n",
      "run 0 finished at t = 3000.0 (540000 timesteps)\n"
     ]
    },
    {
     "data": {
      "application/vnd.jupyter.widget-view+json": {
       "model_id": "675f046e04a0430a95a5ad0039ce6685",
       "version_major": 2,
       "version_minor": 0
      },
      "text/plain": [
       "FloatProgress(value=3000.0, description='0% done ', max=9000.0, min=3000.0)"
      ]
     },
     "metadata": {},
     "output_type": "display_data"
    },
    {
     "name": "stdout",
     "output_type": "stream",
     "text": [
      "on time step 551563 (time=3064.24), 1.57472e-05 s/step\n",
      "Meep progress: 347.0166666666669/9000.0 = 3.9% done in 4.0s, 99.7s to go\n",
      "on time step 614553 (time=3414.18), 6.35022e-05 s/step\n",
      "Meep progress: 704.5444444444447/9000.0 = 7.8% done in 8.0s, 94.2s to go\n",
      "on time step 678700 (time=3770.56), 6.23574e-05 s/step\n",
      "Meep progress: 1050.2166666666667/9000.0 = 11.7% done in 12.0s, 90.8s to go\n",
      "on time step 741062 (time=4117.01), 6.41425e-05 s/step\n",
      "Meep progress: 1394.8500000000004/9000.0 = 15.5% done in 16.0s, 87.2s to go\n",
      "on time step 803335 (time=4462.97), 6.42339e-05 s/step\n",
      "Meep progress: 1741.7888888888892/9000.0 = 19.4% done in 20.0s, 83.3s to go\n",
      "on time step 866343 (time=4813.02), 6.34853e-05 s/step\n",
      "Meep progress: 2097.4611111111117/9000.0 = 23.3% done in 24.0s, 79.0s to go\n",
      "on time step 929175 (time=5162.08), 6.36624e-05 s/step\n",
      "Meep progress: 2439.2777777777783/9000.0 = 27.1% done in 28.0s, 75.3s to go\n",
      "on time step 991329 (time=5507.38), 6.43567e-05 s/step\n",
      "Meep progress: 2773.7222222222226/9000.0 = 30.8% done in 32.0s, 71.8s to go\n",
      "on time step 1051533 (time=5841.85), 6.64414e-05 s/step\n",
      "Meep progress: 3109.0666666666666/9000.0 = 34.5% done in 36.0s, 68.2s to go\n",
      "on time step 1111217 (time=6173.43), 6.70198e-05 s/step\n",
      "Meep progress: 3440.05/9000.0 = 38.2% done in 40.0s, 64.7s to go\n",
      "on time step 1171240 (time=6506.89), 6.66418e-05 s/step\n",
      "Meep progress: 3779.105555555556/9000.0 = 42.0% done in 44.0s, 60.8s to go\n",
      "on time step 1232477 (time=6847.09), 6.53201e-05 s/step\n",
      "Meep progress: 4126.805555555556/9000.0 = 45.9% done in 48.0s, 56.7s to go\n",
      "on time step 1294706 (time=7192.81), 6.42792e-05 s/step\n",
      "Meep progress: 4463.311111111111/9000.0 = 49.6% done in 52.0s, 52.9s to go\n",
      "on time step 1355574 (time=7530.97), 6.57161e-05 s/step\n",
      "Meep progress: 4806.200000000001/9000.0 = 53.4% done in 56.0s, 48.9s to go\n",
      "on time step 1417081 (time=7872.67), 6.5034e-05 s/step\n",
      "Meep progress: 5149.372222222222/9000.0 = 57.2% done in 60.0s, 44.9s to go\n",
      "on time step 1479548 (time=8219.71), 6.40343e-05 s/step\n",
      "Meep progress: 5500.205555555556/9000.0 = 61.1% done in 64.0s, 40.7s to go\n",
      "on time step 1542344 (time=8568.58), 6.36989e-05 s/step\n",
      "Meep progress: 5833.550000000001/9000.0 = 64.8% done in 68.0s, 36.9s to go\n",
      "on time step 1602727 (time=8904.04), 6.62448e-05 s/step\n",
      "run 1 finished at t = 9000.0 (1620000 timesteps)\n",
      "266868616.89591697\n",
      "[0.79648086]\n",
      "[0.20351914]\n",
      "[0.]\n",
      "[0.94244355]\n",
      "[0.05755645]\n",
      "[0.]\n",
      "[1.53]\n",
      "16\n",
      "-----------\n",
      "Initializing structure...\n",
      "time for choose_chunkdivision = 5.60284e-05 s\n",
      "Working in 1D dimensions.\n",
      "Computational cell is 0 x 0 x 10 with resolution 90\n",
      "time for set_epsilon = 0.000227928 s\n",
      "-----------\n"
     ]
    },
    {
     "data": {
      "application/vnd.jupyter.widget-view+json": {
       "model_id": "877cefbe17c64f9ca6c7e55d0640bc4a",
       "version_major": 2,
       "version_minor": 0
      },
      "text/plain": [
       "FloatProgress(value=0.0, description='0% done ', max=3000.0)"
      ]
     },
     "metadata": {},
     "output_type": "display_data"
    },
    {
     "name": "stdout",
     "output_type": "stream",
     "text": [
      "Meep progress: 1721.2611111111112/3000.0 = 57.4% done in 4.0s, 3.0s to go\n",
      "on time step 310159 (time=1723.11), 1.28966e-05 s/step\n",
      "run 0 finished at t = 3000.0 (540000 timesteps)\n"
     ]
    },
    {
     "data": {
      "application/vnd.jupyter.widget-view+json": {
       "model_id": "d8a781cdf3c146f1b2cda14bf096a7ba",
       "version_major": 2,
       "version_minor": 0
      },
      "text/plain": [
       "FloatProgress(value=3000.0, description='0% done ', max=9000.0, min=3000.0)"
      ]
     },
     "metadata": {},
     "output_type": "display_data"
    },
    {
     "name": "stdout",
     "output_type": "stream",
     "text": [
      "on time step 555926 (time=3088.48), 1.62756e-05 s/step\n",
      "Meep progress: 356.5444444444447/9000.0 = 4.0% done in 4.0s, 97.0s to go\n",
      "on time step 620352 (time=3446.4), 6.20871e-05 s/step\n",
      "Meep progress: 696.2111111111112/9000.0 = 7.7% done in 8.0s, 95.4s to go\n",
      "on time step 680051 (time=3778.06), 6.70038e-05 s/step\n",
      "Meep progress: 1030.9555555555557/9000.0 = 11.5% done in 12.0s, 92.8s to go\n",
      "on time step 740544 (time=4114.13), 6.6124e-05 s/step\n",
      "Meep progress: 1362.2888888888892/9000.0 = 15.1% done in 16.0s, 89.7s to go\n",
      "on time step 799756 (time=4443.09), 6.75548e-05 s/step\n",
      "Meep progress: 1674.25/9000.0 = 18.6% done in 20.0s, 87.5s to go\n",
      "on time step 854641 (time=4748.01), 7.28802e-05 s/step\n",
      "Meep progress: 1948.583333333334/9000.0 = 21.7% done in 24.0s, 86.9s to go\n",
      "on time step 905011 (time=5027.84), 7.94132e-05 s/step\n",
      "Meep progress: 2269.9944444444445/9000.0 = 25.2% done in 28.0s, 83.0s to go\n",
      "on time step 964064 (time=5355.91), 6.77365e-05 s/step\n",
      "Meep progress: 2617.572222222222/9000.0 = 29.1% done in 32.0s, 78.0s to go\n",
      "on time step 1026737 (time=5704.09), 6.38236e-05 s/step\n",
      "Meep progress: 2967.1833333333334/9000.0 = 33.0% done in 36.0s, 73.2s to go\n",
      "on time step 1089955 (time=6055.31), 6.32743e-05 s/step\n",
      "Meep progress: 3314.7888888888892/9000.0 = 36.8% done in 40.0s, 68.6s to go\n",
      "on time step 1152238 (time=6401.32), 6.42233e-05 s/step\n",
      "Meep progress: 3657.7833333333338/9000.0 = 40.6% done in 44.0s, 64.3s to go\n",
      "on time step 1213433 (time=6741.29), 6.53652e-05 s/step\n",
      "Meep progress: 3999.55/9000.0 = 44.4% done in 48.0s, 60.0s to go\n",
      "on time step 1274968 (time=7083.16), 6.50039e-05 s/step\n",
      "Meep progress: 4345.722222222223/9000.0 = 48.3% done in 52.0s, 55.7s to go\n",
      "on time step 1338002 (time=7433.34), 6.34586e-05 s/step\n",
      "Meep progress: 4699.361111111111/9000.0 = 52.2% done in 56.0s, 51.2s to go\n",
      "on time step 1401969 (time=7788.72), 6.25331e-05 s/step\n",
      "Meep progress: 5060.1611111111115/9000.0 = 56.2% done in 60.0s, 46.7s to go\n",
      "on time step 1466665 (time=8148.14), 6.18278e-05 s/step\n",
      "Meep progress: 5411.177777777779/9000.0 = 60.1% done in 64.0s, 42.4s to go\n",
      "on time step 1529299 (time=8496.11), 6.38638e-05 s/step\n",
      "Meep progress: 5750.116666666667/9000.0 = 63.9% done in 68.0s, 38.4s to go\n",
      "on time step 1590239 (time=8834.66), 6.56396e-05 s/step\n",
      "run 1 finished at t = 9000.0 (1620000 timesteps)\n",
      "-----------\n",
      "Initializing structure...\n",
      "time for choose_chunkdivision = 6.19888e-05 s\n",
      "Working in 1D dimensions.\n",
      "Computational cell is 0 x 0 x 10 with resolution 90\n",
      "     block, center = (0,0,0)\n",
      "          size (0,0,1.53)\n",
      "          axes (1,0,0), (0,1,0), (0,0,1)\n",
      "          dielectric constant epsilon diagonal = (6.0516,6.0516,6.0516)\n",
      "time for set_epsilon = 0.000366926 s\n",
      "-----------\n"
     ]
    },
    {
     "data": {
      "application/vnd.jupyter.widget-view+json": {
       "model_id": "0fe724c0618b493195bef3b064aaef74",
       "version_major": 2,
       "version_minor": 0
      },
      "text/plain": [
       "FloatProgress(value=0.0, description='0% done ', max=3000.0)"
      ]
     },
     "metadata": {},
     "output_type": "display_data"
    },
    {
     "name": "stdout",
     "output_type": "stream",
     "text": [
      "Meep progress: 1735.5277777777778/3000.0 = 57.9% done in 4.0s, 2.9s to go\n",
      "on time step 312745 (time=1737.47), 1.279e-05 s/step\n",
      "run 0 finished at t = 3000.0 (540000 timesteps)\n"
     ]
    },
    {
     "data": {
      "application/vnd.jupyter.widget-view+json": {
       "model_id": "e755b3faa63a4588a7f0441373fe6c8a",
       "version_major": 2,
       "version_minor": 0
      },
      "text/plain": [
       "FloatProgress(value=3000.0, description='0% done ', max=9000.0, min=3000.0)"
      ]
     },
     "metadata": {},
     "output_type": "display_data"
    },
    {
     "name": "stdout",
     "output_type": "stream",
     "text": [
      "on time step 556026 (time=3089.03), 1.64423e-05 s/step\n",
      "Meep progress: 341.84444444444443/9000.0 = 3.8% done in 4.0s, 101.3s to go\n",
      "on time step 618129 (time=3434.05), 6.44096e-05 s/step\n",
      "Meep progress: 687.6722222222224/9000.0 = 7.6% done in 8.0s, 96.7s to go\n",
      "on time step 681113 (time=3783.96), 6.35088e-05 s/step\n",
      "Meep progress: 1041.1722222222224/9000.0 = 11.6% done in 12.0s, 91.7s to go\n",
      "on time step 743984 (time=4133.24), 6.36233e-05 s/step\n",
      "Meep progress: 1387.8555555555558/9000.0 = 15.4% done in 16.0s, 87.8s to go\n",
      "on time step 806447 (time=4480.26), 6.40382e-05 s/step\n",
      "Meep progress: 1721.727777777778/9000.0 = 19.1% done in 20.0s, 84.5s to go\n",
      "on time step 866017 (time=4811.21), 6.71487e-05 s/step\n",
      "Meep progress: 2058.655555555556/9000.0 = 22.9% done in 24.0s, 80.9s to go\n",
      "on time step 927597 (time=5153.32), 6.49562e-05 s/step\n",
      "Meep progress: 2411.5055555555555/9000.0 = 26.8% done in 28.0s, 76.5s to go\n",
      "on time step 991563 (time=5508.68), 6.25343e-05 s/step\n",
      "Meep progress: 2752.1111111111113/9000.0 = 30.6% done in 32.0s, 72.6s to go\n",
      "on time step 1053089 (time=5850.49), 6.50134e-05 s/step\n",
      "Meep progress: 3108.25/9000.0 = 34.5% done in 36.0s, 68.2s to go\n",
      "on time step 1115432 (time=6196.84), 6.41616e-05 s/step\n",
      "Meep progress: 3438.188888888889/9000.0 = 38.2% done in 40.0s, 64.7s to go\n",
      "on time step 1175773 (time=6532.07), 6.629e-05 s/step\n",
      "Meep progress: 3785.7666666666673/9000.0 = 42.1% done in 44.0s, 60.6s to go\n",
      "on time step 1238415 (time=6880.08), 6.38553e-05 s/step\n",
      "Meep progress: 4136.672222222222/9000.0 = 46.0% done in 48.0s, 56.4s to go\n",
      "on time step 1302243 (time=7234.68), 6.26692e-05 s/step\n",
      "Meep progress: 4494.922222222222/9000.0 = 49.9% done in 52.0s, 52.1s to go\n",
      "on time step 1365312 (time=7585.07), 6.34235e-05 s/step\n",
      "Meep progress: 4832.900000000001/9000.0 = 53.7% done in 56.0s, 48.3s to go\n",
      "on time step 1426538 (time=7925.21), 6.5332e-05 s/step\n",
      "Meep progress: 5162.627777777778/9000.0 = 57.4% done in 60.0s, 44.6s to go\n",
      "on time step 1485317 (time=8251.76), 6.80518e-05 s/step\n",
      "Meep progress: 5506.3277777777785/9000.0 = 61.2% done in 64.0s, 40.6s to go\n",
      "on time step 1547966 (time=8599.81), 6.38482e-05 s/step\n",
      "Meep progress: 5847.677777777779/9000.0 = 65.0% done in 68.0s, 36.7s to go\n",
      "on time step 1609231 (time=8940.17), 6.52904e-05 s/step\n",
      "run 1 finished at t = 9000.0 (1620000 timesteps)\n",
      "-----------\n",
      "Initializing structure...\n",
      "time for choose_chunkdivision = 6.00815e-05 s\n",
      "Working in 1D dimensions.\n",
      "Computational cell is 0 x 0 x 10 with resolution 90\n",
      "     block, center = (0,0,0)\n",
      "          size (0,0,1.53)\n",
      "          axes (1,0,0), (0,1,0), (0,0,1)\n",
      "          dielectric constant epsilon diagonal = (6.0516,6.0516,6.0516)\n",
      "time for set_epsilon = 0.000272036 s\n",
      "-----------\n"
     ]
    },
    {
     "data": {
      "application/vnd.jupyter.widget-view+json": {
       "model_id": "23200f31da1243448c2d299e4138e927",
       "version_major": 2,
       "version_minor": 0
      },
      "text/plain": [
       "FloatProgress(value=0.0, description='0% done ', max=3000.0)"
      ]
     },
     "metadata": {},
     "output_type": "display_data"
    },
    {
     "name": "stdout",
     "output_type": "stream",
     "text": [
      "Meep progress: 1684.388888888889/3000.0 = 56.1% done in 4.0s, 3.1s to go\n",
      "on time step 303561 (time=1686.45), 1.31769e-05 s/step\n",
      "run 0 finished at t = 3000.0 (540000 timesteps)\n"
     ]
    },
    {
     "data": {
      "application/vnd.jupyter.widget-view+json": {
       "model_id": "ccc1e503b1514cf386416774ad95706b",
       "version_major": 2,
       "version_minor": 0
      },
      "text/plain": [
       "FloatProgress(value=3000.0, description='0% done ', max=9000.0, min=3000.0)"
      ]
     },
     "metadata": {},
     "output_type": "display_data"
    },
    {
     "name": "stdout",
     "output_type": "stream",
     "text": [
      "on time step 552354 (time=3068.63), 1.60777e-05 s/step\n",
      "Meep progress: 347.3166666666666/9000.0 = 3.9% done in 4.0s, 99.7s to go\n",
      "on time step 615243 (time=3418.02), 6.3605e-05 s/step\n",
      "Meep progress: 693.6222222222223/9000.0 = 7.7% done in 8.0s, 95.8s to go\n",
      "on time step 677676 (time=3764.87), 6.40693e-05 s/step\n",
      "Meep progress: 1044.3777777777777/9000.0 = 11.6% done in 12.0s, 91.4s to go\n",
      "on time step 740669 (time=4114.83), 6.34999e-05 s/step\n",
      "Meep progress: 1387.6000000000004/9000.0 = 15.4% done in 16.0s, 87.8s to go\n",
      "on time step 802407 (time=4457.82), 6.47901e-05 s/step\n",
      "Meep progress: 1734.4499999999998/9000.0 = 19.3% done in 20.0s, 83.8s to go\n",
      "on time step 864512 (time=4802.84), 6.44074e-05 s/step\n",
      "Meep progress: 2081.272222222223/9000.0 = 23.1% done in 24.0s, 79.8s to go\n",
      "on time step 927535 (time=5152.97), 6.34691e-05 s/step\n",
      "Meep progress: 2436.4611111111117/9000.0 = 27.1% done in 28.0s, 75.4s to go\n",
      "on time step 991093 (time=5506.07), 6.29353e-05 s/step\n",
      "Meep progress: 2786.6833333333334/9000.0 = 31.0% done in 32.0s, 71.3s to go\n",
      "on time step 1053543 (time=5853.02), 6.40518e-05 s/step\n",
      "Meep progress: 3117.7555555555555/9000.0 = 34.6% done in 36.0s, 67.9s to go\n",
      "on time step 1113420 (time=6185.67), 6.68044e-05 s/step\n",
      "Meep progress: 3462.5777777777785/9000.0 = 38.5% done in 40.0s, 64.0s to go\n",
      "on time step 1175791 (time=6532.17), 6.41325e-05 s/step\n",
      "Meep progress: 3818.3/9000.0 = 42.4% done in 44.0s, 59.7s to go\n",
      "on time step 1240214 (time=6890.08), 6.20902e-05 s/step\n",
      "Meep progress: 4173.688888888889/9000.0 = 46.4% done in 48.0s, 55.5s to go\n",
      "on time step 1304182 (time=7245.46), 6.25318e-05 s/step\n",
      "Meep progress: 4529.533333333334/9000.0 = 50.3% done in 52.0s, 51.3s to go\n",
      "on time step 1367404 (time=7596.69), 6.32697e-05 s/step\n",
      "Meep progress: 4876.5/9000.0 = 54.2% done in 56.0s, 47.4s to go\n",
      "on time step 1430236 (time=7945.76), 6.36626e-05 s/step\n",
      "Meep progress: 5224.472222222223/9000.0 = 58.0% done in 60.0s, 43.4s to go\n",
      "on time step 1493154 (time=8295.3), 6.35753e-05 s/step\n",
      "Meep progress: 5581.922222222223/9000.0 = 62.0% done in 64.0s, 39.2s to go\n",
      "on time step 1557230 (time=8651.28), 6.24263e-05 s/step\n",
      "Meep progress: 5936.283333333333/9000.0 = 66.0% done in 68.0s, 35.1s to go\n",
      "run 1 finished at t = 9000.0 (1620000 timesteps)\n",
      "284543194.14607275\n",
      "[0.75779933]\n",
      "[0.24220067]\n",
      "[0.]\n",
      "[0.94244355]\n",
      "[0.05755645]\n",
      "[0.]\n",
      "[1.53]\n"
     ]
    },
    {
     "data": {
      "image/png": "[encoded data removed]",
      "text/plain": [
       "<Figure size 600x400 with 3 Axes>"
      ]
     },
     "metadata": {
      "needs_background": "light"
     },
     "output_type": "display_data"
    },
    {
     "data": {
      "image/png": "[encoded data removed]",
      "text/plain": [
       "<Figure size 600x400 with 3 Axes>"
      ]
     },
     "metadata": {
      "needs_background": "light"
     },
     "output_type": "display_data"
    },
    {
     "data": {
      "image/png": "[encoded data removed]",
      "text/plain": [
       "<Figure size 600x400 with 3 Axes>"
      ]
     },
     "metadata": {
      "needs_background": "light"
     },
     "output_type": "display_data"
    },
    {
     "data": {
      "image/png": "[encoded data removed]",
      "text/plain": [
       "<Figure size 600x400 with 3 Axes>"
      ]
     },
     "metadata": {
      "needs_background": "light"
     },
     "output_type": "display_data"
    },
    {
     "data": {
      "image/png": "[encoded data removed]",
      "text/plain": [
       "<Figure size 600x400 with 3 Axes>"
      ]
     },
     "metadata": {
      "needs_background": "light"
     },
     "output_type": "display_data"
    },
    {
     "data": {
      "image/png": "[encoded data removed]",
      "text/plain": [
       "<Figure size 600x400 with 3 Axes>"
      ]
     },
     "metadata": {
      "needs_background": "light"
     },
     "output_type": "display_data"
    },
    {
     "data": {
      "image/png": "[encoded data removed]",
      "text/plain": [
       "<Figure size 600x400 with 3 Axes>"
      ]
     },
     "metadata": {
      "needs_background": "light"
     },
     "output_type": "display_data"
    },
    {
     "data": {
      "image/png": "[encoded data removed]",
      "text/plain": [
       "<Figure size 600x400 with 3 Axes>"
      ]
     },
     "metadata": {
      "needs_background": "light"
     },
     "output_type": "display_data"
    },
    {
     "data": {
      "image/png": "[encoded data removed]",
      "text/plain": [
       "<Figure size 600x400 with 3 Axes>"
      ]
     },
     "metadata": {
      "needs_background": "light"
     },
     "output_type": "display_data"
    },
    {
     "data": {
      "image/png": "[encoded data removed]",
      "text/plain": [
       "<Figure size 600x400 with 3 Axes>"
      ]
     },
     "metadata": {
      "needs_background": "light"
     },
     "output_type": "display_data"
    },
    {
     "data": {
      "image/png": "[encoded data removed]",
      "text/plain": [
       "<Figure size 600x400 with 3 Axes>"
      ]
     },
     "metadata": {
      "needs_background": "light"
     },
     "output_type": "display_data"
    },
    {
     "data": {
      "image/png": "[encoded data removed]",
      "text/plain": [
       "<Figure size 600x400 with 3 Axes>"
      ]
     },
     "metadata": {
      "needs_background": "light"
     },
     "output_type": "display_data"
    },
    {
     "data": {
      "image/png": "[encoded data removed]",
      "text/plain": [
       "<Figure size 600x400 with 3 Axes>"
      ]
     },
     "metadata": {
      "needs_background": "light"
     },
     "output_type": "display_data"
    },
    {
     "data": {
      "image/png": "[encoded data removed]",
      "text/plain": [
       "<Figure size 600x400 with 3 Axes>"
      ]
     },
     "metadata": {
      "needs_background": "light"
     },
     "output_type": "display_data"
    },
    {
     "data": {
      "image/png": "[encoded data removed]",
      "text/plain": [
       "<Figure size 600x400 with 3 Axes>"
      ]
     },
     "metadata": {
      "needs_background": "light"
     },
     "output_type": "display_data"
    },
    {
     "data": {
      "image/png": "[encoded data removed]",
      "text/plain": [
       "<Figure size 600x400 with 3 Axes>"
      ]
     },
     "metadata": {
      "needs_background": "light"
     },
     "output_type": "display_data"
    },
    {
     "data": {
      "image/png": "[encoded data removed]",
      "text/plain": [
       "<Figure size 600x400 with 3 Axes>"
      ]
     },
     "metadata": {
      "needs_background": "light"
     },
     "output_type": "display_data"
    }
   ],
   "source": [
    "T_nl = np.empty(np.size(amp))\n",
    "R_nl= np.empty(np.size(amp))\n",
    "A_nl= np.empty(np.size(amp))\n",
    "T_l= np.empty(np.size(amp))\n",
    "R_l= np.empty(np.size(amp))\n",
    "A_l= np.empty(np.size(amp))\n",
    "E_out=np.empty(np.size(amp))\n",
    "E_out2=np.empty(np.size(amp))\n",
    "E_out3=np.empty(np.size(amp))\n",
    "for j in range(np.size(amp)):\n",
    "  print(j)\n",
    "  E_out[j], E_out2[j], E_out3[j], plt_range, T_nl[j], R_nl[j], A_nl[j], T_l[j], R_l[j], A_l[j] = nl_cw(amp[j],resolution,k,n)"
   ]
  },
  {
   "cell_type": "code",
   "execution_count": 31,
   "metadata": {},
   "outputs": [
    {
     "data": {
      "image/png": "[encoded data removed]",
      "text/plain": [
       "<Figure size 900x600 with 1 Axes>"
      ]
     },
     "metadata": {
      "needs_background": "light"
     },
     "output_type": "display_data"
    }
   ],
   "source": [
    "#         plot ATR\n",
    "E_out[j], plt_range, T_nl[j], R_nl[j], A_nl[j], T_l[j], R_l[j], A_l[j]\n",
    "plt.figure(dpi=150)\n",
    "plt.plot(E_out,T_nl,'ro--',label='T_nl',markersize=4)\n",
    "plt.plot(E_out,R_nl,'bo--',label='R_nl',markersize=4)\n",
    "plt.plot(E_out,A_nl,'go--',label='A_nl',markersize=4, markerfacecolor='none')\n",
    "plt.plot(E_out,T_l,'r*-',label='T')\n",
    "plt.plot(E_out,R_l,'b*-',label='R')\n",
    "plt.plot(E_out,A_l,'g*-',label='A', markerfacecolor='none')\n",
    "plt.grid(True,which=\"both\",ls=\"-\")\n",
    "#plt.xticks([0.2*10**8,0.4*10**8,0.6*10**8,0.8*10**8,1*10**8,1.2*10**8,1.2*10**8,1.4*10**8,1.6*10**8,1.8*10**8,2*10**8,2.2*10**8])\n",
    "plt.yticks([-0.05,0,0.05,0.1,0.15,0.2,0.25,0.3,0.35,0.4,0.45,0.5,0.55,0.6,0.65,0.7,0.75,0.8,0.85,0.9,0.95, 1])\n",
    "#plt.xlim([0.1*10**8,2.4*10**8])\n",
    "plt.xlabel('E_0, V/m')\n",
    "plt.ylabel('ATR')\n",
    "plt.legend(loc='upper right')\n",
    "#plt.xlim([0.85, 5])\n",
    "plt.ylim([-0, 1])\n",
    "plt.title('ATR for linear and nonlinear calculation, k='+str(f\"{k:03}\")+'um^2/V^2, λ='+str(f\"{plt_range}\")+'μm')\n",
    "plt.tight_layout()\n",
    "np.savetxt('ATR_vs_E0.txt', (E_out,T_nl,R_nl,A_nl), delimiter=',')"
   ]
  },
  {
   "cell_type": "code",
   "execution_count": 32,
   "metadata": {},
   "outputs": [
    {
     "data": {
      "image/png": "[encoded data removed]",
      "text/plain": [
       "<Figure size 900x600 with 1 Axes>"
      ]
     },
     "metadata": {
      "needs_background": "light"
     },
     "output_type": "display_data"
    }
   ],
   "source": [
    "#         plot ATR\n",
    "E_out[j], plt_range, T_nl[j], R_nl[j], A_nl[j], T_l[j], R_l[j], A_l[j]\n",
    "plt.figure(dpi=150)\n",
    "plt.plot(E_out*np.sqrt(2),T_nl,'ro--',label='T_nl',markersize=4)\n",
    "plt.plot(E_out*np.sqrt(2),R_nl,'bo--',label='R_nl',markersize=4)\n",
    "plt.plot(E_out*np.sqrt(2),A_nl,'go--',label='A_nl',markersize=4, markerfacecolor='none')\n",
    "plt.plot(E_out*np.sqrt(2),T_l,'r*-',label='T')\n",
    "plt.plot(E_out*np.sqrt(2),R_l,'b*-',label='R')\n",
    "plt.plot(E_out*np.sqrt(2),A_l,'g*-',label='A', markerfacecolor='none')\n",
    "plt.grid(True,which=\"both\",ls=\"-\")\n",
    "plt.yticks([-0.05,0,0.05,0.1,0.15,0.2,0.25,0.3,0.35,0.4,0.45,0.5,0.55,0.6,0.65,0.7,0.75,0.8,0.85,0.9,0.95, 1])\n",
    "plt.xlabel('E_avr, V/m')\n",
    "plt.ylabel('ATR')\n",
    "plt.legend(loc='upper right')\n",
    "#plt.xlim([0.85, 5])\n",
    "plt.ylim([-0, 1])\n",
    "plt.title('ATR for linear and nonlinear calculation, k='+str(f\"{k:03}\")+'um^2/V^2, λ='+str(f\"{plt_range}\")+'μm')\n",
    "plt.tight_layout()\n",
    "np.savetxt('ATR_vs_Eav.txt', (E_out*np.sqrt(2),T_nl,R_nl,A_nl), delimiter=',')"
   ]
  },
  {
   "cell_type": "code",
   "execution_count": 33,
   "metadata": {},
   "outputs": [
    {
     "data": {
      "image/png": "[encoded data removed]",
      "text/plain": [
       "<Figure size 900x600 with 1 Axes>"
      ]
     },
     "metadata": {
      "needs_background": "light"
     },
     "output_type": "display_data"
    }
   ],
   "source": [
    "plt.figure(dpi=150)\n",
    "plt.plot(E_out,E_out,'ro--',label='Source E',markersize=4)\n",
    "plt.plot(E_out,E_out2,'bo--',label='linear E',markersize=4)\n",
    "plt.plot(E_out,E_out3,'go--',label='nonlinear E',markersize=4, markerfacecolor='none')\n",
    "plt.grid(True,which=\"both\",ls=\"-\")\n",
    "plt.yticks([-0.05,0,0.05,0.1,0.15,0.2,0.25,0.3,0.35,0.4,0.45,0.5,0.55,0.6,0.65,0.7,0.75,0.8,0.85,0.9,0.95, 1])\n",
    "plt.xlabel('E_avr, V/m')\n",
    "plt.ylabel('ATR')\n",
    "plt.legend(loc='upper right')\n",
    "#plt.xlim([0.85, 5])\n",
    "plt.ylim([-0, 1])\n",
    "plt.title('ATR for linear and nonlinear calculation, k='+str(f\"{k:03}\")+'um^2/V^2, λ='+str(f\"{plt_range}\")+'μm')\n",
    "plt.tight_layout()"
   ]
  }
 ],
 "metadata": {
  "interpreter": {
   "hash": "6808e4c9c0801fc3f6b7e8cbbdf1023994672d138990b8700ae426110548a6fa"
  },
  "kernelspec": {
   "display_name": "Python 3.9.2 ('pmp2': conda)",
   "language": "python",
   "name": "python3"
  },
  "language_info": {
   "codemirror_mode": {
    "name": "ipython",
    "version": 3
   },
   "file_extension": ".py",
   "mimetype": "text/x-python",
   "name": "python",
   "nbconvert_exporter": "python",
   "pygments_lexer": "ipython3",
   "version": "3.9.2"
  },
  "orig_nbformat": 4
 },
 "nbformat": 4,
 "nbformat_minor": 2
}
