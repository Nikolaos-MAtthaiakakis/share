{
 "cells": [
  {
   "cell_type": "code",
   "execution_count": 1,
   "metadata": {},
   "outputs": [
    {
     "name": "stdout",
     "output_type": "stream",
     "text": [
      "Using MPI version 3.1, 1 processes\n"
     ]
    }
   ],
   "source": [
    "#---- User input-----#\n",
    "#--------------------#\n",
    "import meep as mp\n",
    "import numpy as np\n",
    "import matplotlib.pyplot as plt\n",
    "# Experimental values for input\n",
    "# n=2.46\n",
    "# n2=1.25*10^-18 m^2/V^2\n",
    "# wavelength=1.53um\n",
    "# slab thickness = wavelength\n",
    "# input amplitude a=1.927*10^8 V/m, time averaged\n",
    "amp = np.arange(0.007*10**3,1.14*10**3,0.0707*10**3) # amplitude of source\n",
    "resolution = 90\n",
    "k = 4.1*10**-6 #4.1*10**-7        # Kerr susceptibility\n",
    "n=2.46         # index"
   ]
  },
  {
   "cell_type": "code",
   "execution_count": 2,
   "metadata": {},
   "outputs": [],
   "source": [
    "def nl_cw(amp,resolution,k,n):\n",
    "    sz = 10          # size of cell in z direction\n",
    "    dpml = 1        # PML thickness\n",
    "    time_set=9000         # simulation run time\n",
    "\n",
    "    #----Continuous Source\n",
    "    frq_cs=1/1.53          # meep frequency\n",
    "    cs_width=100          #the inverse of the exponential rate at which the current turns off and on\n",
    "\n",
    "    # frequency range for monitors\n",
    "    nfreq = 1\n",
    "    fmin = 1/1.53\n",
    "    fmax = 1/1.53\n",
    "\n",
    "    # Geometry\n",
    "    d_s=1.53# slab thickness\n",
    "    pos_s=0# slab position\n",
    "    \n",
    "    #################################################################\n",
    "    # Reference simulation (source only)\n",
    "    #################################################################\n",
    "    geometry = [mp.Block(center=mp.Vector3(0,0,pos_s),size=mp.Vector3(0,0,d_s), material=mp.Medium(index=n, chi3=[] ))]\n",
    "    geometry2 = [mp.Block(center=mp.Vector3(0,0,pos_s),size=mp.Vector3(0,0,d_s), material=mp.Medium(index=n, chi3=k ))]\n",
    "\n",
    "    dimensions = 1\n",
    "    cell = mp.Vector3(0, 0, sz)\n",
    "    pml_layers = mp.PML(dpml)\n",
    "    default_material = mp.Medium(index=1, chi3=[])\n",
    "\n",
    "    sources = mp.Source(mp.ContinuousSource(frq_cs, width=cs_width), component=mp.Ex,\n",
    "                        center=mp.Vector3(0, 0, -0.5*sz + dpml), amplitude=amp)\n",
    "\n",
    "    sim = mp.Simulation(cell_size=cell,\n",
    "                        geometry=[],\n",
    "                        sources=[sources],\n",
    "                        boundary_layers=[pml_layers],\n",
    "                        default_material=default_material,\n",
    "                        resolution=resolution,\n",
    "                        dimensions=dimensions)\n",
    "    trans_ref = sim.add_flux(0.5 * (fmin + fmax), fmax - fmin, nfreq,\n",
    "                            mp.FluxRegion(mp.Vector3(0, 0, 0.5*sz - dpml - 4)))\n",
    "    #refl_ref = sim.add_flux(0.5 * (fmin + fmax), fmax - fmin, nfreq,\n",
    "    #                        mp.FluxRegion(mp.Vector3(0, 0, 0.5*sz - dpml - 4)))\n",
    "\n",
    "    #         Define E field monitor\n",
    "    dx=1/resolution\n",
    "    dt=0.5*dx\n",
    "    tm_val_x=[]\n",
    "    def get_dot(sim):\t\n",
    "        tm_val_x.append(sim.get_array(size=mp.Vector3(), center=mp.Vector3(0,0,0), component=mp.Ex))\n",
    "    #        #        #        #    \n",
    "    sim.run(mp.at_every(dt,get_dot),until=time_set)\n",
    "    #         plot results\n",
    "    tm_val_x=np.array(tm_val_x)\n",
    "    max_ind=np.size(tm_val_x)\n",
    "    c=3*10**8 # m/s speed of light\n",
    "    mon_t=[]\n",
    "    for n in np.arange(0,max_ind,1):\n",
    "        mon_tmp=(dt+dt*n)*(10**-6/c)*10**15 # s\n",
    "        mon_t.append(mon_tmp)\n",
    "\n",
    "    #         Save reference data\n",
    "    freqs_ref = mp.get_flux_freqs(trans_ref)\n",
    "    #plt_range_ref=1/np.asarray(freqs_ref)\n",
    "    box_x1_trans_ref = mp.get_fluxes(trans_ref)\n",
    "    flux_ref=np.asarray(box_x1_trans_ref)\n",
    "\n",
    "    #################################################################\n",
    "    # 1d simulation of a plane wave propagating through a linear slab\n",
    "    #################################################################\n",
    "    sim.reset_meep()\n",
    "    sim = mp.Simulation(cell_size=cell,\n",
    "                        geometry=geometry,\n",
    "                        sources=[sources],\n",
    "                        boundary_layers=[pml_layers],\n",
    "                        default_material=default_material,\n",
    "                        resolution=resolution,\n",
    "                        dimensions=dimensions)\n",
    "\n",
    "    trans = sim.add_flux(0.5 * (fmin + fmax), fmax - fmin, nfreq,\n",
    "                            mp.FluxRegion(mp.Vector3(0, 0, 0.5*sz - dpml - 4)))\n",
    "    refl = sim.add_flux(0.5 * (fmin + fmax), fmax - fmin, nfreq,\n",
    "                            mp.FluxRegion(mp.Vector3(0, 0, -0.5*sz + dpml + 4)))\n",
    "\n",
    "    sim.run(until=time_set)\n",
    "    #         plot results\n",
    "    freqs_lin = mp.get_flux_freqs(trans)\n",
    "    plt_range_lin=1/np.asarray(freqs_lin)\n",
    "    box_x1_trans_lin = mp.get_fluxes(trans)\n",
    "    flux_lin=np.asarray(box_x1_trans_lin)\n",
    "    box_x1_refl_lin = mp.get_fluxes(refl)\n",
    "    flux_refl_lin=np.asarray(box_x1_refl_lin)\n",
    "\n",
    "    #################################################################\n",
    "    # 1d simulation of a plane wave propagating through a Kerr medium\n",
    "    #################################################################\n",
    "    sim.reset_meep()\n",
    "    #geometry = [mp.Block(center=mp.Vector3(0,0,(sz-dpml)/4),size=mp.Vector3(0,0,(sz-dpml)/2), material=mp.Medium(index=n, chi3=k ))]\n",
    "    sim = mp.Simulation(cell_size=cell,\n",
    "                        geometry=geometry2,\n",
    "                        sources=[sources],\n",
    "                        boundary_layers=[pml_layers],\n",
    "                        default_material=default_material,\n",
    "                        resolution=resolution,\n",
    "                        dimensions=dimensions)\n",
    "\n",
    "    trans = sim.add_flux(0.5 * (fmin + fmax), fmax - fmin, nfreq,\n",
    "                            mp.FluxRegion(mp.Vector3(0, 0, 0.5*sz - dpml - 4)))\n",
    "    refl = sim.add_flux(0.5 * (fmin + fmax), fmax - fmin, nfreq,\n",
    "                            mp.FluxRegion(mp.Vector3(0, 0, -0.5*sz + dpml + 4)))\n",
    "\n",
    "    sim.run(until=time_set)\n",
    "    #         plot fluxes\n",
    "    freqs = mp.get_flux_freqs(trans)\n",
    "    plt_range=1/np.asarray(freqs)\n",
    "    box_x1_trans = mp.get_fluxes(trans)\n",
    "    flux=np.asarray(box_x1_trans)\n",
    "    box_x1_refl = mp.get_fluxes(refl)\n",
    "    flux_refl=np.asarray(box_x1_refl)\n",
    "\n",
    "    E_out=np.amax(tm_val_x)/(10**-6)\n",
    "    T_nl = flux/flux_ref\n",
    "    R_nl = (-flux_refl+flux_ref)/flux_ref\n",
    "    A_nl = 1-(-flux_refl+flux_ref)/flux_ref-flux/flux_ref\n",
    "    T_l = flux_lin/flux_ref\n",
    "    R_l = (-flux_refl_lin+flux_ref)/flux_ref\n",
    "    A_l = 1-(-flux_refl_lin+flux_ref)/flux_ref-flux_lin/flux_ref\n",
    "    print(E_out)\n",
    "    print(T_nl)\n",
    "    print(R_nl)\n",
    "    print(A_nl)\n",
    "    print(T_l)\n",
    "    print(R_l)\n",
    "    print(A_l)\n",
    "    print(plt_range)\n",
    "    return E_out, plt_range, T_nl, R_nl, A_nl, T_l, R_l, A_l"
   ]
  },
  {
   "cell_type": "code",
   "execution_count": 3,
   "metadata": {},
   "outputs": [
    {
     "name": "stdout",
     "output_type": "stream",
     "text": [
      "0\n",
      "-----------\n",
      "Initializing structure...\n",
      "time for choose_chunkdivision = 5.6982e-05 s\n",
      "Working in 1D dimensions.\n",
      "Computational cell is 0 x 0 x 10 with resolution 90\n",
      "time for set_epsilon = 0.000222921 s\n",
      "-----------\n"
     ]
    },
    {
     "data": {
      "application/vnd.jupyter.widget-view+json": {
       "model_id": "633db5763b5c48ab8bb2f98d163157d3",
       "version_major": 2,
       "version_minor": 0
      },
      "text/plain": [
       "FloatProgress(value=0.0, description='0% done ', max=9000.0)"
      ]
     },
     "metadata": {},
     "output_type": "display_data"
    },
    {
     "name": "stdout",
     "output_type": "stream",
     "text": [
      "Meep progress: 388.15000000000003/9000.0 = 4.3% done in 4.0s, 88.7s to go\n",
      "on time step 69953 (time=388.628), 5.71817e-05 s/step\n",
      "Meep progress: 780.088888888889/9000.0 = 8.7% done in 8.0s, 84.3s to go\n",
      "on time step 140508 (time=780.6), 5.67105e-05 s/step\n",
      "Meep progress: 1167.3666666666668/9000.0 = 13.0% done in 12.0s, 80.5s to go\n",
      "on time step 210250 (time=1168.06), 5.73548e-05 s/step\n",
      "Meep progress: 1547.9555555555555/9000.0 = 17.2% done in 16.0s, 77.0s to go\n",
      "on time step 278762 (time=1548.68), 5.83842e-05 s/step\n",
      "Meep progress: 1939.5444444444445/9000.0 = 21.6% done in 20.0s, 72.8s to go\n",
      "on time step 349264 (time=1940.36), 5.67366e-05 s/step\n",
      "Meep progress: 2331.661111111111/9000.0 = 25.9% done in 24.0s, 68.6s to go\n",
      "on time step 419852 (time=2332.51), 5.66672e-05 s/step\n",
      "Meep progress: 2704.866666666667/9000.0 = 30.1% done in 28.0s, 65.2s to go\n",
      "on time step 487034 (time=2705.74), 5.954e-05 s/step\n",
      "Meep progress: 3086.516666666667/9000.0 = 34.3% done in 32.0s, 61.3s to go\n",
      "on time step 555746 (time=3087.48), 5.82169e-05 s/step\n",
      "Meep progress: 3479.0/9000.0 = 38.7% done in 36.0s, 57.1s to go\n",
      "on time step 626412 (time=3480.07), 5.66047e-05 s/step\n",
      "Meep progress: 3873.077777777778/9000.0 = 43.0% done in 40.0s, 52.9s to go\n",
      "on time step 697353 (time=3874.18), 5.63856e-05 s/step\n",
      "Meep progress: 4265.894444444444/9000.0 = 47.4% done in 44.0s, 48.8s to go\n",
      "on time step 768066 (time=4267.03), 5.65669e-05 s/step\n",
      "Meep progress: 4639.644444444445/9000.0 = 51.6% done in 48.0s, 45.1s to go\n",
      "on time step 835347 (time=4640.82), 5.94527e-05 s/step\n",
      "Meep progress: 5015.233333333334/9000.0 = 55.7% done in 52.0s, 41.3s to go\n",
      "on time step 902945 (time=5016.36), 5.91741e-05 s/step\n",
      "Meep progress: 5404.372222222222/9000.0 = 60.0% done in 56.0s, 37.3s to go\n",
      "on time step 973028 (time=5405.71), 5.70753e-05 s/step\n",
      "Meep progress: 5796.144444444445/9000.0 = 64.4% done in 60.0s, 33.2s to go\n",
      "on time step 1043547 (time=5797.48), 5.67228e-05 s/step\n",
      "Meep progress: 6169.177777777778/9000.0 = 68.5% done in 64.0s, 29.4s to go\n",
      "on time step 1110709 (time=6170.61), 5.95577e-05 s/step\n",
      "Meep progress: 6551.766666666667/9000.0 = 72.8% done in 68.0s, 25.4s to go\n",
      "on time step 1179592 (time=6553.29), 5.80704e-05 s/step\n",
      "Meep progress: 6941.777777777778/9000.0 = 77.1% done in 72.0s, 21.3s to go\n",
      "on time step 1249815 (time=6943.42), 5.69621e-05 s/step\n",
      "Meep progress: 7330.794444444445/9000.0 = 81.5% done in 76.0s, 17.3s to go\n",
      "on time step 1319842 (time=7332.46), 5.71212e-05 s/step\n",
      "Meep progress: 7700.277777777778/9000.0 = 85.6% done in 80.0s, 13.5s to go\n",
      "on time step 1386337 (time=7701.87), 6.01552e-05 s/step\n",
      "Meep progress: 8073.88888888889/9000.0 = 89.7% done in 84.0s, 9.6s to go\n",
      "on time step 1453586 (time=8075.48), 5.94809e-05 s/step\n",
      "Meep progress: 8442.6/9000.0 = 93.8% done in 88.0s, 5.8s to go\n",
      "on time step 1519995 (time=8444.42), 6.02329e-05 s/step\n",
      "Meep progress: 8832.9/9000.0 = 98.1% done in 92.0s, 1.7s to go\n",
      "on time step 1590263 (time=8834.79), 5.69253e-05 s/step\n",
      "run 0 finished at t = 9000.0 (1620000 timesteps)\n",
      "-----------\n",
      "Initializing structure...\n",
      "time for choose_chunkdivision = 5.4121e-05 s\n",
      "Working in 1D dimensions.\n",
      "Computational cell is 0 x 0 x 10 with resolution 90\n",
      "     block, center = (0,0,0)\n",
      "          size (0,0,1.53)\n",
      "          axes (1,0,0), (0,1,0), (0,0,1)\n",
      "          dielectric constant epsilon diagonal = (6.0516,6.0516,6.0516)\n",
      "time for set_epsilon = 0.000257015 s\n",
      "-----------\n"
     ]
    },
    {
     "data": {
      "application/vnd.jupyter.widget-view+json": {
       "model_id": "f3aed125c6d044d284139c40b9517104",
       "version_major": 2,
       "version_minor": 0
      },
      "text/plain": [
       "FloatProgress(value=0.0, description='0% done ', max=9000.0)"
      ]
     },
     "metadata": {},
     "output_type": "display_data"
    },
    {
     "name": "stdout",
     "output_type": "stream",
     "text": [
      "Meep progress: 1752.5222222222224/9000.0 = 19.5% done in 4.0s, 16.5s to go\n",
      "on time step 315908 (time=1755.04), 1.26619e-05 s/step\n",
      "Meep progress: 3536.727777777778/9000.0 = 39.3% done in 8.0s, 12.4s to go\n",
      "on time step 637106 (time=3539.48), 1.24534e-05 s/step\n",
      "Meep progress: 5256.083333333334/9000.0 = 58.4% done in 12.0s, 8.5s to go\n",
      "on time step 946634 (time=5259.08), 1.29229e-05 s/step\n",
      "Meep progress: 7118.8/9000.0 = 79.1% done in 16.0s, 4.2s to go\n",
      "on time step 1281943 (time=7121.91), 1.19293e-05 s/step\n",
      "Meep progress: 8876.427777777779/9000.0 = 98.6% done in 20.0s, 0.3s to go\n",
      "on time step 1598400 (time=8880), 1.264e-05 s/step\n",
      "run 0 finished at t = 9000.0 (1620000 timesteps)\n",
      "-----------\n",
      "Initializing structure...\n",
      "time for choose_chunkdivision = 0.000146151 s\n",
      "Working in 1D dimensions.\n",
      "Computational cell is 0 x 0 x 10 with resolution 90\n",
      "     block, center = (0,0,0)\n",
      "          size (0,0,1.53)\n",
      "          axes (1,0,0), (0,1,0), (0,0,1)\n",
      "          dielectric constant epsilon diagonal = (6.0516,6.0516,6.0516)\n",
      "time for set_epsilon = 0.000269175 s\n",
      "-----------\n"
     ]
    },
    {
     "data": {
      "application/vnd.jupyter.widget-view+json": {
       "model_id": "2638aa30fad44aee8e688a047f4a5374",
       "version_major": 2,
       "version_minor": 0
      },
      "text/plain": [
       "FloatProgress(value=0.0, description='0% done ', max=9000.0)"
      ]
     },
     "metadata": {},
     "output_type": "display_data"
    },
    {
     "name": "stdout",
     "output_type": "stream",
     "text": [
      "Meep progress: 1724.2111111111112/9000.0 = 19.2% done in 4.0s, 16.9s to go\n",
      "on time step 310650 (time=1725.83), 1.28762e-05 s/step\n",
      "Meep progress: 3448.472222222222/9000.0 = 38.3% done in 8.0s, 12.9s to go\n",
      "on time step 621066 (time=3450.37), 1.28859e-05 s/step\n",
      "Meep progress: 5212.733333333334/9000.0 = 57.9% done in 12.0s, 8.7s to go\n",
      "on time step 938681 (time=5214.89), 1.25939e-05 s/step\n",
      "Meep progress: 6974.172222222222/9000.0 = 77.5% done in 16.0s, 4.6s to go\n",
      "on time step 1255806 (time=6976.7), 1.26133e-05 s/step\n",
      "Meep progress: 8679.261111111111/9000.0 = 96.4% done in 20.0s, 0.7s to go\n",
      "on time step 1562750 (time=8681.94), 1.30317e-05 s/step\n",
      "run 0 finished at t = 9000.0 (1620000 timesteps)\n",
      "1749961.24390103\n",
      "[0.94205206]\n",
      "[0.05794794]\n",
      "[0.]\n",
      "[0.94203558]\n",
      "[0.05796442]\n",
      "[0.]\n",
      "[1.53]\n",
      "1\n",
      "-----------\n",
      "Initializing structure...\n",
      "time for choose_chunkdivision = 5.72205e-05 s\n",
      "Working in 1D dimensions.\n",
      "Computational cell is 0 x 0 x 10 with resolution 90\n",
      "time for set_epsilon = 0.000216961 s\n",
      "-----------\n"
     ]
    },
    {
     "data": {
      "application/vnd.jupyter.widget-view+json": {
       "model_id": "3370f9b3bce1452c9da7ddddd3e03d54",
       "version_major": 2,
       "version_minor": 0
      },
      "text/plain": [
       "FloatProgress(value=0.0, description='0% done ', max=9000.0)"
      ]
     },
     "metadata": {},
     "output_type": "display_data"
    },
    {
     "name": "stdout",
     "output_type": "stream",
     "text": [
      "Meep progress: 369.57222222222225/9000.0 = 4.1% done in 4.0s, 93.4s to go\n",
      "on time step 66600 (time=370), 6.00601e-05 s/step\n",
      "Meep progress: 726.2833333333334/9000.0 = 8.1% done in 8.0s, 91.1s to go\n",
      "on time step 130813 (time=726.739), 6.22961e-05 s/step\n",
      "Meep progress: 1109.8/9000.0 = 12.3% done in 12.0s, 85.3s to go\n",
      "on time step 199861 (time=1110.34), 5.79309e-05 s/step\n",
      "Meep progress: 1496.3722222222223/9000.0 = 16.6% done in 16.0s, 80.2s to go\n",
      "on time step 269451 (time=1496.95), 5.74796e-05 s/step\n",
      "Meep progress: 1863.8277777777778/9000.0 = 20.7% done in 20.0s, 76.6s to go\n",
      "on time step 335606 (time=1864.48), 6.04644e-05 s/step\n",
      "Meep progress: 2238.1/9000.0 = 24.9% done in 24.0s, 72.5s to go\n",
      "on time step 402982 (time=2238.79), 5.93691e-05 s/step\n",
      "Meep progress: 2634.222222222222/9000.0 = 29.3% done in 28.0s, 67.7s to go\n",
      "on time step 474298 (time=2634.99), 5.60891e-05 s/step\n",
      "Meep progress: 3029.222222222222/9000.0 = 33.7% done in 32.0s, 63.1s to go\n",
      "on time step 545406 (time=3030.03), 5.62525e-05 s/step\n",
      "Meep progress: 3400.5944444444444/9000.0 = 37.8% done in 36.0s, 59.3s to go\n",
      "on time step 612263 (time=3401.46), 5.98297e-05 s/step\n",
      "Meep progress: 3797.0222222222224/9000.0 = 42.2% done in 40.0s, 54.8s to go\n",
      "on time step 683629 (time=3797.94), 5.60491e-05 s/step\n",
      "Meep progress: 4195.266666666666/9000.0 = 46.6% done in 44.0s, 50.4s to go\n",
      "on time step 755324 (time=4196.24), 5.57921e-05 s/step\n",
      "Meep progress: 4595.1/9000.0 = 51.1% done in 48.0s, 46.0s to go\n",
      "on time step 827301 (time=4596.12), 5.55739e-05 s/step\n",
      "Meep progress: 4994.238888888889/9000.0 = 55.5% done in 52.0s, 41.7s to go\n",
      "on time step 899154 (time=4995.3), 5.56694e-05 s/step\n",
      "Meep progress: 5373.427777777778/9000.0 = 59.7% done in 56.0s, 37.8s to go\n",
      "on time step 967415 (time=5374.53), 5.85988e-05 s/step\n",
      "Meep progress: 5763.177777777778/9000.0 = 64.0% done in 60.0s, 33.7s to go\n",
      "on time step 1037585 (time=5764.36), 5.70052e-05 s/step\n",
      "Meep progress: 6161.961111111112/9000.0 = 68.5% done in 64.0s, 29.5s to go\n",
      "on time step 1109375 (time=6163.19), 5.57192e-05 s/step\n",
      "Meep progress: 6560.361111111111/9000.0 = 72.9% done in 68.0s, 25.3s to go\n",
      "on time step 1181100 (time=6561.67), 5.57691e-05 s/step\n",
      "Meep progress: 6941.9111111111115/9000.0 = 77.1% done in 72.0s, 21.3s to go\n",
      "on time step 1249784 (time=6943.24), 5.82378e-05 s/step\n",
      "Meep progress: 7331.855555555556/9000.0 = 81.5% done in 76.0s, 17.3s to go\n",
      "on time step 1319986 (time=7333.26), 5.69786e-05 s/step\n",
      "Meep progress: 7718.88888888889/9000.0 = 85.8% done in 80.0s, 13.3s to go\n",
      "on time step 1389665 (time=7720.36), 5.74079e-05 s/step\n",
      "Meep progress: 8120.4111111111115/9000.0 = 90.2% done in 84.0s, 9.1s to go\n",
      "on time step 1461950 (time=8121.94), 5.53368e-05 s/step\n",
      "Meep progress: 8520.83888888889/9000.0 = 94.7% done in 88.0s, 4.9s to go\n",
      "on time step 1534026 (time=8522.37), 5.54976e-05 s/step\n",
      "Meep progress: 8902.277777777777/9000.0 = 98.9% done in 92.0s, 1.0s to go\n",
      "on time step 1602693 (time=8903.85), 5.82535e-05 s/step\n",
      "run 0 finished at t = 9000.0 (1620000 timesteps)\n",
      "-----------\n",
      "Initializing structure...\n",
      "time for choose_chunkdivision = 6.29425e-05 s\n",
      "Working in 1D dimensions.\n",
      "Computational cell is 0 x 0 x 10 with resolution 90\n",
      "     block, center = (0,0,0)\n",
      "          size (0,0,1.53)\n",
      "          axes (1,0,0), (0,1,0), (0,0,1)\n",
      "          dielectric constant epsilon diagonal = (6.0516,6.0516,6.0516)\n",
      "time for set_epsilon = 0.000253916 s\n",
      "-----------\n"
     ]
    },
    {
     "data": {
      "application/vnd.jupyter.widget-view+json": {
       "model_id": "2b8d71a15b1f480981d0a67a192ce33a",
       "version_major": 2,
       "version_minor": 0
      },
      "text/plain": [
       "FloatProgress(value=0.0, description='0% done ', max=9000.0)"
      ]
     },
     "metadata": {},
     "output_type": "display_data"
    },
    {
     "name": "stdout",
     "output_type": "stream",
     "text": [
      "Meep progress: 1841.25/9000.0 = 20.5% done in 4.0s, 15.6s to go\n",
      "on time step 331950 (time=1844.17), 1.205e-05 s/step\n",
      "Meep progress: 3702.338888888889/9000.0 = 41.1% done in 8.0s, 11.4s to go\n",
      "on time step 667007 (time=3705.59), 1.19383e-05 s/step\n",
      "Meep progress: 5513.183333333333/9000.0 = 61.3% done in 12.0s, 7.6s to go\n",
      "on time step 992987 (time=5516.59), 1.22707e-05 s/step\n",
      "Meep progress: 7357.4111111111115/9000.0 = 81.7% done in 16.0s, 3.6s to go\n",
      "on time step 1325003 (time=7361.13), 1.20476e-05 s/step\n",
      "run 0 finished at t = 9000.0 (1620000 timesteps)\n",
      "-----------\n",
      "Initializing structure...\n",
      "time for choose_chunkdivision = 5.60284e-05 s\n",
      "Working in 1D dimensions.\n",
      "Computational cell is 0 x 0 x 10 with resolution 90\n",
      "     block, center = (0,0,0)\n",
      "          size (0,0,1.53)\n",
      "          axes (1,0,0), (0,1,0), (0,0,1)\n",
      "          dielectric constant epsilon diagonal = (6.0516,6.0516,6.0516)\n",
      "time for set_epsilon = 0.000310898 s\n",
      "-----------\n"
     ]
    },
    {
     "data": {
      "application/vnd.jupyter.widget-view+json": {
       "model_id": "f5221b8ed0ec45c4910be1bc0f1931b1",
       "version_major": 2,
       "version_minor": 0
      },
      "text/plain": [
       "FloatProgress(value=0.0, description='0% done ', max=9000.0)"
      ]
     },
     "metadata": {},
     "output_type": "display_data"
    },
    {
     "name": "stdout",
     "output_type": "stream",
     "text": [
      "Meep progress: 1753.1666666666667/9000.0 = 19.5% done in 4.0s, 16.5s to go\n",
      "on time step 315952 (time=1755.29), 1.26602e-05 s/step\n",
      "Meep progress: 3530.077777777778/9000.0 = 39.2% done in 8.0s, 12.4s to go\n",
      "on time step 635830 (time=3532.39), 1.25048e-05 s/step\n",
      "Meep progress: 5252.683333333333/9000.0 = 58.4% done in 12.0s, 8.6s to go\n",
      "on time step 945932 (time=5255.18), 1.2899e-05 s/step\n",
      "Meep progress: 7000.322222222222/9000.0 = 77.8% done in 16.0s, 4.6s to go\n",
      "on time step 1260554 (time=7003.08), 1.27137e-05 s/step\n",
      "Meep progress: 8795.394444444444/9000.0 = 97.7% done in 20.0s, 0.5s to go\n",
      "on time step 1583710 (time=8798.39), 1.2378e-05 s/step\n",
      "run 0 finished at t = 9000.0 (1620000 timesteps)\n",
      "19424569.80730155\n",
      "[0.94405557]\n",
      "[0.05594443]\n",
      "[0.]\n",
      "[0.94203558]\n",
      "[0.05796442]\n",
      "[0.]\n",
      "[1.53]\n",
      "2\n",
      "-----------\n",
      "Initializing structure...\n",
      "time for choose_chunkdivision = 5.72205e-05 s\n",
      "Working in 1D dimensions.\n",
      "Computational cell is 0 x 0 x 10 with resolution 90\n",
      "time for set_epsilon = 0.000216007 s\n",
      "-----------\n"
     ]
    },
    {
     "data": {
      "application/vnd.jupyter.widget-view+json": {
       "model_id": "e61374832ab941bd9b95eb835c0cae29",
       "version_major": 2,
       "version_minor": 0
      },
      "text/plain": [
       "FloatProgress(value=0.0, description='0% done ', max=9000.0)"
      ]
     },
     "metadata": {},
     "output_type": "display_data"
    },
    {
     "name": "stdout",
     "output_type": "stream",
     "text": [
      "Meep progress: 386.7166666666667/9000.0 = 4.3% done in 4.0s, 89.1s to go\n",
      "on time step 69696 (time=387.2), 5.73922e-05 s/step\n",
      "Meep progress: 756.3055555555555/9000.0 = 8.4% done in 8.0s, 87.2s to go\n",
      "on time step 136225 (time=756.806), 6.01248e-05 s/step\n",
      "Meep progress: 1127.3666666666668/9000.0 = 12.5% done in 12.0s, 83.8s to go\n",
      "on time step 203015 (time=1127.86), 5.98895e-05 s/step\n",
      "Meep progress: 1515.6944444444446/9000.0 = 16.8% done in 16.0s, 79.0s to go\n",
      "on time step 272936 (time=1516.31), 5.72082e-05 s/step\n",
      "Meep progress: 1909.0055555555557/9000.0 = 21.2% done in 20.0s, 74.3s to go\n",
      "on time step 343744 (time=1909.69), 5.64913e-05 s/step\n",
      "Meep progress: 2303.0111111111114/9000.0 = 25.6% done in 24.0s, 69.8s to go\n",
      "on time step 414673 (time=2303.74), 5.63951e-05 s/step\n",
      "Meep progress: 2679.2555555555555/9000.0 = 29.8% done in 28.0s, 66.1s to go\n",
      "on time step 482404 (time=2680.02), 5.90572e-05 s/step\n",
      "Meep progress: 3061.438888888889/9000.0 = 34.0% done in 32.0s, 62.1s to go\n",
      "on time step 551211 (time=3062.28), 5.81339e-05 s/step\n",
      "Meep progress: 3455.2944444444447/9000.0 = 38.4% done in 36.0s, 57.8s to go\n",
      "on time step 622114 (time=3456.19), 5.64158e-05 s/step\n",
      "Meep progress: 3849.988888888889/9000.0 = 42.8% done in 40.0s, 53.5s to go\n",
      "on time step 693172 (time=3850.96), 5.62924e-05 s/step\n",
      "Meep progress: 4243.394444444444/9000.0 = 47.1% done in 44.0s, 49.3s to go\n",
      "on time step 763986 (time=4244.37), 5.64863e-05 s/step\n",
      "Meep progress: 4619.105555555556/9000.0 = 51.3% done in 48.0s, 45.5s to go\n",
      "on time step 831622 (time=4620.12), 5.91405e-05 s/step\n",
      "Meep progress: 5005.727777777778/9000.0 = 55.6% done in 52.0s, 41.5s to go\n",
      "on time step 901225 (time=5006.81), 5.74689e-05 s/step\n",
      "Meep progress: 5362.388888888889/9000.0 = 59.6% done in 56.0s, 38.0s to go\n",
      "on time step 965435 (time=5363.53), 6.22962e-05 s/step\n",
      "Meep progress: 5745.572222222222/9000.0 = 63.8% done in 60.0s, 34.0s to go\n",
      "on time step 1034408 (time=5746.71), 5.79939e-05 s/step\n",
      "Meep progress: 6114.872222222222/9000.0 = 67.9% done in 64.0s, 30.2s to go\n",
      "on time step 1100897 (time=6116.09), 6.01609e-05 s/step\n",
      "Meep progress: 6504.122222222222/9000.0 = 72.3% done in 68.0s, 26.1s to go\n",
      "on time step 1170984 (time=6505.47), 5.7072e-05 s/step\n",
      "Meep progress: 6901.544444444445/9000.0 = 76.7% done in 72.0s, 21.9s to go\n",
      "on time step 1242534 (time=6902.97), 5.59056e-05 s/step\n",
      "Meep progress: 7301.466666666667/9000.0 = 81.1% done in 76.0s, 17.7s to go\n",
      "on time step 1314534 (time=7302.97), 5.55566e-05 s/step\n",
      "Meep progress: 7692.527777777778/9000.0 = 85.5% done in 80.0s, 13.6s to go\n",
      "on time step 1384926 (time=7694.03), 5.6825e-05 s/step\n",
      "Meep progress: 8064.044444444445/9000.0 = 89.6% done in 84.0s, 9.7s to go\n",
      "on time step 1451797 (time=8065.54), 5.98168e-05 s/step\n",
      "Meep progress: 8448.822222222223/9000.0 = 93.9% done in 88.0s, 5.7s to go\n",
      "on time step 1521073 (time=8450.41), 5.77404e-05 s/step\n",
      "Meep progress: 8846.16111111111/9000.0 = 98.3% done in 92.0s, 1.6s to go\n",
      "on time step 1592615 (time=8847.86), 5.59118e-05 s/step\n",
      "run 0 finished at t = 9000.0 (1620000 timesteps)\n",
      "-----------\n",
      "Initializing structure...\n",
      "time for choose_chunkdivision = 5.60284e-05 s\n",
      "Working in 1D dimensions.\n",
      "Computational cell is 0 x 0 x 10 with resolution 90\n",
      "     block, center = (0,0,0)\n",
      "          size (0,0,1.53)\n",
      "          axes (1,0,0), (0,1,0), (0,0,1)\n",
      "          dielectric constant epsilon diagonal = (6.0516,6.0516,6.0516)\n",
      "time for set_epsilon = 0.000252962 s\n",
      "-----------\n"
     ]
    },
    {
     "data": {
      "application/vnd.jupyter.widget-view+json": {
       "model_id": "525ec13414034c79ad3359933078eb1c",
       "version_major": 2,
       "version_minor": 0
      },
      "text/plain": [
       "FloatProgress(value=0.0, description='0% done ', max=9000.0)"
      ]
     },
     "metadata": {},
     "output_type": "display_data"
    },
    {
     "name": "stdout",
     "output_type": "stream",
     "text": [
      "Meep progress: 1829.9444444444446/9000.0 = 20.3% done in 4.0s, 15.7s to go\n",
      "on time step 329698 (time=1831.66), 1.21323e-05 s/step\n",
      "Meep progress: 3631.527777777778/9000.0 = 40.4% done in 8.0s, 11.8s to go\n",
      "on time step 654033 (time=3633.52), 1.2333e-05 s/step\n",
      "Meep progress: 5457.366666666667/9000.0 = 60.6% done in 12.0s, 7.8s to go\n",
      "on time step 982719 (time=5459.55), 1.21697e-05 s/step\n",
      "Meep progress: 7268.6/9000.0 = 80.8% done in 16.0s, 3.8s to go\n",
      "on time step 1308756 (time=7270.87), 1.22686e-05 s/step\n",
      "run 0 finished at t = 9000.0 (1620000 timesteps)\n",
      "-----------\n",
      "Initializing structure...\n",
      "time for choose_chunkdivision = 5.6982e-05 s\n",
      "Working in 1D dimensions.\n",
      "Computational cell is 0 x 0 x 10 with resolution 90\n",
      "     block, center = (0,0,0)\n",
      "          size (0,0,1.53)\n",
      "          axes (1,0,0), (0,1,0), (0,0,1)\n",
      "          dielectric constant epsilon diagonal = (6.0516,6.0516,6.0516)\n",
      "time for set_epsilon = 0.000284195 s\n",
      "-----------\n"
     ]
    },
    {
     "data": {
      "application/vnd.jupyter.widget-view+json": {
       "model_id": "689e5a17575a42aca720f5e86206c5e0",
       "version_major": 2,
       "version_minor": 0
      },
      "text/plain": [
       "FloatProgress(value=0.0, description='0% done ', max=9000.0)"
      ]
     },
     "metadata": {},
     "output_type": "display_data"
    },
    {
     "name": "stdout",
     "output_type": "stream",
     "text": [
      "Meep progress: 1676.8444444444444/9000.0 = 18.6% done in 4.0s, 17.5s to go\n",
      "on time step 302157 (time=1678.65), 1.32382e-05 s/step\n",
      "Meep progress: 3386.6277777777777/9000.0 = 37.6% done in 8.0s, 13.3s to go\n",
      "on time step 609989 (time=3388.83), 1.29946e-05 s/step\n",
      "Meep progress: 5166.416666666667/9000.0 = 57.4% done in 12.0s, 8.9s to go\n",
      "on time step 930389 (time=5168.83), 1.24844e-05 s/step\n",
      "Meep progress: 6894.25/9000.0 = 76.6% done in 16.0s, 4.9s to go\n",
      "on time step 1241441 (time=6896.89), 1.28596e-05 s/step\n",
      "Meep progress: 8605.172222222223/9000.0 = 95.6% done in 20.0s, 0.9s to go\n",
      "on time step 1549418 (time=8607.88), 1.2988e-05 s/step\n",
      "run 0 finished at t = 9000.0 (1620000 timesteps)\n",
      "37099178.37070187\n",
      "[0.94929011]\n",
      "[0.05070989]\n",
      "[0.]\n",
      "[0.94203558]\n",
      "[0.05796442]\n",
      "[0.]\n",
      "[1.53]\n",
      "3\n",
      "-----------\n",
      "Initializing structure...\n",
      "time for choose_chunkdivision = 6.69956e-05 s\n",
      "Working in 1D dimensions.\n",
      "Computational cell is 0 x 0 x 10 with resolution 90\n",
      "time for set_epsilon = 0.000244856 s\n",
      "-----------\n"
     ]
    },
    {
     "data": {
      "application/vnd.jupyter.widget-view+json": {
       "model_id": "5371a264eed7435b92371dc77d52488e",
       "version_major": 2,
       "version_minor": 0
      },
      "text/plain": [
       "FloatProgress(value=0.0, description='0% done ', max=9000.0)"
      ]
     },
     "metadata": {},
     "output_type": "display_data"
    },
    {
     "name": "stdout",
     "output_type": "stream",
     "text": [
      "Meep progress: 374.3666666666667/9000.0 = 4.2% done in 4.0s, 92.2s to go\n",
      "on time step 67458 (time=374.767), 5.92977e-05 s/step\n",
      "Meep progress: 753.75/9000.0 = 8.4% done in 8.0s, 87.5s to go\n",
      "on time step 135762 (time=754.233), 5.85622e-05 s/step\n",
      "Meep progress: 1149.1611111111113/9000.0 = 12.8% done in 12.0s, 82.0s to go\n",
      "on time step 206945 (time=1149.69), 5.61936e-05 s/step\n",
      "Meep progress: 1536.5611111111111/9000.0 = 17.1% done in 16.0s, 77.7s to go\n",
      "on time step 276682 (time=1537.12), 5.73594e-05 s/step\n",
      "Meep progress: 1919.7166666666667/9000.0 = 21.3% done in 20.0s, 73.8s to go\n",
      "on time step 345647 (time=1920.26), 5.80007e-05 s/step\n",
      "Meep progress: 2304.7055555555557/9000.0 = 25.6% done in 24.0s, 69.7s to go\n",
      "on time step 414968 (time=2305.38), 5.77032e-05 s/step\n",
      "Meep progress: 2683.8333333333335/9000.0 = 29.8% done in 28.0s, 65.9s to go\n",
      "on time step 483223 (time=2684.57), 5.8604e-05 s/step\n",
      "Meep progress: 3077.8055555555557/9000.0 = 34.2% done in 32.0s, 61.6s to go\n",
      "on time step 554148 (time=3078.6), 5.6398e-05 s/step\n",
      "Meep progress: 3452.6333333333337/9000.0 = 38.4% done in 36.0s, 57.8s to go\n",
      "on time step 621619 (time=3453.44), 5.92848e-05 s/step\n",
      "Meep progress: 3833.2555555555555/9000.0 = 42.6% done in 40.0s, 53.9s to go\n",
      "on time step 690142 (time=3834.12), 5.83751e-05 s/step\n",
      "Meep progress: 4215.233333333334/9000.0 = 46.8% done in 44.0s, 49.9s to go\n",
      "on time step 758901 (time=4216.12), 5.81744e-05 s/step\n",
      "Meep progress: 4591.433333333333/9000.0 = 51.0% done in 48.0s, 46.1s to go\n",
      "on time step 826645 (time=4592.47), 5.90465e-05 s/step\n",
      "Meep progress: 4988.088888888889/9000.0 = 55.4% done in 52.0s, 41.8s to go\n",
      "on time step 898055 (time=4989.19), 5.60151e-05 s/step\n",
      "Meep progress: 5362.277777777778/9000.0 = 59.6% done in 56.0s, 38.0s to go\n",
      "on time step 965409 (time=5363.38), 5.93879e-05 s/step\n",
      "Meep progress: 5747.777777777778/9000.0 = 63.9% done in 60.0s, 33.9s to go\n",
      "on time step 1034816 (time=5748.98), 5.76317e-05 s/step\n",
      "Meep progress: 6142.150000000001/9000.0 = 68.2% done in 64.0s, 29.8s to go\n",
      "on time step 1105808 (time=6143.38), 5.63446e-05 s/step\n",
      "Meep progress: 6535.383333333333/9000.0 = 72.6% done in 68.0s, 25.6s to go\n",
      "on time step 1176596 (time=6536.64), 5.65071e-05 s/step\n",
      "Meep progress: 6920.35/9000.0 = 76.9% done in 72.0s, 21.6s to go\n",
      "on time step 1245905 (time=6921.69), 5.7714e-05 s/step\n",
      "Meep progress: 7307.772222222223/9000.0 = 81.2% done in 76.0s, 17.6s to go\n",
      "on time step 1315646 (time=7309.14), 5.73552e-05 s/step\n",
      "Meep progress: 7699.944444444444/9000.0 = 85.6% done in 80.0s, 13.5s to go\n",
      "on time step 1386251 (time=7701.39), 5.66549e-05 s/step\n",
      "Meep progress: 8081.3/9000.0 = 89.8% done in 84.0s, 9.5s to go\n",
      "on time step 1454908 (time=8082.82), 5.8261e-05 s/step\n",
      "Meep progress: 8474.877777777778/9000.0 = 94.2% done in 88.0s, 5.5s to go\n",
      "on time step 1525759 (time=8476.44), 5.64566e-05 s/step\n",
      "Meep progress: 8855.238888888889/9000.0 = 98.4% done in 92.0s, 1.5s to go\n",
      "on time step 1594234 (time=8856.86), 5.84161e-05 s/step\n",
      "run 0 finished at t = 9000.0 (1620000 timesteps)\n",
      "-----------\n",
      "Initializing structure...\n",
      "time for choose_chunkdivision = 6.79493e-05 s\n",
      "Working in 1D dimensions.\n",
      "Computational cell is 0 x 0 x 10 with resolution 90\n",
      "     block, center = (0,0,0)\n",
      "          size (0,0,1.53)\n",
      "          axes (1,0,0), (0,1,0), (0,0,1)\n",
      "          dielectric constant epsilon diagonal = (6.0516,6.0516,6.0516)\n",
      "time for set_epsilon = 0.000253916 s\n",
      "-----------\n"
     ]
    },
    {
     "data": {
      "application/vnd.jupyter.widget-view+json": {
       "model_id": "8ab197c51bea4de9bbf7957a7919bf3f",
       "version_major": 2,
       "version_minor": 0
      },
      "text/plain": [
       "FloatProgress(value=0.0, description='0% done ', max=9000.0)"
      ]
     },
     "metadata": {},
     "output_type": "display_data"
    },
    {
     "name": "stdout",
     "output_type": "stream",
     "text": [
      "Meep progress: 1826.0666666666668/9000.0 = 20.3% done in 4.0s, 15.7s to go\n",
      "on time step 329073 (time=1828.18), 1.21554e-05 s/step\n",
      "Meep progress: 3656.472222222222/9000.0 = 40.6% done in 8.0s, 11.7s to go\n",
      "on time step 658579 (time=3658.77), 1.21394e-05 s/step\n",
      "Meep progress: 5438.0055555555555/9000.0 = 60.4% done in 12.0s, 7.9s to go\n",
      "on time step 979305 (time=5440.58), 1.24717e-05 s/step\n",
      "Meep progress: 7258.933333333333/9000.0 = 80.7% done in 16.0s, 3.8s to go\n",
      "on time step 1307095 (time=7261.64), 1.22029e-05 s/step\n",
      "run 0 finished at t = 9000.0 (1620000 timesteps)\n",
      "-----------\n",
      "Initializing structure...\n",
      "time for choose_chunkdivision = 5.88894e-05 s\n",
      "Working in 1D dimensions.\n",
      "Computational cell is 0 x 0 x 10 with resolution 90\n",
      "     block, center = (0,0,0)\n",
      "          size (0,0,1.53)\n",
      "          axes (1,0,0), (0,1,0), (0,0,1)\n",
      "          dielectric constant epsilon diagonal = (6.0516,6.0516,6.0516)\n",
      "time for set_epsilon = 0.000258923 s\n",
      "-----------\n"
     ]
    },
    {
     "data": {
      "application/vnd.jupyter.widget-view+json": {
       "model_id": "2da799d5dd774de2bcf2f42a214da9b2",
       "version_major": 2,
       "version_minor": 0
      },
      "text/plain": [
       "FloatProgress(value=0.0, description='0% done ', max=9000.0)"
      ]
     },
     "metadata": {},
     "output_type": "display_data"
    },
    {
     "name": "stdout",
     "output_type": "stream",
     "text": [
      "Meep progress: 1697.0166666666667/9000.0 = 18.9% done in 4.0s, 17.2s to go\n",
      "on time step 305787 (time=1698.82), 1.3081e-05 s/step\n",
      "Meep progress: 3481.05/9000.0 = 38.7% done in 8.0s, 12.7s to go\n",
      "on time step 626974 (time=3483.19), 1.24538e-05 s/step\n",
      "Meep progress: 5202.444444444444/9000.0 = 57.8% done in 12.0s, 8.8s to go\n",
      "on time step 936826 (time=5204.59), 1.29096e-05 s/step\n",
      "Meep progress: 6905.605555555556/9000.0 = 76.7% done in 16.0s, 4.9s to go\n",
      "on time step 1243471 (time=6908.17), 1.30444e-05 s/step\n",
      "Meep progress: 8641.7/9000.0 = 96.0% done in 20.0s, 0.8s to go\n",
      "on time step 1556022 (time=8644.57), 1.27979e-05 s/step\n",
      "run 0 finished at t = 9000.0 (1620000 timesteps)\n",
      "54773786.934102535\n",
      "[0.95737218]\n",
      "[0.04262782]\n",
      "[0.]\n",
      "[0.94203558]\n",
      "[0.05796442]\n",
      "[0.]\n",
      "[1.53]\n",
      "4\n",
      "-----------\n",
      "Initializing structure...\n",
      "time for choose_chunkdivision = 8.2016e-05 s\n",
      "Working in 1D dimensions.\n",
      "Computational cell is 0 x 0 x 10 with resolution 90\n",
      "time for set_epsilon = 0.000226974 s\n",
      "-----------\n"
     ]
    },
    {
     "data": {
      "application/vnd.jupyter.widget-view+json": {
       "model_id": "7f9dcb7b95e24f10b762e61fbb5b2efb",
       "version_major": 2,
       "version_minor": 0
      },
      "text/plain": [
       "FloatProgress(value=0.0, description='0% done ', max=9000.0)"
      ]
     },
     "metadata": {},
     "output_type": "display_data"
    },
    {
     "name": "stdout",
     "output_type": "stream",
     "text": [
      "Meep progress: 386.10555555555555/9000.0 = 4.3% done in 4.0s, 89.2s to go\n",
      "on time step 69566 (time=386.478), 5.74999e-05 s/step\n",
      "Meep progress: 746.6388888888889/9000.0 = 8.3% done in 8.0s, 88.4s to go\n",
      "on time step 134470 (time=747.056), 6.16296e-05 s/step\n",
      "Meep progress: 1116.0333333333333/9000.0 = 12.4% done in 12.0s, 84.8s to go\n",
      "on time step 200976 (time=1116.53), 6.01454e-05 s/step\n",
      "Meep progress: 1497.8333333333335/9000.0 = 16.6% done in 16.0s, 80.1s to go\n",
      "on time step 269707 (time=1498.37), 5.81987e-05 s/step\n",
      "Meep progress: 1883.0055555555557/9000.0 = 20.9% done in 20.0s, 75.6s to go\n",
      "on time step 339056 (time=1883.64), 5.76796e-05 s/step\n",
      "Meep progress: 2274.0222222222224/9000.0 = 25.3% done in 24.0s, 71.0s to go\n",
      "on time step 409449 (time=2274.72), 5.68244e-05 s/step\n",
      "Meep progress: 2637.7833333333333/9000.0 = 29.3% done in 28.0s, 67.5s to go\n",
      "on time step 474927 (time=2638.48), 6.10903e-05 s/step\n",
      "Meep progress: 3021.8944444444446/9000.0 = 33.6% done in 32.0s, 63.3s to go\n",
      "on time step 544086 (time=3022.7), 5.78384e-05 s/step\n",
      "Meep progress: 3418.9555555555557/9000.0 = 38.0% done in 36.0s, 58.8s to go\n",
      "on time step 615426 (time=3419.03), 5.60699e-05 s/step\n",
      "Meep progress: 3811.266666666667/9000.0 = 42.3% done in 40.0s, 54.5s to go\n",
      "on time step 686191 (time=3812.17), 5.65258e-05 s/step\n",
      "Meep progress: 4190.905555555556/9000.0 = 46.6% done in 44.0s, 50.5s to go\n",
      "on time step 754529 (time=4191.83), 5.8533e-05 s/step\n",
      "Meep progress: 4575.983333333334/9000.0 = 50.8% done in 48.0s, 46.4s to go\n",
      "on time step 823860 (time=4577), 5.76944e-05 s/step\n",
      "Meep progress: 4948.127777777778/9000.0 = 55.0% done in 52.0s, 42.6s to go\n",
      "on time step 890850 (time=4949.17), 5.97112e-05 s/step\n",
      "Meep progress: 5323.044444444445/9000.0 = 59.1% done in 56.0s, 38.7s to go\n",
      "on time step 958356 (time=5324.2), 5.92543e-05 s/step\n",
      "Meep progress: 5710.416666666667/9000.0 = 63.4% done in 60.0s, 34.6s to go\n",
      "on time step 1028089 (time=5711.61), 5.73619e-05 s/step\n",
      "Meep progress: 6098.788888888889/9000.0 = 67.8% done in 64.0s, 30.4s to go\n",
      "on time step 1098006 (time=6100.03), 5.72111e-05 s/step\n",
      "Meep progress: 6491.711111111112/9000.0 = 72.1% done in 68.0s, 26.3s to go\n",
      "on time step 1168728 (time=6492.93), 5.65597e-05 s/step\n",
      "Meep progress: 6885.033333333334/9000.0 = 76.5% done in 72.0s, 22.1s to go\n",
      "on time step 1239554 (time=6886.41), 5.6477e-05 s/step\n",
      "Meep progress: 7278.700000000001/9000.0 = 80.9% done in 76.0s, 18.0s to go\n",
      "on time step 1310402 (time=7280.01), 5.64602e-05 s/step\n",
      "Meep progress: 7668.611111111111/9000.0 = 85.2% done in 80.0s, 13.9s to go\n",
      "on time step 1380606 (time=7670.03), 5.69772e-05 s/step\n",
      "Meep progress: 8061.038888888889/9000.0 = 89.6% done in 84.0s, 9.8s to go\n",
      "on time step 1451253 (time=8062.52), 5.66198e-05 s/step\n",
      "Meep progress: 8446.083333333334/9000.0 = 93.8% done in 88.0s, 5.8s to go\n",
      "on time step 1520582 (time=8447.68), 5.76965e-05 s/step\n",
      "Meep progress: 8847.16111111111/9000.0 = 98.3% done in 92.0s, 1.6s to go\n",
      "on time step 1592789 (time=8848.83), 5.53969e-05 s/step\n",
      "run 0 finished at t = 9000.0 (1620000 timesteps)\n",
      "-----------\n",
      "Initializing structure...\n",
      "time for choose_chunkdivision = 5.60284e-05 s\n",
      "Working in 1D dimensions.\n",
      "Computational cell is 0 x 0 x 10 with resolution 90\n",
      "     block, center = (0,0,0)\n",
      "          size (0,0,1.53)\n",
      "          axes (1,0,0), (0,1,0), (0,0,1)\n",
      "          dielectric constant epsilon diagonal = (6.0516,6.0516,6.0516)\n",
      "time for set_epsilon = 0.000259161 s\n",
      "-----------\n"
     ]
    },
    {
     "data": {
      "application/vnd.jupyter.widget-view+json": {
       "model_id": "add1dd5634ba409ea1118fdbbd470ef0",
       "version_major": 2,
       "version_minor": 0
      },
      "text/plain": [
       "FloatProgress(value=0.0, description='0% done ', max=9000.0)"
      ]
     },
     "metadata": {},
     "output_type": "display_data"
    },
    {
     "name": "stdout",
     "output_type": "stream",
     "text": [
      "Meep progress: 1760.3777777777777/9000.0 = 19.6% done in 4.0s, 16.5s to go\n",
      "on time step 317303 (time=1762.79), 1.26063e-05 s/step\n",
      "Meep progress: 3553.05/9000.0 = 39.5% done in 8.0s, 12.3s to go\n",
      "on time step 640059 (time=3555.88), 1.23933e-05 s/step\n",
      "Meep progress: 5430.905555555556/9000.0 = 60.3% done in 12.0s, 7.9s to go\n",
      "on time step 978117 (time=5433.98), 1.18323e-05 s/step\n",
      "Meep progress: 7314.644444444445/9000.0 = 81.3% done in 16.0s, 3.7s to go\n",
      "on time step 1317250 (time=7318.06), 1.17948e-05 s/step\n",
      "run 0 finished at t = 9000.0 (1620000 timesteps)\n",
      "-----------\n",
      "Initializing structure...\n",
      "time for choose_chunkdivision = 5.72205e-05 s\n",
      "Working in 1D dimensions.\n",
      "Computational cell is 0 x 0 x 10 with resolution 90\n",
      "     block, center = (0,0,0)\n",
      "          size (0,0,1.53)\n",
      "          axes (1,0,0), (0,1,0), (0,0,1)\n",
      "          dielectric constant epsilon diagonal = (6.0516,6.0516,6.0516)\n",
      "time for set_epsilon = 0.000261068 s\n",
      "-----------\n"
     ]
    },
    {
     "data": {
      "application/vnd.jupyter.widget-view+json": {
       "model_id": "6dee53941d41467488297f8296f3e169",
       "version_major": 2,
       "version_minor": 0
      },
      "text/plain": [
       "FloatProgress(value=0.0, description='0% done ', max=9000.0)"
      ]
     },
     "metadata": {},
     "output_type": "display_data"
    },
    {
     "name": "stdout",
     "output_type": "stream",
     "text": [
      "Meep progress: 1760.4166666666667/9000.0 = 19.6% done in 4.0s, 16.4s to go\n",
      "on time step 317168 (time=1762.04), 1.26116e-05 s/step\n",
      "Meep progress: 3509.8722222222223/9000.0 = 39.0% done in 8.0s, 12.5s to go\n",
      "on time step 632121 (time=3511.78), 1.27003e-05 s/step\n",
      "Meep progress: 5314.905555555556/9000.0 = 59.1% done in 12.0s, 8.3s to go\n",
      "on time step 957088 (time=5317.16), 1.2309e-05 s/step\n",
      "Meep progress: 7132.738888888889/9000.0 = 79.3% done in 16.0s, 4.2s to go\n",
      "on time step 1284315 (time=7135.08), 1.22239e-05 s/step\n",
      "Meep progress: 8909.133333333333/9000.0 = 99.0% done in 20.0s, 0.2s to go\n",
      "on time step 1604094 (time=8911.63), 1.25086e-05 s/step\n",
      "run 0 finished at t = 9000.0 (1620000 timesteps)\n",
      "72448395.49750276\n",
      "[0.96743772]\n",
      "[0.03256228]\n",
      "[0.]\n",
      "[0.94203558]\n",
      "[0.05796442]\n",
      "[0.]\n",
      "[1.53]\n",
      "5\n",
      "-----------\n",
      "Initializing structure...\n",
      "time for choose_chunkdivision = 5.50747e-05 s\n",
      "Working in 1D dimensions.\n",
      "Computational cell is 0 x 0 x 10 with resolution 90\n",
      "time for set_epsilon = 0.000216007 s\n",
      "-----------\n"
     ]
    },
    {
     "data": {
      "application/vnd.jupyter.widget-view+json": {
       "model_id": "9b292332132f4d118088d3e0b6caa24c",
       "version_major": 2,
       "version_minor": 0
      },
      "text/plain": [
       "FloatProgress(value=0.0, description='0% done ', max=9000.0)"
      ]
     },
     "metadata": {},
     "output_type": "display_data"
    },
    {
     "name": "stdout",
     "output_type": "stream",
     "text": [
      "Meep progress: 377.2555555555556/9000.0 = 4.2% done in 4.0s, 91.4s to go\n",
      "on time step 67977 (time=377.65), 5.88435e-05 s/step\n",
      "Meep progress: 763.5444444444445/9000.0 = 8.5% done in 8.0s, 86.3s to go\n",
      "on time step 137518 (time=763.989), 5.75206e-05 s/step\n",
      "Meep progress: 1159.6666666666667/9000.0 = 12.9% done in 12.0s, 81.1s to go\n",
      "on time step 208832 (time=1160.18), 5.6091e-05 s/step\n",
      "Meep progress: 1548.1611111111113/9000.0 = 17.2% done in 16.0s, 77.0s to go\n",
      "on time step 278770 (time=1548.72), 5.71941e-05 s/step\n",
      "Meep progress: 1942.4388888888889/9000.0 = 21.6% done in 20.0s, 72.7s to go\n",
      "on time step 349748 (time=1943.04), 5.63557e-05 s/step\n",
      "Meep progress: 2336.5722222222225/9000.0 = 26.0% done in 24.0s, 68.4s to go\n",
      "on time step 420704 (time=2337.24), 5.63736e-05 s/step\n",
      "Meep progress: 2739.133333333333/9000.0 = 30.4% done in 28.0s, 64.0s to go\n",
      "on time step 493179 (time=2739.88), 5.51918e-05 s/step\n",
      "Meep progress: 3136.5444444444447/9000.0 = 34.9% done in 32.0s, 59.8s to go\n",
      "on time step 564722 (time=3137.34), 5.59113e-05 s/step\n",
      "Meep progress: 3526.577777777778/9000.0 = 39.2% done in 36.0s, 55.9s to go\n",
      "on time step 634943 (time=3527.46), 5.69635e-05 s/step\n",
      "Meep progress: 3922.1833333333334/9000.0 = 43.6% done in 40.0s, 51.8s to go\n",
      "on time step 706158 (time=3923.1), 5.61686e-05 s/step\n",
      "Meep progress: 4316.2555555555555/9000.0 = 48.0% done in 44.0s, 47.7s to go\n",
      "on time step 777099 (time=4317.22), 5.63849e-05 s/step\n",
      "Meep progress: 4713.400000000001/9000.0 = 52.4% done in 48.0s, 43.7s to go\n",
      "on time step 848604 (time=4714.47), 5.59402e-05 s/step\n",
      "Meep progress: 5111.222222222223/9000.0 = 56.8% done in 52.0s, 39.6s to go\n",
      "on time step 920215 (time=5112.31), 5.5858e-05 s/step\n",
      "Meep progress: 5506.7/9000.0 = 61.2% done in 56.0s, 35.5s to go\n",
      "on time step 991404 (time=5507.8), 5.61887e-05 s/step\n",
      "Meep progress: 5899.622222222222/9000.0 = 65.6% done in 60.0s, 31.5s to go\n",
      "on time step 1062147 (time=5900.82), 5.65429e-05 s/step\n",
      "Meep progress: 6297.794444444445/9000.0 = 70.0% done in 64.0s, 27.5s to go\n",
      "on time step 1133826 (time=6299.03), 5.58044e-05 s/step\n",
      "Meep progress: 6698.122222222222/9000.0 = 74.4% done in 68.0s, 23.4s to go\n",
      "on time step 1205883 (time=6699.35), 5.55119e-05 s/step\n",
      "Meep progress: 7076.63888888889/9000.0 = 78.6% done in 72.0s, 19.6s to go\n",
      "on time step 1274029 (time=7077.94), 5.86978e-05 s/step\n",
      "Meep progress: 7474.238888888889/9000.0 = 83.0% done in 76.0s, 15.5s to go\n",
      "on time step 1345622 (time=7475.68), 5.58719e-05 s/step\n",
      "Meep progress: 7871.427777777778/9000.0 = 87.5% done in 80.0s, 11.5s to go\n",
      "on time step 1417124 (time=7872.91), 5.59426e-05 s/step\n",
      "Meep progress: 8245.555555555557/9000.0 = 91.6% done in 84.0s, 7.7s to go\n",
      "on time step 1484469 (time=8247.05), 5.93959e-05 s/step\n",
      "Meep progress: 8642.994444444445/9000.0 = 96.0% done in 88.0s, 3.6s to go\n",
      "on time step 1556009 (time=8644.49), 5.59132e-05 s/step\n",
      "run 0 finished at t = 9000.0 (1620000 timesteps)\n",
      "-----------\n",
      "Initializing structure...\n",
      "time for choose_chunkdivision = 5.50747e-05 s\n",
      "Working in 1D dimensions.\n",
      "Computational cell is 0 x 0 x 10 with resolution 90\n",
      "     block, center = (0,0,0)\n",
      "          size (0,0,1.53)\n",
      "          axes (1,0,0), (0,1,0), (0,0,1)\n",
      "          dielectric constant epsilon diagonal = (6.0516,6.0516,6.0516)\n",
      "time for set_epsilon = 0.000255108 s\n",
      "-----------\n"
     ]
    },
    {
     "data": {
      "application/vnd.jupyter.widget-view+json": {
       "model_id": "5c5fb6dfdd8e4cb18433c9701b4c4bea",
       "version_major": 2,
       "version_minor": 0
      },
      "text/plain": [
       "FloatProgress(value=0.0, description='0% done ', max=9000.0)"
      ]
     },
     "metadata": {},
     "output_type": "display_data"
    },
    {
     "name": "stdout",
     "output_type": "stream",
     "text": [
      "Meep progress: 1837.7777777777778/9000.0 = 20.4% done in 4.0s, 15.6s to go\n",
      "on time step 331195 (time=1839.97), 1.20775e-05 s/step\n",
      "Meep progress: 3708.972222222222/9000.0 = 41.2% done in 8.0s, 11.4s to go\n",
      "on time step 668035 (time=3711.31), 1.18762e-05 s/step\n",
      "Meep progress: 5547.372222222222/9000.0 = 61.6% done in 12.0s, 7.5s to go\n",
      "on time step 999025 (time=5550.14), 1.2085e-05 s/step\n",
      "Meep progress: 7408.561111111111/9000.0 = 82.3% done in 16.0s, 3.4s to go\n",
      "on time step 1334078 (time=7411.54), 1.19384e-05 s/step\n",
      "run 0 finished at t = 9000.0 (1620000 timesteps)\n",
      "-----------\n",
      "Initializing structure...\n",
      "time for choose_chunkdivision = 6.00815e-05 s\n",
      "Working in 1D dimensions.\n",
      "Computational cell is 0 x 0 x 10 with resolution 90\n",
      "     block, center = (0,0,0)\n",
      "          size (0,0,1.53)\n",
      "          axes (1,0,0), (0,1,0), (0,0,1)\n",
      "          dielectric constant epsilon diagonal = (6.0516,6.0516,6.0516)\n",
      "time for set_epsilon = 0.000289202 s\n",
      "-----------\n"
     ]
    },
    {
     "data": {
      "application/vnd.jupyter.widget-view+json": {
       "model_id": "08a580b7756e4f969e4a334b65e349d5",
       "version_major": 2,
       "version_minor": 0
      },
      "text/plain": [
       "FloatProgress(value=0.0, description='0% done ', max=9000.0)"
      ]
     },
     "metadata": {},
     "output_type": "display_data"
    },
    {
     "name": "stdout",
     "output_type": "stream",
     "text": [
      "Meep progress: 1774.838888888889/9000.0 = 19.7% done in 4.0s, 16.3s to go\n",
      "on time step 319871 (time=1777.06), 1.2505e-05 s/step\n",
      "Meep progress: 3579.327777777778/9000.0 = 39.8% done in 8.0s, 12.1s to go\n",
      "on time step 644719 (time=3581.77), 1.23135e-05 s/step\n",
      "Meep progress: 5372.905555555556/9000.0 = 59.7% done in 12.0s, 8.1s to go\n",
      "on time step 967593 (time=5375.52), 1.23887e-05 s/step\n",
      "Meep progress: 7187.038888888889/9000.0 = 79.9% done in 16.0s, 4.0s to go\n",
      "on time step 1294181 (time=7189.89), 1.22479e-05 s/step\n",
      "Meep progress: 8984.444444444445/9000.0 = 99.8% done in 20.0s, 0.0s to go\n",
      "on time step 1617765 (time=8987.58), 1.23616e-05 s/step\n",
      "run 0 finished at t = 9000.0 (1620000 timesteps)\n",
      "90123004.06090337\n",
      "[0.97784297]\n",
      "[0.02215703]\n",
      "[0.]\n",
      "[0.94203558]\n",
      "[0.05796442]\n",
      "[0.]\n",
      "[1.53]\n",
      "6\n",
      "-----------\n",
      "Initializing structure...\n",
      "time for choose_chunkdivision = 5.4121e-05 s\n",
      "Working in 1D dimensions.\n",
      "Computational cell is 0 x 0 x 10 with resolution 90\n",
      "time for set_epsilon = 0.000216007 s\n",
      "-----------\n"
     ]
    },
    {
     "data": {
      "application/vnd.jupyter.widget-view+json": {
       "model_id": "e867d5a900744f8dba8ff5c1ab42e95e",
       "version_major": 2,
       "version_minor": 0
      },
      "text/plain": [
       "FloatProgress(value=0.0, description='0% done ', max=9000.0)"
      ]
     },
     "metadata": {},
     "output_type": "display_data"
    },
    {
     "name": "stdout",
     "output_type": "stream",
     "text": [
      "Meep progress: 392.3277777777778/9000.0 = 4.4% done in 4.0s, 87.8s to go\n",
      "on time step 70704 (time=392.8), 5.65745e-05 s/step\n",
      "Meep progress: 787.4666666666667/9000.0 = 8.7% done in 8.0s, 83.4s to go\n",
      "on time step 141836 (time=787.978), 5.6234e-05 s/step\n",
      "Meep progress: 1177.6666666666667/9000.0 = 13.1% done in 12.0s, 79.7s to go\n",
      "on time step 212081 (time=1178.23), 5.69443e-05 s/step\n",
      "Meep progress: 1571.6444444444446/9000.0 = 17.5% done in 16.0s, 75.6s to go\n",
      "on time step 283003 (time=1572.24), 5.64004e-05 s/step\n",
      "Meep progress: 1972.6000000000001/9000.0 = 21.9% done in 20.0s, 71.3s to go\n",
      "on time step 355188 (time=1973.27), 5.54136e-05 s/step\n",
      "Meep progress: 2372.7944444444447/9000.0 = 26.4% done in 24.0s, 67.0s to go\n",
      "on time step 427232 (time=2373.51), 5.5522e-05 s/step\n",
      "Meep progress: 2767.5833333333335/9000.0 = 30.8% done in 28.0s, 63.1s to go\n",
      "on time step 498291 (time=2768.28), 5.62914e-05 s/step\n",
      "Meep progress: 3150.577777777778/9000.0 = 35.0% done in 32.0s, 59.4s to go\n",
      "on time step 567241 (time=3151.34), 5.80139e-05 s/step\n",
      "Meep progress: 3520.3444444444444/9000.0 = 39.1% done in 36.0s, 56.0s to go\n",
      "on time step 633752 (time=3520.84), 6.01997e-05 s/step\n",
      "Meep progress: 3920.6222222222223/9000.0 = 43.6% done in 40.0s, 51.8s to go\n",
      "on time step 705954 (time=3921.97), 5.54009e-05 s/step\n",
      "Meep progress: 4324.238888888889/9000.0 = 48.0% done in 44.0s, 47.6s to go\n",
      "on time step 778612 (time=4325.62), 5.50533e-05 s/step\n",
      "Meep progress: 4723.288888888889/9000.0 = 52.5% done in 48.0s, 43.5s to go\n",
      "on time step 850446 (time=4724.7), 5.5684e-05 s/step\n",
      "Meep progress: 5121.261111111111/9000.0 = 56.9% done in 52.0s, 39.4s to go\n",
      "on time step 922099 (time=5122.77), 5.58248e-05 s/step\n",
      "Meep progress: 5524.05/9000.0 = 61.4% done in 56.0s, 35.2s to go\n",
      "on time step 994603 (time=5525.57), 5.51698e-05 s/step\n",
      "Meep progress: 5924.938888888889/9000.0 = 65.8% done in 60.0s, 31.1s to go\n",
      "on time step 1066767 (time=5926.48), 5.54294e-05 s/step\n",
      "Meep progress: 6317.383333333333/9000.0 = 70.2% done in 64.0s, 27.2s to go\n",
      "on time step 1137413 (time=6318.96), 5.66205e-05 s/step\n",
      "Meep progress: 6712.172222222222/9000.0 = 74.6% done in 68.0s, 23.2s to go\n",
      "on time step 1208488 (time=6713.82), 5.62787e-05 s/step\n",
      "Meep progress: 7115.066666666667/9000.0 = 79.1% done in 72.0s, 19.1s to go\n",
      "on time step 1281028 (time=7116.82), 5.51423e-05 s/step\n",
      "Meep progress: 7501.822222222222/9000.0 = 83.4% done in 76.0s, 15.2s to go\n",
      "on time step 1350641 (time=7503.56), 5.74609e-05 s/step\n",
      "Meep progress: 7883.022222222223/9000.0 = 87.6% done in 80.0s, 11.3s to go\n",
      "on time step 1419256 (time=7884.76), 5.82966e-05 s/step\n",
      "Meep progress: 8273.738888888889/9000.0 = 91.9% done in 84.0s, 7.4s to go\n",
      "on time step 1489612 (time=8275.62), 5.68542e-05 s/step\n",
      "Meep progress: 8662.322222222223/9000.0 = 96.2% done in 88.0s, 3.4s to go\n",
      "on time step 1559574 (time=8664.3), 5.71742e-05 s/step\n",
      "run 0 finished at t = 9000.0 (1620000 timesteps)\n",
      "-----------\n",
      "Initializing structure...\n",
      "time for choose_chunkdivision = 5.31673e-05 s\n",
      "Working in 1D dimensions.\n",
      "Computational cell is 0 x 0 x 10 with resolution 90\n",
      "     block, center = (0,0,0)\n",
      "          size (0,0,1.53)\n",
      "          axes (1,0,0), (0,1,0), (0,0,1)\n",
      "          dielectric constant epsilon diagonal = (6.0516,6.0516,6.0516)\n",
      "time for set_epsilon = 0.000251055 s\n",
      "-----------\n"
     ]
    },
    {
     "data": {
      "application/vnd.jupyter.widget-view+json": {
       "model_id": "8ae0efdfa045486d8ecf4626c5e91a10",
       "version_major": 2,
       "version_minor": 0
      },
      "text/plain": [
       "FloatProgress(value=0.0, description='0% done ', max=9000.0)"
      ]
     },
     "metadata": {},
     "output_type": "display_data"
    },
    {
     "name": "stdout",
     "output_type": "stream",
     "text": [
      "Meep progress: 1830.3333333333335/9000.0 = 20.3% done in 4.0s, 15.7s to go\n",
      "on time step 329806 (time=1832.26), 1.21284e-05 s/step\n",
      "Meep progress: 3677.6444444444446/9000.0 = 40.9% done in 8.0s, 11.6s to go\n",
      "on time step 662394 (time=3679.97), 1.20269e-05 s/step\n",
      "Meep progress: 5512.772222222223/9000.0 = 61.3% done in 12.0s, 7.6s to go\n",
      "on time step 992789 (time=5515.49), 1.21067e-05 s/step\n",
      "Meep progress: 7334.866666666667/9000.0 = 81.5% done in 16.0s, 3.6s to go\n",
      "on time step 1320792 (time=7337.73), 1.2195e-05 s/step\n",
      "run 0 finished at t = 9000.0 (1620000 timesteps)\n",
      "-----------\n",
      "Initializing structure...\n",
      "time for choose_chunkdivision = 5.6982e-05 s\n",
      "Working in 1D dimensions.\n",
      "Computational cell is 0 x 0 x 10 with resolution 90\n",
      "     block, center = (0,0,0)\n",
      "          size (0,0,1.53)\n",
      "          axes (1,0,0), (0,1,0), (0,0,1)\n",
      "          dielectric constant epsilon diagonal = (6.0516,6.0516,6.0516)\n",
      "time for set_epsilon = 0.000254869 s\n",
      "-----------\n"
     ]
    },
    {
     "data": {
      "application/vnd.jupyter.widget-view+json": {
       "model_id": "d6c0cd1cd17d430d9f3d6cf9bafe3b00",
       "version_major": 2,
       "version_minor": 0
      },
      "text/plain": [
       "FloatProgress(value=0.0, description='0% done ', max=9000.0)"
      ]
     },
     "metadata": {},
     "output_type": "display_data"
    },
    {
     "name": "stdout",
     "output_type": "stream",
     "text": [
      "Meep progress: 1742.1888888888889/9000.0 = 19.4% done in 4.0s, 16.7s to go\n",
      "on time step 313892 (time=1743.84), 1.27432e-05 s/step\n",
      "Meep progress: 3508.6222222222223/9000.0 = 39.0% done in 8.0s, 12.5s to go\n",
      "on time step 631909 (time=3510.61), 1.25779e-05 s/step\n",
      "Meep progress: 5238.927777777778/9000.0 = 58.2% done in 12.0s, 8.6s to go\n",
      "on time step 943396 (time=5241.09), 1.28417e-05 s/step\n",
      "Meep progress: 7019.961111111112/9000.0 = 78.0% done in 16.0s, 4.5s to go\n",
      "on time step 1264056 (time=7022.53), 1.24743e-05 s/step\n",
      "Meep progress: 8804.08888888889/9000.0 = 97.8% done in 20.0s, 0.4s to go\n",
      "on time step 1585217 (time=8806.76), 1.24549e-05 s/step\n",
      "run 0 finished at t = 9000.0 (1620000 timesteps)\n",
      "107797612.6243037\n",
      "[0.98612769]\n",
      "[0.01387231]\n",
      "[0.]\n",
      "[0.94203558]\n",
      "[0.05796442]\n",
      "[0.]\n",
      "[1.53]\n",
      "7\n",
      "-----------\n",
      "Initializing structure...\n",
      "time for choose_chunkdivision = 5.48363e-05 s\n",
      "Working in 1D dimensions.\n",
      "Computational cell is 0 x 0 x 10 with resolution 90\n",
      "time for set_epsilon = 0.000218868 s\n",
      "-----------\n"
     ]
    },
    {
     "data": {
      "application/vnd.jupyter.widget-view+json": {
       "model_id": "5992fce95845411c8d9142c44b80b823",
       "version_major": 2,
       "version_minor": 0
      },
      "text/plain": [
       "FloatProgress(value=0.0, description='0% done ', max=9000.0)"
      ]
     },
     "metadata": {},
     "output_type": "display_data"
    },
    {
     "name": "stdout",
     "output_type": "stream",
     "text": [
      "Meep progress: 377.65555555555557/9000.0 = 4.2% done in 4.0s, 91.3s to go\n",
      "on time step 68056 (time=378.089), 5.87752e-05 s/step\n",
      "Meep progress: 740.2777777777778/9000.0 = 8.2% done in 8.0s, 89.3s to go\n",
      "on time step 133339 (time=740.772), 6.12727e-05 s/step\n",
      "Meep progress: 1128.8055555555557/9000.0 = 12.5% done in 12.0s, 83.7s to go\n",
      "on time step 203288 (time=1129.38), 5.71849e-05 s/step\n",
      "Meep progress: 1521.6666666666667/9000.0 = 16.9% done in 16.0s, 78.6s to go\n",
      "on time step 274004 (time=1522.24), 5.6565e-05 s/step\n",
      "Meep progress: 1904.7777777777778/9000.0 = 21.2% done in 20.0s, 74.5s to go\n",
      "on time step 342978 (time=1905.43), 5.79935e-05 s/step\n",
      "Meep progress: 2294.411111111111/9000.0 = 25.5% done in 24.0s, 70.1s to go\n",
      "on time step 413110 (time=2295.06), 5.70358e-05 s/step\n",
      "Meep progress: 2671.5055555555555/9000.0 = 29.7% done in 28.0s, 66.3s to go\n",
      "on time step 481011 (time=2672.28), 5.89098e-05 s/step\n",
      "Meep progress: 3058.5388888888892/9000.0 = 34.0% done in 32.0s, 62.2s to go\n",
      "on time step 550686 (time=3059.37), 5.74098e-05 s/step\n",
      "Meep progress: 3453.3777777777777/9000.0 = 38.4% done in 36.0s, 57.8s to go\n",
      "on time step 621766 (time=3454.26), 5.62749e-05 s/step\n",
      "Meep progress: 3844.888888888889/9000.0 = 42.7% done in 40.0s, 53.6s to go\n",
      "on time step 692257 (time=3845.87), 5.67449e-05 s/step\n",
      "Meep progress: 4241.294444444445/9000.0 = 47.1% done in 44.0s, 49.4s to go\n",
      "on time step 763608 (time=4242.27), 5.60613e-05 s/step\n",
      "Meep progress: 4648.111111111111/9000.0 = 51.6% done in 48.0s, 44.9s to go\n",
      "on time step 836857 (time=4649.21), 5.46087e-05 s/step\n",
      "Meep progress: 5046.95/9000.0 = 56.1% done in 52.0s, 40.7s to go\n",
      "on time step 908646 (time=5048.03), 5.5719e-05 s/step\n",
      "Meep progress: 5435.361111111111/9000.0 = 60.4% done in 56.0s, 36.7s to go\n",
      "on time step 978582 (time=5436.57), 5.71958e-05 s/step\n",
      "Meep progress: 5832.788888888889/9000.0 = 64.8% done in 60.0s, 32.6s to go\n",
      "on time step 1050121 (time=5834.01), 5.59141e-05 s/step\n",
      "Meep progress: 6227.516666666667/9000.0 = 69.2% done in 64.0s, 28.5s to go\n",
      "on time step 1121172 (time=6228.73), 5.62981e-05 s/step\n",
      "Meep progress: 6623.188888888889/9000.0 = 73.6% done in 68.0s, 24.4s to go\n",
      "on time step 1192418 (time=6624.54), 5.61436e-05 s/step\n",
      "Meep progress: 7020.6/9000.0 = 78.0% done in 72.0s, 20.3s to go\n",
      "on time step 1263963 (time=7022.02), 5.5909e-05 s/step\n",
      "Meep progress: 7399.066666666667/9000.0 = 82.2% done in 76.0s, 16.4s to go\n",
      "on time step 1332093 (time=7400.52), 5.87119e-05 s/step\n",
      "Meep progress: 7790.650000000001/9000.0 = 86.6% done in 80.0s, 12.4s to go\n",
      "on time step 1402594 (time=7792.19), 5.67373e-05 s/step\n",
      "Meep progress: 8197.766666666666/9000.0 = 91.1% done in 84.0s, 8.2s to go\n",
      "on time step 1475884 (time=8199.36), 5.4578e-05 s/step\n",
      "Meep progress: 8600.08888888889/9000.0 = 95.6% done in 88.0s, 4.1s to go\n",
      "on time step 1548310 (time=8601.72), 5.52292e-05 s/step\n",
      "Meep progress: 8996.488888888889/9000.0 = 100.0% done in 92.0s, 0.0s to go\n",
      "on time step 1619673 (time=8998.18), 5.60519e-05 s/step\n",
      "run 0 finished at t = 9000.0 (1620000 timesteps)\n",
      "-----------\n",
      "Initializing structure...\n",
      "time for choose_chunkdivision = 5.4121e-05 s\n",
      "Working in 1D dimensions.\n",
      "Computational cell is 0 x 0 x 10 with resolution 90\n",
      "     block, center = (0,0,0)\n",
      "          size (0,0,1.53)\n",
      "          axes (1,0,0), (0,1,0), (0,0,1)\n",
      "          dielectric constant epsilon diagonal = (6.0516,6.0516,6.0516)\n",
      "time for set_epsilon = 0.000270128 s\n",
      "-----------\n"
     ]
    },
    {
     "data": {
      "application/vnd.jupyter.widget-view+json": {
       "model_id": "e61373e350c84cf9a443d017358b02db",
       "version_major": 2,
       "version_minor": 0
      },
      "text/plain": [
       "FloatProgress(value=0.0, description='0% done ', max=9000.0)"
      ]
     },
     "metadata": {},
     "output_type": "display_data"
    },
    {
     "name": "stdout",
     "output_type": "stream",
     "text": [
      "Meep progress: 1841.6944444444446/9000.0 = 20.5% done in 4.0s, 15.5s to go\n",
      "on time step 331858 (time=1843.66), 1.20534e-05 s/step\n",
      "Meep progress: 3738.6333333333337/9000.0 = 41.5% done in 8.0s, 11.3s to go\n",
      "on time step 673382 (time=3741.01), 1.17127e-05 s/step\n",
      "Meep progress: 5648.538888888889/9000.0 = 62.8% done in 12.0s, 7.1s to go\n",
      "on time step 1017204 (time=5651.13), 1.1634e-05 s/step\n",
      "Meep progress: 7541.733333333334/9000.0 = 83.8% done in 16.0s, 3.1s to go\n",
      "on time step 1358034 (time=7544.63), 1.17361e-05 s/step\n",
      "run 0 finished at t = 9000.0 (1620000 timesteps)\n",
      "-----------\n",
      "Initializing structure...\n",
      "time for choose_chunkdivision = 5.38826e-05 s\n",
      "Working in 1D dimensions.\n",
      "Computational cell is 0 x 0 x 10 with resolution 90\n",
      "     block, center = (0,0,0)\n",
      "          size (0,0,1.53)\n",
      "          axes (1,0,0), (0,1,0), (0,0,1)\n",
      "          dielectric constant epsilon diagonal = (6.0516,6.0516,6.0516)\n",
      "time for set_epsilon = 0.000257969 s\n",
      "-----------\n"
     ]
    },
    {
     "data": {
      "application/vnd.jupyter.widget-view+json": {
       "model_id": "13cbad517b6e4a23b58ebffb099dfa88",
       "version_major": 2,
       "version_minor": 0
      },
      "text/plain": [
       "FloatProgress(value=0.0, description='0% done ', max=9000.0)"
      ]
     },
     "metadata": {},
     "output_type": "display_data"
    },
    {
     "name": "stdout",
     "output_type": "stream",
     "text": [
      "Meep progress: 1781.6833333333334/9000.0 = 19.8% done in 4.0s, 16.2s to go\n",
      "on time step 321191 (time=1784.39), 1.24537e-05 s/step\n",
      "Meep progress: 3611.238888888889/9000.0 = 40.1% done in 8.0s, 11.9s to go\n",
      "on time step 650560 (time=3614.22), 1.21444e-05 s/step\n",
      "Meep progress: 5442.172222222222/9000.0 = 60.5% done in 12.0s, 7.8s to go\n",
      "on time step 980158 (time=5445.32), 1.2136e-05 s/step\n",
      "Meep progress: 7194.666666666667/9000.0 = 79.9% done in 16.0s, 4.0s to go\n",
      "on time step 1295642 (time=7198.01), 1.26789e-05 s/step\n",
      "Meep progress: 8946.605555555556/9000.0 = 99.4% done in 20.0s, 0.1s to go\n",
      "on time step 1611023 (time=8950.13), 1.26831e-05 s/step\n",
      "run 0 finished at t = 9000.0 (1620000 timesteps)\n",
      "125472221.18770461\n",
      "[0.98978563]\n",
      "[0.01021437]\n",
      "[0.]\n",
      "[0.94203558]\n",
      "[0.05796442]\n",
      "[0.]\n",
      "[1.53]\n",
      "8\n",
      "-----------\n",
      "Initializing structure...\n",
      "time for choose_chunkdivision = 5.50747e-05 s\n",
      "Working in 1D dimensions.\n",
      "Computational cell is 0 x 0 x 10 with resolution 90\n",
      "time for set_epsilon = 0.000216007 s\n",
      "-----------\n"
     ]
    },
    {
     "data": {
      "application/vnd.jupyter.widget-view+json": {
       "model_id": "8f5599929d234849b0bb90b748efe09e",
       "version_major": 2,
       "version_minor": 0
      },
      "text/plain": [
       "FloatProgress(value=0.0, description='0% done ', max=9000.0)"
      ]
     },
     "metadata": {},
     "output_type": "display_data"
    },
    {
     "name": "stdout",
     "output_type": "stream",
     "text": [
      "Meep progress: 391.39444444444445/9000.0 = 4.3% done in 4.0s, 88.0s to go\n",
      "on time step 70533 (time=391.85), 5.67117e-05 s/step\n",
      "Meep progress: 786.6222222222223/9000.0 = 8.7% done in 8.0s, 83.5s to go\n",
      "on time step 141683 (time=787.128), 5.62197e-05 s/step\n",
      "Meep progress: 1176.5611111111111/9000.0 = 13.1% done in 12.0s, 79.8s to go\n",
      "on time step 211878 (time=1177.1), 5.69846e-05 s/step\n",
      "Meep progress: 1569.7055555555555/9000.0 = 17.4% done in 16.0s, 75.7s to go\n",
      "on time step 282653 (time=1570.29), 5.65179e-05 s/step\n",
      "Meep progress: 1959.0166666666667/9000.0 = 21.8% done in 20.0s, 71.9s to go\n",
      "on time step 352740 (time=1959.67), 5.70724e-05 s/step\n",
      "Meep progress: 2349.027777777778/9000.0 = 26.1% done in 24.0s, 68.0s to go\n",
      "on time step 422951 (time=2349.73), 5.69711e-05 s/step\n",
      "Meep progress: 2741.0055555555555/9000.0 = 30.5% done in 28.0s, 63.9s to go\n",
      "on time step 493512 (time=2741.73), 5.66889e-05 s/step\n",
      "Meep progress: 3129.25/9000.0 = 34.8% done in 32.0s, 60.0s to go\n",
      "on time step 563418 (time=3130.1), 5.72202e-05 s/step\n",
      "Meep progress: 3526.355555555556/9000.0 = 39.2% done in 36.0s, 55.9s to go\n",
      "on time step 634832 (time=3526.84), 5.60699e-05 s/step\n",
      "Meep progress: 3927.311111111111/9000.0 = 43.6% done in 40.0s, 51.7s to go\n",
      "on time step 707157 (time=3928.65), 5.53063e-05 s/step\n",
      "Meep progress: 4323.044444444445/9000.0 = 48.0% done in 44.0s, 47.6s to go\n",
      "on time step 778392 (time=4324.4), 5.61524e-05 s/step\n",
      "Meep progress: 4722.55/9000.0 = 52.5% done in 48.0s, 43.5s to go\n",
      "on time step 850315 (time=4723.97), 5.56157e-05 s/step\n",
      "Meep progress: 5102.227777777778/9000.0 = 56.7% done in 52.0s, 39.7s to go\n",
      "on time step 918665 (time=5103.69), 5.85234e-05 s/step\n",
      "Meep progress: 5494.061111111111/9000.0 = 61.0% done in 56.0s, 35.7s to go\n",
      "on time step 989219 (time=5495.66), 5.66951e-05 s/step\n",
      "Meep progress: 5899.383333333333/9000.0 = 65.5% done in 60.0s, 31.5s to go\n",
      "on time step 1062192 (time=5901.07), 5.4815e-05 s/step\n",
      "Meep progress: 6298.072222222222/9000.0 = 70.0% done in 64.0s, 27.5s to go\n",
      "on time step 1133945 (time=6299.69), 5.57469e-05 s/step\n",
      "Meep progress: 6688.588888888889/9000.0 = 74.3% done in 68.0s, 23.5s to go\n",
      "on time step 1204253 (time=6690.29), 5.68932e-05 s/step\n",
      "Meep progress: 7084.650000000001/9000.0 = 78.7% done in 72.0s, 19.5s to go\n",
      "on time step 1275565 (time=7086.47), 5.6092e-05 s/step\n",
      "Meep progress: 7490.35/9000.0 = 83.2% done in 76.0s, 15.3s to go\n",
      "on time step 1348607 (time=7492.26), 5.47631e-05 s/step\n",
      "Meep progress: 7891.488888888889/9000.0 = 87.7% done in 80.0s, 11.2s to go\n",
      "on time step 1420812 (time=7893.4), 5.53982e-05 s/step\n",
      "Meep progress: 8292.183333333334/9000.0 = 92.1% done in 84.0s, 7.2s to go\n",
      "on time step 1492946 (time=8294.14), 5.54537e-05 s/step\n",
      "Meep progress: 8695.322222222223/9000.0 = 96.6% done in 88.0s, 3.1s to go\n",
      "on time step 1565529 (time=8697.38), 5.51101e-05 s/step\n",
      "run 0 finished at t = 9000.0 (1620000 timesteps)\n",
      "-----------\n",
      "Initializing structure...\n",
      "time for choose_chunkdivision = 5.50747e-05 s\n",
      "Working in 1D dimensions.\n",
      "Computational cell is 0 x 0 x 10 with resolution 90\n",
      "     block, center = (0,0,0)\n",
      "          size (0,0,1.53)\n",
      "          axes (1,0,0), (0,1,0), (0,0,1)\n",
      "          dielectric constant epsilon diagonal = (6.0516,6.0516,6.0516)\n",
      "time for set_epsilon = 0.000263929 s\n",
      "-----------\n"
     ]
    },
    {
     "data": {
      "application/vnd.jupyter.widget-view+json": {
       "model_id": "1bda0e40a6cb4cbda08e21a68c762aea",
       "version_major": 2,
       "version_minor": 0
      },
      "text/plain": [
       "FloatProgress(value=0.0, description='0% done ', max=9000.0)"
      ]
     },
     "metadata": {},
     "output_type": "display_data"
    },
    {
     "name": "stdout",
     "output_type": "stream",
     "text": [
      "Meep progress: 1854.8277777777778/9000.0 = 20.6% done in 4.0s, 15.4s to go\n",
      "on time step 334256 (time=1856.98), 1.19669e-05 s/step\n",
      "Meep progress: 3752.9555555555557/9000.0 = 41.7% done in 8.0s, 11.2s to go\n",
      "on time step 675963 (time=3755.35), 1.1706e-05 s/step\n",
      "Meep progress: 5644.938888888889/9000.0 = 62.7% done in 12.0s, 7.1s to go\n",
      "on time step 1016561 (time=5647.56), 1.17441e-05 s/step\n",
      "Meep progress: 7556.238888888889/9000.0 = 84.0% done in 16.0s, 3.1s to go\n",
      "on time step 1360651 (time=7559.17), 1.16249e-05 s/step\n",
      "run 0 finished at t = 9000.0 (1620000 timesteps)\n",
      "-----------\n",
      "Initializing structure...\n",
      "time for choose_chunkdivision = 5.50747e-05 s\n",
      "Working in 1D dimensions.\n",
      "Computational cell is 0 x 0 x 10 with resolution 90\n",
      "     block, center = (0,0,0)\n",
      "          size (0,0,1.53)\n",
      "          axes (1,0,0), (0,1,0), (0,0,1)\n",
      "          dielectric constant epsilon diagonal = (6.0516,6.0516,6.0516)\n",
      "time for set_epsilon = 0.000274897 s\n",
      "-----------\n"
     ]
    },
    {
     "data": {
      "application/vnd.jupyter.widget-view+json": {
       "model_id": "8a8284c37afa4e37ab69435b722eb5ed",
       "version_major": 2,
       "version_minor": 0
      },
      "text/plain": [
       "FloatProgress(value=0.0, description='0% done ', max=9000.0)"
      ]
     },
     "metadata": {},
     "output_type": "display_data"
    },
    {
     "name": "stdout",
     "output_type": "stream",
     "text": [
      "Meep progress: 1787.6444444444446/9000.0 = 19.9% done in 4.0s, 16.1s to go\n",
      "on time step 322034 (time=1789.08), 1.24211e-05 s/step\n",
      "Meep progress: 3493.9666666666667/9000.0 = 38.8% done in 8.0s, 12.6s to go\n",
      "on time step 629213 (time=3495.63), 1.30217e-05 s/step\n",
      "Meep progress: 5233.7/9000.0 = 58.2% done in 12.0s, 8.6s to go\n",
      "on time step 942423 (time=5235.68), 1.2771e-05 s/step\n",
      "Meep progress: 6954.788888888889/9000.0 = 77.3% done in 16.0s, 4.7s to go\n",
      "on time step 1252257 (time=6956.98), 1.29107e-05 s/step\n",
      "Meep progress: 8744.611111111111/9000.0 = 97.2% done in 20.0s, 0.6s to go\n",
      "on time step 1574471 (time=8747.06), 1.24141e-05 s/step\n",
      "run 0 finished at t = 9000.0 (1620000 timesteps)\n",
      "143146829.75110483\n",
      "[0.98731917]\n",
      "[0.01268083]\n",
      "[0.]\n",
      "[0.94203558]\n",
      "[0.05796442]\n",
      "[0.]\n",
      "[1.53]\n",
      "9\n",
      "-----------\n",
      "Initializing structure...\n",
      "time for choose_chunkdivision = 5.4121e-05 s\n",
      "Working in 1D dimensions.\n",
      "Computational cell is 0 x 0 x 10 with resolution 90\n",
      "time for set_epsilon = 0.000218153 s\n",
      "-----------\n"
     ]
    },
    {
     "data": {
      "application/vnd.jupyter.widget-view+json": {
       "model_id": "2b318e7ae41e43c9833ca68c67effb83",
       "version_major": 2,
       "version_minor": 0
      },
      "text/plain": [
       "FloatProgress(value=0.0, description='0% done ', max=9000.0)"
      ]
     },
     "metadata": {},
     "output_type": "display_data"
    },
    {
     "name": "stdout",
     "output_type": "stream",
     "text": [
      "Meep progress: 386.36111111111114/9000.0 = 4.3% done in 4.0s, 89.2s to go\n",
      "on time step 69621 (time=386.783), 5.74543e-05 s/step\n",
      "Meep progress: 752.9/9000.0 = 8.4% done in 8.0s, 87.6s to go\n",
      "on time step 135603 (time=753.35), 6.06234e-05 s/step\n",
      "Meep progress: 1126.7277777777779/9000.0 = 12.5% done in 12.0s, 83.9s to go\n",
      "on time step 202901 (time=1127.23), 5.94373e-05 s/step\n",
      "Meep progress: 1520.3555555555556/9000.0 = 16.9% done in 16.0s, 78.7s to go\n",
      "on time step 273769 (time=1520.94), 5.64434e-05 s/step\n",
      "Meep progress: 1911.6944444444446/9000.0 = 21.2% done in 20.0s, 74.2s to go\n",
      "on time step 344217 (time=1912.32), 5.67796e-05 s/step\n",
      "Meep progress: 2309.4055555555556/9000.0 = 25.7% done in 24.0s, 69.5s to go\n",
      "on time step 415817 (time=2310.09), 5.58666e-05 s/step\n",
      "Meep progress: 2707.5111111111114/9000.0 = 30.1% done in 28.0s, 65.1s to go\n",
      "on time step 487487 (time=2708.26), 5.58119e-05 s/step\n",
      "Meep progress: 3110.666666666667/9000.0 = 34.6% done in 32.0s, 60.6s to go\n",
      "on time step 560052 (time=3111.4), 5.51231e-05 s/step\n",
      "Meep progress: 3503.7888888888892/9000.0 = 38.9% done in 36.0s, 56.5s to go\n",
      "on time step 630834 (time=3504.63), 5.65121e-05 s/step\n",
      "Meep progress: 3894.222222222222/9000.0 = 43.3% done in 40.0s, 52.4s to go\n",
      "on time step 701119 (time=3895.11), 5.69112e-05 s/step\n",
      "Meep progress: 4262.644444444444/9000.0 = 47.4% done in 44.0s, 48.9s to go\n",
      "on time step 767442 (time=4263.57), 6.03114e-05 s/step\n",
      "Meep progress: 4656.377777777778/9000.0 = 51.7% done in 48.0s, 44.8s to go\n",
      "on time step 838326 (time=4657.37), 5.64304e-05 s/step\n",
      "Meep progress: 5051.427777777778/9000.0 = 56.1% done in 52.0s, 40.6s to go\n",
      "on time step 909451 (time=5052.51), 5.62394e-05 s/step\n",
      "Meep progress: 5448.2444444444445/9000.0 = 60.5% done in 56.0s, 36.5s to go\n",
      "on time step 980880 (time=5449.33), 5.60003e-05 s/step\n",
      "Meep progress: 5828.705555555556/9000.0 = 64.8% done in 60.0s, 32.6s to go\n",
      "on time step 1049367 (time=5829.82), 5.84054e-05 s/step\n",
      "Meep progress: 6206.088888888889/9000.0 = 69.0% done in 64.0s, 28.8s to go\n",
      "on time step 1117312 (time=6207.29), 5.88715e-05 s/step\n",
      "Meep progress: 6594.233333333334/9000.0 = 73.3% done in 68.0s, 24.8s to go\n",
      "on time step 1187185 (time=6595.47), 5.72474e-05 s/step\n",
      "Meep progress: 6989.294444444445/9000.0 = 77.7% done in 72.0s, 20.7s to go\n",
      "on time step 1258312 (time=6990.62), 5.62381e-05 s/step\n",
      "Meep progress: 7384.777777777778/9000.0 = 82.1% done in 76.0s, 16.6s to go\n",
      "on time step 1329505 (time=7386.14), 5.61863e-05 s/step\n",
      "Meep progress: 7759.738888888889/9000.0 = 86.2% done in 80.0s, 12.8s to go\n",
      "on time step 1397004 (time=7761.13), 5.92602e-05 s/step\n",
      "Meep progress: 8140.966666666667/9000.0 = 90.5% done in 84.0s, 8.9s to go\n",
      "on time step 1465639 (time=8142.44), 5.82794e-05 s/step\n",
      "Meep progress: 8530.077777777778/9000.0 = 94.8% done in 88.0s, 4.8s to go\n",
      "on time step 1535691 (time=8531.62), 5.71006e-05 s/step\n",
      "Meep progress: 8921.472222222223/9000.0 = 99.1% done in 92.0s, 0.8s to go\n",
      "on time step 1606156 (time=8923.09), 5.67661e-05 s/step\n",
      "run 0 finished at t = 9000.0 (1620000 timesteps)\n",
      "-----------\n",
      "Initializing structure...\n",
      "time for choose_chunkdivision = 5.38826e-05 s\n",
      "Working in 1D dimensions.\n",
      "Computational cell is 0 x 0 x 10 with resolution 90\n",
      "     block, center = (0,0,0)\n",
      "          size (0,0,1.53)\n",
      "          axes (1,0,0), (0,1,0), (0,0,1)\n",
      "          dielectric constant epsilon diagonal = (6.0516,6.0516,6.0516)\n",
      "time for set_epsilon = 0.000252962 s\n",
      "-----------\n"
     ]
    },
    {
     "data": {
      "application/vnd.jupyter.widget-view+json": {
       "model_id": "a43a8e564e974b7a8764ae7bd3aec3ea",
       "version_major": 2,
       "version_minor": 0
      },
      "text/plain": [
       "FloatProgress(value=0.0, description='0% done ', max=9000.0)"
      ]
     },
     "metadata": {},
     "output_type": "display_data"
    },
    {
     "name": "stdout",
     "output_type": "stream",
     "text": [
      "Meep progress: 1751.5444444444445/9000.0 = 19.5% done in 4.0s, 16.6s to go\n",
      "on time step 315588 (time=1753.27), 1.26748e-05 s/step\n",
      "Meep progress: 3539.961111111111/9000.0 = 39.3% done in 8.0s, 12.3s to go\n",
      "on time step 637575 (time=3542.08), 1.24229e-05 s/step\n",
      "Meep progress: 5413.85/9000.0 = 60.2% done in 12.0s, 7.9s to go\n",
      "on time step 974916 (time=5416.2), 1.18575e-05 s/step\n",
      "Meep progress: 7288.283333333334/9000.0 = 81.0% done in 16.0s, 3.8s to go\n",
      "on time step 1312352 (time=7290.84), 1.18541e-05 s/step\n",
      "run 0 finished at t = 9000.0 (1620000 timesteps)\n",
      "-----------\n",
      "Initializing structure...\n",
      "time for choose_chunkdivision = 5.4121e-05 s\n",
      "Working in 1D dimensions.\n",
      "Computational cell is 0 x 0 x 10 with resolution 90\n",
      "     block, center = (0,0,0)\n",
      "          size (0,0,1.53)\n",
      "          axes (1,0,0), (0,1,0), (0,0,1)\n",
      "          dielectric constant epsilon diagonal = (6.0516,6.0516,6.0516)\n",
      "time for set_epsilon = 0.000262976 s\n",
      "-----------\n"
     ]
    },
    {
     "data": {
      "application/vnd.jupyter.widget-view+json": {
       "model_id": "23c87c59cc1440bdb62493dc0709e67f",
       "version_major": 2,
       "version_minor": 0
      },
      "text/plain": [
       "FloatProgress(value=0.0, description='0% done ', max=9000.0)"
      ]
     },
     "metadata": {},
     "output_type": "display_data"
    },
    {
     "name": "stdout",
     "output_type": "stream",
     "text": [
      "Meep progress: 1704.1944444444446/9000.0 = 18.9% done in 4.0s, 17.1s to go\n",
      "on time step 307128 (time=1706.27), 1.30239e-05 s/step\n",
      "Meep progress: 3482.6111111111113/9000.0 = 38.7% done in 8.0s, 12.7s to go\n",
      "on time step 627297 (time=3484.98), 1.24934e-05 s/step\n",
      "Meep progress: 5273.822222222222/9000.0 = 58.6% done in 12.0s, 8.5s to go\n",
      "on time step 949757 (time=5276.43), 1.24047e-05 s/step\n",
      "Meep progress: 7013.466666666667/9000.0 = 77.9% done in 16.0s, 4.5s to go\n",
      "on time step 1262920 (time=7016.22), 1.27729e-05 s/step\n",
      "Meep progress: 8709.222222222223/9000.0 = 96.8% done in 20.0s, 0.7s to go\n",
      "on time step 1568185 (time=8712.14), 1.31034e-05 s/step\n",
      "run 0 finished at t = 9000.0 (1620000 timesteps)\n",
      "160821438.31450528\n",
      "[0.97797074]\n",
      "[0.02202926]\n",
      "[0.]\n",
      "[0.94203558]\n",
      "[0.05796442]\n",
      "[0.]\n",
      "[1.53]\n",
      "10\n",
      "-----------\n",
      "Initializing structure...\n",
      "time for choose_chunkdivision = 5.88894e-05 s\n",
      "Working in 1D dimensions.\n",
      "Computational cell is 0 x 0 x 10 with resolution 90\n",
      "time for set_epsilon = 0.000219107 s\n",
      "-----------\n"
     ]
    },
    {
     "data": {
      "application/vnd.jupyter.widget-view+json": {
       "model_id": "ea18edc7298b49a4b61f3d94b3385bb4",
       "version_major": 2,
       "version_minor": 0
      },
      "text/plain": [
       "FloatProgress(value=0.0, description='0% done ', max=9000.0)"
      ]
     },
     "metadata": {},
     "output_type": "display_data"
    },
    {
     "name": "stdout",
     "output_type": "stream",
     "text": [
      "Meep progress: 377.65000000000003/9000.0 = 4.2% done in 4.0s, 91.3s to go\n",
      "on time step 68047 (time=378.039), 5.87833e-05 s/step\n",
      "Meep progress: 767.9333333333334/9000.0 = 8.5% done in 8.0s, 85.8s to go\n",
      "on time step 138318 (time=768.433), 5.69234e-05 s/step\n",
      "Meep progress: 1157.05/9000.0 = 12.9% done in 12.0s, 81.3s to go\n",
      "on time step 208362 (time=1157.57), 5.71074e-05 s/step\n",
      "Meep progress: 1525.5833333333335/9000.0 = 17.0% done in 16.0s, 78.4s to go\n",
      "on time step 274707 (time=1526.15), 6.02911e-05 s/step\n",
      "Meep progress: 1902.0666666666668/9000.0 = 21.1% done in 20.0s, 74.6s to go\n",
      "on time step 342489 (time=1902.72), 5.90134e-05 s/step\n",
      "Meep progress: 2292.75/9000.0 = 25.5% done in 24.0s, 70.2s to go\n",
      "on time step 412822 (time=2293.46), 5.68734e-05 s/step\n",
      "Meep progress: 2682.811111111111/9000.0 = 29.8% done in 28.0s, 65.9s to go\n",
      "on time step 483050 (time=2683.61), 5.69575e-05 s/step\n",
      "Meep progress: 3076.6333333333337/9000.0 = 34.2% done in 32.0s, 61.6s to go\n",
      "on time step 553939 (time=3077.44), 5.64269e-05 s/step\n",
      "Meep progress: 3452.016666666667/9000.0 = 38.4% done in 36.0s, 57.9s to go\n",
      "on time step 621385 (time=3452.14), 5.93075e-05 s/step\n",
      "Meep progress: 3838.6111111111113/9000.0 = 42.7% done in 40.0s, 53.8s to go\n",
      "on time step 691121 (time=3839.56), 5.73596e-05 s/step\n",
      "Meep progress: 4238.627777777778/9000.0 = 47.1% done in 44.0s, 49.4s to go\n",
      "on time step 763133 (time=4239.63), 5.55467e-05 s/step\n",
      "Meep progress: 4637.294444444445/9000.0 = 51.5% done in 48.0s, 45.2s to go\n",
      "on time step 834899 (time=4638.33), 5.57368e-05 s/step\n",
      "Meep progress: 5016.522222222223/9000.0 = 55.7% done in 52.0s, 41.3s to go\n",
      "on time step 903170 (time=5017.61), 5.85903e-05 s/step\n",
      "Meep progress: 5405.366666666667/9000.0 = 60.1% done in 56.0s, 37.2s to go\n",
      "on time step 973166 (time=5406.48), 5.71462e-05 s/step\n",
      "Meep progress: 5792.027777777778/9000.0 = 64.4% done in 60.0s, 33.2s to go\n",
      "on time step 1042785 (time=5793.25), 5.74564e-05 s/step\n",
      "Meep progress: 6191.272222222223/9000.0 = 68.8% done in 64.0s, 29.0s to go\n",
      "on time step 1114664 (time=6192.58), 5.56502e-05 s/step\n",
      "Meep progress: 6589.711111111112/9000.0 = 73.2% done in 68.0s, 24.9s to go\n",
      "on time step 1186382 (time=6591.01), 5.57742e-05 s/step\n",
      "Meep progress: 6966.1/9000.0 = 77.4% done in 72.0s, 21.0s to go\n",
      "on time step 1254143 (time=6967.46), 5.90318e-05 s/step\n",
      "Meep progress: 7343.9944444444445/9000.0 = 81.6% done in 76.0s, 17.1s to go\n",
      "on time step 1322174 (time=7345.41), 5.87969e-05 s/step\n",
      "Meep progress: 7742.9944444444445/9000.0 = 86.0% done in 80.0s, 13.0s to go\n",
      "on time step 1394012 (time=7744.51), 5.56814e-05 s/step\n",
      "Meep progress: 8123.4111111111115/9000.0 = 90.3% done in 84.0s, 9.1s to go\n",
      "on time step 1462477 (time=8124.87), 5.84248e-05 s/step\n",
      "Meep progress: 8492.977777777778/9000.0 = 94.4% done in 88.0s, 5.3s to go\n",
      "on time step 1529023 (time=8494.57), 6.01094e-05 s/step\n",
      "Meep progress: 8887.133333333333/9000.0 = 98.7% done in 92.0s, 1.2s to go\n",
      "on time step 1599984 (time=8888.8), 5.63696e-05 s/step\n",
      "run 0 finished at t = 9000.0 (1620000 timesteps)\n",
      "-----------\n",
      "Initializing structure...\n",
      "time for choose_chunkdivision = 5.60284e-05 s\n",
      "Working in 1D dimensions.\n",
      "Computational cell is 0 x 0 x 10 with resolution 90\n",
      "     block, center = (0,0,0)\n",
      "          size (0,0,1.53)\n",
      "          axes (1,0,0), (0,1,0), (0,0,1)\n",
      "          dielectric constant epsilon diagonal = (6.0516,6.0516,6.0516)\n",
      "time for set_epsilon = 0.000264883 s\n",
      "-----------\n"
     ]
    },
    {
     "data": {
      "application/vnd.jupyter.widget-view+json": {
       "model_id": "dc9e3e8131f5489b883ef1842543b188",
       "version_major": 2,
       "version_minor": 0
      },
      "text/plain": [
       "FloatProgress(value=0.0, description='0% done ', max=9000.0)"
      ]
     },
     "metadata": {},
     "output_type": "display_data"
    },
    {
     "name": "stdout",
     "output_type": "stream",
     "text": [
      "Meep progress: 1832.738888888889/9000.0 = 20.4% done in 4.0s, 15.6s to go\n",
      "on time step 330309 (time=1835.05), 1.21099e-05 s/step\n",
      "Meep progress: 3727.6833333333334/9000.0 = 41.4% done in 8.0s, 11.3s to go\n",
      "on time step 671444 (time=3730.24), 1.17256e-05 s/step\n",
      "Meep progress: 5595.405555555556/9000.0 = 62.2% done in 12.0s, 7.3s to go\n",
      "on time step 1007644 (time=5598.02), 1.18977e-05 s/step\n",
      "Meep progress: 7468.8/9000.0 = 83.0% done in 16.0s, 3.3s to go\n",
      "on time step 1344896 (time=7471.64), 1.18606e-05 s/step\n",
      "run 0 finished at t = 9000.0 (1620000 timesteps)\n",
      "-----------\n",
      "Initializing structure...\n",
      "time for choose_chunkdivision = 5.38826e-05 s\n",
      "Working in 1D dimensions.\n",
      "Computational cell is 0 x 0 x 10 with resolution 90\n",
      "     block, center = (0,0,0)\n",
      "          size (0,0,1.53)\n",
      "          axes (1,0,0), (0,1,0), (0,0,1)\n",
      "          dielectric constant epsilon diagonal = (6.0516,6.0516,6.0516)\n",
      "time for set_epsilon = 0.000257969 s\n",
      "-----------\n"
     ]
    },
    {
     "data": {
      "application/vnd.jupyter.widget-view+json": {
       "model_id": "f8d5dc3b88d14641942b40ca400703cf",
       "version_major": 2,
       "version_minor": 0
      },
      "text/plain": [
       "FloatProgress(value=0.0, description='0% done ', max=9000.0)"
      ]
     },
     "metadata": {},
     "output_type": "display_data"
    },
    {
     "name": "stdout",
     "output_type": "stream",
     "text": [
      "Meep progress: 1762.0555555555557/9000.0 = 19.6% done in 4.0s, 16.4s to go\n",
      "on time step 317656 (time=1764.76), 1.25923e-05 s/step\n",
      "Meep progress: 3545.4944444444445/9000.0 = 39.4% done in 8.0s, 12.3s to go\n",
      "on time step 638731 (time=3548.51), 1.24582e-05 s/step\n",
      "Meep progress: 5337.6/9000.0 = 59.3% done in 12.0s, 8.2s to go\n",
      "on time step 961350 (time=5340.83), 1.23985e-05 s/step\n",
      "Meep progress: 7114.338888888889/9000.0 = 79.0% done in 16.0s, 4.2s to go\n",
      "on time step 1281194 (time=7117.74), 1.25061e-05 s/step\n",
      "Meep progress: 8914.027777777777/9000.0 = 99.0% done in 20.0s, 0.2s to go\n",
      "on time step 1605184 (time=8917.69), 1.23461e-05 s/step\n",
      "run 0 finished at t = 9000.0 (1620000 timesteps)\n",
      "178496046.87790614\n",
      "[0.96108294]\n",
      "[0.03891706]\n",
      "[0.]\n",
      "[0.94203558]\n",
      "[0.05796442]\n",
      "[0.]\n",
      "[1.53]\n",
      "11\n",
      "-----------\n",
      "Initializing structure...\n",
      "time for choose_chunkdivision = 5.50747e-05 s\n",
      "Working in 1D dimensions.\n",
      "Computational cell is 0 x 0 x 10 with resolution 90\n",
      "time for set_epsilon = 0.000216961 s\n",
      "-----------\n"
     ]
    },
    {
     "data": {
      "application/vnd.jupyter.widget-view+json": {
       "model_id": "e50c62f455314d6dba06a95b22798d40",
       "version_major": 2,
       "version_minor": 0
      },
      "text/plain": [
       "FloatProgress(value=0.0, description='0% done ', max=9000.0)"
      ]
     },
     "metadata": {},
     "output_type": "display_data"
    },
    {
     "name": "stdout",
     "output_type": "stream",
     "text": [
      "Meep progress: 369.1166666666667/9000.0 = 4.1% done in 4.0s, 93.5s to go\n",
      "on time step 66515 (time=369.528), 6.01372e-05 s/step\n",
      "Meep progress: 742.8000000000001/9000.0 = 8.3% done in 8.0s, 88.9s to go\n",
      "on time step 133788 (time=743.267), 5.94597e-05 s/step\n",
      "Meep progress: 1115.75/9000.0 = 12.4% done in 12.0s, 84.8s to go\n",
      "on time step 200929 (time=1116.27), 5.95764e-05 s/step\n",
      "Meep progress: 1502.861111111111/9000.0 = 16.7% done in 16.0s, 79.8s to go\n",
      "on time step 270620 (time=1503.44), 5.73969e-05 s/step\n",
      "Meep progress: 1891.9444444444446/9000.0 = 21.0% done in 20.0s, 75.1s to go\n",
      "on time step 340664 (time=1892.58), 5.71076e-05 s/step\n",
      "Meep progress: 2278.4666666666667/9000.0 = 25.3% done in 24.0s, 70.8s to go\n",
      "on time step 410249 (time=2279.16), 5.74847e-05 s/step\n",
      "Meep progress: 2647.0555555555557/9000.0 = 29.4% done in 28.0s, 67.2s to go\n",
      "on time step 476602 (time=2647.79), 6.02838e-05 s/step\n",
      "Meep progress: 3024.438888888889/9000.0 = 33.6% done in 32.0s, 63.2s to go\n",
      "on time step 544542 (time=3025.23), 5.88757e-05 s/step\n",
      "Meep progress: 3417.438888888889/9000.0 = 38.0% done in 36.0s, 58.8s to go\n",
      "on time step 615279 (time=3418.22), 5.65477e-05 s/step\n",
      "Meep progress: 3814.138888888889/9000.0 = 42.4% done in 40.0s, 54.4s to go\n",
      "on time step 686704 (time=3815.02), 5.60034e-05 s/step\n",
      "Meep progress: 4195.816666666667/9000.0 = 46.6% done in 44.0s, 50.4s to go\n",
      "on time step 755421 (time=4196.78), 5.82106e-05 s/step\n",
      "Meep progress: 4583.638888888889/9000.0 = 50.9% done in 48.0s, 46.2s to go\n",
      "on time step 825228 (time=4584.6), 5.73011e-05 s/step\n",
      "Meep progress: 4980.794444444445/9000.0 = 55.3% done in 52.0s, 42.0s to go\n",
      "on time step 896737 (time=4981.87), 5.59375e-05 s/step\n",
      "Meep progress: 5375.783333333334/9000.0 = 59.7% done in 56.0s, 37.8s to go\n",
      "on time step 967845 (time=5376.92), 5.62537e-05 s/step\n",
      "Meep progress: 5770.7/9000.0 = 64.1% done in 60.0s, 33.6s to go\n",
      "on time step 1038929 (time=5771.83), 5.6272e-05 s/step\n",
      "Meep progress: 6155.6/9000.0 = 68.4% done in 64.0s, 29.6s to go\n",
      "on time step 1108227 (time=6156.82), 5.77225e-05 s/step\n",
      "Meep progress: 6535.261111111111/9000.0 = 72.6% done in 68.0s, 25.6s to go\n",
      "on time step 1176584 (time=6536.58), 5.85172e-05 s/step\n",
      "Meep progress: 6934.438888888889/9000.0 = 77.0% done in 72.0s, 21.4s to go\n",
      "on time step 1248449 (time=6935.83), 5.56606e-05 s/step\n",
      "Meep progress: 7330.294444444445/9000.0 = 81.4% done in 76.0s, 17.3s to go\n",
      "on time step 1319700 (time=7331.67), 5.61397e-05 s/step\n",
      "Meep progress: 7709.6611111111115/9000.0 = 85.7% done in 80.0s, 13.4s to go\n",
      "on time step 1387997 (time=7711.09), 5.85683e-05 s/step\n",
      "Meep progress: 8097.405555555556/9000.0 = 90.0% done in 84.0s, 9.4s to go\n",
      "on time step 1457800 (time=8098.89), 5.73049e-05 s/step\n",
      "Meep progress: 8487.08888888889/9000.0 = 94.3% done in 88.0s, 5.3s to go\n",
      "on time step 1527960 (time=8488.67), 5.70127e-05 s/step\n",
      "Meep progress: 8884.2/9000.0 = 98.7% done in 92.0s, 1.2s to go\n",
      "on time step 1599457 (time=8885.87), 5.59465e-05 s/step\n",
      "run 0 finished at t = 9000.0 (1620000 timesteps)\n",
      "-----------\n",
      "Initializing structure...\n",
      "time for choose_chunkdivision = 5.50747e-05 s\n",
      "Working in 1D dimensions.\n",
      "Computational cell is 0 x 0 x 10 with resolution 90\n",
      "     block, center = (0,0,0)\n",
      "          size (0,0,1.53)\n",
      "          axes (1,0,0), (0,1,0), (0,0,1)\n",
      "          dielectric constant epsilon diagonal = (6.0516,6.0516,6.0516)\n",
      "time for set_epsilon = 0.000262976 s\n",
      "-----------\n"
     ]
    },
    {
     "data": {
      "application/vnd.jupyter.widget-view+json": {
       "model_id": "42a725be34584061b7fdad5538c98536",
       "version_major": 2,
       "version_minor": 0
      },
      "text/plain": [
       "FloatProgress(value=0.0, description='0% done ', max=9000.0)"
      ]
     },
     "metadata": {},
     "output_type": "display_data"
    },
    {
     "name": "stdout",
     "output_type": "stream",
     "text": [
      "Meep progress: 1792.7333333333333/9000.0 = 19.9% done in 4.0s, 16.1s to go\n",
      "on time step 323154 (time=1795.3), 1.2378e-05 s/step\n",
      "Meep progress: 3618.8222222222225/9000.0 = 40.2% done in 8.0s, 11.9s to go\n",
      "on time step 651911 (time=3621.73), 1.21671e-05 s/step\n",
      "Meep progress: 5514.1611111111115/9000.0 = 61.3% done in 12.0s, 7.6s to go\n",
      "on time step 993111 (time=5517.28), 1.17234e-05 s/step\n",
      "Meep progress: 7388.2555555555555/9000.0 = 82.1% done in 16.0s, 3.5s to go\n",
      "on time step 1330505 (time=7391.69), 1.18556e-05 s/step\n",
      "run 0 finished at t = 9000.0 (1620000 timesteps)\n",
      "-----------\n",
      "Initializing structure...\n",
      "time for choose_chunkdivision = 5.60284e-05 s\n",
      "Working in 1D dimensions.\n",
      "Computational cell is 0 x 0 x 10 with resolution 90\n",
      "     block, center = (0,0,0)\n",
      "          size (0,0,1.53)\n",
      "          axes (1,0,0), (0,1,0), (0,0,1)\n",
      "          dielectric constant epsilon diagonal = (6.0516,6.0516,6.0516)\n",
      "time for set_epsilon = 0.000267982 s\n",
      "-----------\n"
     ]
    },
    {
     "data": {
      "application/vnd.jupyter.widget-view+json": {
       "model_id": "c4555cac58964b46bae5345c447c9677",
       "version_major": 2,
       "version_minor": 0
      },
      "text/plain": [
       "FloatProgress(value=0.0, description='0% done ', max=9000.0)"
      ]
     },
     "metadata": {},
     "output_type": "display_data"
    },
    {
     "name": "stdout",
     "output_type": "stream",
     "text": [
      "Meep progress: 1709.8777777777777/9000.0 = 19.0% done in 4.0s, 17.1s to go\n",
      "on time step 308173 (time=1712.07), 1.29799e-05 s/step\n",
      "Meep progress: 3465.2722222222224/9000.0 = 38.5% done in 8.0s, 12.8s to go\n",
      "on time step 624199 (time=3467.77), 1.26572e-05 s/step\n",
      "Meep progress: 5275.85/9000.0 = 58.6% done in 12.0s, 8.5s to go\n",
      "on time step 950164 (time=5278.69), 1.22713e-05 s/step\n",
      "Meep progress: 7066.361111111111/9000.0 = 78.5% done in 16.0s, 4.4s to go\n",
      "on time step 1272468 (time=7069.27), 1.24107e-05 s/step\n",
      "Meep progress: 8789.755555555555/9000.0 = 97.7% done in 20.0s, 0.5s to go\n",
      "on time step 1582723 (time=8792.91), 1.28926e-05 s/step\n",
      "run 0 finished at t = 9000.0 (1620000 timesteps)\n",
      "196170655.44130635\n",
      "[0.93665274]\n",
      "[0.06334726]\n",
      "[0.]\n",
      "[0.94203558]\n",
      "[0.05796442]\n",
      "[0.]\n",
      "[1.53]\n",
      "12\n",
      "-----------\n",
      "Initializing structure...\n",
      "time for choose_chunkdivision = 5.50747e-05 s\n",
      "Working in 1D dimensions.\n",
      "Computational cell is 0 x 0 x 10 with resolution 90\n",
      "time for set_epsilon = 0.000227928 s\n",
      "-----------\n"
     ]
    },
    {
     "data": {
      "application/vnd.jupyter.widget-view+json": {
       "model_id": "c6fa233f4321470798135656d42903df",
       "version_major": 2,
       "version_minor": 0
      },
      "text/plain": [
       "FloatProgress(value=0.0, description='0% done ', max=9000.0)"
      ]
     },
     "metadata": {},
     "output_type": "display_data"
    },
    {
     "name": "stdout",
     "output_type": "stream",
     "text": [
      "Meep progress: 374.40555555555557/9000.0 = 4.2% done in 4.0s, 92.2s to go\n",
      "on time step 67479 (time=374.883), 5.92781e-05 s/step\n",
      "Meep progress: 762.3444444444444/9000.0 = 8.5% done in 8.0s, 86.4s to go\n",
      "on time step 137313 (time=762.85), 5.72788e-05 s/step\n",
      "Meep progress: 1151.7444444444445/9000.0 = 12.8% done in 12.0s, 81.8s to go\n",
      "on time step 207409 (time=1152.27), 5.70648e-05 s/step\n",
      "Meep progress: 1526.55/9000.0 = 17.0% done in 16.0s, 78.3s to go\n",
      "on time step 274888 (time=1527.16), 5.92783e-05 s/step\n",
      "Meep progress: 1902.1166666666668/9000.0 = 21.1% done in 20.0s, 74.6s to go\n",
      "on time step 342505 (time=1902.81), 5.91571e-05 s/step\n",
      "Meep progress: 2286.1722222222224/9000.0 = 25.4% done in 24.0s, 70.5s to go\n",
      "on time step 411641 (time=2286.89), 5.78577e-05 s/step\n",
      "Meep progress: 2673.355555555556/9000.0 = 29.7% done in 28.0s, 66.3s to go\n",
      "on time step 481346 (time=2674.14), 5.73863e-05 s/step\n",
      "Meep progress: 3059.8611111111113/9000.0 = 34.0% done in 32.0s, 62.1s to go\n",
      "on time step 550920 (time=3060.67), 5.74928e-05 s/step\n",
      "Meep progress: 3446.7444444444445/9000.0 = 38.3% done in 36.0s, 58.0s to go\n",
      "on time step 620502 (time=3447.23), 5.75328e-05 s/step\n",
      "Meep progress: 3817.188888888889/9000.0 = 42.4% done in 40.0s, 54.3s to go\n",
      "on time step 687308 (time=3818.38), 5.9875e-05 s/step\n",
      "Meep progress: 4206.127777777778/9000.0 = 46.7% done in 44.0s, 50.1s to go\n",
      "on time step 757326 (time=4207.37), 5.7129e-05 s/step\n",
      "Meep progress: 4589.0055555555555/9000.0 = 51.0% done in 48.0s, 46.1s to go\n",
      "on time step 826260 (time=4590.33), 5.80273e-05 s/step\n",
      "Meep progress: 4928.861111111111/9000.0 = 54.8% done in 52.0s, 43.0s to go\n",
      "on time step 887426 (time=4930.14), 6.53963e-05 s/step\n",
      "Meep progress: 5309.483333333334/9000.0 = 59.0% done in 56.0s, 38.9s to go\n",
      "on time step 955943 (time=5310.79), 5.83801e-05 s/step\n",
      "Meep progress: 5684.172222222222/9000.0 = 63.2% done in 60.0s, 35.0s to go\n",
      "on time step 1023436 (time=5685.76), 5.92658e-05 s/step\n",
      "Meep progress: 6059.605555555556/9000.0 = 67.3% done in 64.0s, 31.1s to go\n",
      "on time step 1091021 (time=6061.23), 5.91848e-05 s/step\n",
      "Meep progress: 6448.588888888889/9000.0 = 71.7% done in 68.0s, 26.9s to go\n",
      "on time step 1161037 (time=6450.21), 5.71301e-05 s/step\n",
      "Meep progress: 6820.794444444445/9000.0 = 75.8% done in 72.0s, 23.0s to go\n",
      "on time step 1228043 (time=6822.46), 5.96971e-05 s/step\n",
      "Meep progress: 7200.916666666667/9000.0 = 80.0% done in 76.0s, 19.0s to go\n",
      "on time step 1296498 (time=7202.77), 5.84331e-05 s/step\n",
      "Meep progress: 7592.366666666667/9000.0 = 84.4% done in 80.0s, 14.8s to go\n",
      "on time step 1366971 (time=7594.28), 5.67601e-05 s/step\n",
      "Meep progress: 7986.977777777778/9000.0 = 88.7% done in 84.0s, 10.7s to go\n",
      "on time step 1438014 (time=7988.97), 5.63067e-05 s/step\n",
      "Meep progress: 8378.861111111111/9000.0 = 93.1% done in 88.0s, 6.5s to go\n",
      "on time step 1508551 (time=8380.84), 5.6708e-05 s/step\n",
      "Meep progress: 8744.894444444444/9000.0 = 97.2% done in 92.0s, 2.7s to go\n",
      "on time step 1574449 (time=8746.94), 6.07004e-05 s/step\n",
      "run 0 finished at t = 9000.0 (1620000 timesteps)\n",
      "-----------\n",
      "Initializing structure...\n",
      "time for choose_chunkdivision = 5.6982e-05 s\n",
      "Working in 1D dimensions.\n",
      "Computational cell is 0 x 0 x 10 with resolution 90\n",
      "     block, center = (0,0,0)\n",
      "          size (0,0,1.53)\n",
      "          axes (1,0,0), (0,1,0), (0,0,1)\n",
      "          dielectric constant epsilon diagonal = (6.0516,6.0516,6.0516)\n",
      "time for set_epsilon = 0.000262022 s\n",
      "-----------\n"
     ]
    },
    {
     "data": {
      "application/vnd.jupyter.widget-view+json": {
       "model_id": "60f2791b944348558fac02fc4b5aaa62",
       "version_major": 2,
       "version_minor": 0
      },
      "text/plain": [
       "FloatProgress(value=0.0, description='0% done ', max=9000.0)"
      ]
     },
     "metadata": {},
     "output_type": "display_data"
    },
    {
     "name": "stdout",
     "output_type": "stream",
     "text": [
      "Meep progress: 1815.7166666666667/9000.0 = 20.2% done in 4.0s, 15.8s to go\n",
      "on time step 327193 (time=1817.74), 1.22252e-05 s/step\n",
      "Meep progress: 3660.1722222222224/9000.0 = 40.7% done in 8.0s, 11.7s to go\n",
      "on time step 659276 (time=3662.64), 1.20452e-05 s/step\n",
      "Meep progress: 5434.016666666666/9000.0 = 60.4% done in 12.0s, 7.9s to go\n",
      "on time step 978604 (time=5436.69), 1.25263e-05 s/step\n",
      "Meep progress: 7232.594444444445/9000.0 = 80.4% done in 16.0s, 3.9s to go\n",
      "on time step 1302411 (time=7235.62), 1.23531e-05 s/step\n",
      "run 0 finished at t = 9000.0 (1620000 timesteps)\n",
      "-----------\n",
      "Initializing structure...\n",
      "time for choose_chunkdivision = 5.48363e-05 s\n",
      "Working in 1D dimensions.\n",
      "Computational cell is 0 x 0 x 10 with resolution 90\n",
      "     block, center = (0,0,0)\n",
      "          size (0,0,1.53)\n",
      "          axes (1,0,0), (0,1,0), (0,0,1)\n",
      "          dielectric constant epsilon diagonal = (6.0516,6.0516,6.0516)\n",
      "time for set_epsilon = 0.000260115 s\n",
      "-----------\n"
     ]
    },
    {
     "data": {
      "application/vnd.jupyter.widget-view+json": {
       "model_id": "9858697dec8a48a9a43a2b23c69c3bc3",
       "version_major": 2,
       "version_minor": 0
      },
      "text/plain": [
       "FloatProgress(value=0.0, description='0% done ', max=9000.0)"
      ]
     },
     "metadata": {},
     "output_type": "display_data"
    },
    {
     "name": "stdout",
     "output_type": "stream",
     "text": [
      "Meep progress: 1719.8666666666668/9000.0 = 19.1% done in 4.0s, 16.9s to go\n",
      "on time step 310082 (time=1722.68), 1.29e-05 s/step\n",
      "Meep progress: 3374.927777777778/9000.0 = 37.5% done in 8.0s, 13.3s to go\n",
      "on time step 607969 (time=3377.61), 1.34279e-05 s/step\n",
      "Meep progress: 4984.85/9000.0 = 55.4% done in 12.0s, 9.7s to go\n",
      "on time step 897859 (time=4988.11), 1.37984e-05 s/step\n",
      "Meep progress: 6681.461111111112/9000.0 = 74.2% done in 16.0s, 5.6s to go\n",
      "on time step 1203325 (time=6685.14), 1.30948e-05 s/step\n",
      "Meep progress: 8445.15/9000.0 = 93.8% done in 20.0s, 1.3s to go\n",
      "on time step 1520853 (time=8449.18), 1.25973e-05 s/step\n",
      "run 0 finished at t = 9000.0 (1620000 timesteps)\n",
      "213845264.0047063\n",
      "[0.90629437]\n",
      "[0.09370563]\n",
      "[0.]\n",
      "[0.94203558]\n",
      "[0.05796442]\n",
      "[0.]\n",
      "[1.53]\n",
      "13\n",
      "-----------\n",
      "Initializing structure...\n",
      "time for choose_chunkdivision = 7.10487e-05 s\n",
      "Working in 1D dimensions.\n",
      "Computational cell is 0 x 0 x 10 with resolution 90\n",
      "time for set_epsilon = 0.00022006 s\n",
      "-----------\n"
     ]
    },
    {
     "data": {
      "application/vnd.jupyter.widget-view+json": {
       "model_id": "cc3df10e2e2d4e89886041f0d7f8b765",
       "version_major": 2,
       "version_minor": 0
      },
      "text/plain": [
       "FloatProgress(value=0.0, description='0% done ', max=9000.0)"
      ]
     },
     "metadata": {},
     "output_type": "display_data"
    },
    {
     "name": "stdout",
     "output_type": "stream",
     "text": [
      "Meep progress: 363.52222222222224/9000.0 = 4.0% done in 4.0s, 95.0s to go\n",
      "on time step 65506 (time=363.922), 6.10637e-05 s/step\n",
      "Meep progress: 731.5944444444444/9000.0 = 8.1% done in 8.0s, 90.4s to go\n",
      "on time step 131767 (time=732.039), 6.03678e-05 s/step\n",
      "Meep progress: 1103.5444444444445/9000.0 = 12.3% done in 12.0s, 85.9s to go\n",
      "on time step 198732 (time=1104.07), 5.97334e-05 s/step\n",
      "Meep progress: 1491.7055555555555/9000.0 = 16.6% done in 16.0s, 80.5s to go\n",
      "on time step 268614 (time=1492.3), 5.72399e-05 s/step\n",
      "Meep progress: 1879.3111111111111/9000.0 = 20.9% done in 20.0s, 75.8s to go\n",
      "on time step 338390 (time=1879.94), 5.73263e-05 s/step\n",
      "Meep progress: 2249.9555555555557/9000.0 = 25.0% done in 24.0s, 72.0s to go\n",
      "on time step 405114 (time=2250.63), 5.99491e-05 s/step\n",
      "Meep progress: 2626.177777777778/9000.0 = 29.2% done in 28.0s, 68.0s to go\n",
      "on time step 472842 (time=2626.9), 5.90598e-05 s/step\n",
      "Meep progress: 3016.8166666666666/9000.0 = 33.5% done in 32.0s, 63.5s to go\n",
      "on time step 543176 (time=3017.64), 5.68718e-05 s/step\n",
      "Meep progress: 3405.2722222222224/9000.0 = 37.8% done in 36.0s, 59.1s to go\n",
      "on time step 613102 (time=3406.12), 5.72038e-05 s/step\n",
      "Meep progress: 3796.5388888888892/9000.0 = 42.2% done in 40.0s, 54.8s to go\n",
      "on time step 683539 (time=3797.44), 5.67897e-05 s/step\n",
      "Meep progress: 4166.605555555556/9000.0 = 46.3% done in 44.0s, 51.0s to go\n",
      "on time step 750158 (time=4167.54), 6.0043e-05 s/step\n",
      "Meep progress: 4543.316666666667/9000.0 = 50.5% done in 48.0s, 47.1s to go\n",
      "on time step 817976 (time=4544.31), 5.89821e-05 s/step\n",
      "Meep progress: 4937.427777777778/9000.0 = 54.9% done in 52.0s, 42.8s to go\n",
      "on time step 888938 (time=4938.54), 5.63688e-05 s/step\n",
      "Meep progress: 5330.594444444445/9000.0 = 59.2% done in 56.0s, 38.5s to go\n",
      "on time step 959709 (time=5331.72), 5.65206e-05 s/step\n",
      "Meep progress: 5699.922222222222/9000.0 = 63.3% done in 60.0s, 34.7s to go\n",
      "on time step 1026187 (time=5701.04), 6.01707e-05 s/step\n",
      "Meep progress: 6075.5/9000.0 = 67.5% done in 64.0s, 30.8s to go\n",
      "on time step 1093813 (time=6076.74), 5.91497e-05 s/step\n",
      "Meep progress: 6469.288888888889/9000.0 = 71.9% done in 68.0s, 26.6s to go\n",
      "on time step 1164713 (time=6470.63), 5.64177e-05 s/step\n",
      "Meep progress: 6859.9944444444445/9000.0 = 76.2% done in 72.0s, 22.5s to go\n",
      "on time step 1235042 (time=6861.34), 5.68756e-05 s/step\n",
      "Meep progress: 7255.650000000001/9000.0 = 80.6% done in 76.0s, 18.3s to go\n",
      "on time step 1306270 (time=7257.06), 5.61581e-05 s/step\n",
      "Meep progress: 7618.422222222222/9000.0 = 84.6% done in 80.0s, 14.5s to go\n",
      "on time step 1371577 (time=7619.87), 6.125e-05 s/step\n",
      "Meep progress: 7996.900000000001/9000.0 = 88.9% done in 84.0s, 10.5s to go\n",
      "on time step 1439718 (time=7998.43), 5.87019e-05 s/step\n",
      "Meep progress: 8356.038888888888/9000.0 = 92.8% done in 88.0s, 6.8s to go\n",
      "on time step 1504369 (time=8357.61), 6.18708e-05 s/step\n",
      "Meep progress: 8748.405555555555/9000.0 = 97.2% done in 92.0s, 2.6s to go\n",
      "on time step 1574996 (time=8749.98), 5.66362e-05 s/step\n",
      "run 0 finished at t = 9000.0 (1620000 timesteps)\n",
      "-----------\n",
      "Initializing structure...\n",
      "time for choose_chunkdivision = 5.60284e-05 s\n",
      "Working in 1D dimensions.\n",
      "Computational cell is 0 x 0 x 10 with resolution 90\n",
      "     block, center = (0,0,0)\n",
      "          size (0,0,1.53)\n",
      "          axes (1,0,0), (0,1,0), (0,0,1)\n",
      "          dielectric constant epsilon diagonal = (6.0516,6.0516,6.0516)\n",
      "time for set_epsilon = 0.000264883 s\n",
      "-----------\n"
     ]
    },
    {
     "data": {
      "application/vnd.jupyter.widget-view+json": {
       "model_id": "2d8f6417c6154b7892c3eb6d392bb3ed",
       "version_major": 2,
       "version_minor": 0
      },
      "text/plain": [
       "FloatProgress(value=0.0, description='0% done ', max=9000.0)"
      ]
     },
     "metadata": {},
     "output_type": "display_data"
    },
    {
     "name": "stdout",
     "output_type": "stream",
     "text": [
      "Meep progress: 1792.5444444444445/9000.0 = 19.9% done in 4.0s, 16.1s to go\n",
      "on time step 323108 (time=1795.04), 1.23798e-05 s/step\n",
      "Meep progress: 3534.688888888889/9000.0 = 39.3% done in 8.0s, 12.4s to go\n",
      "on time step 636716 (time=3537.31), 1.27548e-05 s/step\n",
      "Meep progress: 5363.322222222222/9000.0 = 59.6% done in 12.0s, 8.1s to go\n",
      "on time step 965933 (time=5366.29), 1.21501e-05 s/step\n",
      "Meep progress: 7143.011111111111/9000.0 = 79.4% done in 16.0s, 4.2s to go\n",
      "on time step 1286331 (time=7146.28), 1.24845e-05 s/step\n",
      "Meep progress: 8913.444444444445/9000.0 = 99.0% done in 20.0s, 0.2s to go\n",
      "on time step 1605071 (time=8917.06), 1.25494e-05 s/step\n",
      "run 0 finished at t = 9000.0 (1620000 timesteps)\n",
      "-----------\n",
      "Initializing structure...\n",
      "time for choose_chunkdivision = 7.41482e-05 s\n",
      "Working in 1D dimensions.\n",
      "Computational cell is 0 x 0 x 10 with resolution 90\n",
      "     block, center = (0,0,0)\n",
      "          size (0,0,1.53)\n",
      "          axes (1,0,0), (0,1,0), (0,0,1)\n",
      "          dielectric constant epsilon diagonal = (6.0516,6.0516,6.0516)\n",
      "time for set_epsilon = 0.000256062 s\n",
      "-----------\n"
     ]
    },
    {
     "data": {
      "application/vnd.jupyter.widget-view+json": {
       "model_id": "f35e90a0e37b47a680468e1be351c6d4",
       "version_major": 2,
       "version_minor": 0
      },
      "text/plain": [
       "FloatProgress(value=0.0, description='0% done ', max=9000.0)"
      ]
     },
     "metadata": {},
     "output_type": "display_data"
    },
    {
     "name": "stdout",
     "output_type": "stream",
     "text": [
      "Meep progress: 1717.7111111111112/9000.0 = 19.1% done in 4.0s, 17.0s to go\n",
      "on time step 309550 (time=1719.72), 1.2922e-05 s/step\n",
      "Meep progress: 3483.6222222222223/9000.0 = 38.7% done in 8.0s, 12.7s to go\n",
      "on time step 627454 (time=3485.86), 1.25827e-05 s/step\n",
      "Meep progress: 5181.022222222223/9000.0 = 57.6% done in 12.0s, 8.8s to go\n",
      "on time step 933002 (time=5183.34), 1.30914e-05 s/step\n",
      "Meep progress: 6842.055555555556/9000.0 = 76.0% done in 16.0s, 5.0s to go\n",
      "on time step 1232052 (time=6844.73), 1.33757e-05 s/step\n",
      "Meep progress: 8556.194444444445/9000.0 = 95.1% done in 20.0s, 1.0s to go\n",
      "on time step 1540646 (time=8559.14), 1.2962e-05 s/step\n",
      "run 0 finished at t = 9000.0 (1620000 timesteps)\n",
      "231519872.56810638\n",
      "[0.87217757]\n",
      "[0.12782243]\n",
      "[1.11022302e-16]\n",
      "[0.94203558]\n",
      "[0.05796442]\n",
      "[0.]\n",
      "[1.53]\n",
      "14\n",
      "-----------\n",
      "Initializing structure...\n",
      "time for choose_chunkdivision = 5.60284e-05 s\n",
      "Working in 1D dimensions.\n",
      "Computational cell is 0 x 0 x 10 with resolution 90\n",
      "time for set_epsilon = 0.000216007 s\n",
      "-----------\n"
     ]
    },
    {
     "data": {
      "application/vnd.jupyter.widget-view+json": {
       "model_id": "1782d3fab54f437aa537948b461c6518",
       "version_major": 2,
       "version_minor": 0
      },
      "text/plain": [
       "FloatProgress(value=0.0, description='0% done ', max=9000.0)"
      ]
     },
     "metadata": {},
     "output_type": "display_data"
    },
    {
     "name": "stdout",
     "output_type": "stream",
     "text": [
      "Meep progress: 363.64444444444445/9000.0 = 4.0% done in 4.0s, 95.0s to go\n",
      "on time step 65540 (time=364.111), 6.10345e-05 s/step\n",
      "Meep progress: 748.0/9000.0 = 8.3% done in 8.0s, 88.3s to go\n",
      "on time step 134736 (time=748.533), 5.78072e-05 s/step\n",
      "Meep progress: 1103.1277777777777/9000.0 = 12.3% done in 12.0s, 85.9s to go\n",
      "on time step 198662 (time=1103.68), 6.25731e-05 s/step\n",
      "Meep progress: 1475.3777777777777/9000.0 = 16.4% done in 16.0s, 81.6s to go\n",
      "on time step 265683 (time=1476.02), 5.96834e-05 s/step\n",
      "Meep progress: 1860.7166666666667/9000.0 = 20.7% done in 20.0s, 76.7s to go\n",
      "on time step 335056 (time=1861.42), 5.76605e-05 s/step\n",
      "Meep progress: 2245.1833333333334/9000.0 = 24.9% done in 24.0s, 72.2s to go\n",
      "on time step 404272 (time=2245.96), 5.77907e-05 s/step\n",
      "Meep progress: 2615.788888888889/9000.0 = 29.1% done in 28.0s, 68.3s to go\n",
      "on time step 470985 (time=2616.58), 5.9959e-05 s/step\n",
      "Meep progress: 2975.516666666667/9000.0 = 33.1% done in 32.0s, 64.8s to go\n",
      "on time step 535744 (time=2976.36), 6.17681e-05 s/step\n",
      "Meep progress: 3343.166666666667/9000.0 = 37.1% done in 36.0s, 60.9s to go\n",
      "on time step 601852 (time=3343.62), 6.05481e-05 s/step\n",
      "Meep progress: 3734.3222222222225/9000.0 = 41.5% done in 40.0s, 56.4s to go\n",
      "on time step 672414 (time=3735.63), 5.66883e-05 s/step\n",
      "Meep progress: 4126.066666666667/9000.0 = 45.8% done in 44.0s, 52.0s to go\n",
      "on time step 742944 (time=4127.47), 5.67141e-05 s/step\n",
      "Meep progress: 4492.855555555556/9000.0 = 49.9% done in 48.0s, 48.2s to go\n",
      "on time step 808957 (time=4494.21), 6.05944e-05 s/step\n",
      "Meep progress: 4857.733333333334/9000.0 = 54.0% done in 52.0s, 44.3s to go\n",
      "on time step 874648 (time=4859.16), 6.08918e-05 s/step\n",
      "Meep progress: 5237.211111111112/9000.0 = 58.2% done in 56.0s, 40.2s to go\n",
      "on time step 942969 (time=5238.72), 5.85474e-05 s/step\n",
      "Meep progress: 5628.7/9000.0 = 62.5% done in 60.0s, 35.9s to go\n",
      "on time step 1013452 (time=5630.29), 5.67514e-05 s/step\n",
      "Meep progress: 6023.077777777778/9000.0 = 66.9% done in 64.0s, 31.6s to go\n",
      "on time step 1084435 (time=6024.64), 5.63522e-05 s/step\n",
      "Meep progress: 6381.0777777777785/9000.0 = 70.9% done in 68.0s, 27.9s to go\n",
      "on time step 1148888 (time=6382.71), 6.20621e-05 s/step\n",
      "Meep progress: 6754.566666666667/9000.0 = 75.1% done in 72.0s, 23.9s to go\n",
      "on time step 1216142 (time=6756.34), 5.94766e-05 s/step\n",
      "Meep progress: 7135.877777777778/9000.0 = 79.3% done in 76.0s, 19.9s to go\n",
      "on time step 1284778 (time=7137.66), 5.82793e-05 s/step\n",
      "Meep progress: 7513.205555555556/9000.0 = 83.5% done in 80.0s, 15.8s to go\n",
      "on time step 1352711 (time=7515.06), 5.88819e-05 s/step\n",
      "Meep progress: 7902.2444444444445/9000.0 = 87.8% done in 84.0s, 11.7s to go\n",
      "on time step 1422741 (time=7904.12), 5.71185e-05 s/step\n",
      "Meep progress: 8269.15/9000.0 = 91.9% done in 88.0s, 7.8s to go\n",
      "on time step 1488788 (time=8271.04), 6.05633e-05 s/step\n",
      "Meep progress: 8645.666666666668/9000.0 = 96.1% done in 92.0s, 3.8s to go\n",
      "on time step 1556591 (time=8647.73), 5.8995e-05 s/step\n",
      "run 0 finished at t = 9000.0 (1620000 timesteps)\n",
      "-----------\n",
      "Initializing structure...\n",
      "time for choose_chunkdivision = 5.60284e-05 s\n",
      "Working in 1D dimensions.\n",
      "Computational cell is 0 x 0 x 10 with resolution 90\n",
      "     block, center = (0,0,0)\n",
      "          size (0,0,1.53)\n",
      "          axes (1,0,0), (0,1,0), (0,0,1)\n",
      "          dielectric constant epsilon diagonal = (6.0516,6.0516,6.0516)\n",
      "time for set_epsilon = 0.000266075 s\n",
      "-----------\n"
     ]
    },
    {
     "data": {
      "application/vnd.jupyter.widget-view+json": {
       "model_id": "13c46fa5313d46de94d68fc95e9ad16c",
       "version_major": 2,
       "version_minor": 0
      },
      "text/plain": [
       "FloatProgress(value=0.0, description='0% done ', max=9000.0)"
      ]
     },
     "metadata": {},
     "output_type": "display_data"
    },
    {
     "name": "stdout",
     "output_type": "stream",
     "text": [
      "Meep progress: 1724.5055555555557/9000.0 = 19.2% done in 4.0s, 16.9s to go\n",
      "on time step 310822 (time=1726.79), 1.28691e-05 s/step\n",
      "Meep progress: 3500.8333333333335/9000.0 = 38.9% done in 8.0s, 12.6s to go\n",
      "on time step 630602 (time=3503.34), 1.25086e-05 s/step\n",
      "Meep progress: 5277.927777777778/9000.0 = 58.6% done in 12.0s, 8.5s to go\n",
      "on time step 950490 (time=5280.5), 1.25044e-05 s/step\n",
      "Meep progress: 7116.083333333334/9000.0 = 79.1% done in 16.0s, 4.2s to go\n",
      "on time step 1281440 (time=7119.11), 1.20864e-05 s/step\n",
      "Meep progress: 8955.877777777778/9000.0 = 99.5% done in 20.0s, 0.1s to go\n",
      "on time step 1612649 (time=8959.16), 1.2077e-05 s/step\n",
      "run 0 finished at t = 9000.0 (1620000 timesteps)\n",
      "-----------\n",
      "Initializing structure...\n",
      "time for choose_chunkdivision = 5.60284e-05 s\n",
      "Working in 1D dimensions.\n",
      "Computational cell is 0 x 0 x 10 with resolution 90\n",
      "     block, center = (0,0,0)\n",
      "          size (0,0,1.53)\n",
      "          axes (1,0,0), (0,1,0), (0,0,1)\n",
      "          dielectric constant epsilon diagonal = (6.0516,6.0516,6.0516)\n",
      "time for set_epsilon = 0.000272989 s\n",
      "-----------\n"
     ]
    },
    {
     "data": {
      "application/vnd.jupyter.widget-view+json": {
       "model_id": "9d2979591ab647ae9e93de1cc48df88c",
       "version_major": 2,
       "version_minor": 0
      },
      "text/plain": [
       "FloatProgress(value=0.0, description='0% done ', max=9000.0)"
      ]
     },
     "metadata": {},
     "output_type": "display_data"
    },
    {
     "name": "stdout",
     "output_type": "stream",
     "text": [
      "Meep progress: 1644.0166666666667/9000.0 = 18.3% done in 4.0s, 17.9s to go\n",
      "on time step 296405 (time=1646.69), 1.34951e-05 s/step\n",
      "Meep progress: 3328.9055555555556/9000.0 = 37.0% done in 8.0s, 13.6s to go\n",
      "on time step 599768 (time=3332.04), 1.31856e-05 s/step\n",
      "Meep progress: 5082.727777777778/9000.0 = 56.5% done in 12.0s, 9.2s to go\n",
      "on time step 915507 (time=5086.15), 1.26687e-05 s/step\n",
      "Meep progress: 6860.105555555556/9000.0 = 76.2% done in 16.0s, 5.0s to go\n",
      "on time step 1235476 (time=6863.76), 1.25012e-05 s/step\n",
      "Meep progress: 8615.083333333334/9000.0 = 95.7% done in 20.0s, 0.9s to go\n",
      "on time step 1551405 (time=8618.92), 1.26611e-05 s/step\n",
      "run 0 finished at t = 9000.0 (1620000 timesteps)\n",
      "249194481.13150647\n",
      "[0.8357136]\n",
      "[0.1642864]\n",
      "[0.]\n",
      "[0.94203558]\n",
      "[0.05796442]\n",
      "[0.]\n",
      "[1.53]\n",
      "15\n",
      "-----------\n",
      "Initializing structure...\n",
      "time for choose_chunkdivision = 5.91278e-05 s\n",
      "Working in 1D dimensions.\n",
      "Computational cell is 0 x 0 x 10 with resolution 90\n",
      "time for set_epsilon = 0.000221968 s\n",
      "-----------\n"
     ]
    },
    {
     "data": {
      "application/vnd.jupyter.widget-view+json": {
       "model_id": "b687bfbb9f854798b7063e8a94cad6f2",
       "version_major": 2,
       "version_minor": 0
      },
      "text/plain": [
       "FloatProgress(value=0.0, description='0% done ', max=9000.0)"
      ]
     },
     "metadata": {},
     "output_type": "display_data"
    },
    {
     "name": "stdout",
     "output_type": "stream",
     "text": [
      "Meep progress: 363.5888888888889/9000.0 = 4.0% done in 4.0s, 95.0s to go\n",
      "on time step 65523 (time=364.017), 6.10479e-05 s/step\n",
      "Meep progress: 701.088888888889/9000.0 = 7.8% done in 8.0s, 94.7s to go\n",
      "on time step 126288 (time=701.6), 6.58278e-05 s/step\n",
      "Meep progress: 1058.4444444444446/9000.0 = 11.8% done in 12.0s, 90.0s to go\n",
      "on time step 190626 (time=1059.03), 6.21717e-05 s/step\n",
      "Meep progress: 1432.9222222222222/9000.0 = 15.9% done in 16.0s, 84.5s to go\n",
      "on time step 258032 (time=1433.51), 5.93425e-05 s/step\n",
      "Meep progress: 1796.6000000000001/9000.0 = 20.0% done in 20.0s, 80.2s to go\n",
      "on time step 323511 (time=1797.28), 6.10884e-05 s/step\n",
      "Meep progress: 2174.038888888889/9000.0 = 24.2% done in 24.0s, 75.4s to go\n",
      "on time step 391467 (time=2174.82), 5.88622e-05 s/step\n",
      "Meep progress: 2541.7944444444447/9000.0 = 28.2% done in 28.0s, 71.1s to go\n",
      "on time step 457666 (time=2542.59), 6.04242e-05 s/step\n",
      "Meep progress: 2928.9555555555557/9000.0 = 32.5% done in 32.0s, 66.3s to go\n",
      "on time step 527370 (time=2929.83), 5.73858e-05 s/step\n",
      "Meep progress: 3294.2055555555557/9000.0 = 36.6% done in 36.0s, 62.4s to go\n",
      "on time step 593113 (time=3295.07), 6.08437e-05 s/step\n",
      "Meep progress: 3658.25/9000.0 = 40.6% done in 40.0s, 58.4s to go\n",
      "on time step 658643 (time=3659.13), 6.10412e-05 s/step\n",
      "Meep progress: 4036.988888888889/9000.0 = 44.9% done in 44.0s, 54.1s to go\n",
      "on time step 726839 (time=4037.99), 5.86545e-05 s/step\n",
      "Meep progress: 4428.538888888889/9000.0 = 49.2% done in 48.0s, 49.5s to go\n",
      "on time step 797329 (time=4429.61), 5.67457e-05 s/step\n",
      "Meep progress: 4820.6611111111115/9000.0 = 53.6% done in 52.0s, 45.1s to go\n",
      "on time step 867918 (time=4821.77), 5.66662e-05 s/step\n",
      "Meep progress: 5205.416666666667/9000.0 = 57.8% done in 56.0s, 40.8s to go\n",
      "on time step 937188 (time=5206.6), 5.77454e-05 s/step\n",
      "Meep progress: 5589.533333333334/9000.0 = 62.1% done in 60.0s, 36.6s to go\n",
      "on time step 1006344 (time=5590.8), 5.78405e-05 s/step\n",
      "Meep progress: 5991.683333333333/9000.0 = 66.6% done in 64.0s, 32.1s to go\n",
      "on time step 1078740 (time=5993), 5.52523e-05 s/step\n",
      "Meep progress: 6392.0055555555555/9000.0 = 71.0% done in 68.0s, 27.7s to go\n",
      "on time step 1150813 (time=6393.41), 5.55e-05 s/step\n",
      "Meep progress: 6789.261111111111/9000.0 = 75.4% done in 72.0s, 23.4s to go\n",
      "on time step 1222326 (time=6790.7), 5.59343e-05 s/step\n",
      "Meep progress: 7168.783333333334/9000.0 = 79.7% done in 76.0s, 19.4s to go\n",
      "on time step 1290635 (time=7170.19), 5.85586e-05 s/step\n",
      "Meep progress: 7552.13888888889/9000.0 = 83.9% done in 80.0s, 15.3s to go\n",
      "on time step 1359661 (time=7553.67), 5.79492e-05 s/step\n",
      "Meep progress: 7947.988888888889/9000.0 = 88.3% done in 84.0s, 11.1s to go\n",
      "on time step 1430922 (time=7949.57), 5.61319e-05 s/step\n",
      "Meep progress: 8339.144444444444/9000.0 = 92.7% done in 88.0s, 7.0s to go\n",
      "on time step 1501322 (time=8340.68), 5.68185e-05 s/step\n",
      "Meep progress: 8703.316666666668/9000.0 = 96.7% done in 92.0s, 3.1s to go\n",
      "on time step 1566890 (time=8704.94), 6.10066e-05 s/step\n",
      "run 0 finished at t = 9000.0 (1620000 timesteps)\n",
      "-----------\n",
      "Initializing structure...\n",
      "time for choose_chunkdivision = 6.50883e-05 s\n",
      "Working in 1D dimensions.\n",
      "Computational cell is 0 x 0 x 10 with resolution 90\n",
      "     block, center = (0,0,0)\n",
      "          size (0,0,1.53)\n",
      "          axes (1,0,0), (0,1,0), (0,0,1)\n",
      "          dielectric constant epsilon diagonal = (6.0516,6.0516,6.0516)\n",
      "time for set_epsilon = 0.000272989 s\n",
      "-----------\n"
     ]
    },
    {
     "data": {
      "application/vnd.jupyter.widget-view+json": {
       "model_id": "b9dfab3aa2e2499094785e5db3f19d0a",
       "version_major": 2,
       "version_minor": 0
      },
      "text/plain": [
       "FloatProgress(value=0.0, description='0% done ', max=9000.0)"
      ]
     },
     "metadata": {},
     "output_type": "display_data"
    },
    {
     "name": "stdout",
     "output_type": "stream",
     "text": [
      "Meep progress: 1811.6333333333334/9000.0 = 20.1% done in 4.0s, 15.9s to go\n",
      "on time step 326413 (time=1813.41), 1.22544e-05 s/step\n",
      "Meep progress: 3634.9555555555557/9000.0 = 40.4% done in 8.0s, 11.8s to go\n",
      "on time step 654668 (time=3637.04), 1.21857e-05 s/step\n",
      "Meep progress: 5387.183333333333/9000.0 = 59.9% done in 12.0s, 8.0s to go\n",
      "on time step 970084 (time=5389.36), 1.26817e-05 s/step\n",
      "Meep progress: 7238.188888888889/9000.0 = 80.4% done in 16.0s, 3.9s to go\n",
      "on time step 1303334 (time=7240.74), 1.2003e-05 s/step\n",
      "run 0 finished at t = 9000.0 (1620000 timesteps)\n",
      "-----------\n",
      "Initializing structure...\n",
      "time for choose_chunkdivision = 5.48363e-05 s\n",
      "Working in 1D dimensions.\n",
      "Computational cell is 0 x 0 x 10 with resolution 90\n",
      "     block, center = (0,0,0)\n",
      "          size (0,0,1.53)\n",
      "          axes (1,0,0), (0,1,0), (0,0,1)\n",
      "          dielectric constant epsilon diagonal = (6.0516,6.0516,6.0516)\n",
      "time for set_epsilon = 0.000262022 s\n",
      "-----------\n"
     ]
    },
    {
     "data": {
      "application/vnd.jupyter.widget-view+json": {
       "model_id": "85d295e5333c40d7b6e17c4dc6990f18",
       "version_major": 2,
       "version_minor": 0
      },
      "text/plain": [
       "FloatProgress(value=0.0, description='0% done ', max=9000.0)"
      ]
     },
     "metadata": {},
     "output_type": "display_data"
    },
    {
     "name": "stdout",
     "output_type": "stream",
     "text": [
      "Meep progress: 1681.4722222222224/9000.0 = 18.7% done in 4.0s, 17.4s to go\n",
      "on time step 302938 (time=1682.99), 1.3204e-05 s/step\n",
      "Meep progress: 3339.2555555555555/9000.0 = 37.1% done in 8.0s, 13.6s to go\n",
      "on time step 601368 (time=3340.93), 1.34036e-05 s/step\n",
      "Meep progress: 5011.961111111112/9000.0 = 55.7% done in 12.0s, 9.5s to go\n",
      "on time step 902547 (time=5014.15), 1.32812e-05 s/step\n",
      "Meep progress: 6734.583333333334/9000.0 = 74.8% done in 16.0s, 5.4s to go\n",
      "on time step 1212656 (time=6736.98), 1.28987e-05 s/step\n",
      "Meep progress: 8506.388888888889/9000.0 = 94.5% done in 20.0s, 1.2s to go\n",
      "on time step 1531629 (time=8509.05), 1.25403e-05 s/step\n",
      "run 0 finished at t = 9000.0 (1620000 timesteps)\n",
      "266869089.69490775\n",
      "[0.79805501]\n",
      "[0.20194499]\n",
      "[0.]\n",
      "[0.94203558]\n",
      "[0.05796442]\n",
      "[0.]\n",
      "[1.53]\n",
      "16\n",
      "-----------\n",
      "Initializing structure...\n",
      "time for choose_chunkdivision = 5.50747e-05 s\n",
      "Working in 1D dimensions.\n",
      "Computational cell is 0 x 0 x 10 with resolution 90\n",
      "time for set_epsilon = 0.000218153 s\n",
      "-----------\n"
     ]
    },
    {
     "data": {
      "application/vnd.jupyter.widget-view+json": {
       "model_id": "9df1742339a44db19769f35e1bde4abc",
       "version_major": 2,
       "version_minor": 0
      },
      "text/plain": [
       "FloatProgress(value=0.0, description='0% done ', max=9000.0)"
      ]
     },
     "metadata": {},
     "output_type": "display_data"
    },
    {
     "name": "stdout",
     "output_type": "stream",
     "text": [
      "Meep progress: 359.23333333333335/9000.0 = 4.0% done in 4.0s, 96.2s to go\n",
      "on time step 64741 (time=359.672), 6.17855e-05 s/step\n",
      "Meep progress: 711.9222222222222/9000.0 = 7.9% done in 8.0s, 93.1s to go\n",
      "on time step 128240 (time=712.444), 6.29934e-05 s/step\n",
      "Meep progress: 1087.3444444444444/9000.0 = 12.1% done in 12.0s, 87.3s to go\n",
      "on time step 195822 (time=1087.9), 5.91877e-05 s/step\n",
      "Meep progress: 1477.65/9000.0 = 16.4% done in 16.0s, 81.5s to go\n",
      "on time step 266094 (time=1478.3), 5.69223e-05 s/step\n",
      "Meep progress: 1866.9944444444445/9000.0 = 20.7% done in 20.0s, 76.4s to go\n",
      "on time step 336180 (time=1867.67), 5.70728e-05 s/step\n",
      "Meep progress: 2249.8944444444446/9000.0 = 25.0% done in 24.0s, 72.0s to go\n",
      "on time step 405108 (time=2250.6), 5.80323e-05 s/step\n",
      "Meep progress: 2615.477777777778/9000.0 = 29.1% done in 28.0s, 68.3s to go\n",
      "on time step 470922 (time=2616.23), 6.07774e-05 s/step\n",
      "Meep progress: 2999.1722222222224/9000.0 = 33.3% done in 32.0s, 64.0s to go\n",
      "on time step 539998 (time=2999.99), 5.79077e-05 s/step\n",
      "Meep progress: 3395.7555555555555/9000.0 = 37.7% done in 36.0s, 59.4s to go\n",
      "on time step 611325 (time=3396.25), 5.6121e-05 s/step\n",
      "Meep progress: 3785.3500000000004/9000.0 = 42.1% done in 40.0s, 55.1s to go\n",
      "on time step 681585 (time=3786.58), 5.69325e-05 s/step\n",
      "Meep progress: 4151.044444444445/9000.0 = 46.1% done in 44.0s, 51.4s to go\n",
      "on time step 747417 (time=4152.32), 6.07617e-05 s/step\n",
      "Meep progress: 4533.2555555555555/9000.0 = 50.4% done in 48.0s, 47.3s to go\n",
      "on time step 816229 (time=4534.61), 5.81297e-05 s/step\n",
      "Meep progress: 4900.838888888889/9000.0 = 54.5% done in 52.0s, 43.5s to go\n",
      "on time step 882390 (time=4902.17), 6.04588e-05 s/step\n",
      "Meep progress: 5297.761111111111/9000.0 = 58.9% done in 56.0s, 39.1s to go\n",
      "on time step 953864 (time=5299.24), 5.5965e-05 s/step\n",
      "Meep progress: 5692.433333333333/9000.0 = 63.2% done in 60.0s, 34.9s to go\n",
      "on time step 1024901 (time=5693.89), 5.63094e-05 s/step\n",
      "Meep progress: 6061.0/9000.0 = 67.3% done in 64.0s, 31.0s to go\n",
      "on time step 1091257 (time=6062.54), 6.02809e-05 s/step\n",
      "Meep progress: 6448.3/9000.0 = 71.6% done in 68.0s, 26.9s to go\n",
      "on time step 1160991 (time=6449.95), 5.73613e-05 s/step\n",
      "Meep progress: 6841.894444444445/9000.0 = 76.0% done in 72.0s, 22.7s to go\n",
      "on time step 1231847 (time=6843.59), 5.64527e-05 s/step\n",
      "Meep progress: 7232.6611111111115/9000.0 = 80.4% done in 76.0s, 18.6s to go\n",
      "on time step 1302164 (time=7234.24), 5.68859e-05 s/step\n",
      "Meep progress: 7598.716666666667/9000.0 = 84.4% done in 80.0s, 14.8s to go\n",
      "on time step 1368086 (time=7600.48), 6.06782e-05 s/step\n",
      "Meep progress: 7983.7444444444445/9000.0 = 88.7% done in 84.0s, 10.7s to go\n",
      "on time step 1437405 (time=7985.58), 5.77049e-05 s/step\n",
      "Meep progress: 8356.038888888888/9000.0 = 92.8% done in 88.0s, 6.8s to go\n",
      "on time step 1504268 (time=8357.04), 5.98241e-05 s/step\n",
      "Meep progress: 8726.138888888889/9000.0 = 97.0% done in 92.0s, 2.9s to go\n",
      "on time step 1571042 (time=8728.01), 5.99039e-05 s/step\n",
      "run 0 finished at t = 9000.0 (1620000 timesteps)\n",
      "-----------\n",
      "Initializing structure...\n",
      "time for choose_chunkdivision = 5.38826e-05 s\n",
      "Working in 1D dimensions.\n",
      "Computational cell is 0 x 0 x 10 with resolution 90\n",
      "     block, center = (0,0,0)\n",
      "          size (0,0,1.53)\n",
      "          axes (1,0,0), (0,1,0), (0,0,1)\n",
      "          dielectric constant epsilon diagonal = (6.0516,6.0516,6.0516)\n",
      "time for set_epsilon = 0.000262976 s\n",
      "-----------\n"
     ]
    },
    {
     "data": {
      "application/vnd.jupyter.widget-view+json": {
       "model_id": "d96a440383d643fc82a8c06d921a0409",
       "version_major": 2,
       "version_minor": 0
      },
      "text/plain": [
       "FloatProgress(value=0.0, description='0% done ', max=9000.0)"
      ]
     },
     "metadata": {},
     "output_type": "display_data"
    },
    {
     "name": "stdout",
     "output_type": "stream",
     "text": [
      "Meep progress: 1720.8944444444446/9000.0 = 19.1% done in 4.0s, 16.9s to go\n",
      "on time step 310213 (time=1723.41), 1.28944e-05 s/step\n",
      "Meep progress: 3422.0833333333335/9000.0 = 38.0% done in 8.0s, 13.0s to go\n",
      "on time step 616479 (time=3424.88), 1.30606e-05 s/step\n",
      "Meep progress: 5170.094444444445/9000.0 = 57.4% done in 12.0s, 8.9s to go\n",
      "on time step 931176 (time=5173.2), 1.27107e-05 s/step\n",
      "Meep progress: 7006.938888888889/9000.0 = 77.9% done in 16.0s, 4.6s to go\n",
      "on time step 1261870 (time=7010.39), 1.20958e-05 s/step\n",
      "Meep progress: 8797.927777777779/9000.0 = 97.8% done in 20.0s, 0.5s to go\n",
      "on time step 1584268 (time=8801.49), 1.2407e-05 s/step\n",
      "run 0 finished at t = 9000.0 (1620000 timesteps)\n",
      "-----------\n",
      "Initializing structure...\n",
      "time for choose_chunkdivision = 5.79357e-05 s\n",
      "Working in 1D dimensions.\n",
      "Computational cell is 0 x 0 x 10 with resolution 90\n",
      "     block, center = (0,0,0)\n",
      "          size (0,0,1.53)\n",
      "          axes (1,0,0), (0,1,0), (0,0,1)\n",
      "          dielectric constant epsilon diagonal = (6.0516,6.0516,6.0516)\n",
      "time for set_epsilon = 0.000263929 s\n",
      "-----------\n"
     ]
    },
    {
     "data": {
      "application/vnd.jupyter.widget-view+json": {
       "model_id": "55357041d8cd401288d0b3d9611b3797",
       "version_major": 2,
       "version_minor": 0
      },
      "text/plain": [
       "FloatProgress(value=0.0, description='0% done ', max=9000.0)"
      ]
     },
     "metadata": {},
     "output_type": "display_data"
    },
    {
     "name": "stdout",
     "output_type": "stream",
     "text": [
      "Meep progress: 1688.4666666666667/9000.0 = 18.8% done in 4.0s, 17.3s to go\n",
      "on time step 304303 (time=1690.57), 1.31449e-05 s/step\n",
      "Meep progress: 3388.3833333333337/9000.0 = 37.6% done in 8.0s, 13.2s to go\n",
      "on time step 610317 (time=3390.65), 1.30713e-05 s/step\n",
      "Meep progress: 5150.9944444444445/9000.0 = 57.2% done in 12.0s, 9.0s to go\n",
      "on time step 927658 (time=5153.66), 1.26048e-05 s/step\n",
      "Meep progress: 6841.777777777778/9000.0 = 76.0% done in 16.0s, 5.0s to go\n",
      "on time step 1232020 (time=6844.56), 1.31423e-05 s/step\n",
      "Meep progress: 8615.255555555555/9000.0 = 95.7% done in 20.0s, 0.9s to go\n",
      "on time step 1551305 (time=8618.36), 1.2528e-05 s/step\n",
      "run 0 finished at t = 9000.0 (1620000 timesteps)\n",
      "284543698.25830823\n",
      "[0.75970765]\n",
      "[0.24029235]\n",
      "[0.]\n",
      "[0.94203558]\n",
      "[0.05796442]\n",
      "[0.]\n",
      "[1.53]\n"
     ]
    }
   ],
   "source": [
    "T_nl = np.empty(np.size(amp))\n",
    "R_nl= np.empty(np.size(amp))\n",
    "A_nl= np.empty(np.size(amp))\n",
    "T_l= np.empty(np.size(amp))\n",
    "R_l= np.empty(np.size(amp))\n",
    "A_l= np.empty(np.size(amp))\n",
    "E_out=np.empty(np.size(amp))\n",
    "for j in range(np.size(amp)):\n",
    "  print(j)\n",
    "  E_out[j], plt_range, T_nl[j], R_nl[j], A_nl[j], T_l[j], R_l[j], A_l[j] = nl_cw(amp[j],resolution,k,n)"
   ]
  },
  {
   "cell_type": "code",
   "execution_count": 4,
   "metadata": {},
   "outputs": [
    {
     "data": {
      "image/png": "[encoded data removed]",
      "text/plain": [
       "<Figure size 900x600 with 1 Axes>"
      ]
     },
     "metadata": {
      "needs_background": "light"
     },
     "output_type": "display_data"
    }
   ],
   "source": [
    "#         plot ATR\n",
    "E_out[j], plt_range, T_nl[j], R_nl[j], A_nl[j], T_l[j], R_l[j], A_l[j]\n",
    "plt.figure(dpi=150)\n",
    "plt.plot(E_out,T_nl,'ro--',label='T_nl',markersize=4)\n",
    "plt.plot(E_out,R_nl,'bo--',label='R_nl',markersize=4)\n",
    "plt.plot(E_out,A_nl,'go--',label='A_nl',markersize=4, markerfacecolor='none')\n",
    "plt.plot(E_out,T_l,'r*-',label='T')\n",
    "plt.plot(E_out,R_l,'b*-',label='R')\n",
    "plt.plot(E_out,A_l,'g*-',label='A', markerfacecolor='none')\n",
    "plt.grid(True,which=\"both\",ls=\"-\")\n",
    "#plt.xticks([0.2*10**8,0.4*10**8,0.6*10**8,0.8*10**8,1*10**8,1.2*10**8,1.2*10**8,1.4*10**8,1.6*10**8,1.8*10**8,2*10**8,2.2*10**8])\n",
    "plt.yticks([-0.05,0,0.05,0.1,0.15,0.2,0.25,0.3,0.35,0.4,0.45,0.5,0.55,0.6,0.65,0.7,0.75,0.8,0.85,0.9,0.95, 1])\n",
    "#plt.xlim([0.1*10**8,2.4*10**8])\n",
    "plt.xlabel('E_0, V/m')\n",
    "plt.ylabel('ATR')\n",
    "plt.legend(loc='upper right')\n",
    "#plt.xlim([0.85, 5])\n",
    "plt.ylim([-0, 1])\n",
    "plt.title('ATR for linear and nonlinear calculation, k='+str(f\"{k:03}\")+'um^2/V^2, λ='+str(f\"{plt_range}\")+'μm')\n",
    "plt.tight_layout()\n",
    "np.savetxt('ATR_vs_E0.txt', (E_out,T_nl,R_nl,A_nl), delimiter=',')"
   ]
  },
  {
   "cell_type": "code",
   "execution_count": 5,
   "metadata": {},
   "outputs": [
    {
     "data": {
      "image/png": "[encoded data removed]",
      "text/plain": [
       "<Figure size 900x600 with 1 Axes>"
      ]
     },
     "metadata": {
      "needs_background": "light"
     },
     "output_type": "display_data"
    }
   ],
   "source": [
    "#         plot ATR\n",
    "E_out[j], plt_range, T_nl[j], R_nl[j], A_nl[j], T_l[j], R_l[j], A_l[j]\n",
    "plt.figure(dpi=150)\n",
    "plt.plot(E_out*np.sqrt(2),T_nl,'ro--',label='T_nl',markersize=4)\n",
    "plt.plot(E_out*np.sqrt(2),R_nl,'bo--',label='R_nl',markersize=4)\n",
    "plt.plot(E_out*np.sqrt(2),A_nl,'go--',label='A_nl',markersize=4, markerfacecolor='none')\n",
    "plt.plot(E_out*np.sqrt(2),T_l,'r*-',label='T')\n",
    "plt.plot(E_out*np.sqrt(2),R_l,'b*-',label='R')\n",
    "plt.plot(E_out*np.sqrt(2),A_l,'g*-',label='A', markerfacecolor='none')\n",
    "plt.grid(True,which=\"both\",ls=\"-\")\n",
    "plt.yticks([-0.05,0,0.05,0.1,0.15,0.2,0.25,0.3,0.35,0.4,0.45,0.5,0.55,0.6,0.65,0.7,0.75,0.8,0.85,0.9,0.95, 1])\n",
    "plt.xlabel('E_avr, V/m')\n",
    "plt.ylabel('ATR')\n",
    "plt.legend(loc='upper right')\n",
    "#plt.xlim([0.85, 5])\n",
    "plt.ylim([-0, 1])\n",
    "plt.title('ATR for linear and nonlinear calculation, k='+str(f\"{k:03}\")+'um^2/V^2, λ='+str(f\"{plt_range}\")+'μm')\n",
    "plt.tight_layout()\n",
    "np.savetxt('ATR_vs_Eav.txt', (E_out*np.sqrt(2),T_nl,R_nl,A_nl), delimiter=',')"
   ]
  }
 ],
 "metadata": {
  "interpreter": {
   "hash": "6808e4c9c0801fc3f6b7e8cbbdf1023994672d138990b8700ae426110548a6fa"
  },
  "kernelspec": {
   "display_name": "Python 3.9.2 ('pmp2': conda)",
   "language": "python",
   "name": "python3"
  },
  "language_info": {
   "codemirror_mode": {
    "name": "ipython",
    "version": 3
   },
   "file_extension": ".py",
   "mimetype": "text/x-python",
   "name": "python",
   "nbconvert_exporter": "python",
   "pygments_lexer": "ipython3",
   "version": "3.9.2"
  },
  "orig_nbformat": 4
 },
 "nbformat": 4,
 "nbformat_minor": 2
}
